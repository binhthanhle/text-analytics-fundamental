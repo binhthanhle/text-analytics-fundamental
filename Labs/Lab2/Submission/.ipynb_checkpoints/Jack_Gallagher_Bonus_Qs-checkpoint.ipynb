{
 "cells": [
  {
   "cell_type": "markdown",
   "metadata": {},
   "source": [
    "# Extra Questions\n",
    "### Jack Gallagher - 15508033\n",
    "## Package Imports"
   ]
  },
  {
   "cell_type": "code",
   "execution_count": 2,
   "metadata": {},
   "outputs": [],
   "source": [
    "import pandas as pd\n",
    "import feedparser\n",
    "import json\n",
    "import requests\n",
    "from bs4 import BeautifulSoup\n",
    "import json\n",
    "from twitter import Twitter, OAuth, TwitterHTTPError, TwitterStream"
   ]
  },
  {
   "cell_type": "markdown",
   "metadata": {},
   "source": [
    "## Question 1"
   ]
  },
  {
   "cell_type": "code",
   "execution_count": 5,
   "metadata": {},
   "outputs": [
    {
     "data": {
      "text/html": [
       "<div>\n",
       "<style scoped>\n",
       "    .dataframe tbody tr th:only-of-type {\n",
       "        vertical-align: middle;\n",
       "    }\n",
       "\n",
       "    .dataframe tbody tr th {\n",
       "        vertical-align: top;\n",
       "    }\n",
       "\n",
       "    .dataframe thead th {\n",
       "        text-align: right;\n",
       "    }\n",
       "</style>\n",
       "<table border=\"1\" class=\"dataframe\">\n",
       "  <thead>\n",
       "    <tr style=\"text-align: right;\">\n",
       "      <th></th>\n",
       "      <th>Title</th>\n",
       "      <th>Content</th>\n",
       "    </tr>\n",
       "  </thead>\n",
       "  <tbody>\n",
       "    <tr>\n",
       "      <th>0</th>\n",
       "      <td>EU Contest for Young Scientists features starc...</td>\n",
       "      <td>The top prizes in this year’s European Union C...</td>\n",
       "    </tr>\n",
       "    <tr>\n",
       "      <th>1</th>\n",
       "      <td>Junior entrepreneurs encouraged to start real ...</td>\n",
       "      <td>A few years ago entrepreneur and multimilliona...</td>\n",
       "    </tr>\n",
       "    <tr>\n",
       "      <th>2</th>\n",
       "      <td>New personal injury measures needed to reduce ...</td>\n",
       "      <td>A report has called for new guidelines for jud...</td>\n",
       "    </tr>\n",
       "    <tr>\n",
       "      <th>3</th>\n",
       "      <td>Councils should buy vacant houses compulsorily...</td>\n",
       "      <td>A major programme of compulsory purchasing of...</td>\n",
       "    </tr>\n",
       "    <tr>\n",
       "      <th>4</th>\n",
       "      <td>Unemployment main driver for Spaniards moving ...</td>\n",
       "      <td>When Alvaro Cabello came to Ireland in 2012 it...</td>\n",
       "    </tr>\n",
       "  </tbody>\n",
       "</table>\n",
       "</div>"
      ],
      "text/plain": [
       "                                               Title  \\\n",
       "0  EU Contest for Young Scientists features starc...   \n",
       "1  Junior entrepreneurs encouraged to start real ...   \n",
       "2  New personal injury measures needed to reduce ...   \n",
       "3  Councils should buy vacant houses compulsorily...   \n",
       "4  Unemployment main driver for Spaniards moving ...   \n",
       "\n",
       "                                             Content  \n",
       "0  The top prizes in this year’s European Union C...  \n",
       "1  A few years ago entrepreneur and multimilliona...  \n",
       "2  A report has called for new guidelines for jud...  \n",
       "3   A major programme of compulsory purchasing of...  \n",
       "4  When Alvaro Cabello came to Ireland in 2012 it...  "
      ]
     },
     "execution_count": 5,
     "metadata": {},
     "output_type": "execute_result"
    }
   ],
   "source": [
    "# This first function uses the inputted article url argument to gather the headline and body of the article\n",
    "def getArticleDetailsByUrl(url):\n",
    "    page = requests.get(url)\n",
    "    soup = BeautifulSoup(page.text,\"html.parser\")\n",
    "    headline = soup.title.string # headline retrieved using beautifulsoup package\n",
    "    doc_body = ''\n",
    "    \n",
    "    if \"The Irish Times\" in soup.text:\n",
    "        for body_p_tag in soup.article.find_all(\"p\", attrs={\"class\": \"no_name\"}):\n",
    "            doc_body += body_p_tag.get_text() + \" \" # body of article is appended to doc_body string for each p tag\n",
    "    \n",
    "    return [headline, doc_body] # a list is returned containing article headline and content\n",
    "    \n",
    "# The second function gathers all of the RSS feed data and returns it as a single list\n",
    "def getRSSData(rss_feed):\n",
    "    data = feedparser.parse(rss_feed)\n",
    "    return [getArticleDetailsByUrl(article_link['link']) for article_link in data['entries']] # each article appended to this list\n",
    "\n",
    "rss = 'http://www.irishtimes.com/cmlink/news-1.1319192'\n",
    "data = getRSSData(rss)\n",
    "columns=['Title', 'Content']\n",
    "df = pd.DataFrame(data, columns=columns) # dataframe created containing the gathered data using the functions\n",
    "df.head(5)"
   ]
  },
  {
   "cell_type": "markdown",
   "metadata": {},
   "source": [
    "## Question 2"
   ]
  },
  {
   "cell_type": "code",
   "execution_count": 4,
   "metadata": {},
   "outputs": [],
   "source": [
    "# This first block of code is from the practical where the first 100 tweets from twitter are saved into a file\n",
    "# this file - twitter_search_100tweets.json - is what I used for this question\n",
    "ACCESS_TOKEN = '2839893905-pBXUzdrHCNXyjfPuBpSwxNbH1zyEpRaa2sXK0Jd'\n",
    "ACCESS_SECRET = 'eNtB7YTAfsMhPIQtKji8aQT7zQFpFfDPR2lQ89WKfgI1U'\n",
    "CONSUMER_KEY = 'ZqPrfLpc0znZlz3kW2a22VmUa'\n",
    "CONSUMER_SECRET = 'BHD19T0DmUV2XVvEhUAgvpXMx0nGfxevAtr53NbCd9jQjPyTqn'\n",
    "\n",
    "oauth = OAuth(ACCESS_TOKEN, ACCESS_SECRET, CONSUMER_KEY, CONSUMER_SECRET)\n",
    "twitter = Twitter(auth=oauth)\n",
    "            \n",
    "iterator = twitter.search.tweets(q='#analytics', result_type='recent', lang='en', count=100)\n",
    "\n",
    "file = open(\"twitter_search_100tweets.json\", \"w\") \n",
    "for tweet in iterator['statuses']:\n",
    "    file.write(json.dumps(tweet)+\"\\n\")\n",
    "file.close()"
   ]
  },
  {
   "cell_type": "code",
   "execution_count": 6,
   "metadata": {},
   "outputs": [
    {
     "data": {
      "text/html": [
       "<div>\n",
       "<style scoped>\n",
       "    .dataframe tbody tr th:only-of-type {\n",
       "        vertical-align: middle;\n",
       "    }\n",
       "\n",
       "    .dataframe tbody tr th {\n",
       "        vertical-align: top;\n",
       "    }\n",
       "\n",
       "    .dataframe thead th {\n",
       "        text-align: right;\n",
       "    }\n",
       "</style>\n",
       "<table border=\"1\" class=\"dataframe\">\n",
       "  <thead>\n",
       "    <tr style=\"text-align: right;\">\n",
       "      <th></th>\n",
       "      <th>User ID</th>\n",
       "      <th>Text</th>\n",
       "      <th>No. Retweets</th>\n",
       "      <th>User Retweet</th>\n",
       "    </tr>\n",
       "  </thead>\n",
       "  <tbody>\n",
       "    <tr>\n",
       "      <th>0</th>\n",
       "      <td>999174330251730944</td>\n",
       "      <td>RT @AspioneerBB: #MachineLearning cheatsheet: ...</td>\n",
       "      <td>14</td>\n",
       "      <td>NaN</td>\n",
       "    </tr>\n",
       "    <tr>\n",
       "      <th>1</th>\n",
       "      <td>40660140</td>\n",
       "      <td>RT @Ronald_vanLoon: A Harvard Mathematician Re...</td>\n",
       "      <td>22</td>\n",
       "      <td>NaN</td>\n",
       "    </tr>\n",
       "    <tr>\n",
       "      <th>2</th>\n",
       "      <td>251921486</td>\n",
       "      <td>#Analytics Then and Now https://t.co/K1IAvhBSm...</td>\n",
       "      <td>0</td>\n",
       "      <td>NaN</td>\n",
       "    </tr>\n",
       "    <tr>\n",
       "      <th>3</th>\n",
       "      <td>2882061802</td>\n",
       "      <td>Our GPU-accelerated database for #analytics, #...</td>\n",
       "      <td>0</td>\n",
       "      <td>NaN</td>\n",
       "    </tr>\n",
       "    <tr>\n",
       "      <th>4</th>\n",
       "      <td>973871778190643202</td>\n",
       "      <td>Top #hashtags for #BigData Influencers!\\n1-#ai...</td>\n",
       "      <td>0</td>\n",
       "      <td>NaN</td>\n",
       "    </tr>\n",
       "  </tbody>\n",
       "</table>\n",
       "</div>"
      ],
      "text/plain": [
       "              User ID                                               Text  \\\n",
       "0  999174330251730944  RT @AspioneerBB: #MachineLearning cheatsheet: ...   \n",
       "1            40660140  RT @Ronald_vanLoon: A Harvard Mathematician Re...   \n",
       "2           251921486  #Analytics Then and Now https://t.co/K1IAvhBSm...   \n",
       "3          2882061802  Our GPU-accelerated database for #analytics, #...   \n",
       "4  973871778190643202  Top #hashtags for #BigData Influencers!\\n1-#ai...   \n",
       "\n",
       "   No. Retweets  User Retweet  \n",
       "0            14           NaN  \n",
       "1            22           NaN  \n",
       "2             0           NaN  \n",
       "3             0           NaN  \n",
       "4             0           NaN  "
      ]
     },
     "execution_count": 6,
     "metadata": {},
     "output_type": "execute_result"
    }
   ],
   "source": [
    "# This next block of code opens the previous file I created\n",
    "with open(\"twitter_search_100tweets.json\") as file:\n",
    "    all_tweets = map(json.loads, file.readlines()) # map function used to load each json line from the file into json.loads function\n",
    "    tweet_data_list = []\n",
    "    for single_tweet in all_tweets:\n",
    "        user_id = single_tweet['user']['id'] # returns twitter user id\n",
    "        text = single_tweet['text'] # returns text of tweet\n",
    "        retweet_count = single_tweet['retweet_count'] # returns retweet count\n",
    "        user_retweet = single_tweet['in_reply_to_user_id'] # returns retweeters username \n",
    "        tweet_data_list.append((user_id, text, retweet_count, user_retweet)) # all of these variables appended to list \n",
    "\n",
    "columns=['User ID', 'Text', 'No. Retweets', 'User Retweet']\n",
    "df = pd.DataFrame(tweet_data_list, columns=columns) # dataframe created using list from above and columns named.\n",
    "df.head(5)"
   ]
  },
  {
   "cell_type": "code",
   "execution_count": null,
   "metadata": {},
   "outputs": [],
   "source": []
  }
 ],
 "metadata": {
  "kernelspec": {
   "display_name": "Python 3",
   "language": "python",
   "name": "python3"
  },
  "language_info": {
   "codemirror_mode": {
    "name": "ipython",
    "version": 3
   },
   "file_extension": ".py",
   "mimetype": "text/x-python",
   "name": "python",
   "nbconvert_exporter": "python",
   "pygments_lexer": "ipython3",
   "version": "3.6.5"
  }
 },
 "nbformat": 4,
 "nbformat_minor": 2
}
