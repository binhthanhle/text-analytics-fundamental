{
 "cells": [
  {
   "cell_type": "markdown",
   "metadata": {},
   "source": [
    "### Extended Problem Solution"
   ]
  },
  {
   "cell_type": "code",
   "execution_count": 1,
   "metadata": {},
   "outputs": [],
   "source": [
    "#import the necessary libraries \n",
    "import requests\n",
    "from bs4 import BeautifulSoup\n",
    "import feedparser\n",
    "import pandas as pd"
   ]
  },
  {
   "cell_type": "code",
   "execution_count": 2,
   "metadata": {
    "ExecuteTime": {
     "end_time": "2018-09-16T12:47:53.126724Z",
     "start_time": "2018-09-16T12:47:53.105727Z"
    }
   },
   "outputs": [],
   "source": [
    "#Function to scrape data from a particular webpage\n",
    "def getArticleDetailsByUrl(url):\n",
    "    page = requests.get(url)\n",
    "    soup = BeautifulSoup(page.text,\"html.parser\")\n",
    "    headline = soup.title.string\n",
    "    \n",
    "    doc_body = ''\n",
    "    if \"The Irish Times\" in soup.text:\n",
    "        for body_p_tag in soup.article.find_all(\"p\", attrs={\"class\": \"no_name\"}):\n",
    "            doc_body += body_p_tag.get_text() + \" \"\n",
    "\n",
    "    return [headline, doc_body]"
   ]
  },
  {
   "cell_type": "code",
   "execution_count": 3,
   "metadata": {
    "ExecuteTime": {
     "end_time": "2018-09-16T12:42:21.683908Z",
     "start_time": "2018-09-16T12:42:21.674878Z"
    }
   },
   "outputs": [],
   "source": [
    "def scrapRSSFeed(rss_feed):\n",
    "    \n",
    "    title_list = []\n",
    "    content_list = []\n",
    "    article_id = []\n",
    "    link_list = []\n",
    "    \n",
    "    d = feedparser.parse(rss_feed)\n",
    "    for item in d['entries']:\n",
    "\n",
    "        article_url = item['link']\n",
    "        link_list.append(article_url)\n",
    "        [headline, doc_body] = getArticleDetailsByUrl(article_url)\n",
    "        title_list.append(headline)\n",
    "        content_list.append(doc_body)\n",
    "    for i, url in enumerate(link_list):\n",
    "        article_id.append(i)\n",
    "    \n",
    "    df = pd.DataFrame({\"Article ID\": article_id, \"Title\":title_list, \"Content\":content_list})\n",
    "    df = df[['Article ID', 'Title', 'Content']]\n",
    "    df.set_index('Article ID', inplace=True)\n",
    "    return df"
   ]
  },
  {
   "cell_type": "code",
   "execution_count": 4,
   "metadata": {
    "ExecuteTime": {
     "end_time": "2018-09-16T12:42:41.743768Z",
     "start_time": "2018-09-16T12:42:37.282766Z"
    },
    "scrolled": false
   },
   "outputs": [
    {
     "data": {
      "text/html": [
       "<div>\n",
       "<style>\n",
       "    .dataframe thead tr:only-child th {\n",
       "        text-align: right;\n",
       "    }\n",
       "\n",
       "    .dataframe thead th {\n",
       "        text-align: left;\n",
       "    }\n",
       "\n",
       "    .dataframe tbody tr th {\n",
       "        vertical-align: top;\n",
       "    }\n",
       "</style>\n",
       "<table border=\"1\" class=\"dataframe\">\n",
       "  <thead>\n",
       "    <tr style=\"text-align: right;\">\n",
       "      <th></th>\n",
       "      <th>Title</th>\n",
       "      <th>Content</th>\n",
       "    </tr>\n",
       "    <tr>\n",
       "      <th>Article ID</th>\n",
       "      <th></th>\n",
       "      <th></th>\n",
       "    </tr>\n",
       "  </thead>\n",
       "  <tbody>\n",
       "    <tr>\n",
       "      <th>0</th>\n",
       "      <td>Child brings case over lack of enhanced remiss...</td>\n",
       "      <td>A teenager currently held at Oberstown Childre...</td>\n",
       "    </tr>\n",
       "    <tr>\n",
       "      <th>1</th>\n",
       "      <td>Armed gardaí respond to eviction row involving...</td>\n",
       "      <td>The Garda Armed Support Unit was called to an ...</td>\n",
       "    </tr>\n",
       "    <tr>\n",
       "      <th>2</th>\n",
       "      <td>UHG cancer treatment centre delay ‘completely ...</td>\n",
       "      <td>Any delay in developing a new €30-million canc...</td>\n",
       "    </tr>\n",
       "    <tr>\n",
       "      <th>3</th>\n",
       "      <td>New deep sea research project to monitor Irela...</td>\n",
       "      <td>Ireland’s earthquake activity and data on more...</td>\n",
       "    </tr>\n",
       "    <tr>\n",
       "      <th>4</th>\n",
       "      <td>Why we need more women at the top of higher ed...</td>\n",
       "      <td>The recent rush to balance the university book...</td>\n",
       "    </tr>\n",
       "  </tbody>\n",
       "</table>\n",
       "</div>"
      ],
      "text/plain": [
       "                                                        Title  \\\n",
       "Article ID                                                      \n",
       "0           Child brings case over lack of enhanced remiss...   \n",
       "1           Armed gardaí respond to eviction row involving...   \n",
       "2           UHG cancer treatment centre delay ‘completely ...   \n",
       "3           New deep sea research project to monitor Irela...   \n",
       "4           Why we need more women at the top of higher ed...   \n",
       "\n",
       "                                                      Content  \n",
       "Article ID                                                     \n",
       "0           A teenager currently held at Oberstown Childre...  \n",
       "1           The Garda Armed Support Unit was called to an ...  \n",
       "2           Any delay in developing a new €30-million canc...  \n",
       "3           Ireland’s earthquake activity and data on more...  \n",
       "4           The recent rush to balance the university book...  "
      ]
     },
     "execution_count": 4,
     "metadata": {},
     "output_type": "execute_result"
    }
   ],
   "source": [
    "#The URL of the XML file\n",
    "url='http://www.irishtimes.com/cmlink/news-1.1319192'\n",
    "xml_page = requests.get(url).text\n",
    "df = scrapRSSFeed(url)\n",
    "df.head()"
   ]
  }
 ],
 "metadata": {
  "kernelspec": {
   "display_name": "Python 3",
   "language": "python",
   "name": "python3"
  },
  "language_info": {
   "codemirror_mode": {
    "name": "ipython",
    "version": 3
   },
   "file_extension": ".py",
   "mimetype": "text/x-python",
   "name": "python",
   "nbconvert_exporter": "python",
   "pygments_lexer": "ipython3",
   "version": "3.6.5"
  },
  "latex_envs": {
   "LaTeX_envs_menu_present": true,
   "autoclose": false,
   "autocomplete": true,
   "bibliofile": "biblio.bib",
   "cite_by": "apalike",
   "current_citInitial": 1,
   "eqLabelWithNumbers": true,
   "eqNumInitial": 1,
   "hotkeys": {
    "equation": "Ctrl-E",
    "itemize": "Ctrl-I"
   },
   "labels_anchors": false,
   "latex_user_defs": false,
   "report_style_numbering": false,
   "user_envs_cfg": false
  },
  "toc": {
   "nav_menu": {},
   "number_sections": true,
   "sideBar": true,
   "skip_h1_title": false,
   "title_cell": "Table of Contents",
   "title_sidebar": "Contents",
   "toc_cell": false,
   "toc_position": {},
   "toc_section_display": true,
   "toc_window_display": true
  },
  "varInspector": {
   "cols": {
    "lenName": 16,
    "lenType": 16,
    "lenVar": 40
   },
   "kernels_config": {
    "python": {
     "delete_cmd_postfix": "",
     "delete_cmd_prefix": "del ",
     "library": "var_list.py",
     "varRefreshCmd": "print(var_dic_list())"
    },
    "r": {
     "delete_cmd_postfix": ") ",
     "delete_cmd_prefix": "rm(",
     "library": "var_list.r",
     "varRefreshCmd": "cat(var_dic_list()) "
    }
   },
   "types_to_exclude": [
    "module",
    "function",
    "builtin_function_or_method",
    "instance",
    "_Feature"
   ],
   "window_display": false
  }
 },
 "nbformat": 4,
 "nbformat_minor": 2
}
