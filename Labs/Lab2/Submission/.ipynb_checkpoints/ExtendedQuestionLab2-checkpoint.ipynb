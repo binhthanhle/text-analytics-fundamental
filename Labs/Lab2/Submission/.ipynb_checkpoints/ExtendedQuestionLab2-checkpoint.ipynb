{
 "cells": [
  {
   "cell_type": "markdown",
   "metadata": {},
   "source": [
    "## Extended Tasks\n",
    "### Laura Brierton | COMP30810 | Lab2 | Extended Questions\n",
    "\n",
    "Complete tasks explained below:\n",
    "<img src=\"./ExtendProblems.png\">"
   ]
  },
  {
   "cell_type": "markdown",
   "metadata": {},
   "source": [
    "### Question 1"
   ]
  },
  {
   "cell_type": "code",
   "execution_count": 13,
   "metadata": {
    "collapsed": true
   },
   "outputs": [],
   "source": [
    "import requests\n",
    "import feedparser\n",
    "import pandas as pd\n",
    "\n",
    "def RSSFeed(rss_feed):\n",
    "    d = feedparser.parse(rss_feed)\n",
    "    \n",
    "    #Create dataframe to hold data\n",
    "    df = pd.DataFrame(columns=('Article ID', 'Title', 'Content'))\n",
    "    #set the Atricle ID as the index\n",
    "    df.set_index('Article ID', inplace=True)\n",
    "    \n",
    "    #loop through the entries and extract the id, title, and summary tag\n",
    "    for item in d['entries']:\n",
    "        articleID = item['id']\n",
    "        articleTitle = item['title']\n",
    "        articleSummary = item['summary']\n",
    "        #append the new id, title, and summary to the current dataframe (strings cut short to make the output neater)\n",
    "        df.loc[articleID] = [articleTitle[:20], articleSummary[:40]]\n",
    "    #return the completed dataframe\n",
    "    print(df)"
   ]
  },
  {
   "cell_type": "code",
   "execution_count": 14,
   "metadata": {},
   "outputs": [
    {
     "name": "stdout",
     "output_type": "stream",
     "text": [
      "                           Title                                   Content\n",
      "Article ID                                                                \n",
      "1.3632388   UHG cancer treatment  Lack of medical facilities in west highl\n",
      "1.3632376   New deep sea researc  Listening devices will monitor links bet\n",
      "1.3632312   Why we need more wom  An intractable gender imbalance persists\n",
      "1.3632255   Rory Gallagher €15 c  Rock star represents a ‘creative, artist\n",
      "1.3632139   Verdicts of accident  Two friends died when they tried to driv\n",
      "1.3632119   Sister and brother c  EU Contest for Young Scientists: How a l\n",
      "1.3632061   Mother in court afte  Judge warns Dublin woman that child shou\n",
      "1.3632033   From upsetting the b  Offshore oil and gas extraction poses a \n",
      "1.3632032   Tom Lehrer: a comica  That’s Maths: Famous for his ballads, Le\n",
      "1.3631961   Motorists urged to t  Weather warning issued with flooding exp\n",
      "1.3631931   Charlie Flanagan sup  Minister for Justice says use of face co\n",
      "1.3631929   City landmarks turn   City Hall, County Hall, the Port of Cork\n",
      "1.3631904   John Gilligan refuse  Dublin man arrested in Belfast airport, \n",
      "1.3631848   Digging continues in  Latest search on one acre of Bragan Bog \n",
      "1.3631796   Teenager charged wit  Alexander Whelan (18) remanded in custod\n",
      "1.3631791   Elderly man praised   Customer (83) tackles raider during arme\n",
      "1.3631725   Universities seek fr  Top Irish colleges say changes are neede\n",
      "1.3631714   Ploughing championsh  President to open 'most beloved rendezvo\n",
      "1.3631682   Funeral of Rev Thoma  Daughters tell congregation it is imposs\n",
      "1.3631244   Right to property ad  Article 43 of Constitution ‘key impedime\n"
     ]
    }
   ],
   "source": [
    "#rss feed url\n",
    "url='http://www.irishtimes.com/cmlink/news-1.1319192'\n",
    "\n",
    "RSSFeed(url)"
   ]
  },
  {
   "cell_type": "code",
   "execution_count": null,
   "metadata": {
    "collapsed": true
   },
   "outputs": [],
   "source": []
  }
 ],
 "metadata": {
  "kernelspec": {
   "display_name": "Python 3",
   "language": "python",
   "name": "python3"
  },
  "language_info": {
   "codemirror_mode": {
    "name": "ipython",
    "version": 3
   },
   "file_extension": ".py",
   "mimetype": "text/x-python",
   "name": "python",
   "nbconvert_exporter": "python",
   "pygments_lexer": "ipython3",
   "version": "3.6.5"
  }
 },
 "nbformat": 4,
 "nbformat_minor": 2
}
