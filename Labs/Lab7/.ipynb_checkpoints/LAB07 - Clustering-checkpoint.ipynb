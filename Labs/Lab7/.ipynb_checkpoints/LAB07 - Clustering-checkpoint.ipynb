{
 "cells": [
  {
   "cell_type": "markdown",
   "metadata": {},
   "source": [
    "# COMP30810 - INTRO TO TEXT ANALYTICS\n",
    "> LECTURER: BINH THANH LE"
   ]
  },
  {
   "cell_type": "markdown",
   "metadata": {
    "toc": true
   },
   "source": [
    "<h1>Table of Contents<span class=\"tocSkip\"></span></h1>\n",
    "<div class=\"toc\"><ul class=\"toc-item\"><li><span><a href=\"#Understanding-Clustering-Algorithms\" data-toc-modified-id=\"Understanding-Clustering-Algorithms-1\"><span class=\"toc-item-num\">1&nbsp;&nbsp;</span>Understanding Clustering Algorithms</a></span><ul class=\"toc-item\"><li><span><a href=\"#Load-Data\" data-toc-modified-id=\"Load-Data-1.1\"><span class=\"toc-item-num\">1.1&nbsp;&nbsp;</span>Load Data</a></span></li><li><span><a href=\"#Calculate-TF-IDF-matrix-for-data\" data-toc-modified-id=\"Calculate-TF-IDF-matrix-for-data-1.2\"><span class=\"toc-item-num\">1.2&nbsp;&nbsp;</span>Calculate TF-IDF matrix for data</a></span></li><li><span><a href=\"#Wordnet-Similarity-Matrix\" data-toc-modified-id=\"Wordnet-Similarity-Matrix-1.3\"><span class=\"toc-item-num\">1.3&nbsp;&nbsp;</span>Wordnet Similarity Matrix</a></span></li><li><span><a href=\"#K-Means-Clustering\" data-toc-modified-id=\"K-Means-Clustering-1.4\"><span class=\"toc-item-num\">1.4&nbsp;&nbsp;</span>K-Means Clustering</a></span><ul class=\"toc-item\"><li><span><a href=\"#With-TF-IDF-Vectors\" data-toc-modified-id=\"With-TF-IDF-Vectors-1.4.1\"><span class=\"toc-item-num\">1.4.1&nbsp;&nbsp;</span>With TF-IDF Vectors</a></span></li><li><span><a href=\"#With-Wordnet-Distance-Vectors\" data-toc-modified-id=\"With-Wordnet-Distance-Vectors-1.4.2\"><span class=\"toc-item-num\">1.4.2&nbsp;&nbsp;</span>With Wordnet Distance Vectors</a></span></li></ul></li><li><span><a href=\"#Hierarchical-Clustering\" data-toc-modified-id=\"Hierarchical-Clustering-1.5\"><span class=\"toc-item-num\">1.5&nbsp;&nbsp;</span>Hierarchical Clustering</a></span><ul class=\"toc-item\"><li><span><a href=\"#With-TF-IDF-Vectors\" data-toc-modified-id=\"With-TF-IDF-Vectors-1.5.1\"><span class=\"toc-item-num\">1.5.1&nbsp;&nbsp;</span>With TF-IDF Vectors</a></span></li><li><span><a href=\"#With-Wordnet-Distance-Vectors\" data-toc-modified-id=\"With-Wordnet-Distance-Vectors-1.5.2\"><span class=\"toc-item-num\">1.5.2&nbsp;&nbsp;</span>With Wordnet Distance Vectors</a></span></li><li><span><a href=\"#Display-the-Dendrogram\" data-toc-modified-id=\"Display-the-Dendrogram-1.5.3\"><span class=\"toc-item-num\">1.5.3&nbsp;&nbsp;</span>Display the Dendrogram</a></span></li><li><span><a href=\"#Retrive-Cluster-by-Threshold\" data-toc-modified-id=\"Retrive-Cluster-by-Threshold-1.5.4\"><span class=\"toc-item-num\">1.5.4&nbsp;&nbsp;</span>Retrive Cluster by Threshold</a></span><ul class=\"toc-item\"><li><span><a href=\"#By-max_d\" data-toc-modified-id=\"By-max_d-1.5.4.1\"><span class=\"toc-item-num\">1.5.4.1&nbsp;&nbsp;</span>By max_d</a></span></li><li><span><a href=\"#By-Number-of-Cluster-K\" data-toc-modified-id=\"By-Number-of-Cluster-K-1.5.4.2\"><span class=\"toc-item-num\">1.5.4.2&nbsp;&nbsp;</span>By Number of Cluster K</a></span></li></ul></li></ul></li><li><span><a href=\"#Try-to-Make-the-Visualization-by-PCA(2D)\" data-toc-modified-id=\"Try-to-Make-the-Visualization-by-PCA(2D)-1.6\"><span class=\"toc-item-num\">1.6&nbsp;&nbsp;</span>Try to Make the Visualization by PCA(2D)</a></span></li></ul></li><li><span><a href=\"#Apply-to-Real-Dataset\" data-toc-modified-id=\"Apply-to-Real-Dataset-2\"><span class=\"toc-item-num\">2&nbsp;&nbsp;</span>Apply to Real Dataset</a></span><ul class=\"toc-item\"><li><span><a href=\"#LOAD-DATA\" data-toc-modified-id=\"LOAD-DATA-2.1\"><span class=\"toc-item-num\">2.1&nbsp;&nbsp;</span>LOAD DATA</a></span></li><li><span><a href=\"#Convert-data-from-RAW-to-Tokens\" data-toc-modified-id=\"Convert-data-from-RAW-to-Tokens-2.2\"><span class=\"toc-item-num\">2.2&nbsp;&nbsp;</span>Convert data from RAW to Tokens</a></span></li><li><span><a href=\"#Calculate-TF-IDF\" data-toc-modified-id=\"Calculate-TF-IDF-2.3\"><span class=\"toc-item-num\">2.3&nbsp;&nbsp;</span>Calculate TF-IDF</a></span></li><li><span><a href=\"#Clustering\" data-toc-modified-id=\"Clustering-2.4\"><span class=\"toc-item-num\">2.4&nbsp;&nbsp;</span>Clustering</a></span><ul class=\"toc-item\"><li><span><a href=\"#K-Means\" data-toc-modified-id=\"K-Means-2.4.1\"><span class=\"toc-item-num\">2.4.1&nbsp;&nbsp;</span>K-Means</a></span></li><li><span><a href=\"#Hierarchical-Clustering\" data-toc-modified-id=\"Hierarchical-Clustering-2.4.2\"><span class=\"toc-item-num\">2.4.2&nbsp;&nbsp;</span>Hierarchical Clustering</a></span></li></ul></li></ul></li><li><span><a href=\"#Word-Embedding\" data-toc-modified-id=\"Word-Embedding-3\"><span class=\"toc-item-num\">3&nbsp;&nbsp;</span>Word Embedding</a></span><ul class=\"toc-item\"><li><span><a href=\"#What-is-Word-Embedding?\" data-toc-modified-id=\"What-is-Word-Embedding?-3.1\"><span class=\"toc-item-num\">3.1&nbsp;&nbsp;</span>What is Word Embedding?</a></span></li><li><span><a href=\"#How-to-Develop-Word-Embeddings-in-Python-with-Gensim\" data-toc-modified-id=\"How-to-Develop-Word-Embeddings-in-Python-with-Gensim-3.2\"><span class=\"toc-item-num\">3.2&nbsp;&nbsp;</span>How to Develop Word Embeddings in Python with Gensim</a></span><ul class=\"toc-item\"><li><span><a href=\"#Plot-Word-Vectors-Using-PCA\" data-toc-modified-id=\"Plot-Word-Vectors-Using-PCA-3.2.1\"><span class=\"toc-item-num\">3.2.1&nbsp;&nbsp;</span>Plot Word Vectors Using PCA</a></span></li></ul></li><li><span><a href=\"#Load-Google’s-Word2Vec-Embedding\" data-toc-modified-id=\"Load-Google’s-Word2Vec-Embedding-3.3\"><span class=\"toc-item-num\">3.3&nbsp;&nbsp;</span>Load Google’s Word2Vec Embedding</a></span></li><li><span><a href=\"#Load-Stanford’s-GloVe-Embedding\" data-toc-modified-id=\"Load-Stanford’s-GloVe-Embedding-3.4\"><span class=\"toc-item-num\">3.4&nbsp;&nbsp;</span>Load Stanford’s GloVe Embedding</a></span></li><li><span><a href=\"#Apply-to-Real-Data\" data-toc-modified-id=\"Apply-to-Real-Data-3.5\"><span class=\"toc-item-num\">3.5&nbsp;&nbsp;</span>Apply to Real Data</a></span><ul class=\"toc-item\"><li><span><a href=\"#Use-Doc2vec-to-Transfer-Data\" data-toc-modified-id=\"Use-Doc2vec-to-Transfer-Data-3.5.1\"><span class=\"toc-item-num\">3.5.1&nbsp;&nbsp;</span>Use Doc2vec to Transfer Data</a></span></li></ul></li><li><span><a href=\"#Using-Distances-from-Word-to-Word-based-on-word2vec-Models\" data-toc-modified-id=\"Using-Distances-from-Word-to-Word-based-on-word2vec-Models-3.6\"><span class=\"toc-item-num\">3.6&nbsp;&nbsp;</span>Using Distances from Word to Word based on word2vec Models</a></span></li></ul></li></ul></div>"
   ]
  },
  {
   "cell_type": "code",
   "execution_count": 1,
   "metadata": {
    "ExecuteTime": {
     "end_time": "2018-10-21T13:52:23.000792Z",
     "start_time": "2018-10-21T13:52:20.306100Z"
    }
   },
   "outputs": [],
   "source": [
    "import numpy as np\n",
    "import pandas as pd\n",
    "import sklearn\n",
    "import os, io, nltk\n",
    "from sklearn.feature_extraction.text import TfidfVectorizer\n",
    "from nltk.corpus import stopwords \n",
    "from sklearn.cluster import KMeans\n",
    "import collections\n",
    "import warnings\n",
    "warnings.filterwarnings('ignore')"
   ]
  },
  {
   "cell_type": "markdown",
   "metadata": {},
   "source": [
    "## Understanding Clustering Algorithms"
   ]
  },
  {
   "cell_type": "markdown",
   "metadata": {},
   "source": [
    "### Load Data"
   ]
  },
  {
   "cell_type": "markdown",
   "metadata": {},
   "source": [
    "Fist experiment, we try to cluster several job titles based on K-means and Hierarchical model."
   ]
  },
  {
   "cell_type": "code",
   "execution_count": 2,
   "metadata": {
    "ExecuteTime": {
     "end_time": "2018-10-21T13:52:25.508935Z",
     "start_time": "2018-10-21T13:52:25.504504Z"
    }
   },
   "outputs": [],
   "source": [
    "## We declare the data\n",
    "job_titles = [\n",
    "    'Apple',\n",
    "    'Banana',\n",
    "    'Officer Accountant',\n",
    "    'Business economist',\n",
    "    'Data analyst',\n",
    "    'Computer Engineering',\n",
    "    'Computer Hacker',   \n",
    "    'Egg'\n",
    "]"
   ]
  },
  {
   "cell_type": "markdown",
   "metadata": {},
   "source": [
    "From the data, we firstly split data into words and get the Bag Of Word for whole corpus."
   ]
  },
  {
   "cell_type": "code",
   "execution_count": 3,
   "metadata": {
    "ExecuteTime": {
     "end_time": "2018-10-21T13:52:27.332040Z",
     "start_time": "2018-10-21T13:52:27.318342Z"
    }
   },
   "outputs": [
    {
     "data": {
      "text/plain": [
       "['officer',\n",
       " 'analyst',\n",
       " 'accountant',\n",
       " 'business',\n",
       " 'computer',\n",
       " 'hacker',\n",
       " 'apple',\n",
       " 'banana',\n",
       " 'engineering',\n",
       " 'data',\n",
       " 'egg',\n",
       " 'economist']"
      ]
     },
     "execution_count": 3,
     "metadata": {},
     "output_type": "execute_result"
    }
   ],
   "source": [
    "## Get BOW for corpus\n",
    "words = set()\n",
    "for title in job_titles:\n",
    "    for word in title.split():\n",
    "        words.add(word.lower())\n",
    "words = list(words)\n",
    "words"
   ]
  },
  {
   "cell_type": "markdown",
   "metadata": {},
   "source": [
    "### Calculate TF-IDF matrix for data"
   ]
  },
  {
   "cell_type": "markdown",
   "metadata": {},
   "source": [
    "We obtain the TF-IDF matrix and transfer them to dataframe."
   ]
  },
  {
   "cell_type": "code",
   "execution_count": 4,
   "metadata": {
    "ExecuteTime": {
     "end_time": "2018-10-21T13:52:30.773302Z",
     "start_time": "2018-10-21T13:52:30.720568Z"
    }
   },
   "outputs": [
    {
     "data": {
      "text/html": [
       "<div>\n",
       "<style scoped>\n",
       "    .dataframe tbody tr th:only-of-type {\n",
       "        vertical-align: middle;\n",
       "    }\n",
       "\n",
       "    .dataframe tbody tr th {\n",
       "        vertical-align: top;\n",
       "    }\n",
       "\n",
       "    .dataframe thead tr th {\n",
       "        text-align: left;\n",
       "    }\n",
       "</style>\n",
       "<table border=\"1\" class=\"dataframe\">\n",
       "  <thead>\n",
       "    <tr>\n",
       "      <th></th>\n",
       "      <th>accountant</th>\n",
       "      <th>analyst</th>\n",
       "      <th>apple</th>\n",
       "      <th>banana</th>\n",
       "      <th>business</th>\n",
       "      <th>computer</th>\n",
       "      <th>data</th>\n",
       "      <th>economist</th>\n",
       "      <th>egg</th>\n",
       "      <th>engineering</th>\n",
       "      <th>hacker</th>\n",
       "      <th>officer</th>\n",
       "    </tr>\n",
       "  </thead>\n",
       "  <tbody>\n",
       "    <tr>\n",
       "      <th>d0</th>\n",
       "      <td>0.000000</td>\n",
       "      <td>0.000000</td>\n",
       "      <td>1.0</td>\n",
       "      <td>0.0</td>\n",
       "      <td>0.000000</td>\n",
       "      <td>0.000000</td>\n",
       "      <td>0.000000</td>\n",
       "      <td>0.000000</td>\n",
       "      <td>0.0</td>\n",
       "      <td>0.00000</td>\n",
       "      <td>0.00000</td>\n",
       "      <td>0.000000</td>\n",
       "    </tr>\n",
       "    <tr>\n",
       "      <th>d1</th>\n",
       "      <td>0.000000</td>\n",
       "      <td>0.000000</td>\n",
       "      <td>0.0</td>\n",
       "      <td>1.0</td>\n",
       "      <td>0.000000</td>\n",
       "      <td>0.000000</td>\n",
       "      <td>0.000000</td>\n",
       "      <td>0.000000</td>\n",
       "      <td>0.0</td>\n",
       "      <td>0.00000</td>\n",
       "      <td>0.00000</td>\n",
       "      <td>0.000000</td>\n",
       "    </tr>\n",
       "    <tr>\n",
       "      <th>d2</th>\n",
       "      <td>0.707107</td>\n",
       "      <td>0.000000</td>\n",
       "      <td>0.0</td>\n",
       "      <td>0.0</td>\n",
       "      <td>0.000000</td>\n",
       "      <td>0.000000</td>\n",
       "      <td>0.000000</td>\n",
       "      <td>0.000000</td>\n",
       "      <td>0.0</td>\n",
       "      <td>0.00000</td>\n",
       "      <td>0.00000</td>\n",
       "      <td>0.707107</td>\n",
       "    </tr>\n",
       "    <tr>\n",
       "      <th>d3</th>\n",
       "      <td>0.000000</td>\n",
       "      <td>0.000000</td>\n",
       "      <td>0.0</td>\n",
       "      <td>0.0</td>\n",
       "      <td>0.707107</td>\n",
       "      <td>0.000000</td>\n",
       "      <td>0.000000</td>\n",
       "      <td>0.707107</td>\n",
       "      <td>0.0</td>\n",
       "      <td>0.00000</td>\n",
       "      <td>0.00000</td>\n",
       "      <td>0.000000</td>\n",
       "    </tr>\n",
       "    <tr>\n",
       "      <th>d4</th>\n",
       "      <td>0.000000</td>\n",
       "      <td>0.707107</td>\n",
       "      <td>0.0</td>\n",
       "      <td>0.0</td>\n",
       "      <td>0.000000</td>\n",
       "      <td>0.000000</td>\n",
       "      <td>0.707107</td>\n",
       "      <td>0.000000</td>\n",
       "      <td>0.0</td>\n",
       "      <td>0.00000</td>\n",
       "      <td>0.00000</td>\n",
       "      <td>0.000000</td>\n",
       "    </tr>\n",
       "    <tr>\n",
       "      <th>d5</th>\n",
       "      <td>0.000000</td>\n",
       "      <td>0.000000</td>\n",
       "      <td>0.0</td>\n",
       "      <td>0.0</td>\n",
       "      <td>0.000000</td>\n",
       "      <td>0.642328</td>\n",
       "      <td>0.000000</td>\n",
       "      <td>0.000000</td>\n",
       "      <td>0.0</td>\n",
       "      <td>0.76643</td>\n",
       "      <td>0.00000</td>\n",
       "      <td>0.000000</td>\n",
       "    </tr>\n",
       "    <tr>\n",
       "      <th>d6</th>\n",
       "      <td>0.000000</td>\n",
       "      <td>0.000000</td>\n",
       "      <td>0.0</td>\n",
       "      <td>0.0</td>\n",
       "      <td>0.000000</td>\n",
       "      <td>0.642328</td>\n",
       "      <td>0.000000</td>\n",
       "      <td>0.000000</td>\n",
       "      <td>0.0</td>\n",
       "      <td>0.00000</td>\n",
       "      <td>0.76643</td>\n",
       "      <td>0.000000</td>\n",
       "    </tr>\n",
       "    <tr>\n",
       "      <th>d7</th>\n",
       "      <td>0.000000</td>\n",
       "      <td>0.000000</td>\n",
       "      <td>0.0</td>\n",
       "      <td>0.0</td>\n",
       "      <td>0.000000</td>\n",
       "      <td>0.000000</td>\n",
       "      <td>0.000000</td>\n",
       "      <td>0.000000</td>\n",
       "      <td>1.0</td>\n",
       "      <td>0.00000</td>\n",
       "      <td>0.00000</td>\n",
       "      <td>0.000000</td>\n",
       "    </tr>\n",
       "  </tbody>\n",
       "</table>\n",
       "</div>"
      ],
      "text/plain": [
       "   accountant   analyst apple banana  business  computer      data economist  \\\n",
       "d0   0.000000  0.000000   1.0    0.0  0.000000  0.000000  0.000000  0.000000   \n",
       "d1   0.000000  0.000000   0.0    1.0  0.000000  0.000000  0.000000  0.000000   \n",
       "d2   0.707107  0.000000   0.0    0.0  0.000000  0.000000  0.000000  0.000000   \n",
       "d3   0.000000  0.000000   0.0    0.0  0.707107  0.000000  0.000000  0.707107   \n",
       "d4   0.000000  0.707107   0.0    0.0  0.000000  0.000000  0.707107  0.000000   \n",
       "d5   0.000000  0.000000   0.0    0.0  0.000000  0.642328  0.000000  0.000000   \n",
       "d6   0.000000  0.000000   0.0    0.0  0.000000  0.642328  0.000000  0.000000   \n",
       "d7   0.000000  0.000000   0.0    0.0  0.000000  0.000000  0.000000  0.000000   \n",
       "\n",
       "    egg engineering   hacker   officer  \n",
       "d0  0.0     0.00000  0.00000  0.000000  \n",
       "d1  0.0     0.00000  0.00000  0.000000  \n",
       "d2  0.0     0.00000  0.00000  0.707107  \n",
       "d3  0.0     0.00000  0.00000  0.000000  \n",
       "d4  0.0     0.00000  0.00000  0.000000  \n",
       "d5  0.0     0.76643  0.00000  0.000000  \n",
       "d6  0.0     0.00000  0.76643  0.000000  \n",
       "d7  1.0     0.00000  0.00000  0.000000  "
      ]
     },
     "execution_count": 4,
     "metadata": {},
     "output_type": "execute_result"
    }
   ],
   "source": [
    "## TF-IDF by using sklearn package\n",
    "tfidf_vectorizer = TfidfVectorizer(stop_words=stopwords.words('english'),\n",
    "                                 lowercase=True)\n",
    "tfidf_array = tfidf_vectorizer.fit_transform(job_titles).toarray()\n",
    "df_tfidf = pd.DataFrame(tfidf_array,columns=[tfidf_vectorizer.get_feature_names()])\n",
    "indexnanme = ['d' + str(eachidx) for eachidx in df_tfidf.index.values]\n",
    "df_tfidf.index = indexnanme\n",
    "df_tfidf"
   ]
  },
  {
   "cell_type": "markdown",
   "metadata": {},
   "source": [
    "### Wordnet Similarity Matrix\n",
    "\n",
    "Here, we are generating the Wordnet similarity matrix by using the summation of each token in corpus's BOW to document's words: $\\sum dist(token, document)$\n",
    "\n",
    "Why do we use the wordnet?\n",
    "\n",
    "Ans: Because:  \n",
    "\n",
    "- This is small corpus, so we can compute the wordnet distance. If we have a huge corpus, please do not try the wordnet distance, because its running time is really slow.\n",
    "\n",
    "- We want to have the comparisons between the meaning of the words in documents.\n"
   ]
  },
  {
   "cell_type": "code",
   "execution_count": 5,
   "metadata": {
    "ExecuteTime": {
     "end_time": "2018-10-21T13:52:32.414536Z",
     "start_time": "2018-10-21T13:52:32.408873Z"
    }
   },
   "outputs": [],
   "source": [
    "def find_distance_wordnet(word1,word2):\n",
    "    from nltk.corpus import wordnet as wn\n",
    "    _similarity = 0\n",
    "    for eachsyn in wn.synsets(word1):\n",
    "        for eachsyn2 in wn.synsets(word2):\n",
    "            path_simi = (wn.path_similarity(eachsyn,eachsyn2))\n",
    "            if (path_simi != None):\n",
    "                if (_similarity < path_simi):\n",
    "                    _similarity = path_simi\n",
    "    return _similarity   "
   ]
  },
  {
   "cell_type": "code",
   "execution_count": 6,
   "metadata": {
    "ExecuteTime": {
     "end_time": "2018-10-21T13:52:36.630073Z",
     "start_time": "2018-10-21T13:52:33.263102Z"
    }
   },
   "outputs": [
    {
     "data": {
      "text/html": [
       "<div>\n",
       "<style scoped>\n",
       "    .dataframe tbody tr th:only-of-type {\n",
       "        vertical-align: middle;\n",
       "    }\n",
       "\n",
       "    .dataframe tbody tr th {\n",
       "        vertical-align: top;\n",
       "    }\n",
       "\n",
       "    .dataframe thead th {\n",
       "        text-align: right;\n",
       "    }\n",
       "</style>\n",
       "<table border=\"1\" class=\"dataframe\">\n",
       "  <thead>\n",
       "    <tr style=\"text-align: right;\">\n",
       "      <th></th>\n",
       "      <th>officer</th>\n",
       "      <th>analyst</th>\n",
       "      <th>accountant</th>\n",
       "      <th>business</th>\n",
       "      <th>computer</th>\n",
       "      <th>hacker</th>\n",
       "      <th>apple</th>\n",
       "      <th>banana</th>\n",
       "      <th>engineering</th>\n",
       "      <th>data</th>\n",
       "      <th>egg</th>\n",
       "      <th>economist</th>\n",
       "    </tr>\n",
       "  </thead>\n",
       "  <tbody>\n",
       "    <tr>\n",
       "      <th>0</th>\n",
       "      <td>0.0833333</td>\n",
       "      <td>0.0909091</td>\n",
       "      <td>0.0833333</td>\n",
       "      <td>0.0833333</td>\n",
       "      <td>0.0909091</td>\n",
       "      <td>0.0909091</td>\n",
       "      <td>1</td>\n",
       "      <td>0.333333</td>\n",
       "      <td>0.0769231</td>\n",
       "      <td>0.0833333</td>\n",
       "      <td>0.1</td>\n",
       "      <td>0.0833333</td>\n",
       "    </tr>\n",
       "    <tr>\n",
       "      <th>1</th>\n",
       "      <td>0.111111</td>\n",
       "      <td>0.125</td>\n",
       "      <td>0.111111</td>\n",
       "      <td>0.0833333</td>\n",
       "      <td>0.125</td>\n",
       "      <td>0.125</td>\n",
       "      <td>0.333333</td>\n",
       "      <td>1</td>\n",
       "      <td>0.0833333</td>\n",
       "      <td>0.0833333</td>\n",
       "      <td>0.1</td>\n",
       "      <td>0.111111</td>\n",
       "    </tr>\n",
       "    <tr>\n",
       "      <th>2</th>\n",
       "      <td>1.14286</td>\n",
       "      <td>0.333333</td>\n",
       "      <td>1.14286</td>\n",
       "      <td>0.190909</td>\n",
       "      <td>0.333333</td>\n",
       "      <td>0.333333</td>\n",
       "      <td>0.166667</td>\n",
       "      <td>0.222222</td>\n",
       "      <td>0.208333</td>\n",
       "      <td>0.190909</td>\n",
       "      <td>0.215909</td>\n",
       "      <td>0.285714</td>\n",
       "    </tr>\n",
       "    <tr>\n",
       "      <th>3</th>\n",
       "      <td>0.233766</td>\n",
       "      <td>0.266667</td>\n",
       "      <td>0.233766</td>\n",
       "      <td>1.09091</td>\n",
       "      <td>0.266667</td>\n",
       "      <td>0.266667</td>\n",
       "      <td>0.166667</td>\n",
       "      <td>0.194444</td>\n",
       "      <td>0.416667</td>\n",
       "      <td>0.290909</td>\n",
       "      <td>0.181818</td>\n",
       "      <td>1.09091</td>\n",
       "    </tr>\n",
       "    <tr>\n",
       "      <th>4</th>\n",
       "      <td>0.257576</td>\n",
       "      <td>1.1</td>\n",
       "      <td>0.257576</td>\n",
       "      <td>0.3</td>\n",
       "      <td>0.433333</td>\n",
       "      <td>0.3</td>\n",
       "      <td>0.174242</td>\n",
       "      <td>0.208333</td>\n",
       "      <td>0.233766</td>\n",
       "      <td>1.1</td>\n",
       "      <td>0.190909</td>\n",
       "      <td>0.257576</td>\n",
       "    </tr>\n",
       "    <tr>\n",
       "      <th>5</th>\n",
       "      <td>0.291667</td>\n",
       "      <td>0.424242</td>\n",
       "      <td>0.25</td>\n",
       "      <td>0.433333</td>\n",
       "      <td>1.11111</td>\n",
       "      <td>0.290909</td>\n",
       "      <td>0.167832</td>\n",
       "      <td>0.208333</td>\n",
       "      <td>1.11111</td>\n",
       "      <td>0.242857</td>\n",
       "      <td>0.242857</td>\n",
       "      <td>0.25</td>\n",
       "    </tr>\n",
       "    <tr>\n",
       "      <th>6</th>\n",
       "      <td>0.333333</td>\n",
       "      <td>0.533333</td>\n",
       "      <td>0.333333</td>\n",
       "      <td>0.2</td>\n",
       "      <td>1.2</td>\n",
       "      <td>1.2</td>\n",
       "      <td>0.181818</td>\n",
       "      <td>0.25</td>\n",
       "      <td>0.20202</td>\n",
       "      <td>0.2</td>\n",
       "      <td>0.2</td>\n",
       "      <td>0.333333</td>\n",
       "    </tr>\n",
       "    <tr>\n",
       "      <th>7</th>\n",
       "      <td>0.125</td>\n",
       "      <td>0.1</td>\n",
       "      <td>0.0909091</td>\n",
       "      <td>0.111111</td>\n",
       "      <td>0.1</td>\n",
       "      <td>0.1</td>\n",
       "      <td>0.1</td>\n",
       "      <td>0.1</td>\n",
       "      <td>0.142857</td>\n",
       "      <td>0.111111</td>\n",
       "      <td>1</td>\n",
       "      <td>0.0909091</td>\n",
       "    </tr>\n",
       "  </tbody>\n",
       "</table>\n",
       "</div>"
      ],
      "text/plain": [
       "     officer    analyst accountant   business   computer     hacker     apple  \\\n",
       "0  0.0833333  0.0909091  0.0833333  0.0833333  0.0909091  0.0909091         1   \n",
       "1   0.111111      0.125   0.111111  0.0833333      0.125      0.125  0.333333   \n",
       "2    1.14286   0.333333    1.14286   0.190909   0.333333   0.333333  0.166667   \n",
       "3   0.233766   0.266667   0.233766    1.09091   0.266667   0.266667  0.166667   \n",
       "4   0.257576        1.1   0.257576        0.3   0.433333        0.3  0.174242   \n",
       "5   0.291667   0.424242       0.25   0.433333    1.11111   0.290909  0.167832   \n",
       "6   0.333333   0.533333   0.333333        0.2        1.2        1.2  0.181818   \n",
       "7      0.125        0.1  0.0909091   0.111111        0.1        0.1       0.1   \n",
       "\n",
       "     banana engineering       data       egg  economist  \n",
       "0  0.333333   0.0769231  0.0833333       0.1  0.0833333  \n",
       "1         1   0.0833333  0.0833333       0.1   0.111111  \n",
       "2  0.222222    0.208333   0.190909  0.215909   0.285714  \n",
       "3  0.194444    0.416667   0.290909  0.181818    1.09091  \n",
       "4  0.208333    0.233766        1.1  0.190909   0.257576  \n",
       "5  0.208333     1.11111   0.242857  0.242857       0.25  \n",
       "6      0.25     0.20202        0.2       0.2   0.333333  \n",
       "7       0.1    0.142857   0.111111         1  0.0909091  "
      ]
     },
     "execution_count": 6,
     "metadata": {},
     "output_type": "execute_result"
    }
   ],
   "source": [
    "df_wordnet_dist = pd.DataFrame(index=range(len(job_titles)),columns=words)\n",
    "\n",
    "for index, row in df_wordnet_dist.iterrows():\n",
    "    doc_bow = job_titles[index].split()\n",
    "    for col in df_wordnet_dist.columns:\n",
    "        dist = 0\n",
    "        for eachword in doc_bow:\n",
    "            dist = dist + find_distance_wordnet(eachword.lower(),col.lower())\n",
    "        df_wordnet_dist.iloc[index][col] = dist\n",
    "df_wordnet_dist"
   ]
  },
  {
   "cell_type": "markdown",
   "metadata": {},
   "source": [
    "### K-Means Clustering"
   ]
  },
  {
   "cell_type": "markdown",
   "metadata": {},
   "source": [
    "#### With TF-IDF Vectors"
   ]
  },
  {
   "cell_type": "code",
   "execution_count": 7,
   "metadata": {
    "ExecuteTime": {
     "end_time": "2018-10-21T13:52:37.949845Z",
     "start_time": "2018-10-21T13:52:37.470501Z"
    }
   },
   "outputs": [
    {
     "data": {
      "text/plain": [
       "array([3, 0, 2, 2, 2, 1, 1, 2], dtype=int32)"
      ]
     },
     "execution_count": 7,
     "metadata": {},
     "output_type": "execute_result"
    }
   ],
   "source": [
    "### SKLEARN\n",
    "km_model = KMeans(n_clusters=4)\n",
    "km_model.fit_predict(df_tfidf.values)"
   ]
  },
  {
   "cell_type": "code",
   "execution_count": 8,
   "metadata": {
    "ExecuteTime": {
     "end_time": "2018-10-21T13:52:38.031546Z",
     "start_time": "2018-10-21T13:52:38.024867Z"
    }
   },
   "outputs": [
    {
     "name": "stdout",
     "output_type": "stream",
     "text": [
      "Group: 3\n",
      "   Apple\n",
      "Group: 0\n",
      "   Banana\n",
      "Group: 2\n",
      "   Officer Accountant\n",
      "   Business economist\n",
      "   Data analyst\n",
      "   Egg\n",
      "Group: 1\n",
      "   Computer Engineering\n",
      "   Computer Hacker\n"
     ]
    }
   ],
   "source": [
    "clustering = collections.defaultdict(list)\n",
    "for idx, label in enumerate(km_model.labels_):\n",
    "        clustering[label].append(idx)\n",
    "        \n",
    "for word, val in clustering.items():\n",
    "    print('Group:',word)\n",
    "    for i in val:\n",
    "        print('  ',job_titles[i])"
   ]
  },
  {
   "cell_type": "markdown",
   "metadata": {},
   "source": [
    "#### With Wordnet Distance Vectors"
   ]
  },
  {
   "cell_type": "code",
   "execution_count": 9,
   "metadata": {
    "ExecuteTime": {
     "end_time": "2018-10-21T13:52:39.682850Z",
     "start_time": "2018-10-21T13:52:39.658213Z"
    }
   },
   "outputs": [
    {
     "data": {
      "text/plain": [
       "array([1, 1, 0, 3, 2, 2, 2, 1], dtype=int32)"
      ]
     },
     "execution_count": 9,
     "metadata": {},
     "output_type": "execute_result"
    }
   ],
   "source": [
    "### SKLEARN\n",
    "km_model = KMeans(n_clusters=4)\n",
    "km_model.fit_predict(df_wordnet_dist.values)"
   ]
  },
  {
   "cell_type": "code",
   "execution_count": 10,
   "metadata": {
    "ExecuteTime": {
     "end_time": "2018-10-21T13:52:40.489402Z",
     "start_time": "2018-10-21T13:52:40.483388Z"
    }
   },
   "outputs": [
    {
     "name": "stdout",
     "output_type": "stream",
     "text": [
      "Group: 1\n",
      "   Apple\n",
      "   Banana\n",
      "   Egg\n",
      "Group: 0\n",
      "   Officer Accountant\n",
      "Group: 3\n",
      "   Business economist\n",
      "Group: 2\n",
      "   Data analyst\n",
      "   Computer Engineering\n",
      "   Computer Hacker\n"
     ]
    }
   ],
   "source": [
    "clustering = collections.defaultdict(list)\n",
    "for idx, label in enumerate(km_model.labels_):\n",
    "        clustering[label].append(idx)\n",
    "        \n",
    "for word, val in clustering.items():\n",
    "    print('Group:',word)\n",
    "    for i in val:\n",
    "        print('  ',job_titles[i])"
   ]
  },
  {
   "cell_type": "markdown",
   "metadata": {},
   "source": [
    "Observing the results, we found that using the wordnet matrix can give us a better clusters than using the tf-idf matrix. Why? The reason is for the wordnet, the distance is computed by using meaning information from words to words, while the tf-idf is just the information of the occurrences of words in corpus.\n",
    "\n",
    "Let's check the Hierarchical Clustering with two ways."
   ]
  },
  {
   "cell_type": "markdown",
   "metadata": {},
   "source": [
    "### Hierarchical Clustering"
   ]
  },
  {
   "cell_type": "markdown",
   "metadata": {},
   "source": [
    "#### With TF-IDF Vectors"
   ]
  },
  {
   "cell_type": "code",
   "execution_count": 11,
   "metadata": {
    "ExecuteTime": {
     "end_time": "2018-10-21T13:52:44.931795Z",
     "start_time": "2018-10-21T13:52:44.914542Z"
    }
   },
   "outputs": [
    {
     "data": {
      "text/html": [
       "<div>\n",
       "<style scoped>\n",
       "    .dataframe tbody tr th:only-of-type {\n",
       "        vertical-align: middle;\n",
       "    }\n",
       "\n",
       "    .dataframe tbody tr th {\n",
       "        vertical-align: top;\n",
       "    }\n",
       "\n",
       "    .dataframe thead th {\n",
       "        text-align: right;\n",
       "    }\n",
       "</style>\n",
       "<table border=\"1\" class=\"dataframe\">\n",
       "  <thead>\n",
       "    <tr style=\"text-align: right;\">\n",
       "      <th></th>\n",
       "      <th>0</th>\n",
       "      <th>1</th>\n",
       "      <th>2</th>\n",
       "      <th>3</th>\n",
       "      <th>4</th>\n",
       "      <th>5</th>\n",
       "      <th>6</th>\n",
       "      <th>7</th>\n",
       "    </tr>\n",
       "  </thead>\n",
       "  <tbody>\n",
       "    <tr>\n",
       "      <th>0</th>\n",
       "      <td>1.0</td>\n",
       "      <td>0.0</td>\n",
       "      <td>0.0</td>\n",
       "      <td>0.0</td>\n",
       "      <td>0.0</td>\n",
       "      <td>0.000000</td>\n",
       "      <td>0.000000</td>\n",
       "      <td>0.0</td>\n",
       "    </tr>\n",
       "    <tr>\n",
       "      <th>1</th>\n",
       "      <td>0.0</td>\n",
       "      <td>1.0</td>\n",
       "      <td>0.0</td>\n",
       "      <td>0.0</td>\n",
       "      <td>0.0</td>\n",
       "      <td>0.000000</td>\n",
       "      <td>0.000000</td>\n",
       "      <td>0.0</td>\n",
       "    </tr>\n",
       "    <tr>\n",
       "      <th>2</th>\n",
       "      <td>0.0</td>\n",
       "      <td>0.0</td>\n",
       "      <td>1.0</td>\n",
       "      <td>0.0</td>\n",
       "      <td>0.0</td>\n",
       "      <td>0.000000</td>\n",
       "      <td>0.000000</td>\n",
       "      <td>0.0</td>\n",
       "    </tr>\n",
       "    <tr>\n",
       "      <th>3</th>\n",
       "      <td>0.0</td>\n",
       "      <td>0.0</td>\n",
       "      <td>0.0</td>\n",
       "      <td>1.0</td>\n",
       "      <td>0.0</td>\n",
       "      <td>0.000000</td>\n",
       "      <td>0.000000</td>\n",
       "      <td>0.0</td>\n",
       "    </tr>\n",
       "    <tr>\n",
       "      <th>4</th>\n",
       "      <td>0.0</td>\n",
       "      <td>0.0</td>\n",
       "      <td>0.0</td>\n",
       "      <td>0.0</td>\n",
       "      <td>1.0</td>\n",
       "      <td>0.000000</td>\n",
       "      <td>0.000000</td>\n",
       "      <td>0.0</td>\n",
       "    </tr>\n",
       "    <tr>\n",
       "      <th>5</th>\n",
       "      <td>0.0</td>\n",
       "      <td>0.0</td>\n",
       "      <td>0.0</td>\n",
       "      <td>0.0</td>\n",
       "      <td>0.0</td>\n",
       "      <td>1.000000</td>\n",
       "      <td>0.412585</td>\n",
       "      <td>0.0</td>\n",
       "    </tr>\n",
       "    <tr>\n",
       "      <th>6</th>\n",
       "      <td>0.0</td>\n",
       "      <td>0.0</td>\n",
       "      <td>0.0</td>\n",
       "      <td>0.0</td>\n",
       "      <td>0.0</td>\n",
       "      <td>0.412585</td>\n",
       "      <td>1.000000</td>\n",
       "      <td>0.0</td>\n",
       "    </tr>\n",
       "    <tr>\n",
       "      <th>7</th>\n",
       "      <td>0.0</td>\n",
       "      <td>0.0</td>\n",
       "      <td>0.0</td>\n",
       "      <td>0.0</td>\n",
       "      <td>0.0</td>\n",
       "      <td>0.000000</td>\n",
       "      <td>0.000000</td>\n",
       "      <td>1.0</td>\n",
       "    </tr>\n",
       "  </tbody>\n",
       "</table>\n",
       "</div>"
      ],
      "text/plain": [
       "     0    1    2    3    4         5         6    7\n",
       "0  1.0  0.0  0.0  0.0  0.0  0.000000  0.000000  0.0\n",
       "1  0.0  1.0  0.0  0.0  0.0  0.000000  0.000000  0.0\n",
       "2  0.0  0.0  1.0  0.0  0.0  0.000000  0.000000  0.0\n",
       "3  0.0  0.0  0.0  1.0  0.0  0.000000  0.000000  0.0\n",
       "4  0.0  0.0  0.0  0.0  1.0  0.000000  0.000000  0.0\n",
       "5  0.0  0.0  0.0  0.0  0.0  1.000000  0.412585  0.0\n",
       "6  0.0  0.0  0.0  0.0  0.0  0.412585  1.000000  0.0\n",
       "7  0.0  0.0  0.0  0.0  0.0  0.000000  0.000000  1.0"
      ]
     },
     "execution_count": 11,
     "metadata": {},
     "output_type": "execute_result"
    }
   ],
   "source": [
    "from sklearn.metrics.pairwise import cosine_similarity, euclidean_distances\n",
    "cosine_matrix =  cosine_similarity(df_tfidf.values)\n",
    "df_cosine = pd.DataFrame(cosine_matrix,index=range(8),columns=range(8))\n",
    "df_cosine.head(10)"
   ]
  },
  {
   "cell_type": "code",
   "execution_count": 12,
   "metadata": {
    "ExecuteTime": {
     "end_time": "2018-10-21T13:52:46.611479Z",
     "start_time": "2018-10-21T13:52:46.102741Z"
    }
   },
   "outputs": [
    {
     "data": {
      "text/plain": [
       "<Figure size 500x700 with 1 Axes>"
      ]
     },
     "metadata": {},
     "output_type": "display_data"
    }
   ],
   "source": [
    "from scipy.cluster.hierarchy import ward, dendrogram\n",
    "import matplotlib.pyplot as plt\n",
    "\n",
    "#define the linkage_matrix\n",
    "linkage_matrix = ward(cosine_matrix) \n",
    "\n",
    "# plot the hierarchical graph\n",
    "fig, ax = plt.subplots(figsize=(5,7 )) # set size\n",
    "ax = dendrogram(linkage_matrix, orientation=\"right\", labels=job_titles);\n",
    "\n",
    "\n",
    "plt.show()  #show plot "
   ]
  },
  {
   "cell_type": "markdown",
   "metadata": {},
   "source": [
    "#### With Wordnet Distance Vectors"
   ]
  },
  {
   "cell_type": "code",
   "execution_count": 13,
   "metadata": {
    "ExecuteTime": {
     "end_time": "2018-10-21T13:52:52.874252Z",
     "start_time": "2018-10-21T13:52:52.853002Z"
    }
   },
   "outputs": [
    {
     "data": {
      "text/html": [
       "<div>\n",
       "<style scoped>\n",
       "    .dataframe tbody tr th:only-of-type {\n",
       "        vertical-align: middle;\n",
       "    }\n",
       "\n",
       "    .dataframe tbody tr th {\n",
       "        vertical-align: top;\n",
       "    }\n",
       "\n",
       "    .dataframe thead th {\n",
       "        text-align: right;\n",
       "    }\n",
       "</style>\n",
       "<table border=\"1\" class=\"dataframe\">\n",
       "  <thead>\n",
       "    <tr style=\"text-align: right;\">\n",
       "      <th></th>\n",
       "      <th>0</th>\n",
       "      <th>1</th>\n",
       "      <th>2</th>\n",
       "      <th>3</th>\n",
       "      <th>4</th>\n",
       "      <th>5</th>\n",
       "      <th>6</th>\n",
       "      <th>7</th>\n",
       "    </tr>\n",
       "  </thead>\n",
       "  <tbody>\n",
       "    <tr>\n",
       "      <th>0</th>\n",
       "      <td>1.000000</td>\n",
       "      <td>0.629195</td>\n",
       "      <td>0.312537</td>\n",
       "      <td>0.314618</td>\n",
       "      <td>0.325001</td>\n",
       "      <td>0.320072</td>\n",
       "      <td>0.324096</td>\n",
       "      <td>0.272959</td>\n",
       "    </tr>\n",
       "    <tr>\n",
       "      <th>1</th>\n",
       "      <td>0.629195</td>\n",
       "      <td>1.000000</td>\n",
       "      <td>0.379384</td>\n",
       "      <td>0.356908</td>\n",
       "      <td>0.374789</td>\n",
       "      <td>0.373564</td>\n",
       "      <td>0.400213</td>\n",
       "      <td>0.285276</td>\n",
       "    </tr>\n",
       "    <tr>\n",
       "      <th>2</th>\n",
       "      <td>0.312537</td>\n",
       "      <td>0.379384</td>\n",
       "      <td>1.000000</td>\n",
       "      <td>0.497672</td>\n",
       "      <td>0.531630</td>\n",
       "      <td>0.542336</td>\n",
       "      <td>0.594590</td>\n",
       "      <td>0.364598</td>\n",
       "    </tr>\n",
       "    <tr>\n",
       "      <th>3</th>\n",
       "      <td>0.314618</td>\n",
       "      <td>0.356908</td>\n",
       "      <td>0.497672</td>\n",
       "      <td>1.000000</td>\n",
       "      <td>0.560082</td>\n",
       "      <td>0.629080</td>\n",
       "      <td>0.524470</td>\n",
       "      <td>0.355724</td>\n",
       "    </tr>\n",
       "    <tr>\n",
       "      <th>4</th>\n",
       "      <td>0.325001</td>\n",
       "      <td>0.374789</td>\n",
       "      <td>0.531630</td>\n",
       "      <td>0.560082</td>\n",
       "      <td>1.000000</td>\n",
       "      <td>0.622890</td>\n",
       "      <td>0.631853</td>\n",
       "      <td>0.361022</td>\n",
       "    </tr>\n",
       "    <tr>\n",
       "      <th>5</th>\n",
       "      <td>0.320072</td>\n",
       "      <td>0.373564</td>\n",
       "      <td>0.542336</td>\n",
       "      <td>0.629080</td>\n",
       "      <td>0.622890</td>\n",
       "      <td>1.000000</td>\n",
       "      <td>0.754304</td>\n",
       "      <td>0.402545</td>\n",
       "    </tr>\n",
       "    <tr>\n",
       "      <th>6</th>\n",
       "      <td>0.324096</td>\n",
       "      <td>0.400213</td>\n",
       "      <td>0.594590</td>\n",
       "      <td>0.524470</td>\n",
       "      <td>0.631853</td>\n",
       "      <td>0.754304</td>\n",
       "      <td>1.000000</td>\n",
       "      <td>0.346154</td>\n",
       "    </tr>\n",
       "    <tr>\n",
       "      <th>7</th>\n",
       "      <td>0.272959</td>\n",
       "      <td>0.285276</td>\n",
       "      <td>0.364598</td>\n",
       "      <td>0.355724</td>\n",
       "      <td>0.361022</td>\n",
       "      <td>0.402545</td>\n",
       "      <td>0.346154</td>\n",
       "      <td>1.000000</td>\n",
       "    </tr>\n",
       "  </tbody>\n",
       "</table>\n",
       "</div>"
      ],
      "text/plain": [
       "          0         1         2         3         4         5         6  \\\n",
       "0  1.000000  0.629195  0.312537  0.314618  0.325001  0.320072  0.324096   \n",
       "1  0.629195  1.000000  0.379384  0.356908  0.374789  0.373564  0.400213   \n",
       "2  0.312537  0.379384  1.000000  0.497672  0.531630  0.542336  0.594590   \n",
       "3  0.314618  0.356908  0.497672  1.000000  0.560082  0.629080  0.524470   \n",
       "4  0.325001  0.374789  0.531630  0.560082  1.000000  0.622890  0.631853   \n",
       "5  0.320072  0.373564  0.542336  0.629080  0.622890  1.000000  0.754304   \n",
       "6  0.324096  0.400213  0.594590  0.524470  0.631853  0.754304  1.000000   \n",
       "7  0.272959  0.285276  0.364598  0.355724  0.361022  0.402545  0.346154   \n",
       "\n",
       "          7  \n",
       "0  0.272959  \n",
       "1  0.285276  \n",
       "2  0.364598  \n",
       "3  0.355724  \n",
       "4  0.361022  \n",
       "5  0.402545  \n",
       "6  0.346154  \n",
       "7  1.000000  "
      ]
     },
     "execution_count": 13,
     "metadata": {},
     "output_type": "execute_result"
    }
   ],
   "source": [
    "from sklearn.metrics.pairwise import cosine_similarity, euclidean_distances\n",
    "cosine_matrix =  cosine_similarity(df_wordnet_dist.values)\n",
    "df_cosine = pd.DataFrame(cosine_matrix,index=range(8),columns=range(8))\n",
    "df_cosine.head(10)"
   ]
  },
  {
   "cell_type": "code",
   "execution_count": 14,
   "metadata": {
    "ExecuteTime": {
     "end_time": "2018-10-21T13:52:54.846352Z",
     "start_time": "2018-10-21T13:52:54.677304Z"
    }
   },
   "outputs": [
    {
     "data": {
      "image/png": "[encoded data removed]",
      "text/plain": [
       "<Figure size 360x504 with 1 Axes>"
      ]
     },
     "metadata": {},
     "output_type": "display_data"
    }
   ],
   "source": [
    "from scipy.cluster.hierarchy import ward, dendrogram\n",
    "import matplotlib.pyplot as plt\n",
    "\n",
    "#define the linkage_matrix\n",
    "linkage_matrix = ward(cosine_matrix) \n",
    "\n",
    "# plot the hierarchical graph\n",
    "fig, ax = plt.subplots(figsize=(5,7 )) # set size\n",
    "ax = dendrogram(linkage_matrix, orientation=\"right\", labels=job_titles);\n",
    "\n",
    "plt.show()  #show plot "
   ]
  },
  {
   "cell_type": "markdown",
   "metadata": {},
   "source": [
    "Obviously we can see that the dendrogram from wordnet is more accurate than the dendrogram from tf-idf. "
   ]
  },
  {
   "cell_type": "markdown",
   "metadata": {},
   "source": [
    "#### Display the Dendrogram"
   ]
  },
  {
   "cell_type": "code",
   "execution_count": 15,
   "metadata": {
    "ExecuteTime": {
     "end_time": "2018-10-21T13:52:57.978225Z",
     "start_time": "2018-10-21T13:52:57.968486Z"
    }
   },
   "outputs": [],
   "source": [
    "def fancy_dendrogram(*args, **kwargs):\n",
    "    max_d = kwargs.pop('max_d', None)\n",
    "    if max_d and 'color_threshold' not in kwargs:\n",
    "        kwargs['color_threshold'] = max_d\n",
    "    annotate_above = kwargs.pop('annotate_above', 0)\n",
    "\n",
    "    ddata = dendrogram(*args, **kwargs)\n",
    "\n",
    "    if not kwargs.get('no_plot', False):\n",
    "        plt.title('Hierarchical Clustering Dendrogram (truncated)')\n",
    "        plt.xlabel('sample index or (cluster size)')\n",
    "        plt.ylabel('distance')\n",
    "        for i, d, c in zip(ddata['icoord'], ddata['dcoord'], ddata['color_list']):\n",
    "            x = 0.5 * sum(i[1:3])\n",
    "            y = d[1]\n",
    "            if y > annotate_above:\n",
    "                plt.plot(x, y, 'o', c=c)\n",
    "                plt.annotate(\"%.3g\" % y, (x, y), xytext=(0, -5),\n",
    "                             textcoords='offset points',\n",
    "                             va='top', ha='center')\n",
    "        if max_d:\n",
    "            plt.axhline(y=max_d, c='k')\n",
    "    return ddata"
   ]
  },
  {
   "cell_type": "code",
   "execution_count": 125,
   "metadata": {
    "ExecuteTime": {
     "end_time": "2018-10-22T08:41:47.238602Z",
     "start_time": "2018-10-22T08:41:47.199906Z"
    }
   },
   "outputs": [
    {
     "ename": "TypeError",
     "evalue": "'str' object is not callable",
     "output_type": "error",
     "traceback": [
      "\u001b[0;31m---------------------------------------------------------------------------\u001b[0m",
      "\u001b[0;31mTypeError\u001b[0m                                 Traceback (most recent call last)",
      "\u001b[0;32m<ipython-input-125-7f9123c76674>\u001b[0m in \u001b[0;36m<module>\u001b[0;34m()\u001b[0m\n\u001b[1;32m      6\u001b[0m \u001b[0;31m#     max_d=1.5,  # plot a horizontal cut-off line\u001b[0m\u001b[0;34m\u001b[0m\u001b[0;34m\u001b[0m\u001b[0m\n\u001b[1;32m      7\u001b[0m     \u001b[0mleaf_rotation\u001b[0m\u001b[0;34m=\u001b[0m\u001b[0;36m90.\u001b[0m\u001b[0;34m,\u001b[0m\u001b[0;34m\u001b[0m\u001b[0m\n\u001b[0;32m----> 8\u001b[0;31m     \u001b[0mleaf_label_func\u001b[0m\u001b[0;34m=\u001b[0m\u001b[0mllf\u001b[0m\u001b[0;34m(\u001b[0m\u001b[0mjob_titles\u001b[0m\u001b[0;34m)\u001b[0m\u001b[0;34m\u001b[0m\u001b[0m\n\u001b[0m\u001b[1;32m      9\u001b[0m )\n\u001b[1;32m     10\u001b[0m \u001b[0;34m\u001b[0m\u001b[0m\n",
      "\u001b[0;32m<ipython-input-15-b6b3dc570c68>\u001b[0m in \u001b[0;36mfancy_dendrogram\u001b[0;34m(*args, **kwargs)\u001b[0m\n\u001b[1;32m      5\u001b[0m     \u001b[0mannotate_above\u001b[0m \u001b[0;34m=\u001b[0m \u001b[0mkwargs\u001b[0m\u001b[0;34m.\u001b[0m\u001b[0mpop\u001b[0m\u001b[0;34m(\u001b[0m\u001b[0;34m'annotate_above'\u001b[0m\u001b[0;34m,\u001b[0m \u001b[0;36m0\u001b[0m\u001b[0;34m)\u001b[0m\u001b[0;34m\u001b[0m\u001b[0m\n\u001b[1;32m      6\u001b[0m \u001b[0;34m\u001b[0m\u001b[0m\n\u001b[0;32m----> 7\u001b[0;31m     \u001b[0mddata\u001b[0m \u001b[0;34m=\u001b[0m \u001b[0mdendrogram\u001b[0m\u001b[0;34m(\u001b[0m\u001b[0;34m*\u001b[0m\u001b[0margs\u001b[0m\u001b[0;34m,\u001b[0m \u001b[0;34m**\u001b[0m\u001b[0mkwargs\u001b[0m\u001b[0;34m)\u001b[0m\u001b[0;34m\u001b[0m\u001b[0m\n\u001b[0m\u001b[1;32m      8\u001b[0m \u001b[0;34m\u001b[0m\u001b[0m\n\u001b[1;32m      9\u001b[0m     \u001b[0;32mif\u001b[0m \u001b[0;32mnot\u001b[0m \u001b[0mkwargs\u001b[0m\u001b[0;34m.\u001b[0m\u001b[0mget\u001b[0m\u001b[0;34m(\u001b[0m\u001b[0;34m'no_plot'\u001b[0m\u001b[0;34m,\u001b[0m \u001b[0;32mFalse\u001b[0m\u001b[0;34m)\u001b[0m\u001b[0;34m:\u001b[0m\u001b[0;34m\u001b[0m\u001b[0m\n",
      "\u001b[0;32m/anaconda3/lib/python3.6/site-packages/scipy/cluster/hierarchy.py\u001b[0m in \u001b[0;36mdendrogram\u001b[0;34m(Z, p, truncate_mode, color_threshold, get_leaves, orientation, labels, count_sort, distance_sort, show_leaf_counts, no_plot, no_labels, leaf_font_size, leaf_rotation, leaf_label_func, show_contracted, link_color_func, ax, above_threshold_color)\u001b[0m\n\u001b[1;32m   2499\u001b[0m         \u001b[0mcontraction_marks\u001b[0m\u001b[0;34m=\u001b[0m\u001b[0mcontraction_marks\u001b[0m\u001b[0;34m,\u001b[0m\u001b[0;34m\u001b[0m\u001b[0m\n\u001b[1;32m   2500\u001b[0m         \u001b[0mlink_color_func\u001b[0m\u001b[0;34m=\u001b[0m\u001b[0mlink_color_func\u001b[0m\u001b[0;34m,\u001b[0m\u001b[0;34m\u001b[0m\u001b[0m\n\u001b[0;32m-> 2501\u001b[0;31m         above_threshold_color=above_threshold_color)\n\u001b[0m\u001b[1;32m   2502\u001b[0m \u001b[0;34m\u001b[0m\u001b[0m\n\u001b[1;32m   2503\u001b[0m     \u001b[0;32mif\u001b[0m \u001b[0;32mnot\u001b[0m \u001b[0mno_plot\u001b[0m\u001b[0;34m:\u001b[0m\u001b[0;34m\u001b[0m\u001b[0m\n",
      "\u001b[0;32m/anaconda3/lib/python3.6/site-packages/scipy/cluster/hierarchy.py\u001b[0m in \u001b[0;36m_dendrogram_calculate_info\u001b[0;34m(Z, p, truncate_mode, color_threshold, get_leaves, orientation, labels, count_sort, distance_sort, show_leaf_counts, i, iv, ivl, n, icoord_list, dcoord_list, lvs, mhr, current_color, color_list, currently_below_threshold, leaf_label_func, level, contraction_marks, link_color_func, above_threshold_color)\u001b[0m\n\u001b[1;32m   2752\u001b[0m             \u001b[0mlevel\u001b[0m\u001b[0;34m=\u001b[0m\u001b[0mlevel\u001b[0m \u001b[0;34m+\u001b[0m \u001b[0;36m1\u001b[0m\u001b[0;34m,\u001b[0m \u001b[0mcontraction_marks\u001b[0m\u001b[0;34m=\u001b[0m\u001b[0mcontraction_marks\u001b[0m\u001b[0;34m,\u001b[0m\u001b[0;34m\u001b[0m\u001b[0m\n\u001b[1;32m   2753\u001b[0m             \u001b[0mlink_color_func\u001b[0m\u001b[0;34m=\u001b[0m\u001b[0mlink_color_func\u001b[0m\u001b[0;34m,\u001b[0m\u001b[0;34m\u001b[0m\u001b[0m\n\u001b[0;32m-> 2754\u001b[0;31m             above_threshold_color=above_threshold_color)\n\u001b[0m\u001b[1;32m   2755\u001b[0m \u001b[0;34m\u001b[0m\u001b[0m\n\u001b[1;32m   2756\u001b[0m     \u001b[0mh\u001b[0m \u001b[0;34m=\u001b[0m \u001b[0mZ\u001b[0m\u001b[0;34m[\u001b[0m\u001b[0mi\u001b[0m \u001b[0;34m-\u001b[0m \u001b[0mn\u001b[0m\u001b[0;34m,\u001b[0m \u001b[0;36m2\u001b[0m\u001b[0;34m]\u001b[0m\u001b[0;34m\u001b[0m\u001b[0m\n",
      "\u001b[0;32m/anaconda3/lib/python3.6/site-packages/scipy/cluster/hierarchy.py\u001b[0m in \u001b[0;36m_dendrogram_calculate_info\u001b[0;34m(Z, p, truncate_mode, color_threshold, get_leaves, orientation, labels, count_sort, distance_sort, show_leaf_counts, i, iv, ivl, n, icoord_list, dcoord_list, lvs, mhr, current_color, color_list, currently_below_threshold, leaf_label_func, level, contraction_marks, link_color_func, above_threshold_color)\u001b[0m\n\u001b[1;32m   2752\u001b[0m             \u001b[0mlevel\u001b[0m\u001b[0;34m=\u001b[0m\u001b[0mlevel\u001b[0m \u001b[0;34m+\u001b[0m \u001b[0;36m1\u001b[0m\u001b[0;34m,\u001b[0m \u001b[0mcontraction_marks\u001b[0m\u001b[0;34m=\u001b[0m\u001b[0mcontraction_marks\u001b[0m\u001b[0;34m,\u001b[0m\u001b[0;34m\u001b[0m\u001b[0m\n\u001b[1;32m   2753\u001b[0m             \u001b[0mlink_color_func\u001b[0m\u001b[0;34m=\u001b[0m\u001b[0mlink_color_func\u001b[0m\u001b[0;34m,\u001b[0m\u001b[0;34m\u001b[0m\u001b[0m\n\u001b[0;32m-> 2754\u001b[0;31m             above_threshold_color=above_threshold_color)\n\u001b[0m\u001b[1;32m   2755\u001b[0m \u001b[0;34m\u001b[0m\u001b[0m\n\u001b[1;32m   2756\u001b[0m     \u001b[0mh\u001b[0m \u001b[0;34m=\u001b[0m \u001b[0mZ\u001b[0m\u001b[0;34m[\u001b[0m\u001b[0mi\u001b[0m \u001b[0;34m-\u001b[0m \u001b[0mn\u001b[0m\u001b[0;34m,\u001b[0m \u001b[0;36m2\u001b[0m\u001b[0;34m]\u001b[0m\u001b[0;34m\u001b[0m\u001b[0m\n",
      "\u001b[0;32m/anaconda3/lib/python3.6/site-packages/scipy/cluster/hierarchy.py\u001b[0m in \u001b[0;36m_dendrogram_calculate_info\u001b[0;34m(Z, p, truncate_mode, color_threshold, get_leaves, orientation, labels, count_sort, distance_sort, show_leaf_counts, i, iv, ivl, n, icoord_list, dcoord_list, lvs, mhr, current_color, color_list, currently_below_threshold, leaf_label_func, level, contraction_marks, link_color_func, above_threshold_color)\u001b[0m\n\u001b[1;32m   2664\u001b[0m     \u001b[0;32mif\u001b[0m \u001b[0mi\u001b[0m \u001b[0;34m<\u001b[0m \u001b[0mn\u001b[0m\u001b[0;34m:\u001b[0m\u001b[0;34m\u001b[0m\u001b[0m\n\u001b[1;32m   2665\u001b[0m         _append_singleton_leaf_node(Z, p, n, level, lvs, ivl,\n\u001b[0;32m-> 2666\u001b[0;31m                                     leaf_label_func, i, labels)\n\u001b[0m\u001b[1;32m   2667\u001b[0m         \u001b[0;32mreturn\u001b[0m \u001b[0;34m(\u001b[0m\u001b[0miv\u001b[0m \u001b[0;34m+\u001b[0m \u001b[0;36m5.0\u001b[0m\u001b[0;34m,\u001b[0m \u001b[0;36m10.0\u001b[0m\u001b[0;34m,\u001b[0m \u001b[0;36m0.0\u001b[0m\u001b[0;34m,\u001b[0m \u001b[0;36m0.0\u001b[0m\u001b[0;34m)\u001b[0m\u001b[0;34m\u001b[0m\u001b[0m\n\u001b[1;32m   2668\u001b[0m \u001b[0;34m\u001b[0m\u001b[0m\n",
      "\u001b[0;32m/anaconda3/lib/python3.6/site-packages/scipy/cluster/hierarchy.py\u001b[0m in \u001b[0;36m_append_singleton_leaf_node\u001b[0;34m(Z, p, n, level, lvs, ivl, leaf_label_func, i, labels)\u001b[0m\n\u001b[1;32m   2529\u001b[0m         \u001b[0;31m# passed to dendrogram.\u001b[0m\u001b[0;34m\u001b[0m\u001b[0;34m\u001b[0m\u001b[0m\n\u001b[1;32m   2530\u001b[0m         \u001b[0;32mif\u001b[0m \u001b[0mleaf_label_func\u001b[0m\u001b[0;34m:\u001b[0m\u001b[0;34m\u001b[0m\u001b[0m\n\u001b[0;32m-> 2531\u001b[0;31m             \u001b[0mivl\u001b[0m\u001b[0;34m.\u001b[0m\u001b[0mappend\u001b[0m\u001b[0;34m(\u001b[0m\u001b[0mleaf_label_func\u001b[0m\u001b[0;34m(\u001b[0m\u001b[0mint\u001b[0m\u001b[0;34m(\u001b[0m\u001b[0mi\u001b[0m\u001b[0;34m)\u001b[0m\u001b[0;34m)\u001b[0m\u001b[0;34m)\u001b[0m\u001b[0;34m\u001b[0m\u001b[0m\n\u001b[0m\u001b[1;32m   2532\u001b[0m         \u001b[0;32melse\u001b[0m\u001b[0;34m:\u001b[0m\u001b[0;34m\u001b[0m\u001b[0m\n\u001b[1;32m   2533\u001b[0m             \u001b[0;31m# Otherwise, if the dendrogram caller has passed a labels list\u001b[0m\u001b[0;34m\u001b[0m\u001b[0;34m\u001b[0m\u001b[0m\n",
      "\u001b[0;31mTypeError\u001b[0m: 'str' object is not callable"
     ]
    }
   ],
   "source": [
    "def llf(index):\n",
    "    return \"{}\".format(job_titles[index])\n",
    "\n",
    "fancy_dendrogram(\n",
    "    linkage_matrix,\n",
    "#     max_d=1.5,  # plot a horizontal cut-off line\n",
    "    leaf_rotation=90.,\n",
    "    leaf_label_func=llf\n",
    ")\n",
    "\n",
    "# save figure (un-comment to save)\n",
    "plt.savefig('ward_clusters.png', bbox_inches='tight',dpi=200) #save figure\n",
    "\n",
    "plt.show()  #show plot "
   ]
  },
  {
   "cell_type": "markdown",
   "metadata": {},
   "source": [
    "#### Retrive Cluster by Threshold"
   ]
  },
  {
   "cell_type": "code",
   "execution_count": 17,
   "metadata": {
    "ExecuteTime": {
     "end_time": "2018-10-21T13:53:01.424759Z",
     "start_time": "2018-10-21T13:53:01.420350Z"
    }
   },
   "outputs": [],
   "source": [
    "def print_cluster(clusters,job_titles):\n",
    "    for eachcluster in set(clusters):\n",
    "        print('cluster: ' + str(eachcluster))\n",
    "        for index in range(len(clusters)):\n",
    "            if clusters[index] == eachcluster:\n",
    "                print('\\t\\t' + job_titles[index])"
   ]
  },
  {
   "cell_type": "markdown",
   "metadata": {},
   "source": [
    "##### By max_d"
   ]
  },
  {
   "cell_type": "code",
   "execution_count": 18,
   "metadata": {
    "ExecuteTime": {
     "end_time": "2018-10-21T13:53:12.419045Z",
     "start_time": "2018-10-21T13:53:12.214939Z"
    }
   },
   "outputs": [
    {
     "name": "stdout",
     "output_type": "stream",
     "text": [
      "cluster: 1\n",
      "\t\tOfficer Accountant\n",
      "\t\tBusiness economist\n",
      "\t\tData analyst\n",
      "\t\tComputer Engineering\n",
      "\t\tComputer Hacker\n",
      "cluster: 2\n",
      "\t\tApple\n",
      "\t\tBanana\n",
      "\t\tEgg\n"
     ]
    },
    {
     "data": {
      "image/png": "[encoded data removed]",
      "text/plain": [
       "<Figure size 432x288 with 1 Axes>"
      ]
     },
     "metadata": {},
     "output_type": "display_data"
    }
   ],
   "source": [
    "from scipy.cluster.hierarchy import fcluster\n",
    "max_d = 1.5\n",
    "clusters = fcluster(linkage_matrix, max_d, criterion='distance')\n",
    "print_cluster(clusters,job_titles)  \n",
    "\n",
    "\n",
    "fancy_dendrogram(\n",
    "    linkage_matrix,\n",
    "    max_d=max_d,  # plot a horizontal cut-off line\n",
    "    leaf_rotation=90.,\n",
    "    leaf_label_func=llf\n",
    ")\n",
    "\n",
    "# save figure (un-comment to save)\n",
    "# plt.savefig('ward_clusters.png', bbox_inches='tight',dpi=200) #save figure\n",
    "\n",
    "plt.show()  #show plot "
   ]
  },
  {
   "cell_type": "markdown",
   "metadata": {},
   "source": [
    "##### By Number of Cluster K"
   ]
  },
  {
   "cell_type": "code",
   "execution_count": 19,
   "metadata": {
    "ExecuteTime": {
     "end_time": "2018-10-21T13:53:14.139493Z",
     "start_time": "2018-10-21T13:53:14.135209Z"
    }
   },
   "outputs": [],
   "source": [
    "def plot_dendrogram_by_k(Z,k):\n",
    "    import scipy.cluster.hierarchy as sch\n",
    "    ct=Z[-(k-1),2]  \n",
    "\n",
    "    #plot\n",
    "    P =sch.dendrogram(Z,labels=job_titles,color_threshold=ct,leaf_rotation=90.,)\n",
    "    plt.show()"
   ]
  },
  {
   "cell_type": "code",
   "execution_count": 20,
   "metadata": {
    "ExecuteTime": {
     "end_time": "2018-10-21T13:53:15.000984Z",
     "start_time": "2018-10-21T13:53:14.832077Z"
    }
   },
   "outputs": [
    {
     "name": "stdout",
     "output_type": "stream",
     "text": [
      "cluster: 1\n",
      "\t\tOfficer Accountant\n",
      "\t\tBusiness economist\n",
      "\t\tData analyst\n",
      "\t\tComputer Engineering\n",
      "\t\tComputer Hacker\n",
      "cluster: 2\n",
      "\t\tApple\n",
      "\t\tBanana\n",
      "\t\tEgg\n"
     ]
    },
    {
     "data": {
      "image/png": "[encoded data removed]",
      "text/plain": [
       "<Figure size 432x288 with 1 Axes>"
      ]
     },
     "metadata": {},
     "output_type": "display_data"
    }
   ],
   "source": [
    "from scipy.cluster.hierarchy import fcluster\n",
    "k=2\n",
    "clusters = fcluster(linkage_matrix, k, criterion='maxclust')\n",
    "print_cluster(clusters,job_titles) \n",
    "\n",
    "plot_dendrogram_by_k(linkage_matrix,k)\n",
    "\n",
    "# save figure (un-comment to save)\n",
    "# plt.savefig('ward_clusters.png', bbox_inches='tight',dpi=200) #save figure\n",
    "\n",
    "plt.show()  #show plot "
   ]
  },
  {
   "cell_type": "markdown",
   "metadata": {},
   "source": [
    "### Try to Make the Visualization by PCA(2D)"
   ]
  },
  {
   "cell_type": "code",
   "execution_count": 21,
   "metadata": {
    "ExecuteTime": {
     "end_time": "2018-10-21T13:53:16.843173Z",
     "start_time": "2018-10-21T13:53:16.837693Z"
    }
   },
   "outputs": [],
   "source": [
    "def plotlabel(ax,n,v):\n",
    "    ax.axhline(linewidth=4, color='k')\n",
    "    ax.axvline(linewidth=4, color='k')\n",
    "    for label, x, y in zip(n, v[:,0], v[:, 1]):\n",
    "        plt.annotate(\n",
    "            label,\n",
    "            xy=(x, y), xytext=(-20, 10),\n",
    "            textcoords='offset points', ha='right', va='bottom',\n",
    "            bbox=dict(boxstyle='round,pad=0.5', fc='yellow', alpha=1),\n",
    "            arrowprops=dict(arrowstyle = '->', connectionstyle='arc3,rad=0'))"
   ]
  },
  {
   "cell_type": "code",
   "execution_count": 22,
   "metadata": {
    "ExecuteTime": {
     "end_time": "2018-10-21T13:53:17.952392Z",
     "start_time": "2018-10-21T13:53:17.685841Z"
    }
   },
   "outputs": [
    {
     "data": {
      "image/png": "[encoded data removed]",
      "text/plain": [
       "<Figure size 432x288 with 1 Axes>"
      ]
     },
     "metadata": {},
     "output_type": "display_data"
    }
   ],
   "source": [
    "#### PCA from TF-IDF vectors\n",
    "from sklearn.decomposition import PCA\n",
    "pca = PCA(n_components=2)\n",
    "X = np.array(df_tfidf.values)\n",
    "v = pca.fit_transform(X)\n",
    "n = job_titles\n",
    "import matplotlib.pyplot as plt\n",
    "fig, ax = plt.subplots()\n",
    "ax.scatter(v[:,0],v[:,1])\n",
    "\n",
    "plotlabel(ax,n,v)\n",
    "# set axes range\n",
    "plt.grid()\n",
    "plt.show()"
   ]
  },
  {
   "cell_type": "code",
   "execution_count": 23,
   "metadata": {
    "ExecuteTime": {
     "end_time": "2018-10-21T13:53:18.712920Z",
     "start_time": "2018-10-21T13:53:18.434015Z"
    }
   },
   "outputs": [
    {
     "data": {
      "image/png": "[encoded data removed]",
      "text/plain": [
       "<Figure size 432x288 with 1 Axes>"
      ]
     },
     "metadata": {},
     "output_type": "display_data"
    }
   ],
   "source": [
    "##### PCA from Wordnet vectors\n",
    "from sklearn.decomposition import PCA\n",
    "pca = PCA(n_components=2)\n",
    "X = np.array(df_wordnet_dist.values)\n",
    "v = pca.fit_transform(X)\n",
    "n = job_titles\n",
    "import matplotlib.pyplot as plt\n",
    "fig, ax = plt.subplots()\n",
    "ax.scatter(v[:,0],v[:,1])\n",
    "\n",
    "plotlabel(ax,n,v)\n",
    "# set axes range\n",
    "plt.grid()\n",
    "plt.show()"
   ]
  },
  {
   "cell_type": "markdown",
   "metadata": {},
   "source": [
    "## Apply to Real Dataset"
   ]
  },
  {
   "cell_type": "markdown",
   "metadata": {},
   "source": [
    "Now, we will try to experiment the clustering algorithms with real data. The data in here is the news from BBC.\n",
    "\n",
    "The prefix of the document's name will present the ground-truth cluster, e.g. 1_01 is the file 01 of the group one."
   ]
  },
  {
   "cell_type": "markdown",
   "metadata": {},
   "source": [
    "### LOAD DATA"
   ]
  },
  {
   "cell_type": "code",
   "execution_count": 26,
   "metadata": {
    "ExecuteTime": {
     "end_time": "2018-10-21T13:53:42.589607Z",
     "start_time": "2018-10-21T13:53:42.538452Z"
    }
   },
   "outputs": [
    {
     "data": {
      "text/html": [
       "<div>\n",
       "<style scoped>\n",
       "    .dataframe tbody tr th:only-of-type {\n",
       "        vertical-align: middle;\n",
       "    }\n",
       "\n",
       "    .dataframe tbody tr th {\n",
       "        vertical-align: top;\n",
       "    }\n",
       "\n",
       "    .dataframe thead th {\n",
       "        text-align: right;\n",
       "    }\n",
       "</style>\n",
       "<table border=\"1\" class=\"dataframe\">\n",
       "  <thead>\n",
       "    <tr style=\"text-align: right;\">\n",
       "      <th></th>\n",
       "      <th>Filename</th>\n",
       "      <th>Content</th>\n",
       "    </tr>\n",
       "  </thead>\n",
       "  <tbody>\n",
       "    <tr>\n",
       "      <th>0</th>\n",
       "      <td>3_03</td>\n",
       "      <td>Drink remark 'acts as diversion' The first min...</td>\n",
       "    </tr>\n",
       "    <tr>\n",
       "      <th>1</th>\n",
       "      <td>3_02</td>\n",
       "      <td>Straw to attend Auschwitz service Foreign Secr...</td>\n",
       "    </tr>\n",
       "    <tr>\n",
       "      <th>2</th>\n",
       "      <td>3_01</td>\n",
       "      <td>Tsunami debt deal to be announced Chancellor G...</td>\n",
       "    </tr>\n",
       "    <tr>\n",
       "      <th>3</th>\n",
       "      <td>1_01</td>\n",
       "      <td>Yukos unit buyer faces loan claim The owners o...</td>\n",
       "    </tr>\n",
       "    <tr>\n",
       "      <th>4</th>\n",
       "      <td>1_03</td>\n",
       "      <td>Ask Jeeves tips online ad revival Ask Jeeves h...</td>\n",
       "    </tr>\n",
       "    <tr>\n",
       "      <th>5</th>\n",
       "      <td>1_02</td>\n",
       "      <td>Court rejects $280bn tobacco case A US governm...</td>\n",
       "    </tr>\n",
       "    <tr>\n",
       "      <th>6</th>\n",
       "      <td>2_01</td>\n",
       "      <td>Greek pair attend drugs hearing Greek sprinter...</td>\n",
       "    </tr>\n",
       "    <tr>\n",
       "      <th>7</th>\n",
       "      <td>2_02</td>\n",
       "      <td>Chepkemei joins Edinburgh line-up Susan Chepke...</td>\n",
       "    </tr>\n",
       "    <tr>\n",
       "      <th>8</th>\n",
       "      <td>2_03</td>\n",
       "      <td>El Guerrouj targets cross country Double Olymp...</td>\n",
       "    </tr>\n",
       "    <tr>\n",
       "      <th>9</th>\n",
       "      <td>2_04</td>\n",
       "      <td>Collins appeals against drugs ban Sprinter Mic...</td>\n",
       "    </tr>\n",
       "  </tbody>\n",
       "</table>\n",
       "</div>"
      ],
      "text/plain": [
       "  Filename                                            Content\n",
       "0     3_03  Drink remark 'acts as diversion' The first min...\n",
       "1     3_02  Straw to attend Auschwitz service Foreign Secr...\n",
       "2     3_01  Tsunami debt deal to be announced Chancellor G...\n",
       "3     1_01  Yukos unit buyer faces loan claim The owners o...\n",
       "4     1_03  Ask Jeeves tips online ad revival Ask Jeeves h...\n",
       "5     1_02  Court rejects $280bn tobacco case A US governm...\n",
       "6     2_01  Greek pair attend drugs hearing Greek sprinter...\n",
       "7     2_02  Chepkemei joins Edinburgh line-up Susan Chepke...\n",
       "8     2_03  El Guerrouj targets cross country Double Olymp...\n",
       "9     2_04  Collins appeals against drugs ban Sprinter Mic..."
      ]
     },
     "execution_count": 26,
     "metadata": {},
     "output_type": "execute_result"
    }
   ],
   "source": [
    "data_path = r'./Data/'\n",
    "df_raw = pd.DataFrame([],columns=['Filename','Content'])\n",
    "\n",
    "for root, directories, files in os.walk(data_path):\n",
    "    for filename in files:\n",
    "        _name = os.path.splitext(filename)[0]\n",
    "        filepath = os.path.join(root, filename)\n",
    "        f = open(filepath,\"r\",encoding='latin-1') \n",
    "        content = f.read()\n",
    "        content = \" \".join(str(content).split())\n",
    "#             content = str(content).replace(\"\\n\",\" \")\n",
    "        pieces = {'Filename': _name, 'Content': (content)}\n",
    "        df_raw = df_raw.append(pieces,ignore_index=True)\n",
    "df_raw.head(10)"
   ]
  },
  {
   "cell_type": "markdown",
   "metadata": {},
   "source": [
    "### Convert data from RAW to Tokens\n",
    "\n",
    "Now, we convert the data to Tokens and noun_tokens."
   ]
  },
  {
   "cell_type": "code",
   "execution_count": 27,
   "metadata": {
    "ExecuteTime": {
     "end_time": "2018-10-21T13:53:46.105060Z",
     "start_time": "2018-10-21T13:53:45.823952Z"
    }
   },
   "outputs": [],
   "source": [
    "## Define the Function to convert raw text to tokens\n",
    "def convert_tokens(rawtext, verbose):\n",
    "    # First: Tokenization\n",
    "    from nltk.tokenize import RegexpTokenizer\n",
    "    pattern = r'\\w+'\n",
    "    tokenizer = RegexpTokenizer(pattern)\n",
    "    token_words = tokenizer.tokenize(rawtext)\n",
    "    if (verbose):\n",
    "        print('Tokens:' + str(token_words[0:10]))\n",
    "    \n",
    "#     # Second: Decapitalization (if needed)\n",
    "#     decap_token_words = [word.lower() for word in token_words]\n",
    "#     if (verbose):\n",
    "#         print('Decapitalized Tokens:' + str(decap_token_words[0:10]))\n",
    "    \n",
    "    # Third: Remove stop words\n",
    "    from nltk.corpus import stopwords\n",
    "    stopwords_json = {\"af\":[\"'n\",\"aan\",\"af\",\"al\",\"as\",\"baie\",\"by\",\"daar\",\"dag\",\"dat\",\"die\",\"dit\",\"een\",\"ek\",\"en\",\"gaan\",\"gesê\",\"haar\",\"het\",\"hom\",\"hulle\",\"hy\",\"in\",\"is\",\"jou\",\"jy\",\"kan\",\"kom\",\"ma\",\"maar\",\"met\",\"my\",\"na\",\"nie\",\"om\",\"ons\",\"op\",\"saam\",\"sal\",\"se\",\"sien\",\"so\",\"sy\",\"te\",\"toe\",\"uit\",\"van\",\"vir\",\"was\",\"wat\",\"ŉ\"],\"ha\":[\"a\",\"amma\",\"ba\",\"ban\",\"ce\",\"cikin\",\"da\",\"don\",\"ga\",\"in\",\"ina\",\"ita\",\"ji\",\"ka\",\"ko\",\"kuma\",\"lokacin\",\"ma\",\"mai\",\"na\",\"ne\",\"ni\",\"sai\",\"shi\",\"su\",\"suka\",\"sun\",\"ta\",\"tafi\",\"take\",\"tana\",\"wani\",\"wannan\",\"wata\",\"ya\",\"yake\",\"yana\",\"yi\",\"za\"],\"so\":[\"aad\",\"albaabkii\",\"atabo\",\"ay\",\"ayaa\",\"ayee\",\"ayuu\",\"dhan\",\"hadana\",\"in\",\"inuu\",\"isku\",\"jiray\",\"jirtay\",\"ka\",\"kale\",\"kasoo\",\"ku\",\"kuu\",\"lakin\",\"markii\",\"oo\",\"si\",\"soo\",\"uga\",\"ugu\",\"uu\",\"waa\",\"waxa\",\"waxuu\"],\"st\":[\"a\",\"ba\",\"bane\",\"bona\",\"e\",\"ea\",\"eaba\",\"empa\",\"ena\",\"ha\",\"hae\",\"hape\",\"ho\",\"hore\",\"ka\",\"ke\",\"la\",\"le\",\"li\",\"me\",\"mo\",\"moo\",\"ne\",\"o\",\"oa\",\"re\",\"sa\",\"se\",\"tloha\",\"tsa\",\"tse\"],\"sw\":[\"akasema\",\"alikuwa\",\"alisema\",\"baada\",\"basi\",\"bila\",\"cha\",\"chini\",\"hadi\",\"hapo\",\"hata\",\"hivyo\",\"hiyo\",\"huku\",\"huo\",\"ili\",\"ilikuwa\",\"juu\",\"kama\",\"karibu\",\"katika\",\"kila\",\"kima\",\"kisha\",\"kubwa\",\"kutoka\",\"kuwa\",\"kwa\",\"kwamba\",\"kwenda\",\"kwenye\",\"la\",\"lakini\",\"mara\",\"mdogo\",\"mimi\",\"mkubwa\",\"mmoja\",\"moja\",\"muda\",\"mwenye\",\"na\",\"naye\",\"ndani\",\"ng\",\"ni\",\"nini\",\"nonkungu\",\"pamoja\",\"pia\",\"sana\",\"sasa\",\"sauti\",\"tafadhali\",\"tena\",\"tu\",\"vile\",\"wa\",\"wakati\",\"wake\",\"walikuwa\",\"wao\",\"watu\",\"wengine\",\"wote\",\"ya\",\"yake\",\"yangu\",\"yao\",\"yeye\",\"yule\",\"za\",\"zaidi\",\"zake\"],\"yo\":[\"a\",\"an\",\"bá\",\"bí\",\"bẹ̀rẹ̀\",\"fún\",\"fẹ́\",\"gbogbo\",\"inú\",\"jù\",\"jẹ\",\"jẹ́\",\"kan\",\"kì\",\"kí\",\"kò\",\"láti\",\"lè\",\"lọ\",\"mi\",\"mo\",\"máa\",\"mọ̀\",\"ni\",\"náà\",\"ní\",\"nígbà\",\"nítorí\",\"nǹkan\",\"o\",\"padà\",\"pé\",\"púpọ̀\",\"pẹ̀lú\",\"rẹ̀\",\"sì\",\"sí\",\"sínú\",\"ṣ\",\"ti\",\"tí\",\"wà\",\"wá\",\"wọn\",\"wọ́n\",\"yìí\",\"àti\",\"àwọn\",\"é\",\"í\",\"òun\",\"ó\",\"ń\",\"ńlá\",\"ṣe\",\"ṣé\",\"ṣùgbọ́n\",\"ẹmọ́\",\"ọjọ́\",\"ọ̀pọ̀lọpọ̀\"],\"zu\":[\"futhi\",\"kahle\",\"kakhulu\",\"kanye\",\"khona\",\"kodwa\",\"kungani\",\"kusho\",\"la\",\"lakhe\",\"lapho\",\"mina\",\"ngesikhathi\",\"nje\",\"phansi\",\"phezulu\",\"u\",\"ukuba\",\"ukuthi\",\"ukuze\",\"uma\",\"wahamba\",\"wakhe\",\"wami\",\"wase\",\"wathi\",\"yakhe\",\"zakhe\",\"zonke\"],\"da\":[\"af\",\"alle\",\"andet\",\"andre\",\"at\",\"begge\",\"da\",\"de\",\"den\",\"denne\",\"der\",\"deres\",\"det\",\"dette\",\"dig\",\"din\",\"dog\",\"du\",\"ej\",\"eller\",\"en\",\"end\",\"ene\",\"eneste\",\"enhver\",\"et\",\"fem\",\"fire\",\"flere\",\"fleste\",\"for\",\"fordi\",\"forrige\",\"fra\",\"få\",\"før\",\"god\",\"han\",\"hans\",\"har\",\"hendes\",\"her\",\"hun\",\"hvad\",\"hvem\",\"hver\",\"hvilken\",\"hvis\",\"hvor\",\"hvordan\",\"hvorfor\",\"hvornår\",\"i\",\"ikke\",\"ind\",\"ingen\",\"intet\",\"jeg\",\"jeres\",\"kan\",\"kom\",\"kommer\",\"lav\",\"lidt\",\"lille\",\"man\",\"mand\",\"mange\",\"med\",\"meget\",\"men\",\"mens\",\"mere\",\"mig\",\"ned\",\"ni\",\"nogen\",\"noget\",\"ny\",\"nyt\",\"nær\",\"næste\",\"næsten\",\"og\",\"op\",\"otte\",\"over\",\"på\",\"se\",\"seks\",\"ses\",\"som\",\"stor\",\"store\",\"syv\",\"ti\",\"til\",\"to\",\"tre\",\"ud\",\"var\"],\"de\":[\"Ernst\",\"Ordnung\",\"Schluss\",\"a\",\"ab\",\"aber\",\"ach\",\"acht\",\"achte\",\"achten\",\"achter\",\"achtes\",\"ag\",\"alle\",\"allein\",\"allem\",\"allen\",\"aller\",\"allerdings\",\"alles\",\"allgemeinen\",\"als\",\"also\",\"am\",\"an\",\"andere\",\"anderen\",\"andern\",\"anders\",\"au\",\"auch\",\"auf\",\"aus\",\"ausser\",\"ausserdem\",\"außer\",\"außerdem\",\"b\",\"bald\",\"bei\",\"beide\",\"beiden\",\"beim\",\"beispiel\",\"bekannt\",\"bereits\",\"besonders\",\"besser\",\"besten\",\"bin\",\"bis\",\"bisher\",\"bist\",\"c\",\"d\",\"d.h\",\"da\",\"dabei\",\"dadurch\",\"dafür\",\"dagegen\",\"daher\",\"dahin\",\"dahinter\",\"damals\",\"damit\",\"danach\",\"daneben\",\"dank\",\"dann\",\"daran\",\"darauf\",\"daraus\",\"darf\",\"darfst\",\"darin\",\"darum\",\"darunter\",\"darüber\",\"das\",\"dasein\",\"daselbst\",\"dass\",\"dasselbe\",\"davon\",\"davor\",\"dazu\",\"dazwischen\",\"daß\",\"dein\",\"deine\",\"deinem\",\"deiner\",\"dem\",\"dementsprechend\",\"demgegenüber\",\"demgemäss\",\"demgemäß\",\"demselben\",\"demzufolge\",\"den\",\"denen\",\"denn\",\"denselben\",\"der\",\"deren\",\"derjenige\",\"derjenigen\",\"dermassen\",\"dermaßen\",\"derselbe\",\"derselben\",\"des\",\"deshalb\",\"desselben\",\"dessen\",\"deswegen\",\"dich\",\"die\",\"diejenige\",\"diejenigen\",\"dies\",\"diese\",\"dieselbe\",\"dieselben\",\"diesem\",\"diesen\",\"dieser\",\"dieses\",\"dir\",\"doch\",\"dort\",\"drei\",\"drin\",\"dritte\",\"dritten\",\"dritter\",\"drittes\",\"du\",\"durch\",\"durchaus\",\"durfte\",\"durften\",\"dürfen\",\"dürft\",\"e\",\"eben\",\"ebenso\",\"ehrlich\",\"ei\",\"ei,\",\"eigen\",\"eigene\",\"eigenen\",\"eigener\",\"eigenes\",\"ein\",\"einander\",\"eine\",\"einem\",\"einen\",\"einer\",\"eines\",\"einige\",\"einigen\",\"einiger\",\"einiges\",\"einmal\",\"eins\",\"elf\",\"en\",\"ende\",\"endlich\",\"entweder\",\"er\",\"erst\",\"erste\",\"ersten\",\"erster\",\"erstes\",\"es\",\"etwa\",\"etwas\",\"euch\",\"euer\",\"eure\",\"f\",\"folgende\",\"früher\",\"fünf\",\"fünfte\",\"fünften\",\"fünfter\",\"fünftes\",\"für\",\"g\",\"gab\",\"ganz\",\"ganze\",\"ganzen\",\"ganzer\",\"ganzes\",\"gar\",\"gedurft\",\"gegen\",\"gegenüber\",\"gehabt\",\"gehen\",\"geht\",\"gekannt\",\"gekonnt\",\"gemacht\",\"gemocht\",\"gemusst\",\"genug\",\"gerade\",\"gern\",\"gesagt\",\"geschweige\",\"gewesen\",\"gewollt\",\"geworden\",\"gibt\",\"ging\",\"gleich\",\"gott\",\"gross\",\"grosse\",\"grossen\",\"grosser\",\"grosses\",\"groß\",\"große\",\"großen\",\"großer\",\"großes\",\"gut\",\"gute\",\"guter\",\"gutes\",\"h\",\"habe\",\"haben\",\"habt\",\"hast\",\"hat\",\"hatte\",\"hatten\",\"hattest\",\"hattet\",\"heisst\",\"her\",\"heute\",\"hier\",\"hin\",\"hinter\",\"hoch\",\"hätte\",\"hätten\",\"i\",\"ich\",\"ihm\",\"ihn\",\"ihnen\",\"ihr\",\"ihre\",\"ihrem\",\"ihren\",\"ihrer\",\"ihres\",\"im\",\"immer\",\"in\",\"indem\",\"infolgedessen\",\"ins\",\"irgend\",\"ist\",\"j\",\"ja\",\"jahr\",\"jahre\",\"jahren\",\"je\",\"jede\",\"jedem\",\"jeden\",\"jeder\",\"jedermann\",\"jedermanns\",\"jedes\",\"jedoch\",\"jemand\",\"jemandem\",\"jemanden\",\"jene\",\"jenem\",\"jenen\",\"jener\",\"jenes\",\"jetzt\",\"k\",\"kam\",\"kann\",\"kannst\",\"kaum\",\"kein\",\"keine\",\"keinem\",\"keinen\",\"keiner\",\"kleine\",\"kleinen\",\"kleiner\",\"kleines\",\"kommen\",\"kommt\",\"konnte\",\"konnten\",\"kurz\",\"können\",\"könnt\",\"könnte\",\"l\",\"lang\",\"lange\",\"leicht\",\"leide\",\"lieber\",\"los\",\"m\",\"machen\",\"macht\",\"machte\",\"mag\",\"magst\",\"mahn\",\"mal\",\"man\",\"manche\",\"manchem\",\"manchen\",\"mancher\",\"manches\",\"mann\",\"mehr\",\"mein\",\"meine\",\"meinem\",\"meinen\",\"meiner\",\"meines\",\"mensch\",\"menschen\",\"mich\",\"mir\",\"mit\",\"mittel\",\"mochte\",\"mochten\",\"morgen\",\"muss\",\"musst\",\"musste\",\"mussten\",\"muß\",\"mußt\",\"möchte\",\"mögen\",\"möglich\",\"mögt\",\"müssen\",\"müsst\",\"müßt\",\"n\",\"na\",\"nach\",\"nachdem\",\"nahm\",\"natürlich\",\"neben\",\"nein\",\"neue\",\"neuen\",\"neun\",\"neunte\",\"neunten\",\"neunter\",\"neuntes\",\"nicht\",\"nichts\",\"nie\",\"niemand\",\"niemandem\",\"niemanden\",\"noch\",\"nun\",\"nur\",\"o\",\"ob\",\"oben\",\"oder\",\"offen\",\"oft\",\"ohne\",\"p\",\"q\",\"r\",\"recht\",\"rechte\",\"rechten\",\"rechter\",\"rechtes\",\"richtig\",\"rund\",\"s\",\"sa\",\"sache\",\"sagt\",\"sagte\",\"sah\",\"satt\",\"schlecht\",\"schon\",\"sechs\",\"sechste\",\"sechsten\",\"sechster\",\"sechstes\",\"sehr\",\"sei\",\"seid\",\"seien\",\"sein\",\"seine\",\"seinem\",\"seinen\",\"seiner\",\"seines\",\"seit\",\"seitdem\",\"selbst\",\"sich\",\"sie\",\"sieben\",\"siebente\",\"siebenten\",\"siebenter\",\"siebentes\",\"sind\",\"so\",\"solang\",\"solche\",\"solchem\",\"solchen\",\"solcher\",\"solches\",\"soll\",\"sollen\",\"sollst\",\"sollt\",\"sollte\",\"sollten\",\"sondern\",\"sonst\",\"soweit\",\"sowie\",\"später\",\"startseite\",\"statt\",\"steht\",\"suche\",\"t\",\"tag\",\"tage\",\"tagen\",\"tat\",\"teil\",\"tel\",\"tritt\",\"trotzdem\",\"tun\",\"u\",\"uhr\",\"um\",\"und\",\"und?\",\"uns\",\"unser\",\"unsere\",\"unserer\",\"unter\",\"v\",\"vergangenen\",\"viel\",\"viele\",\"vielem\",\"vielen\",\"vielleicht\",\"vier\",\"vierte\",\"vierten\",\"vierter\",\"viertes\",\"vom\",\"von\",\"vor\",\"w\",\"wahr?\",\"wann\",\"war\",\"waren\",\"wart\",\"warum\",\"was\",\"wegen\",\"weil\",\"weit\",\"weiter\",\"weitere\",\"weiteren\",\"weiteres\",\"welche\",\"welchem\",\"welchen\",\"welcher\",\"welches\",\"wem\",\"wen\",\"wenig\",\"wenige\",\"weniger\",\"weniges\",\"wenigstens\",\"wenn\",\"wer\",\"werde\",\"werden\",\"werdet\",\"weshalb\",\"wessen\",\"wie\",\"wieder\",\"wieso\",\"will\",\"willst\",\"wir\",\"wird\",\"wirklich\",\"wirst\",\"wissen\",\"wo\",\"wohl\",\"wollen\",\"wollt\",\"wollte\",\"wollten\",\"worden\",\"wurde\",\"wurden\",\"während\",\"währenddem\",\"währenddessen\",\"wäre\",\"würde\",\"würden\",\"x\",\"y\",\"z\",\"z.b\",\"zehn\",\"zehnte\",\"zehnten\",\"zehnter\",\"zehntes\",\"zeit\",\"zu\",\"zuerst\",\"zugleich\",\"zum\",\"zunächst\",\"zur\",\"zurück\",\"zusammen\",\"zwanzig\",\"zwar\",\"zwei\",\"zweite\",\"zweiten\",\"zweiter\",\"zweites\",\"zwischen\",\"zwölf\",\"über\",\"überhaupt\",\"übrigens\"],\"es\":[\"a\",\"actualmente\",\"acuerdo\",\"adelante\",\"ademas\",\"además\",\"adrede\",\"afirmó\",\"agregó\",\"ahi\",\"ahora\",\"ahí\",\"al\",\"algo\",\"alguna\",\"algunas\",\"alguno\",\"algunos\",\"algún\",\"alli\",\"allí\",\"alrededor\",\"ambos\",\"ampleamos\",\"antano\",\"antaño\",\"ante\",\"anterior\",\"antes\",\"apenas\",\"aproximadamente\",\"aquel\",\"aquella\",\"aquellas\",\"aquello\",\"aquellos\",\"aqui\",\"aquél\",\"aquélla\",\"aquéllas\",\"aquéllos\",\"aquí\",\"arriba\",\"arribaabajo\",\"aseguró\",\"asi\",\"así\",\"atras\",\"aun\",\"aunque\",\"ayer\",\"añadió\",\"aún\",\"b\",\"bajo\",\"bastante\",\"bien\",\"breve\",\"buen\",\"buena\",\"buenas\",\"bueno\",\"buenos\",\"c\",\"cada\",\"casi\",\"cerca\",\"cierta\",\"ciertas\",\"cierto\",\"ciertos\",\"cinco\",\"claro\",\"comentó\",\"como\",\"con\",\"conmigo\",\"conocer\",\"conseguimos\",\"conseguir\",\"considera\",\"consideró\",\"consigo\",\"consigue\",\"consiguen\",\"consigues\",\"contigo\",\"contra\",\"cosas\",\"creo\",\"cual\",\"cuales\",\"cualquier\",\"cuando\",\"cuanta\",\"cuantas\",\"cuanto\",\"cuantos\",\"cuatro\",\"cuenta\",\"cuál\",\"cuáles\",\"cuándo\",\"cuánta\",\"cuántas\",\"cuánto\",\"cuántos\",\"cómo\",\"d\",\"da\",\"dado\",\"dan\",\"dar\",\"de\",\"debajo\",\"debe\",\"deben\",\"debido\",\"decir\",\"dejó\",\"del\",\"delante\",\"demasiado\",\"demás\",\"dentro\",\"deprisa\",\"desde\",\"despacio\",\"despues\",\"después\",\"detras\",\"detrás\",\"dia\",\"dias\",\"dice\",\"dicen\",\"dicho\",\"dieron\",\"diferente\",\"diferentes\",\"dijeron\",\"dijo\",\"dio\",\"donde\",\"dos\",\"durante\",\"día\",\"días\",\"dónde\",\"e\",\"ejemplo\",\"el\",\"ella\",\"ellas\",\"ello\",\"ellos\",\"embargo\",\"empleais\",\"emplean\",\"emplear\",\"empleas\",\"empleo\",\"en\",\"encima\",\"encuentra\",\"enfrente\",\"enseguida\",\"entonces\",\"entre\",\"era\",\"eramos\",\"eran\",\"eras\",\"eres\",\"es\",\"esa\",\"esas\",\"ese\",\"eso\",\"esos\",\"esta\",\"estaba\",\"estaban\",\"estado\",\"estados\",\"estais\",\"estamos\",\"estan\",\"estar\",\"estará\",\"estas\",\"este\",\"esto\",\"estos\",\"estoy\",\"estuvo\",\"está\",\"están\",\"ex\",\"excepto\",\"existe\",\"existen\",\"explicó\",\"expresó\",\"f\",\"fin\",\"final\",\"fue\",\"fuera\",\"fueron\",\"fui\",\"fuimos\",\"g\",\"general\",\"gran\",\"grandes\",\"gueno\",\"h\",\"ha\",\"haber\",\"habia\",\"habla\",\"hablan\",\"habrá\",\"había\",\"habían\",\"hace\",\"haceis\",\"hacemos\",\"hacen\",\"hacer\",\"hacerlo\",\"haces\",\"hacia\",\"haciendo\",\"hago\",\"han\",\"hasta\",\"hay\",\"haya\",\"he\",\"hecho\",\"hemos\",\"hicieron\",\"hizo\",\"horas\",\"hoy\",\"hubo\",\"i\",\"igual\",\"incluso\",\"indicó\",\"informo\",\"informó\",\"intenta\",\"intentais\",\"intentamos\",\"intentan\",\"intentar\",\"intentas\",\"intento\",\"ir\",\"j\",\"junto\",\"k\",\"l\",\"la\",\"lado\",\"largo\",\"las\",\"le\",\"lejos\",\"les\",\"llegó\",\"lleva\",\"llevar\",\"lo\",\"los\",\"luego\",\"lugar\",\"m\",\"mal\",\"manera\",\"manifestó\",\"mas\",\"mayor\",\"me\",\"mediante\",\"medio\",\"mejor\",\"mencionó\",\"menos\",\"menudo\",\"mi\",\"mia\",\"mias\",\"mientras\",\"mio\",\"mios\",\"mis\",\"misma\",\"mismas\",\"mismo\",\"mismos\",\"modo\",\"momento\",\"mucha\",\"muchas\",\"mucho\",\"muchos\",\"muy\",\"más\",\"mí\",\"mía\",\"mías\",\"mío\",\"míos\",\"n\",\"nada\",\"nadie\",\"ni\",\"ninguna\",\"ningunas\",\"ninguno\",\"ningunos\",\"ningún\",\"no\",\"nos\",\"nosotras\",\"nosotros\",\"nuestra\",\"nuestras\",\"nuestro\",\"nuestros\",\"nueva\",\"nuevas\",\"nuevo\",\"nuevos\",\"nunca\",\"o\",\"ocho\",\"os\",\"otra\",\"otras\",\"otro\",\"otros\",\"p\",\"pais\",\"para\",\"parece\",\"parte\",\"partir\",\"pasada\",\"pasado\",\"paìs\",\"peor\",\"pero\",\"pesar\",\"poca\",\"pocas\",\"poco\",\"pocos\",\"podeis\",\"podemos\",\"poder\",\"podria\",\"podriais\",\"podriamos\",\"podrian\",\"podrias\",\"podrá\",\"podrán\",\"podría\",\"podrían\",\"poner\",\"por\",\"porque\",\"posible\",\"primer\",\"primera\",\"primero\",\"primeros\",\"principalmente\",\"pronto\",\"propia\",\"propias\",\"propio\",\"propios\",\"proximo\",\"próximo\",\"próximos\",\"pudo\",\"pueda\",\"puede\",\"pueden\",\"puedo\",\"pues\",\"q\",\"qeu\",\"que\",\"quedó\",\"queremos\",\"quien\",\"quienes\",\"quiere\",\"quiza\",\"quizas\",\"quizá\",\"quizás\",\"quién\",\"quiénes\",\"qué\",\"r\",\"raras\",\"realizado\",\"realizar\",\"realizó\",\"repente\",\"respecto\",\"s\",\"sabe\",\"sabeis\",\"sabemos\",\"saben\",\"saber\",\"sabes\",\"salvo\",\"se\",\"sea\",\"sean\",\"segun\",\"segunda\",\"segundo\",\"según\",\"seis\",\"ser\",\"sera\",\"será\",\"serán\",\"sería\",\"señaló\",\"si\",\"sido\",\"siempre\",\"siendo\",\"siete\",\"sigue\",\"siguiente\",\"sin\",\"sino\",\"sobre\",\"sois\",\"sola\",\"solamente\",\"solas\",\"solo\",\"solos\",\"somos\",\"son\",\"soy\",\"soyos\",\"su\",\"supuesto\",\"sus\",\"suya\",\"suyas\",\"suyo\",\"sé\",\"sí\",\"sólo\",\"t\",\"tal\",\"tambien\",\"también\",\"tampoco\",\"tan\",\"tanto\",\"tarde\",\"te\",\"temprano\",\"tendrá\",\"tendrán\",\"teneis\",\"tenemos\",\"tener\",\"tenga\",\"tengo\",\"tenido\",\"tenía\",\"tercera\",\"ti\",\"tiempo\",\"tiene\",\"tienen\",\"toda\",\"todas\",\"todavia\",\"todavía\",\"todo\",\"todos\",\"total\",\"trabaja\",\"trabajais\",\"trabajamos\",\"trabajan\",\"trabajar\",\"trabajas\",\"trabajo\",\"tras\",\"trata\",\"través\",\"tres\",\"tu\",\"tus\",\"tuvo\",\"tuya\",\"tuyas\",\"tuyo\",\"tuyos\",\"tú\",\"u\",\"ultimo\",\"un\",\"una\",\"unas\",\"uno\",\"unos\",\"usa\",\"usais\",\"usamos\",\"usan\",\"usar\",\"usas\",\"uso\",\"usted\",\"ustedes\",\"v\",\"va\",\"vais\",\"valor\",\"vamos\",\"van\",\"varias\",\"varios\",\"vaya\",\"veces\",\"ver\",\"verdad\",\"verdadera\",\"verdadero\",\"vez\",\"vosotras\",\"vosotros\",\"voy\",\"vuestra\",\"vuestras\",\"vuestro\",\"vuestros\",\"w\",\"x\",\"y\",\"ya\",\"yo\",\"z\",\"él\",\"ésa\",\"ésas\",\"ése\",\"ésos\",\"ésta\",\"éstas\",\"éste\",\"éstos\",\"última\",\"últimas\",\"último\",\"últimos\"],\"et\":[\"aga\",\"ei\",\"et\",\"ja\",\"jah\",\"kas\",\"kui\",\"kõik\",\"ma\",\"me\",\"mida\",\"midagi\",\"mind\",\"minu\",\"mis\",\"mu\",\"mul\",\"mulle\",\"nad\",\"nii\",\"oled\",\"olen\",\"oli\",\"oma\",\"on\",\"pole\",\"sa\",\"seda\",\"see\",\"selle\",\"siin\",\"siis\",\"ta\",\"te\",\"ära\"],\"fi\":[\"aiemmin\",\"aika\",\"aikaa\",\"aikaan\",\"aikaisemmin\",\"aikaisin\",\"aikajen\",\"aikana\",\"aikoina\",\"aikoo\",\"aikovat\",\"aina\",\"ainakaan\",\"ainakin\",\"ainoa\",\"ainoat\",\"aiomme\",\"aion\",\"aiotte\",\"aist\",\"aivan\",\"ajan\",\"alas\",\"alemmas\",\"alkuisin\",\"alkuun\",\"alla\",\"alle\",\"aloitamme\",\"aloitan\",\"aloitat\",\"aloitatte\",\"aloitattivat\",\"aloitettava\",\"aloitettevaksi\",\"aloitettu\",\"aloitimme\",\"aloitin\",\"aloitit\",\"aloititte\",\"aloittaa\",\"aloittamatta\",\"aloitti\",\"aloittivat\",\"alta\",\"aluksi\",\"alussa\",\"alusta\",\"annettavaksi\",\"annetteva\",\"annettu\",\"ansiosta\",\"antaa\",\"antamatta\",\"antoi\",\"aoua\",\"apu\",\"asia\",\"asiaa\",\"asian\",\"asiasta\",\"asiat\",\"asioiden\",\"asioihin\",\"asioita\",\"asti\",\"avuksi\",\"avulla\",\"avun\",\"avutta\",\"edelle\",\"edelleen\",\"edellä\",\"edeltä\",\"edemmäs\",\"edes\",\"edessä\",\"edestä\",\"ehkä\",\"ei\",\"eikä\",\"eilen\",\"eivät\",\"eli\",\"ellei\",\"elleivät\",\"ellemme\",\"ellen\",\"ellet\",\"ellette\",\"emme\",\"en\",\"enemmän\",\"eniten\",\"ennen\",\"ensi\",\"ensimmäinen\",\"ensimmäiseksi\",\"ensimmäisen\",\"ensimmäisenä\",\"ensimmäiset\",\"ensimmäisiksi\",\"ensimmäisinä\",\"ensimmäisiä\",\"ensimmäistä\",\"ensin\",\"entinen\",\"entisen\",\"entisiä\",\"entisten\",\"entistä\",\"enää\",\"eri\",\"erittäin\",\"erityisesti\",\"eräiden\",\"eräs\",\"eräät\",\"esi\",\"esiin\",\"esillä\",\"esimerkiksi\",\"et\",\"eteen\",\"etenkin\",\"etessa\",\"ette\",\"ettei\",\"että\",\"haikki\",\"halua\",\"haluaa\",\"haluamatta\",\"haluamme\",\"haluan\",\"haluat\",\"haluatte\",\"haluavat\",\"halunnut\",\"halusi\",\"halusimme\",\"halusin\",\"halusit\",\"halusitte\",\"halusivat\",\"halutessa\",\"haluton\",\"he\",\"hei\",\"heidän\",\"heihin\",\"heille\",\"heiltä\",\"heissä\",\"heistä\",\"heitä\",\"helposti\",\"heti\",\"hetkellä\",\"hieman\",\"hitaasti\",\"hoikein\",\"huolimatta\",\"huomenna\",\"hyvien\",\"hyviin\",\"hyviksi\",\"hyville\",\"hyviltä\",\"hyvin\",\"hyvinä\",\"hyvissä\",\"hyvistä\",\"hyviä\",\"hyvä\",\"hyvät\",\"hyvää\",\"hän\",\"häneen\",\"hänelle\",\"hänellä\",\"häneltä\",\"hänen\",\"hänessä\",\"hänestä\",\"hänet\",\"ihan\",\"ilman\",\"ilmeisesti\",\"itse\",\"itsensä\",\"itseään\",\"ja\",\"jo\",\"johon\",\"joiden\",\"joihin\",\"joiksi\",\"joilla\",\"joille\",\"joilta\",\"joissa\",\"joista\",\"joita\",\"joka\",\"jokainen\",\"jokin\",\"joko\",\"joku\",\"jolla\",\"jolle\",\"jolloin\",\"jolta\",\"jompikumpi\",\"jonka\",\"jonkin\",\"jonne\",\"joo\",\"jopa\",\"jos\",\"joskus\",\"jossa\",\"josta\",\"jota\",\"jotain\",\"joten\",\"jotenkin\",\"jotenkuten\",\"jotka\",\"jotta\",\"jouduimme\",\"jouduin\",\"jouduit\",\"jouduitte\",\"joudumme\",\"joudun\",\"joudutte\",\"joukkoon\",\"joukossa\",\"joukosta\",\"joutua\",\"joutui\",\"joutuivat\",\"joutumaan\",\"joutuu\",\"joutuvat\",\"juuri\",\"jälkeen\",\"jälleen\",\"jää\",\"kahdeksan\",\"kahdeksannen\",\"kahdella\",\"kahdelle\",\"kahdelta\",\"kahden\",\"kahdessa\",\"kahdesta\",\"kahta\",\"kahteen\",\"kai\",\"kaiken\",\"kaikille\",\"kaikilta\",\"kaikkea\",\"kaikki\",\"kaikkia\",\"kaikkiaan\",\"kaikkialla\",\"kaikkialle\",\"kaikkialta\",\"kaikkien\",\"kaikkin\",\"kaksi\",\"kannalta\",\"kannattaa\",\"kanssa\",\"kanssaan\",\"kanssamme\",\"kanssani\",\"kanssanne\",\"kanssasi\",\"kauan\",\"kauemmas\",\"kaukana\",\"kautta\",\"kehen\",\"keiden\",\"keihin\",\"keiksi\",\"keille\",\"keillä\",\"keiltä\",\"keinä\",\"keissä\",\"keistä\",\"keitten\",\"keittä\",\"keitä\",\"keneen\",\"keneksi\",\"kenelle\",\"kenellä\",\"keneltä\",\"kenen\",\"kenenä\",\"kenessä\",\"kenestä\",\"kenet\",\"kenettä\",\"kennessästä\",\"kenties\",\"kerran\",\"kerta\",\"kertaa\",\"keskellä\",\"kesken\",\"keskimäärin\",\"ketkä\",\"ketä\",\"kiitos\",\"kohti\",\"koko\",\"kokonaan\",\"kolmas\",\"kolme\",\"kolmen\",\"kolmesti\",\"koska\",\"koskaan\",\"kovin\",\"kuin\",\"kuinka\",\"kuinkan\",\"kuitenkaan\",\"kuitenkin\",\"kuka\",\"kukaan\",\"kukin\",\"kukka\",\"kumpainen\",\"kumpainenkaan\",\"kumpi\",\"kumpikaan\",\"kumpikin\",\"kun\",\"kuten\",\"kuuden\",\"kuusi\",\"kuutta\",\"kylliksi\",\"kyllä\",\"kymmenen\",\"kyse\",\"liian\",\"liki\",\"lisäksi\",\"lisää\",\"lla\",\"luo\",\"luona\",\"lähekkäin\",\"lähelle\",\"lähellä\",\"läheltä\",\"lähemmäs\",\"lähes\",\"lähinnä\",\"lähtien\",\"läpi\",\"mahdollisimman\",\"mahdollista\",\"me\",\"meidän\",\"meille\",\"meillä\",\"melkein\",\"melko\",\"menee\",\"meneet\",\"menemme\",\"menen\",\"menet\",\"menette\",\"menevät\",\"meni\",\"menimme\",\"menin\",\"menit\",\"menivät\",\"mennessä\",\"mennyt\",\"menossa\",\"mihin\",\"mikin\",\"miksi\",\"mikä\",\"mikäli\",\"mikään\",\"milloin\",\"milloinkan\",\"minne\",\"minun\",\"minut\",\"minä\",\"missä\",\"mistä\",\"miten\",\"mitä\",\"mitään\",\"moi\",\"molemmat\",\"mones\",\"monesti\",\"monet\",\"moni\",\"moniaalla\",\"moniaalle\",\"moniaalta\",\"monta\",\"muassa\",\"muiden\",\"muita\",\"muka\",\"mukaan\",\"mukaansa\",\"mukana\",\"mutta\",\"muu\",\"muualla\",\"muualle\",\"muualta\",\"muuanne\",\"muulloin\",\"muun\",\"muut\",\"muuta\",\"muutama\",\"muutaman\",\"muuten\",\"myöhemmin\",\"myös\",\"myöskin\",\"myöskään\",\"myötä\",\"ne\",\"neljä\",\"neljän\",\"neljää\",\"niiden\",\"niin\",\"niistä\",\"niitä\",\"noin\",\"nopeammin\",\"nopeasti\",\"nopeiten\",\"nro\",\"nuo\",\"nyt\",\"näiden\",\"näin\",\"näissä\",\"näissähin\",\"näissälle\",\"näissältä\",\"näissästä\",\"näitä\",\"nämä\",\"ohi\",\"oikea\",\"oikealla\",\"oikein\",\"ole\",\"olemme\",\"olen\",\"olet\",\"olette\",\"oleva\",\"olevan\",\"olevat\",\"oli\",\"olimme\",\"olin\",\"olisi\",\"olisimme\",\"olisin\",\"olisit\",\"olisitte\",\"olisivat\",\"olit\",\"olitte\",\"olivat\",\"olla\",\"olleet\",\"olli\",\"ollut\",\"oma\",\"omaa\",\"omaan\",\"omaksi\",\"omalle\",\"omalta\",\"oman\",\"omassa\",\"omat\",\"omia\",\"omien\",\"omiin\",\"omiksi\",\"omille\",\"omilta\",\"omissa\",\"omista\",\"on\",\"onkin\",\"onko\",\"ovat\",\"paikoittain\",\"paitsi\",\"pakosti\",\"paljon\",\"paremmin\",\"parempi\",\"parhaillaan\",\"parhaiten\",\"perusteella\",\"peräti\",\"pian\",\"pieneen\",\"pieneksi\",\"pienelle\",\"pienellä\",\"pieneltä\",\"pienempi\",\"pienestä\",\"pieni\",\"pienin\",\"puolesta\",\"puolestaan\",\"päälle\",\"runsaasti\",\"saakka\",\"sadam\",\"sama\",\"samaa\",\"samaan\",\"samalla\",\"samallalta\",\"samallassa\",\"samallasta\",\"saman\",\"samat\",\"samoin\",\"sata\",\"sataa\",\"satojen\",\"se\",\"seitsemän\",\"sekä\",\"sen\",\"seuraavat\",\"siellä\",\"sieltä\",\"siihen\",\"siinä\",\"siis\",\"siitä\",\"sijaan\",\"siksi\",\"silloin\",\"sillä\",\"silti\",\"sinne\",\"sinua\",\"sinulle\",\"sinulta\",\"sinun\",\"sinussa\",\"sinusta\",\"sinut\",\"sinä\",\"sisäkkäin\",\"sisällä\",\"siten\",\"sitten\",\"sitä\",\"ssa\",\"sta\",\"suoraan\",\"suuntaan\",\"suuren\",\"suuret\",\"suuri\",\"suuria\",\"suurin\",\"suurten\",\"taa\",\"taas\",\"taemmas\",\"tahansa\",\"tai\",\"takaa\",\"takaisin\",\"takana\",\"takia\",\"tapauksessa\",\"tarpeeksi\",\"tavalla\",\"tavoitteena\",\"te\",\"tietysti\",\"todella\",\"toinen\",\"toisaalla\",\"toisaalle\",\"toisaalta\",\"toiseen\",\"toiseksi\",\"toisella\",\"toiselle\",\"toiselta\",\"toisemme\",\"toisen\",\"toisensa\",\"toisessa\",\"toisesta\",\"toista\",\"toistaiseksi\",\"toki\",\"tosin\",\"tuhannen\",\"tuhat\",\"tule\",\"tulee\",\"tulemme\",\"tulen\",\"tulet\",\"tulette\",\"tulevat\",\"tulimme\",\"tulin\",\"tulisi\",\"tulisimme\",\"tulisin\",\"tulisit\",\"tulisitte\",\"tulisivat\",\"tulit\",\"tulitte\",\"tulivat\",\"tulla\",\"tulleet\",\"tullut\",\"tuntuu\",\"tuo\",\"tuolla\",\"tuolloin\",\"tuolta\",\"tuonne\",\"tuskin\",\"tykö\",\"tähän\",\"tällä\",\"tällöin\",\"tämä\",\"tämän\",\"tänne\",\"tänä\",\"tänään\",\"tässä\",\"tästä\",\"täten\",\"tätä\",\"täysin\",\"täytyvät\",\"täytyy\",\"täällä\",\"täältä\",\"ulkopuolella\",\"usea\",\"useasti\",\"useimmiten\",\"usein\",\"useita\",\"uudeksi\",\"uudelleen\",\"uuden\",\"uudet\",\"uusi\",\"uusia\",\"uusien\",\"uusinta\",\"uuteen\",\"uutta\",\"vaan\",\"vahemmän\",\"vai\",\"vaiheessa\",\"vaikea\",\"vaikean\",\"vaikeat\",\"vaikeilla\",\"vaikeille\",\"vaikeilta\",\"vaikeissa\",\"vaikeista\",\"vaikka\",\"vain\",\"varmasti\",\"varsin\",\"varsinkin\",\"varten\",\"vasen\",\"vasenmalla\",\"vasta\",\"vastaan\",\"vastakkain\",\"vastan\",\"verran\",\"vielä\",\"vierekkäin\",\"vieressä\",\"vieri\",\"viiden\",\"viime\",\"viimeinen\",\"viimeisen\",\"viimeksi\",\"viisi\",\"voi\",\"voidaan\",\"voimme\",\"voin\",\"voisi\",\"voit\",\"voitte\",\"voivat\",\"vuoden\",\"vuoksi\",\"vuosi\",\"vuosien\",\"vuosina\",\"vuotta\",\"vähemmän\",\"vähintään\",\"vähiten\",\"vähän\",\"välillä\",\"yhdeksän\",\"yhden\",\"yhdessä\",\"yhteen\",\"yhteensä\",\"yhteydessä\",\"yhteyteen\",\"yhtä\",\"yhtäälle\",\"yhtäällä\",\"yhtäältä\",\"yhtään\",\"yhä\",\"yksi\",\"yksin\",\"yksittäin\",\"yleensä\",\"ylemmäs\",\"yli\",\"ylös\",\"ympäri\",\"älköön\",\"älä\"],\"fr\":[\"a\",\"abord\",\"absolument\",\"afin\",\"ah\",\"ai\",\"aie\",\"ailleurs\",\"ainsi\",\"ait\",\"allaient\",\"allo\",\"allons\",\"allô\",\"alors\",\"anterieur\",\"anterieure\",\"anterieures\",\"apres\",\"après\",\"as\",\"assez\",\"attendu\",\"au\",\"aucun\",\"aucune\",\"aujourd\",\"aujourd'hui\",\"aupres\",\"auquel\",\"aura\",\"auraient\",\"aurait\",\"auront\",\"aussi\",\"autre\",\"autrefois\",\"autrement\",\"autres\",\"autrui\",\"aux\",\"auxquelles\",\"auxquels\",\"avaient\",\"avais\",\"avait\",\"avant\",\"avec\",\"avoir\",\"avons\",\"ayant\",\"b\",\"bah\",\"bas\",\"basee\",\"bat\",\"beau\",\"beaucoup\",\"bien\",\"bigre\",\"boum\",\"bravo\",\"brrr\",\"c\",\"car\",\"ce\",\"ceci\",\"cela\",\"celle\",\"celle-ci\",\"celle-là\",\"celles\",\"celles-ci\",\"celles-là\",\"celui\",\"celui-ci\",\"celui-là\",\"cent\",\"cependant\",\"certain\",\"certaine\",\"certaines\",\"certains\",\"certes\",\"ces\",\"cet\",\"cette\",\"ceux\",\"ceux-ci\",\"ceux-là\",\"chacun\",\"chacune\",\"chaque\",\"cher\",\"chers\",\"chez\",\"chiche\",\"chut\",\"chère\",\"chères\",\"ci\",\"cinq\",\"cinquantaine\",\"cinquante\",\"cinquantième\",\"cinquième\",\"clac\",\"clic\",\"combien\",\"comme\",\"comment\",\"comparable\",\"comparables\",\"compris\",\"concernant\",\"contre\",\"couic\",\"crac\",\"d\",\"da\",\"dans\",\"de\",\"debout\",\"dedans\",\"dehors\",\"deja\",\"delà\",\"depuis\",\"dernier\",\"derniere\",\"derriere\",\"derrière\",\"des\",\"desormais\",\"desquelles\",\"desquels\",\"dessous\",\"dessus\",\"deux\",\"deuxième\",\"deuxièmement\",\"devant\",\"devers\",\"devra\",\"different\",\"differentes\",\"differents\",\"différent\",\"différente\",\"différentes\",\"différents\",\"dire\",\"directe\",\"directement\",\"dit\",\"dite\",\"dits\",\"divers\",\"diverse\",\"diverses\",\"dix\",\"dix-huit\",\"dix-neuf\",\"dix-sept\",\"dixième\",\"doit\",\"doivent\",\"donc\",\"dont\",\"douze\",\"douzième\",\"dring\",\"du\",\"duquel\",\"durant\",\"dès\",\"désormais\",\"e\",\"effet\",\"egale\",\"egalement\",\"egales\",\"eh\",\"elle\",\"elle-même\",\"elles\",\"elles-mêmes\",\"en\",\"encore\",\"enfin\",\"entre\",\"envers\",\"environ\",\"es\",\"est\",\"et\",\"etant\",\"etc\",\"etre\",\"eu\",\"euh\",\"eux\",\"eux-mêmes\",\"exactement\",\"excepté\",\"extenso\",\"exterieur\",\"f\",\"fais\",\"faisaient\",\"faisant\",\"fait\",\"façon\",\"feront\",\"fi\",\"flac\",\"floc\",\"font\",\"g\",\"gens\",\"h\",\"ha\",\"hein\",\"hem\",\"hep\",\"hi\",\"ho\",\"holà\",\"hop\",\"hormis\",\"hors\",\"hou\",\"houp\",\"hue\",\"hui\",\"huit\",\"huitième\",\"hum\",\"hurrah\",\"hé\",\"hélas\",\"i\",\"il\",\"ils\",\"importe\",\"j\",\"je\",\"jusqu\",\"jusque\",\"juste\",\"k\",\"l\",\"la\",\"laisser\",\"laquelle\",\"las\",\"le\",\"lequel\",\"les\",\"lesquelles\",\"lesquels\",\"leur\",\"leurs\",\"longtemps\",\"lors\",\"lorsque\",\"lui\",\"lui-meme\",\"lui-même\",\"là\",\"lès\",\"m\",\"ma\",\"maint\",\"maintenant\",\"mais\",\"malgre\",\"malgré\",\"maximale\",\"me\",\"meme\",\"memes\",\"merci\",\"mes\",\"mien\",\"mienne\",\"miennes\",\"miens\",\"mille\",\"mince\",\"minimale\",\"moi\",\"moi-meme\",\"moi-même\",\"moindres\",\"moins\",\"mon\",\"moyennant\",\"multiple\",\"multiples\",\"même\",\"mêmes\",\"n\",\"na\",\"naturel\",\"naturelle\",\"naturelles\",\"ne\",\"neanmoins\",\"necessaire\",\"necessairement\",\"neuf\",\"neuvième\",\"ni\",\"nombreuses\",\"nombreux\",\"non\",\"nos\",\"notamment\",\"notre\",\"nous\",\"nous-mêmes\",\"nouveau\",\"nul\",\"néanmoins\",\"nôtre\",\"nôtres\",\"o\",\"oh\",\"ohé\",\"ollé\",\"olé\",\"on\",\"ont\",\"onze\",\"onzième\",\"ore\",\"ou\",\"ouf\",\"ouias\",\"oust\",\"ouste\",\"outre\",\"ouvert\",\"ouverte\",\"ouverts\",\"o|\",\"où\",\"p\",\"paf\",\"pan\",\"par\",\"parce\",\"parfois\",\"parle\",\"parlent\",\"parler\",\"parmi\",\"parseme\",\"partant\",\"particulier\",\"particulière\",\"particulièrement\",\"pas\",\"passé\",\"pendant\",\"pense\",\"permet\",\"personne\",\"peu\",\"peut\",\"peuvent\",\"peux\",\"pff\",\"pfft\",\"pfut\",\"pif\",\"pire\",\"plein\",\"plouf\",\"plus\",\"plusieurs\",\"plutôt\",\"possessif\",\"possessifs\",\"possible\",\"possibles\",\"pouah\",\"pour\",\"pourquoi\",\"pourrais\",\"pourrait\",\"pouvait\",\"prealable\",\"precisement\",\"premier\",\"première\",\"premièrement\",\"pres\",\"probable\",\"probante\",\"procedant\",\"proche\",\"près\",\"psitt\",\"pu\",\"puis\",\"puisque\",\"pur\",\"pure\",\"q\",\"qu\",\"quand\",\"quant\",\"quant-à-soi\",\"quanta\",\"quarante\",\"quatorze\",\"quatre\",\"quatre-vingt\",\"quatrième\",\"quatrièmement\",\"que\",\"quel\",\"quelconque\",\"quelle\",\"quelles\",\"quelqu'un\",\"quelque\",\"quelques\",\"quels\",\"qui\",\"quiconque\",\"quinze\",\"quoi\",\"quoique\",\"r\",\"rare\",\"rarement\",\"rares\",\"relative\",\"relativement\",\"remarquable\",\"rend\",\"rendre\",\"restant\",\"reste\",\"restent\",\"restrictif\",\"retour\",\"revoici\",\"revoilà\",\"rien\",\"s\",\"sa\",\"sacrebleu\",\"sait\",\"sans\",\"sapristi\",\"sauf\",\"se\",\"sein\",\"seize\",\"selon\",\"semblable\",\"semblaient\",\"semble\",\"semblent\",\"sent\",\"sept\",\"septième\",\"sera\",\"seraient\",\"serait\",\"seront\",\"ses\",\"seul\",\"seule\",\"seulement\",\"si\",\"sien\",\"sienne\",\"siennes\",\"siens\",\"sinon\",\"six\",\"sixième\",\"soi\",\"soi-même\",\"soit\",\"soixante\",\"son\",\"sont\",\"sous\",\"souvent\",\"specifique\",\"specifiques\",\"speculatif\",\"stop\",\"strictement\",\"subtiles\",\"suffisant\",\"suffisante\",\"suffit\",\"suis\",\"suit\",\"suivant\",\"suivante\",\"suivantes\",\"suivants\",\"suivre\",\"superpose\",\"sur\",\"surtout\",\"t\",\"ta\",\"tac\",\"tant\",\"tardive\",\"te\",\"tel\",\"telle\",\"tellement\",\"telles\",\"tels\",\"tenant\",\"tend\",\"tenir\",\"tente\",\"tes\",\"tic\",\"tien\",\"tienne\",\"tiennes\",\"tiens\",\"toc\",\"toi\",\"toi-même\",\"ton\",\"touchant\",\"toujours\",\"tous\",\"tout\",\"toute\",\"toutefois\",\"toutes\",\"treize\",\"trente\",\"tres\",\"trois\",\"troisième\",\"troisièmement\",\"trop\",\"très\",\"tsoin\",\"tsouin\",\"tu\",\"té\",\"u\",\"un\",\"une\",\"unes\",\"uniformement\",\"unique\",\"uniques\",\"uns\",\"v\",\"va\",\"vais\",\"vas\",\"vers\",\"via\",\"vif\",\"vifs\",\"vingt\",\"vivat\",\"vive\",\"vives\",\"vlan\",\"voici\",\"voilà\",\"vont\",\"vos\",\"votre\",\"vous\",\"vous-mêmes\",\"vu\",\"vé\",\"vôtre\",\"vôtres\",\"w\",\"x\",\"y\",\"z\",\"zut\",\"à\",\"â\",\"ça\",\"ès\",\"étaient\",\"étais\",\"était\",\"étant\",\"été\",\"être\",\"ô\"],\"hr\":[\"a\",\"ako\",\"ali\",\"bi\",\"bih\",\"bila\",\"bili\",\"bilo\",\"bio\",\"bismo\",\"biste\",\"biti\",\"bumo\",\"da\",\"do\",\"duž\",\"ga\",\"hoće\",\"hoćemo\",\"hoćete\",\"hoćeš\",\"hoću\",\"i\",\"iako\",\"ih\",\"ili\",\"iz\",\"ja\",\"je\",\"jedna\",\"jedne\",\"jedno\",\"jer\",\"jesam\",\"jesi\",\"jesmo\",\"jest\",\"jeste\",\"jesu\",\"jim\",\"joj\",\"još\",\"ju\",\"kada\",\"kako\",\"kao\",\"koja\",\"koje\",\"koji\",\"kojima\",\"koju\",\"kroz\",\"li\",\"me\",\"mene\",\"meni\",\"mi\",\"mimo\",\"moj\",\"moja\",\"moje\",\"mu\",\"na\",\"nad\",\"nakon\",\"nam\",\"nama\",\"nas\",\"naš\",\"naša\",\"naše\",\"našeg\",\"ne\",\"nego\",\"neka\",\"neki\",\"nekog\",\"neku\",\"nema\",\"netko\",\"neće\",\"nećemo\",\"nećete\",\"nećeš\",\"neću\",\"nešto\",\"ni\",\"nije\",\"nikoga\",\"nikoje\",\"nikoju\",\"nisam\",\"nisi\",\"nismo\",\"niste\",\"nisu\",\"njega\",\"njegov\",\"njegova\",\"njegovo\",\"njemu\",\"njezin\",\"njezina\",\"njezino\",\"njih\",\"njihov\",\"njihova\",\"njihovo\",\"njim\",\"njima\",\"njoj\",\"nju\",\"no\",\"o\",\"od\",\"odmah\",\"on\",\"ona\",\"oni\",\"ono\",\"ova\",\"pa\",\"pak\",\"po\",\"pod\",\"pored\",\"prije\",\"s\",\"sa\",\"sam\",\"samo\",\"se\",\"sebe\",\"sebi\",\"si\",\"smo\",\"ste\",\"su\",\"sve\",\"svi\",\"svog\",\"svoj\",\"svoja\",\"svoje\",\"svom\",\"ta\",\"tada\",\"taj\",\"tako\",\"te\",\"tebe\",\"tebi\",\"ti\",\"to\",\"toj\",\"tome\",\"tu\",\"tvoj\",\"tvoja\",\"tvoje\",\"u\",\"uz\",\"vam\",\"vama\",\"vas\",\"vaš\",\"vaša\",\"vaše\",\"već\",\"vi\",\"vrlo\",\"za\",\"zar\",\"će\",\"ćemo\",\"ćete\",\"ćeš\",\"ću\",\"što\"],\"hu\":[\"a\",\"abba\",\"abban\",\"abból\",\"addig\",\"ahhoz\",\"ahogy\",\"ahol\",\"aki\",\"akik\",\"akkor\",\"akár\",\"alapján\",\"alatt\",\"alatta\",\"alattad\",\"alattam\",\"alattatok\",\"alattuk\",\"alattunk\",\"alá\",\"alád\",\"alájuk\",\"alám\",\"alánk\",\"alátok\",\"alól\",\"alóla\",\"alólad\",\"alólam\",\"alólatok\",\"alóluk\",\"alólunk\",\"amely\",\"amelybol\",\"amelyek\",\"amelyekben\",\"amelyeket\",\"amelyet\",\"amelyik\",\"amelynek\",\"ami\",\"amikor\",\"amit\",\"amolyan\",\"amott\",\"amíg\",\"annak\",\"annál\",\"arra\",\"arról\",\"attól\",\"az\",\"aznap\",\"azok\",\"azokat\",\"azokba\",\"azokban\",\"azokból\",\"azokhoz\",\"azokig\",\"azokkal\",\"azokká\",\"azoknak\",\"azoknál\",\"azokon\",\"azokra\",\"azokról\",\"azoktól\",\"azokért\",\"azon\",\"azonban\",\"azonnal\",\"azt\",\"aztán\",\"azután\",\"azzal\",\"azzá\",\"azért\",\"bal\",\"balra\",\"ban\",\"be\",\"belé\",\"beléd\",\"beléjük\",\"belém\",\"belénk\",\"belétek\",\"belül\",\"belőle\",\"belőled\",\"belőlem\",\"belőletek\",\"belőlük\",\"belőlünk\",\"ben\",\"benne\",\"benned\",\"bennem\",\"bennetek\",\"bennük\",\"bennünk\",\"bár\",\"bárcsak\",\"bármilyen\",\"búcsú\",\"cikk\",\"cikkek\",\"cikkeket\",\"csak\",\"csakhogy\",\"csupán\",\"de\",\"dehogy\",\"e\",\"ebbe\",\"ebben\",\"ebből\",\"eddig\",\"egy\",\"egyebek\",\"egyebet\",\"egyedül\",\"egyelőre\",\"egyes\",\"egyet\",\"egyetlen\",\"egyik\",\"egymás\",\"egyre\",\"egyszerre\",\"egyéb\",\"együtt\",\"egész\",\"egészen\",\"ehhez\",\"ekkor\",\"el\",\"eleinte\",\"ellen\",\"ellenes\",\"elleni\",\"ellenére\",\"elmondta\",\"első\",\"elsők\",\"elsősorban\",\"elsőt\",\"elé\",\"eléd\",\"elég\",\"eléjük\",\"elém\",\"elénk\",\"elétek\",\"elő\",\"előbb\",\"elől\",\"előle\",\"előled\",\"előlem\",\"előletek\",\"előlük\",\"előlünk\",\"először\",\"előtt\",\"előtte\",\"előtted\",\"előttem\",\"előttetek\",\"előttük\",\"előttünk\",\"előző\",\"emilyen\",\"engem\",\"ennek\",\"ennyi\",\"ennél\",\"enyém\",\"erre\",\"erről\",\"esetben\",\"ettől\",\"ez\",\"ezek\",\"ezekbe\",\"ezekben\",\"ezekből\",\"ezeken\",\"ezeket\",\"ezekhez\",\"ezekig\",\"ezekkel\",\"ezekké\",\"ezeknek\",\"ezeknél\",\"ezekre\",\"ezekről\",\"ezektől\",\"ezekért\",\"ezen\",\"ezentúl\",\"ezer\",\"ezret\",\"ezt\",\"ezután\",\"ezzel\",\"ezzé\",\"ezért\",\"fel\",\"fele\",\"felek\",\"felet\",\"felett\",\"felé\",\"fent\",\"fenti\",\"fél\",\"fölé\",\"gyakran\",\"ha\",\"halló\",\"hamar\",\"hanem\",\"harmadik\",\"harmadikat\",\"harminc\",\"hat\",\"hatodik\",\"hatodikat\",\"hatot\",\"hatvan\",\"helyett\",\"hetedik\",\"hetediket\",\"hetet\",\"hetven\",\"hirtelen\",\"hiszen\",\"hiába\",\"hogy\",\"hogyan\",\"hol\",\"holnap\",\"holnapot\",\"honnan\",\"hova\",\"hozzá\",\"hozzád\",\"hozzájuk\",\"hozzám\",\"hozzánk\",\"hozzátok\",\"hurrá\",\"huszadik\",\"hány\",\"hányszor\",\"hármat\",\"három\",\"hát\",\"hátha\",\"hátulsó\",\"hét\",\"húsz\",\"ide\",\"ide-оda\",\"idén\",\"igazán\",\"igen\",\"ill\",\"illetve\",\"ilyen\",\"ilyenkor\",\"immár\",\"inkább\",\"is\",\"ismét\",\"ison\",\"itt\",\"jelenleg\",\"jobban\",\"jobbra\",\"jó\",\"jól\",\"jólesik\",\"jóval\",\"jövőre\",\"kell\",\"kellene\",\"kellett\",\"kelljen\",\"keressünk\",\"keresztül\",\"ketten\",\"kettő\",\"kettőt\",\"kevés\",\"ki\",\"kiben\",\"kiből\",\"kicsit\",\"kicsoda\",\"kihez\",\"kik\",\"kikbe\",\"kikben\",\"kikből\",\"kiken\",\"kiket\",\"kikhez\",\"kikkel\",\"kikké\",\"kiknek\",\"kiknél\",\"kikre\",\"kikről\",\"kiktől\",\"kikért\",\"kilenc\",\"kilencedik\",\"kilencediket\",\"kilencet\",\"kilencven\",\"kin\",\"kinek\",\"kinél\",\"kire\",\"kiről\",\"kit\",\"kitől\",\"kivel\",\"kivé\",\"kié\",\"kiért\",\"korábban\",\"képest\",\"kérem\",\"kérlek\",\"kész\",\"késő\",\"később\",\"későn\",\"két\",\"kétszer\",\"kívül\",\"körül\",\"köszönhetően\",\"köszönöm\",\"közben\",\"közel\",\"közepesen\",\"közepén\",\"közé\",\"között\",\"közül\",\"külön\",\"különben\",\"különböző\",\"különbözőbb\",\"különbözőek\",\"lassan\",\"le\",\"legalább\",\"legyen\",\"lehet\",\"lehetetlen\",\"lehetett\",\"lehetőleg\",\"lehetőség\",\"lenne\",\"lenni\",\"lennék\",\"lennének\",\"lesz\",\"leszek\",\"lesznek\",\"leszünk\",\"lett\",\"lettek\",\"lettem\",\"lettünk\",\"lévő\",\"ma\",\"maga\",\"magad\",\"magam\",\"magatokat\",\"magukat\",\"magunkat\",\"magát\",\"mai\",\"majd\",\"majdnem\",\"manapság\",\"meg\",\"megcsinál\",\"megcsinálnak\",\"megint\",\"megvan\",\"mellett\",\"mellette\",\"melletted\",\"mellettem\",\"mellettetek\",\"mellettük\",\"mellettünk\",\"mellé\",\"melléd\",\"melléjük\",\"mellém\",\"mellénk\",\"mellétek\",\"mellől\",\"mellőle\",\"mellőled\",\"mellőlem\",\"mellőletek\",\"mellőlük\",\"mellőlünk\",\"mely\",\"melyek\",\"melyik\",\"mennyi\",\"mert\",\"mi\",\"miatt\",\"miatta\",\"miattad\",\"miattam\",\"miattatok\",\"miattuk\",\"miattunk\",\"mibe\",\"miben\",\"miből\",\"mihez\",\"mik\",\"mikbe\",\"mikben\",\"mikből\",\"miken\",\"miket\",\"mikhez\",\"mikkel\",\"mikké\",\"miknek\",\"miknél\",\"mikor\",\"mikre\",\"mikről\",\"miktől\",\"mikért\",\"milyen\",\"min\",\"mind\",\"mindegyik\",\"mindegyiket\",\"minden\",\"mindenesetre\",\"mindenki\",\"mindent\",\"mindenütt\",\"mindig\",\"mindketten\",\"minek\",\"minket\",\"mint\",\"mintha\",\"minél\",\"mire\",\"miről\",\"mit\",\"mitől\",\"mivel\",\"mivé\",\"miért\",\"mondta\",\"most\",\"mostanáig\",\"már\",\"más\",\"másik\",\"másikat\",\"másnap\",\"második\",\"másodszor\",\"mások\",\"másokat\",\"mást\",\"még\",\"mégis\",\"míg\",\"mögé\",\"mögéd\",\"mögéjük\",\"mögém\",\"mögénk\",\"mögétek\",\"mögött\",\"mögötte\",\"mögötted\",\"mögöttem\",\"mögöttetek\",\"mögöttük\",\"mögöttünk\",\"mögül\",\"mögüle\",\"mögüled\",\"mögülem\",\"mögületek\",\"mögülük\",\"mögülünk\",\"múltkor\",\"múlva\",\"na\",\"nagy\",\"nagyobb\",\"nagyon\",\"naponta\",\"napot\",\"ne\",\"negyedik\",\"negyediket\",\"negyven\",\"neked\",\"nekem\",\"neki\",\"nekik\",\"nektek\",\"nekünk\",\"nem\",\"nemcsak\",\"nemrég\",\"nincs\",\"nyolc\",\"nyolcadik\",\"nyolcadikat\",\"nyolcat\",\"nyolcvan\",\"nála\",\"nálad\",\"nálam\",\"nálatok\",\"náluk\",\"nálunk\",\"négy\",\"négyet\",\"néha\",\"néhány\",\"nélkül\",\"o\",\"oda\",\"ok\",\"olyan\",\"onnan\",\"ott\",\"pedig\",\"persze\",\"pár\",\"például\",\"rajta\",\"rajtad\",\"rajtam\",\"rajtatok\",\"rajtuk\",\"rajtunk\",\"rendben\",\"rosszul\",\"rá\",\"rád\",\"rájuk\",\"rám\",\"ránk\",\"rátok\",\"régen\",\"régóta\",\"részére\",\"róla\",\"rólad\",\"rólam\",\"rólatok\",\"róluk\",\"rólunk\",\"rögtön\",\"s\",\"saját\",\"se\",\"sem\",\"semmi\",\"semmilyen\",\"semmiség\",\"senki\",\"soha\",\"sok\",\"sokan\",\"sokat\",\"sokkal\",\"sokszor\",\"sokáig\",\"során\",\"stb.\",\"szemben\",\"szerbusz\",\"szerint\",\"szerinte\",\"szerinted\",\"szerintem\",\"szerintetek\",\"szerintük\",\"szerintünk\",\"szervusz\",\"szinte\",\"számára\",\"száz\",\"századik\",\"százat\",\"szépen\",\"szét\",\"szíves\",\"szívesen\",\"szíveskedjék\",\"sőt\",\"talán\",\"tavaly\",\"te\",\"tegnap\",\"tegnapelőtt\",\"tehát\",\"tele\",\"teljes\",\"tessék\",\"ti\",\"tied\",\"titeket\",\"tizedik\",\"tizediket\",\"tizenegy\",\"tizenegyedik\",\"tizenhat\",\"tizenhárom\",\"tizenhét\",\"tizenkettedik\",\"tizenkettő\",\"tizenkilenc\",\"tizenkét\",\"tizennyolc\",\"tizennégy\",\"tizenöt\",\"tizet\",\"tovább\",\"további\",\"továbbá\",\"távol\",\"téged\",\"tényleg\",\"tíz\",\"több\",\"többi\",\"többször\",\"túl\",\"tőle\",\"tőled\",\"tőlem\",\"tőletek\",\"tőlük\",\"tőlünk\",\"ugyanakkor\",\"ugyanez\",\"ugyanis\",\"ugye\",\"urak\",\"uram\",\"urat\",\"utoljára\",\"utolsó\",\"után\",\"utána\",\"vagy\",\"vagyis\",\"vagyok\",\"vagytok\",\"vagyunk\",\"vajon\",\"valahol\",\"valaki\",\"valakit\",\"valamelyik\",\"valami\",\"valamint\",\"való\",\"van\",\"vannak\",\"vele\",\"veled\",\"velem\",\"veletek\",\"velük\",\"velünk\",\"vissza\",\"viszlát\",\"viszont\",\"viszontlátásra\",\"volna\",\"volnának\",\"volnék\",\"volt\",\"voltak\",\"voltam\",\"voltunk\",\"végre\",\"végén\",\"végül\",\"által\",\"általában\",\"ám\",\"át\",\"éljen\",\"én\",\"éppen\",\"érte\",\"érted\",\"értem\",\"értetek\",\"értük\",\"értünk\",\"és\",\"év\",\"évben\",\"éve\",\"évek\",\"éves\",\"évi\",\"évvel\",\"így\",\"óta\",\"ön\",\"önbe\",\"önben\",\"önből\",\"önhöz\",\"önnek\",\"önnel\",\"önnél\",\"önre\",\"önről\",\"önt\",\"öntől\",\"önért\",\"önök\",\"önökbe\",\"önökben\",\"önökből\",\"önöket\",\"önökhöz\",\"önökkel\",\"önöknek\",\"önöknél\",\"önökre\",\"önökről\",\"önöktől\",\"önökért\",\"önökön\",\"önön\",\"össze\",\"öt\",\"ötven\",\"ötödik\",\"ötödiket\",\"ötöt\",\"úgy\",\"úgyis\",\"úgynevezett\",\"új\",\"újabb\",\"újra\",\"úr\",\"ő\",\"ők\",\"őket\",\"őt\"],\"it\":[\"IE\",\"a\",\"abbastanza\",\"abbia\",\"abbiamo\",\"abbiano\",\"abbiate\",\"accidenti\",\"ad\",\"adesso\",\"affinche\",\"agl\",\"agli\",\"ahime\",\"ahimè\",\"ai\",\"al\",\"alcuna\",\"alcuni\",\"alcuno\",\"all\",\"alla\",\"alle\",\"allo\",\"allora\",\"altri\",\"altrimenti\",\"altro\",\"altrove\",\"altrui\",\"anche\",\"ancora\",\"anni\",\"anno\",\"ansa\",\"anticipo\",\"assai\",\"attesa\",\"attraverso\",\"avanti\",\"avemmo\",\"avendo\",\"avente\",\"aver\",\"avere\",\"averlo\",\"avesse\",\"avessero\",\"avessi\",\"avessimo\",\"aveste\",\"avesti\",\"avete\",\"aveva\",\"avevamo\",\"avevano\",\"avevate\",\"avevi\",\"avevo\",\"avrai\",\"avranno\",\"avrebbe\",\"avrebbero\",\"avrei\",\"avremmo\",\"avremo\",\"avreste\",\"avresti\",\"avrete\",\"avrà\",\"avrò\",\"avuta\",\"avute\",\"avuti\",\"avuto\",\"basta\",\"bene\",\"benissimo\",\"berlusconi\",\"brava\",\"bravo\",\"c\",\"casa\",\"caso\",\"cento\",\"certa\",\"certe\",\"certi\",\"certo\",\"che\",\"chi\",\"chicchessia\",\"chiunque\",\"ci\",\"ciascuna\",\"ciascuno\",\"cima\",\"cio\",\"cioe\",\"cioè\",\"circa\",\"citta\",\"città\",\"ciò\",\"co\",\"codesta\",\"codesti\",\"codesto\",\"cogli\",\"coi\",\"col\",\"colei\",\"coll\",\"coloro\",\"colui\",\"come\",\"cominci\",\"comunque\",\"con\",\"concernente\",\"conciliarsi\",\"conclusione\",\"consiglio\",\"contro\",\"cortesia\",\"cos\",\"cosa\",\"cosi\",\"così\",\"cui\",\"d\",\"da\",\"dagl\",\"dagli\",\"dai\",\"dal\",\"dall\",\"dalla\",\"dalle\",\"dallo\",\"dappertutto\",\"davanti\",\"degl\",\"degli\",\"dei\",\"del\",\"dell\",\"della\",\"delle\",\"dello\",\"dentro\",\"detto\",\"deve\",\"di\",\"dice\",\"dietro\",\"dire\",\"dirimpetto\",\"diventa\",\"diventare\",\"diventato\",\"dopo\",\"dov\",\"dove\",\"dovra\",\"dovrà\",\"dovunque\",\"due\",\"dunque\",\"durante\",\"e\",\"ebbe\",\"ebbero\",\"ebbi\",\"ecc\",\"ecco\",\"ed\",\"effettivamente\",\"egli\",\"ella\",\"entrambi\",\"eppure\",\"era\",\"erano\",\"eravamo\",\"eravate\",\"eri\",\"ero\",\"esempio\",\"esse\",\"essendo\",\"esser\",\"essere\",\"essi\",\"ex\",\"fa\",\"faccia\",\"facciamo\",\"facciano\",\"facciate\",\"faccio\",\"facemmo\",\"facendo\",\"facesse\",\"facessero\",\"facessi\",\"facessimo\",\"faceste\",\"facesti\",\"faceva\",\"facevamo\",\"facevano\",\"facevate\",\"facevi\",\"facevo\",\"fai\",\"fanno\",\"farai\",\"faranno\",\"fare\",\"farebbe\",\"farebbero\",\"farei\",\"faremmo\",\"faremo\",\"fareste\",\"faresti\",\"farete\",\"farà\",\"farò\",\"fatto\",\"favore\",\"fece\",\"fecero\",\"feci\",\"fin\",\"finalmente\",\"finche\",\"fine\",\"fino\",\"forse\",\"forza\",\"fosse\",\"fossero\",\"fossi\",\"fossimo\",\"foste\",\"fosti\",\"fra\",\"frattempo\",\"fu\",\"fui\",\"fummo\",\"fuori\",\"furono\",\"futuro\",\"generale\",\"gia\",\"giacche\",\"giorni\",\"giorno\",\"già\",\"gli\",\"gliela\",\"gliele\",\"glieli\",\"glielo\",\"gliene\",\"governo\",\"grande\",\"grazie\",\"gruppo\",\"ha\",\"haha\",\"hai\",\"hanno\",\"ho\",\"i\",\"ieri\",\"il\",\"improvviso\",\"in\",\"inc\",\"infatti\",\"inoltre\",\"insieme\",\"intanto\",\"intorno\",\"invece\",\"io\",\"l\",\"la\",\"lasciato\",\"lato\",\"lavoro\",\"le\",\"lei\",\"li\",\"lo\",\"lontano\",\"loro\",\"lui\",\"lungo\",\"luogo\",\"là\",\"ma\",\"macche\",\"magari\",\"maggior\",\"mai\",\"male\",\"malgrado\",\"malissimo\",\"mancanza\",\"marche\",\"me\",\"medesimo\",\"mediante\",\"meglio\",\"meno\",\"mentre\",\"mesi\",\"mezzo\",\"mi\",\"mia\",\"mie\",\"miei\",\"mila\",\"miliardi\",\"milioni\",\"minimi\",\"ministro\",\"mio\",\"modo\",\"molti\",\"moltissimo\",\"molto\",\"momento\",\"mondo\",\"mosto\",\"nazionale\",\"ne\",\"negl\",\"negli\",\"nei\",\"nel\",\"nell\",\"nella\",\"nelle\",\"nello\",\"nemmeno\",\"neppure\",\"nessun\",\"nessuna\",\"nessuno\",\"niente\",\"no\",\"noi\",\"non\",\"nondimeno\",\"nonostante\",\"nonsia\",\"nostra\",\"nostre\",\"nostri\",\"nostro\",\"novanta\",\"nove\",\"nulla\",\"nuovo\",\"o\",\"od\",\"oggi\",\"ogni\",\"ognuna\",\"ognuno\",\"oltre\",\"oppure\",\"ora\",\"ore\",\"osi\",\"ossia\",\"ottanta\",\"otto\",\"paese\",\"parecchi\",\"parecchie\",\"parecchio\",\"parte\",\"partendo\",\"peccato\",\"peggio\",\"per\",\"perche\",\"perchè\",\"perché\",\"percio\",\"perciò\",\"perfino\",\"pero\",\"persino\",\"persone\",\"però\",\"piedi\",\"pieno\",\"piglia\",\"piu\",\"piuttosto\",\"più\",\"po\",\"pochissimo\",\"poco\",\"poi\",\"poiche\",\"possa\",\"possedere\",\"posteriore\",\"posto\",\"potrebbe\",\"preferibilmente\",\"presa\",\"press\",\"prima\",\"primo\",\"principalmente\",\"probabilmente\",\"proprio\",\"puo\",\"pure\",\"purtroppo\",\"può\",\"qualche\",\"qualcosa\",\"qualcuna\",\"qualcuno\",\"quale\",\"quali\",\"qualunque\",\"quando\",\"quanta\",\"quante\",\"quanti\",\"quanto\",\"quantunque\",\"quasi\",\"quattro\",\"quel\",\"quella\",\"quelle\",\"quelli\",\"quello\",\"quest\",\"questa\",\"queste\",\"questi\",\"questo\",\"qui\",\"quindi\",\"realmente\",\"recente\",\"recentemente\",\"registrazione\",\"relativo\",\"riecco\",\"salvo\",\"sara\",\"sarai\",\"saranno\",\"sarebbe\",\"sarebbero\",\"sarei\",\"saremmo\",\"saremo\",\"sareste\",\"saresti\",\"sarete\",\"sarà\",\"sarò\",\"scola\",\"scopo\",\"scorso\",\"se\",\"secondo\",\"seguente\",\"seguito\",\"sei\",\"sembra\",\"sembrare\",\"sembrato\",\"sembri\",\"sempre\",\"senza\",\"sette\",\"si\",\"sia\",\"siamo\",\"siano\",\"siate\",\"siete\",\"sig\",\"solito\",\"solo\",\"soltanto\",\"sono\",\"sopra\",\"sotto\",\"spesso\",\"srl\",\"sta\",\"stai\",\"stando\",\"stanno\",\"starai\",\"staranno\",\"starebbe\",\"starebbero\",\"starei\",\"staremmo\",\"staremo\",\"stareste\",\"staresti\",\"starete\",\"starà\",\"starò\",\"stata\",\"state\",\"stati\",\"stato\",\"stava\",\"stavamo\",\"stavano\",\"stavate\",\"stavi\",\"stavo\",\"stemmo\",\"stessa\",\"stesse\",\"stessero\",\"stessi\",\"stessimo\",\"stesso\",\"steste\",\"stesti\",\"stette\",\"stettero\",\"stetti\",\"stia\",\"stiamo\",\"stiano\",\"stiate\",\"sto\",\"su\",\"sua\",\"subito\",\"successivamente\",\"successivo\",\"sue\",\"sugl\",\"sugli\",\"sui\",\"sul\",\"sull\",\"sulla\",\"sulle\",\"sullo\",\"suo\",\"suoi\",\"tale\",\"tali\",\"talvolta\",\"tanto\",\"te\",\"tempo\",\"ti\",\"titolo\",\"torino\",\"tra\",\"tranne\",\"tre\",\"trenta\",\"troppo\",\"trovato\",\"tu\",\"tua\",\"tue\",\"tuo\",\"tuoi\",\"tutta\",\"tuttavia\",\"tutte\",\"tutti\",\"tutto\",\"uguali\",\"ulteriore\",\"ultimo\",\"un\",\"una\",\"uno\",\"uomo\",\"va\",\"vale\",\"vari\",\"varia\",\"varie\",\"vario\",\"verso\",\"vi\",\"via\",\"vicino\",\"visto\",\"vita\",\"voi\",\"volta\",\"volte\",\"vostra\",\"vostre\",\"vostri\",\"vostro\",\"è\"],\"ko\":[\"!\",\"\\\"\",\"$\",\"%\",\"&\",\"'\",\"(\",\")\",\"*\",\"+\",\",\",\"-\",\".\",\"...\",\"0\",\"1\",\"2\",\"3\",\"4\",\"5\",\"6\",\"7\",\"8\",\"9\",\";\",\"<\",\"=\",\">\",\"?\",\"@\",\"\\\\\",\"^\",\"_\",\"`\",\"|\",\"~\",\"·\",\"—\",\"——\",\"‘\",\"’\",\"“\",\"”\",\"…\",\"、\",\"。\",\"〈\",\"〉\",\"《\",\"》\",\"가\",\"가까스로\",\"가령\",\"각\",\"각각\",\"각자\",\"각종\",\"갖고말하자면\",\"같다\",\"같이\",\"개의치않고\",\"거니와\",\"거바\",\"거의\",\"것\",\"것과 같이\",\"것들\",\"게다가\",\"게우다\",\"겨우\",\"견지에서\",\"결과에 이르다\",\"결국\",\"결론을 낼 수 있다\",\"겸사겸사\",\"고려하면\",\"고로\",\"곧\",\"공동으로\",\"과\",\"과연\",\"관계가 있다\",\"관계없이\",\"관련이 있다\",\"관하여\",\"관한\",\"관해서는\",\"구\",\"구체적으로\",\"구토하다\",\"그\",\"그들\",\"그때\",\"그래\",\"그래도\",\"그래서\",\"그러나\",\"그러니\",\"그러니까\",\"그러면\",\"그러므로\",\"그러한즉\",\"그런 까닭에\",\"그런데\",\"그런즉\",\"그럼\",\"그럼에도 불구하고\",\"그렇게 함으로써\",\"그렇지\",\"그렇지 않다면\",\"그렇지 않으면\",\"그렇지만\",\"그렇지않으면\",\"그리고\",\"그리하여\",\"그만이다\",\"그에 따르는\",\"그위에\",\"그저\",\"그중에서\",\"그치지 않다\",\"근거로\",\"근거하여\",\"기대여\",\"기점으로\",\"기준으로\",\"기타\",\"까닭으로\",\"까악\",\"까지\",\"까지 미치다\",\"까지도\",\"꽈당\",\"끙끙\",\"끼익\",\"나\",\"나머지는\",\"남들\",\"남짓\",\"너\",\"너희\",\"너희들\",\"네\",\"넷\",\"년\",\"논하지 않다\",\"놀라다\",\"누가 알겠는가\",\"누구\",\"다른\",\"다른 방면으로\",\"다만\",\"다섯\",\"다소\",\"다수\",\"다시 말하자면\",\"다시말하면\",\"다음\",\"다음에\",\"다음으로\",\"단지\",\"답다\",\"당신\",\"당장\",\"대로 하다\",\"대하면\",\"대하여\",\"대해 말하자면\",\"대해서\",\"댕그\",\"더구나\",\"더군다나\",\"더라도\",\"더불어\",\"더욱더\",\"더욱이는\",\"도달하다\",\"도착하다\",\"동시에\",\"동안\",\"된바에야\",\"된이상\",\"두번째로\",\"둘\",\"둥둥\",\"뒤따라\",\"뒤이어\",\"든간에\",\"들\",\"등\",\"등등\",\"딩동\",\"따라\",\"따라서\",\"따위\",\"따지지 않다\",\"딱\",\"때\",\"때가 되어\",\"때문에\",\"또\",\"또한\",\"뚝뚝\",\"라 해도\",\"령\",\"로\",\"로 인하여\",\"로부터\",\"로써\",\"륙\",\"를\",\"마음대로\",\"마저\",\"마저도\",\"마치\",\"막론하고\",\"만 못하다\",\"만약\",\"만약에\",\"만은 아니다\",\"만이 아니다\",\"만일\",\"만큼\",\"말하자면\",\"말할것도 없고\",\"매\",\"매번\",\"메쓰겁다\",\"몇\",\"모\",\"모두\",\"무렵\",\"무릎쓰고\",\"무슨\",\"무엇\",\"무엇때문에\",\"물론\",\"및\",\"바꾸어말하면\",\"바꾸어말하자면\",\"바꾸어서 말하면\",\"바꾸어서 한다면\",\"바꿔 말하면\",\"바로\",\"바와같이\",\"밖에 안된다\",\"반대로\",\"반대로 말하자면\",\"반드시\",\"버금\",\"보는데서\",\"보다더\",\"보드득\",\"본대로\",\"봐\",\"봐라\",\"부류의 사람들\",\"부터\",\"불구하고\",\"불문하고\",\"붕붕\",\"비걱거리다\",\"비교적\",\"비길수 없다\",\"비로소\",\"비록\",\"비슷하다\",\"비추어 보아\",\"비하면\",\"뿐만 아니라\",\"뿐만아니라\",\"뿐이다\",\"삐걱\",\"삐걱거리다\",\"사\",\"삼\",\"상대적으로 말하자면\",\"생각한대로\",\"설령\",\"설마\",\"설사\",\"셋\",\"소생\",\"소인\",\"솨\",\"쉿\",\"습니까\",\"습니다\",\"시각\",\"시간\",\"시작하여\",\"시초에\",\"시키다\",\"실로\",\"심지어\",\"아\",\"아니\",\"아니나다를가\",\"아니라면\",\"아니면\",\"아니었다면\",\"아래윗\",\"아무거나\",\"아무도\",\"아야\",\"아울러\",\"아이\",\"아이고\",\"아이구\",\"아이야\",\"아이쿠\",\"아하\",\"아홉\",\"안 그러면\",\"않기 위하여\",\"않기 위해서\",\"알 수 있다\",\"알았어\",\"앗\",\"앞에서\",\"앞의것\",\"야\",\"약간\",\"양자\",\"어\",\"어기여차\",\"어느\",\"어느 년도\",\"어느것\",\"어느곳\",\"어느때\",\"어느쪽\",\"어느해\",\"어디\",\"어때\",\"어떠한\",\"어떤\",\"어떤것\",\"어떤것들\",\"어떻게\",\"어떻해\",\"어이\",\"어째서\",\"어쨋든\",\"어쩔수 없다\",\"어찌\",\"어찌됏든\",\"어찌됏어\",\"어찌하든지\",\"어찌하여\",\"언제\",\"언젠가\",\"얼마\",\"얼마 안 되는 것\",\"얼마간\",\"얼마나\",\"얼마든지\",\"얼마만큼\",\"얼마큼\",\"엉엉\",\"에\",\"에 가서\",\"에 달려 있다\",\"에 대해\",\"에 있다\",\"에 한하다\",\"에게\",\"에서\",\"여\",\"여기\",\"여덟\",\"여러분\",\"여보시오\",\"여부\",\"여섯\",\"여전히\",\"여차\",\"연관되다\",\"연이서\",\"영\",\"영차\",\"옆사람\",\"예\",\"예를 들면\",\"예를 들자면\",\"예컨대\",\"예하면\",\"오\",\"오로지\",\"오르다\",\"오자마자\",\"오직\",\"오호\",\"오히려\",\"와\",\"와 같은 사람들\",\"와르르\",\"와아\",\"왜\",\"왜냐하면\",\"외에도\",\"요만큼\",\"요만한 것\",\"요만한걸\",\"요컨대\",\"우르르\",\"우리\",\"우리들\",\"우선\",\"우에 종합한것과같이\",\"운운\",\"월\",\"위에서 서술한바와같이\",\"위하여\",\"위해서\",\"윙윙\",\"육\",\"으로\",\"으로 인하여\",\"으로서\",\"으로써\",\"을\",\"응\",\"응당\",\"의\",\"의거하여\",\"의지하여\",\"의해\",\"의해되다\",\"의해서\",\"이\",\"이 되다\",\"이 때문에\",\"이 밖에\",\"이 외에\",\"이 정도의\",\"이것\",\"이곳\",\"이때\",\"이라면\",\"이래\",\"이러이러하다\",\"이러한\",\"이런\",\"이럴정도로\",\"이렇게 많은 것\",\"이렇게되면\",\"이렇게말하자면\",\"이렇구나\",\"이로 인하여\",\"이르기까지\",\"이리하여\",\"이만큼\",\"이번\",\"이봐\",\"이상\",\"이어서\",\"이었다\",\"이와 같다\",\"이와 같은\",\"이와 반대로\",\"이와같다면\",\"이외에도\",\"이용하여\",\"이유만으로\",\"이젠\",\"이지만\",\"이쪽\",\"이천구\",\"이천육\",\"이천칠\",\"이천팔\",\"인 듯하다\",\"인젠\",\"일\",\"일것이다\",\"일곱\",\"일단\",\"일때\",\"일반적으로\",\"일지라도\",\"임에 틀림없다\",\"입각하여\",\"입장에서\",\"잇따라\",\"있다\",\"자\",\"자기\",\"자기집\",\"자마자\",\"자신\",\"잠깐\",\"잠시\",\"저\",\"저것\",\"저것만큼\",\"저기\",\"저쪽\",\"저희\",\"전부\",\"전자\",\"전후\",\"점에서 보아\",\"정도에 이르다\",\"제\",\"제각기\",\"제외하고\",\"조금\",\"조차\",\"조차도\",\"졸졸\",\"좀\",\"좋아\",\"좍좍\",\"주룩주룩\",\"주저하지 않고\",\"줄은 몰랏다\",\"줄은모른다\",\"중에서\",\"중의하나\",\"즈음하여\",\"즉\",\"즉시\",\"지든지\",\"지만\",\"지말고\",\"진짜로\",\"쪽으로\",\"차라리\",\"참\",\"참나\",\"첫번째로\",\"쳇\",\"총적으로\",\"총적으로 말하면\",\"총적으로 보면\",\"칠\",\"콸콸\",\"쾅쾅\",\"쿵\",\"타다\",\"타인\",\"탕탕\",\"토하다\",\"통하여\",\"툭\",\"퉤\",\"틈타\",\"팍\",\"팔\",\"퍽\",\"펄렁\",\"하\",\"하게될것이다\",\"하게하다\",\"하겠는가\",\"하고 있다\",\"하고있었다\",\"하곤하였다\",\"하구나\",\"하기 때문에\",\"하기 위하여\",\"하기는한데\",\"하기만 하면\",\"하기보다는\",\"하기에\",\"하나\",\"하느니\",\"하는 김에\",\"하는 편이 낫다\",\"하는것도\",\"하는것만 못하다\",\"하는것이 낫다\",\"하는바\",\"하더라도\",\"하도다\",\"하도록시키다\",\"하도록하다\",\"하든지\",\"하려고하다\",\"하마터면\",\"하면 할수록\",\"하면된다\",\"하면서\",\"하물며\",\"하여금\",\"하여야\",\"하자마자\",\"하지 않는다면\",\"하지 않도록\",\"하지마\",\"하지마라\",\"하지만\",\"하하\",\"한 까닭에\",\"한 이유는\",\"한 후\",\"한다면\",\"한다면 몰라도\",\"한데\",\"한마디\",\"한적이있다\",\"한켠으로는\",\"한항목\",\"할 따름이다\",\"할 생각이다\",\"할 줄 안다\",\"할 지경이다\",\"할 힘이 있다\",\"할때\",\"할만하다\",\"할망정\",\"할뿐\",\"할수있다\",\"할수있어\",\"할줄알다\",\"할지라도\",\"할지언정\",\"함께\",\"해도된다\",\"해도좋다\",\"해봐요\",\"해서는 안된다\",\"해야한다\",\"해요\",\"했어요\",\"향하다\",\"향하여\",\"향해서\",\"허\",\"허걱\",\"허허\",\"헉\",\"헉헉\",\"헐떡헐떡\",\"형식으로 쓰여\",\"혹시\",\"혹은\",\"혼자\",\"훨씬\",\"휘익\",\"휴\",\"흐흐\",\"흥\",\"힘입어\",\"︿\",\"！\",\"＃\",\"＄\",\"％\",\"＆\",\"（\",\"）\",\"＊\",\"＋\",\"，\",\"０\",\"１\",\"２\",\"３\",\"４\",\"５\",\"６\",\"７\",\"８\",\"９\",\"：\",\"；\",\"＜\",\"＞\",\"？\",\"＠\",\"［\",\"］\",\"｛\",\"｜\",\"｝\",\"～\",\"￥\"],\"nl\":[\"aan\",\"achte\",\"achter\",\"af\",\"al\",\"alle\",\"alleen\",\"alles\",\"als\",\"ander\",\"anders\",\"beetje\",\"behalve\",\"beide\",\"beiden\",\"ben\",\"beneden\",\"bent\",\"bij\",\"bijna\",\"bijv\",\"blijkbaar\",\"blijken\",\"boven\",\"bv\",\"daar\",\"daardoor\",\"daarin\",\"daarna\",\"daarom\",\"daaruit\",\"dan\",\"dat\",\"de\",\"deden\",\"deed\",\"derde\",\"derhalve\",\"dertig\",\"deze\",\"dhr\",\"die\",\"dit\",\"doe\",\"doen\",\"doet\",\"door\",\"drie\",\"duizend\",\"echter\",\"een\",\"eens\",\"eerst\",\"eerste\",\"eigen\",\"eigenlijk\",\"elk\",\"elke\",\"en\",\"enige\",\"er\",\"erg\",\"ergens\",\"etc\",\"etcetera\",\"even\",\"geen\",\"genoeg\",\"geweest\",\"haar\",\"haarzelf\",\"had\",\"hadden\",\"heb\",\"hebben\",\"hebt\",\"hedden\",\"heeft\",\"heel\",\"hem\",\"hemzelf\",\"hen\",\"het\",\"hetzelfde\",\"hier\",\"hierin\",\"hierna\",\"hierom\",\"hij\",\"hijzelf\",\"hoe\",\"honderd\",\"hun\",\"ieder\",\"iedere\",\"iedereen\",\"iemand\",\"iets\",\"ik\",\"in\",\"inderdaad\",\"intussen\",\"is\",\"ja\",\"je\",\"jij\",\"jijzelf\",\"jou\",\"jouw\",\"jullie\",\"kan\",\"kon\",\"konden\",\"kun\",\"kunnen\",\"kunt\",\"laatst\",\"later\",\"lijken\",\"lijkt\",\"maak\",\"maakt\",\"maakte\",\"maakten\",\"maar\",\"mag\",\"maken\",\"me\",\"meer\",\"meest\",\"meestal\",\"men\",\"met\",\"mevr\",\"mij\",\"mijn\",\"minder\",\"miss\",\"misschien\",\"missen\",\"mits\",\"mocht\",\"mochten\",\"moest\",\"moesten\",\"moet\",\"moeten\",\"mogen\",\"mr\",\"mrs\",\"mw\",\"na\",\"naar\",\"nam\",\"namelijk\",\"nee\",\"neem\",\"negen\",\"nemen\",\"nergens\",\"niemand\",\"niet\",\"niets\",\"niks\",\"noch\",\"nochtans\",\"nog\",\"nooit\",\"nu\",\"nv\",\"of\",\"om\",\"omdat\",\"ondanks\",\"onder\",\"ondertussen\",\"ons\",\"onze\",\"onzeker\",\"ooit\",\"ook\",\"op\",\"over\",\"overal\",\"overige\",\"paar\",\"per\",\"recent\",\"redelijk\",\"samen\",\"sinds\",\"steeds\",\"te\",\"tegen\",\"tegenover\",\"thans\",\"tien\",\"tiende\",\"tijdens\",\"tja\",\"toch\",\"toe\",\"tot\",\"totdat\",\"tussen\",\"twee\",\"tweede\",\"u\",\"uit\",\"uw\",\"vaak\",\"van\",\"vanaf\",\"veel\",\"veertig\",\"verder\",\"verscheidene\",\"verschillende\",\"via\",\"vier\",\"vierde\",\"vijf\",\"vijfde\",\"vijftig\",\"volgend\",\"volgens\",\"voor\",\"voordat\",\"voorts\",\"waar\",\"waarom\",\"waarschijnlijk\",\"wanneer\",\"waren\",\"was\",\"wat\",\"we\",\"wederom\",\"weer\",\"weinig\",\"wel\",\"welk\",\"welke\",\"werd\",\"werden\",\"werder\",\"whatever\",\"wie\",\"wij\",\"wijzelf\",\"wil\",\"wilden\",\"willen\",\"word\",\"worden\",\"wordt\",\"zal\",\"ze\",\"zei\",\"zeker\",\"zelf\",\"zelfde\",\"zes\",\"zeven\",\"zich\",\"zij\",\"zijn\",\"zijzelf\",\"zo\",\"zoals\",\"zodat\",\"zou\",\"zouden\",\"zulk\",\"zullen\"],\"no\":[\"alle\",\"at\",\"av\",\"bare\",\"begge\",\"ble\",\"blei\",\"bli\",\"blir\",\"blitt\",\"både\",\"båe\",\"da\",\"de\",\"deg\",\"dei\",\"deim\",\"deira\",\"deires\",\"dem\",\"den\",\"denne\",\"der\",\"dere\",\"deres\",\"det\",\"dette\",\"di\",\"din\",\"disse\",\"ditt\",\"du\",\"dykk\",\"dykkar\",\"då\",\"eg\",\"ein\",\"eit\",\"eitt\",\"eller\",\"elles\",\"en\",\"enn\",\"er\",\"et\",\"ett\",\"etter\",\"for\",\"fordi\",\"fra\",\"før\",\"ha\",\"hadde\",\"han\",\"hans\",\"har\",\"hennar\",\"henne\",\"hennes\",\"her\",\"hjå\",\"ho\",\"hoe\",\"honom\",\"hoss\",\"hossen\",\"hun\",\"hva\",\"hvem\",\"hver\",\"hvilke\",\"hvilken\",\"hvis\",\"hvor\",\"hvordan\",\"hvorfor\",\"i\",\"ikke\",\"ikkje\",\"ingen\",\"ingi\",\"inkje\",\"inn\",\"inni\",\"ja\",\"jeg\",\"kan\",\"kom\",\"korleis\",\"korso\",\"kun\",\"kunne\",\"kva\",\"kvar\",\"kvarhelst\",\"kven\",\"kvi\",\"kvifor\",\"man\",\"mange\",\"me\",\"med\",\"medan\",\"meg\",\"meget\",\"mellom\",\"men\",\"mi\",\"min\",\"mine\",\"mitt\",\"mot\",\"mykje\",\"ned\",\"no\",\"noe\",\"noen\",\"noka\",\"noko\",\"nokon\",\"nokor\",\"nokre\",\"nå\",\"når\",\"og\",\"også\",\"om\",\"opp\",\"oss\",\"over\",\"på\",\"samme\",\"seg\",\"selv\",\"si\",\"sia\",\"sidan\",\"siden\",\"sin\",\"sine\",\"sitt\",\"sjøl\",\"skal\",\"skulle\",\"slik\",\"so\",\"som\",\"somme\",\"somt\",\"så\",\"sånn\",\"til\",\"um\",\"upp\",\"ut\",\"uten\",\"var\",\"vart\",\"varte\",\"ved\",\"vere\",\"verte\",\"vi\",\"vil\",\"ville\",\"vore\",\"vors\",\"vort\",\"vår\",\"være\",\"vært\",\"å\"],\"pl\":[\"aby\",\"ach\",\"aj\",\"albo\",\"ale\",\"ani\",\"aż\",\"bardzo\",\"bez\",\"bo\",\"bowiem\",\"by\",\"byli\",\"bym\",\"być\",\"był\",\"była\",\"było\",\"były\",\"będzie\",\"będą\",\"chce\",\"choć\",\"ci\",\"ciebie\",\"cię\",\"co\",\"coraz\",\"coś\",\"czy\",\"czyli\",\"często\",\"daleko\",\"dla\",\"dlaczego\",\"dlatego\",\"do\",\"dobrze\",\"dokąd\",\"dość\",\"dr\",\"dużo\",\"dwa\",\"dwaj\",\"dwie\",\"dwoje\",\"dzisiaj\",\"dziś\",\"gdy\",\"gdyby\",\"gdyż\",\"gdzie\",\"go\",\"godz\",\"hab\",\"i\",\"ich\",\"ii\",\"iii\",\"ile\",\"im\",\"inne\",\"inny\",\"inż\",\"iv\",\"ix\",\"iż\",\"ja\",\"jak\",\"jakby\",\"jaki\",\"jakie\",\"jako\",\"je\",\"jeden\",\"jedna\",\"jednak\",\"jedno\",\"jednym\",\"jedynie\",\"jego\",\"jej\",\"jemu\",\"jest\",\"jestem\",\"jeszcze\",\"jeśli\",\"jeżeli\",\"już\",\"ją\",\"każdy\",\"kiedy\",\"kierunku\",\"kilku\",\"kto\",\"która\",\"które\",\"którego\",\"której\",\"który\",\"których\",\"którym\",\"którzy\",\"ku\",\"lat\",\"lecz\",\"lub\",\"ma\",\"mają\",\"mam\",\"mamy\",\"mgr\",\"mi\",\"miał\",\"mimo\",\"mnie\",\"mną\",\"mogą\",\"moi\",\"moja\",\"moje\",\"może\",\"można\",\"mu\",\"musi\",\"my\",\"mój\",\"na\",\"nad\",\"nam\",\"nami\",\"nas\",\"nasi\",\"nasz\",\"nasza\",\"nasze\",\"natychmiast\",\"nawet\",\"nic\",\"nich\",\"nie\",\"niego\",\"niej\",\"niemu\",\"nigdy\",\"nim\",\"nimi\",\"nią\",\"niż\",\"no\",\"nowe\",\"np\",\"nr\",\"o\",\"o.o.\",\"obok\",\"od\",\"ok\",\"około\",\"on\",\"ona\",\"one\",\"oni\",\"ono\",\"oraz\",\"owszem\",\"pan\",\"pl\",\"po\",\"pod\",\"ponad\",\"ponieważ\",\"poza\",\"prof\",\"przed\",\"przede\",\"przedtem\",\"przez\",\"przy\",\"raz\",\"razie\",\"roku\",\"również\",\"sam\",\"sama\",\"się\",\"skąd\",\"sobie\",\"sposób\",\"swoje\",\"są\",\"ta\",\"tak\",\"taki\",\"takich\",\"takie\",\"także\",\"tam\",\"te\",\"tego\",\"tej\",\"tel\",\"temu\",\"ten\",\"teraz\",\"też\",\"to\",\"tobie\",\"tobą\",\"trzeba\",\"tu\",\"tutaj\",\"twoi\",\"twoja\",\"twoje\",\"twój\",\"ty\",\"tych\",\"tylko\",\"tym\",\"tys\",\"tzw\",\"tę\",\"u\",\"ul\",\"vi\",\"vii\",\"viii\",\"vol\",\"w\",\"wam\",\"wami\",\"was\",\"wasi\",\"wasz\",\"wasza\",\"wasze\",\"we\",\"wie\",\"więc\",\"wszystko\",\"wtedy\",\"www\",\"wy\",\"właśnie\",\"wśród\",\"xi\",\"xii\",\"xiii\",\"xiv\",\"xv\",\"z\",\"za\",\"zawsze\",\"zaś\",\"ze\",\"zł\",\"żaden\",\"że\",\"żeby\"],\"pt\":[\"a\",\"acerca\",\"adeus\",\"agora\",\"ainda\",\"algmas\",\"algo\",\"algumas\",\"alguns\",\"ali\",\"além\",\"ambos\",\"ano\",\"anos\",\"antes\",\"ao\",\"aos\",\"apenas\",\"apoio\",\"apontar\",\"após\",\"aquela\",\"aquelas\",\"aquele\",\"aqueles\",\"aqui\",\"aquilo\",\"as\",\"assim\",\"através\",\"atrás\",\"até\",\"aí\",\"baixo\",\"bastante\",\"bem\",\"bom\",\"breve\",\"cada\",\"caminho\",\"catorze\",\"cedo\",\"cento\",\"certamente\",\"certeza\",\"cima\",\"cinco\",\"coisa\",\"com\",\"como\",\"comprido\",\"conhecido\",\"conselho\",\"contra\",\"corrente\",\"custa\",\"cá\",\"da\",\"daquela\",\"daquele\",\"dar\",\"das\",\"de\",\"debaixo\",\"demais\",\"dentro\",\"depois\",\"desde\",\"desligado\",\"dessa\",\"desse\",\"desta\",\"deste\",\"deve\",\"devem\",\"deverá\",\"dez\",\"dezanove\",\"dezasseis\",\"dezassete\",\"dezoito\",\"dia\",\"diante\",\"direita\",\"diz\",\"dizem\",\"dizer\",\"do\",\"dois\",\"dos\",\"doze\",\"duas\",\"dá\",\"dão\",\"dúvida\",\"e\",\"ela\",\"elas\",\"ele\",\"eles\",\"em\",\"embora\",\"enquanto\",\"entre\",\"então\",\"era\",\"essa\",\"essas\",\"esse\",\"esses\",\"esta\",\"estado\",\"estar\",\"estará\",\"estas\",\"estava\",\"este\",\"estes\",\"esteve\",\"estive\",\"estivemos\",\"estiveram\",\"estiveste\",\"estivestes\",\"estou\",\"está\",\"estás\",\"estão\",\"eu\",\"exemplo\",\"falta\",\"fará\",\"favor\",\"faz\",\"fazeis\",\"fazem\",\"fazemos\",\"fazer\",\"fazes\",\"fazia\",\"faço\",\"fez\",\"fim\",\"final\",\"foi\",\"fomos\",\"for\",\"fora\",\"foram\",\"forma\",\"foste\",\"fostes\",\"fui\",\"geral\",\"grande\",\"grandes\",\"grupo\",\"hoje\",\"horas\",\"há\",\"iniciar\",\"inicio\",\"ir\",\"irá\",\"isso\",\"ista\",\"iste\",\"isto\",\"já\",\"lado\",\"ligado\",\"local\",\"logo\",\"longe\",\"lugar\",\"lá\",\"maior\",\"maioria\",\"maiorias\",\"mais\",\"mal\",\"mas\",\"me\",\"meio\",\"menor\",\"menos\",\"meses\",\"mesmo\",\"meu\",\"meus\",\"mil\",\"minha\",\"minhas\",\"momento\",\"muito\",\"muitos\",\"máximo\",\"mês\",\"na\",\"nada\",\"naquela\",\"naquele\",\"nas\",\"nem\",\"nenhuma\",\"nessa\",\"nesse\",\"nesta\",\"neste\",\"no\",\"noite\",\"nome\",\"nos\",\"nossa\",\"nossas\",\"nosso\",\"nossos\",\"nova\",\"nove\",\"novo\",\"novos\",\"num\",\"numa\",\"nunca\",\"não\",\"nível\",\"nós\",\"número\",\"o\",\"obra\",\"obrigada\",\"obrigado\",\"oitava\",\"oitavo\",\"oito\",\"onde\",\"ontem\",\"onze\",\"os\",\"ou\",\"outra\",\"outras\",\"outro\",\"outros\",\"para\",\"parece\",\"parte\",\"partir\",\"pegar\",\"pela\",\"pelas\",\"pelo\",\"pelos\",\"perto\",\"pessoas\",\"pode\",\"podem\",\"poder\",\"poderá\",\"podia\",\"ponto\",\"pontos\",\"por\",\"porque\",\"porquê\",\"posição\",\"possivelmente\",\"posso\",\"possível\",\"pouca\",\"pouco\",\"povo\",\"primeira\",\"primeiro\",\"promeiro\",\"próprio\",\"próximo\",\"puderam\",\"pôde\",\"põe\",\"põem\",\"qual\",\"qualquer\",\"quando\",\"quanto\",\"quarta\",\"quarto\",\"quatro\",\"que\",\"quem\",\"quer\",\"quero\",\"questão\",\"quieto\",\"quinta\",\"quinto\",\"quinze\",\"quê\",\"relação\",\"sabe\",\"saber\",\"se\",\"segunda\",\"segundo\",\"sei\",\"seis\",\"sem\",\"sempre\",\"ser\",\"seria\",\"sete\",\"seu\",\"seus\",\"sexta\",\"sexto\",\"sim\",\"sistema\",\"sob\",\"sobre\",\"sois\",\"somente\",\"somos\",\"sou\",\"sua\",\"suas\",\"são\",\"sétima\",\"sétimo\",\"tal\",\"talvez\",\"também\",\"tanto\",\"tarde\",\"te\",\"tem\",\"temos\",\"tempo\",\"tendes\",\"tenho\",\"tens\",\"tentar\",\"tentaram\",\"tente\",\"tentei\",\"ter\",\"terceira\",\"terceiro\",\"teu\",\"teus\",\"teve\",\"tipo\",\"tive\",\"tivemos\",\"tiveram\",\"tiveste\",\"tivestes\",\"toda\",\"todas\",\"todo\",\"todos\",\"trabalhar\",\"trabalho\",\"treze\",\"três\",\"tu\",\"tua\",\"tuas\",\"tudo\",\"tão\",\"têm\",\"um\",\"uma\",\"umas\",\"uns\",\"usa\",\"usar\",\"vai\",\"vais\",\"valor\",\"veja\",\"vem\",\"vens\",\"ver\",\"verdade\",\"verdadeiro\",\"vez\",\"vezes\",\"viagem\",\"vindo\",\"vinte\",\"você\",\"vocês\",\"vos\",\"vossa\",\"vossas\",\"vosso\",\"vossos\",\"vários\",\"vão\",\"vêm\",\"vós\",\"zero\",\"à\",\"às\",\"área\",\"é\",\"és\",\"último\"],\"ru\":[\"а\",\"алло\",\"без\",\"белый\",\"близко\",\"более\",\"больше\",\"большой\",\"будем\",\"будет\",\"будете\",\"будешь\",\"будто\",\"буду\",\"будут\",\"будь\",\"бы\",\"бывает\",\"бывь\",\"был\",\"была\",\"были\",\"было\",\"быть\",\"в\",\"важная\",\"важное\",\"важные\",\"важный\",\"вам\",\"вами\",\"вас\",\"ваш\",\"ваша\",\"ваше\",\"ваши\",\"вверх\",\"вдали\",\"вдруг\",\"ведь\",\"везде\",\"вернуться\",\"весь\",\"вечер\",\"взгляд\",\"взять\",\"вид\",\"видеть\",\"вместе\",\"вниз\",\"внизу\",\"во\",\"вода\",\"война\",\"вокруг\",\"вон\",\"вообще\",\"вопрос\",\"восемнадцатый\",\"восемнадцать\",\"восемь\",\"восьмой\",\"вот\",\"впрочем\",\"времени\",\"время\",\"все\",\"всегда\",\"всего\",\"всем\",\"всеми\",\"всему\",\"всех\",\"всею\",\"всю\",\"всюду\",\"вся\",\"всё\",\"второй\",\"вы\",\"выйти\",\"г\",\"где\",\"главный\",\"глаз\",\"говорил\",\"говорит\",\"говорить\",\"год\",\"года\",\"году\",\"голова\",\"голос\",\"город\",\"да\",\"давать\",\"давно\",\"даже\",\"далекий\",\"далеко\",\"дальше\",\"даром\",\"дать\",\"два\",\"двадцатый\",\"двадцать\",\"две\",\"двенадцатый\",\"двенадцать\",\"дверь\",\"двух\",\"девятнадцатый\",\"девятнадцать\",\"девятый\",\"девять\",\"действительно\",\"дел\",\"делать\",\"дело\",\"день\",\"деньги\",\"десятый\",\"десять\",\"для\",\"до\",\"довольно\",\"долго\",\"должно\",\"должный\",\"дом\",\"дорога\",\"друг\",\"другая\",\"другие\",\"других\",\"друго\",\"другое\",\"другой\",\"думать\",\"душа\",\"е\",\"его\",\"ее\",\"ей\",\"ему\",\"если\",\"есть\",\"еще\",\"ещё\",\"ею\",\"её\",\"ж\",\"ждать\",\"же\",\"жена\",\"женщина\",\"жизнь\",\"жить\",\"за\",\"занят\",\"занята\",\"занято\",\"заняты\",\"затем\",\"зато\",\"зачем\",\"здесь\",\"земля\",\"знать\",\"значит\",\"значить\",\"и\",\"идти\",\"из\",\"или\",\"им\",\"именно\",\"иметь\",\"ими\",\"имя\",\"иногда\",\"их\",\"к\",\"каждая\",\"каждое\",\"каждые\",\"каждый\",\"кажется\",\"казаться\",\"как\",\"какая\",\"какой\",\"кем\",\"книга\",\"когда\",\"кого\",\"ком\",\"комната\",\"кому\",\"конец\",\"конечно\",\"которая\",\"которого\",\"которой\",\"которые\",\"который\",\"которых\",\"кроме\",\"кругом\",\"кто\",\"куда\",\"лежать\",\"лет\",\"ли\",\"лицо\",\"лишь\",\"лучше\",\"любить\",\"люди\",\"м\",\"маленький\",\"мало\",\"мать\",\"машина\",\"между\",\"меля\",\"менее\",\"меньше\",\"меня\",\"место\",\"миллионов\",\"мимо\",\"минута\",\"мир\",\"мира\",\"мне\",\"много\",\"многочисленная\",\"многочисленное\",\"многочисленные\",\"многочисленный\",\"мной\",\"мною\",\"мог\",\"могут\",\"мож\",\"может\",\"можно\",\"можхо\",\"мои\",\"мой\",\"мор\",\"москва\",\"мочь\",\"моя\",\"моё\",\"мы\",\"на\",\"наверху\",\"над\",\"надо\",\"назад\",\"наиболее\",\"найти\",\"наконец\",\"нам\",\"нами\",\"народ\",\"нас\",\"начала\",\"начать\",\"наш\",\"наша\",\"наше\",\"наши\",\"не\",\"него\",\"недавно\",\"недалеко\",\"нее\",\"ней\",\"некоторый\",\"нельзя\",\"нем\",\"немного\",\"нему\",\"непрерывно\",\"нередко\",\"несколько\",\"нет\",\"нею\",\"неё\",\"ни\",\"нибудь\",\"ниже\",\"низко\",\"никакой\",\"никогда\",\"никто\",\"никуда\",\"ними\",\"них\",\"ничего\",\"ничто\",\"но\",\"новый\",\"нога\",\"ночь\",\"ну\",\"нужно\",\"нужный\",\"нх\",\"о\",\"об\",\"оба\",\"обычно\",\"один\",\"одиннадцатый\",\"одиннадцать\",\"однажды\",\"однако\",\"одного\",\"одной\",\"оказаться\",\"окно\",\"около\",\"он\",\"она\",\"они\",\"оно\",\"опять\",\"особенно\",\"остаться\",\"от\",\"ответить\",\"отец\",\"отовсюду\",\"отсюда\",\"очень\",\"первый\",\"перед\",\"писать\",\"плечо\",\"по\",\"под\",\"подумать\",\"пожалуйста\",\"позже\",\"пойти\",\"пока\",\"пол\",\"получить\",\"помнить\",\"понимать\",\"понять\",\"пор\",\"пора\",\"после\",\"последний\",\"посмотреть\",\"посреди\",\"потом\",\"потому\",\"почему\",\"почти\",\"правда\",\"прекрасно\",\"при\",\"про\",\"просто\",\"против\",\"процентов\",\"пятнадцатый\",\"пятнадцать\",\"пятый\",\"пять\",\"работа\",\"работать\",\"раз\",\"разве\",\"рано\",\"раньше\",\"ребенок\",\"решить\",\"россия\",\"рука\",\"русский\",\"ряд\",\"рядом\",\"с\",\"сам\",\"сама\",\"сами\",\"самим\",\"самими\",\"самих\",\"само\",\"самого\",\"самой\",\"самом\",\"самому\",\"саму\",\"самый\",\"свет\",\"свое\",\"своего\",\"своей\",\"свои\",\"своих\",\"свой\",\"свою\",\"сделать\",\"сеаой\",\"себе\",\"себя\",\"сегодня\",\"седьмой\",\"сейчас\",\"семнадцатый\",\"семнадцать\",\"семь\",\"сидеть\",\"сила\",\"сих\",\"сказал\",\"сказала\",\"сказать\",\"сколько\",\"слишком\",\"слово\",\"случай\",\"смотреть\",\"сначала\",\"снова\",\"со\",\"собой\",\"собою\",\"советский\",\"совсем\",\"спасибо\",\"спросить\",\"сразу\",\"стал\",\"старый\",\"стать\",\"стол\",\"сторона\",\"стоять\",\"страна\",\"суть\",\"считать\",\"т\",\"та\",\"так\",\"такая\",\"также\",\"таки\",\"такие\",\"такое\",\"такой\",\"там\",\"твой\",\"твоя\",\"твоё\",\"те\",\"тебе\",\"тебя\",\"тем\",\"теми\",\"теперь\",\"тех\",\"то\",\"тобой\",\"тобою\",\"товарищ\",\"тогда\",\"того\",\"тоже\",\"только\",\"том\",\"тому\",\"тот\",\"тою\",\"третий\",\"три\",\"тринадцатый\",\"тринадцать\",\"ту\",\"туда\",\"тут\",\"ты\",\"тысяч\",\"у\",\"увидеть\",\"уж\",\"уже\",\"улица\",\"уметь\",\"утро\",\"хороший\",\"хорошо\",\"хотеть\",\"хоть\",\"хотя\",\"хочешь\",\"час\",\"часто\",\"часть\",\"чаще\",\"чего\",\"человек\",\"чем\",\"чему\",\"через\",\"четвертый\",\"четыре\",\"четырнадцатый\",\"четырнадцать\",\"что\",\"чтоб\",\"чтобы\",\"чуть\",\"шестнадцатый\",\"шестнадцать\",\"шестой\",\"шесть\",\"эта\",\"эти\",\"этим\",\"этими\",\"этих\",\"это\",\"этого\",\"этой\",\"этом\",\"этому\",\"этот\",\"эту\",\"я\"],\"sv\":[\"aderton\",\"adertonde\",\"adjö\",\"aldrig\",\"alla\",\"allas\",\"allt\",\"alltid\",\"alltså\",\"andra\",\"andras\",\"annan\",\"annat\",\"artonde\",\"artonn\",\"att\",\"av\",\"bakom\",\"bara\",\"behöva\",\"behövas\",\"behövde\",\"behövt\",\"beslut\",\"beslutat\",\"beslutit\",\"bland\",\"blev\",\"bli\",\"blir\",\"blivit\",\"bort\",\"borta\",\"bra\",\"bäst\",\"bättre\",\"båda\",\"bådas\",\"dag\",\"dagar\",\"dagarna\",\"dagen\",\"de\",\"del\",\"delen\",\"dem\",\"den\",\"denna\",\"deras\",\"dess\",\"dessa\",\"det\",\"detta\",\"dig\",\"din\",\"dina\",\"dit\",\"ditt\",\"dock\",\"du\",\"där\",\"därför\",\"då\",\"efter\",\"eftersom\",\"ej\",\"elfte\",\"eller\",\"elva\",\"en\",\"enkel\",\"enkelt\",\"enkla\",\"enligt\",\"er\",\"era\",\"ert\",\"ett\",\"ettusen\",\"fanns\",\"fem\",\"femte\",\"femtio\",\"femtionde\",\"femton\",\"femtonde\",\"fick\",\"fin\",\"finnas\",\"finns\",\"fjorton\",\"fjortonde\",\"fjärde\",\"fler\",\"flera\",\"flesta\",\"fram\",\"framför\",\"från\",\"fyra\",\"fyrtio\",\"fyrtionde\",\"få\",\"får\",\"fått\",\"följande\",\"för\",\"före\",\"förlåt\",\"förra\",\"första\",\"genast\",\"genom\",\"gick\",\"gjorde\",\"gjort\",\"god\",\"goda\",\"godare\",\"godast\",\"gott\",\"gälla\",\"gäller\",\"gällt\",\"gärna\",\"gå\",\"går\",\"gått\",\"gör\",\"göra\",\"ha\",\"hade\",\"haft\",\"han\",\"hans\",\"har\",\"heller\",\"hellre\",\"helst\",\"helt\",\"henne\",\"hennes\",\"hit\",\"hon\",\"honom\",\"hundra\",\"hundraen\",\"hundraett\",\"hur\",\"här\",\"hög\",\"höger\",\"högre\",\"högst\",\"i\",\"ibland\",\"icke\",\"idag\",\"igen\",\"igår\",\"imorgon\",\"in\",\"inför\",\"inga\",\"ingen\",\"ingenting\",\"inget\",\"innan\",\"inne\",\"inom\",\"inte\",\"inuti\",\"ja\",\"jag\",\"ju\",\"jämfört\",\"kan\",\"kanske\",\"knappast\",\"kom\",\"komma\",\"kommer\",\"kommit\",\"kr\",\"kunde\",\"kunna\",\"kunnat\",\"kvar\",\"legat\",\"ligga\",\"ligger\",\"lika\",\"likställd\",\"likställda\",\"lilla\",\"lite\",\"liten\",\"litet\",\"länge\",\"längre\",\"längst\",\"lätt\",\"lättare\",\"lättast\",\"långsam\",\"långsammare\",\"långsammast\",\"långsamt\",\"långt\",\"man\",\"med\",\"mellan\",\"men\",\"mer\",\"mera\",\"mest\",\"mig\",\"min\",\"mina\",\"mindre\",\"minst\",\"mitt\",\"mittemot\",\"mot\",\"mycket\",\"många\",\"måste\",\"möjlig\",\"möjligen\",\"möjligt\",\"möjligtvis\",\"ned\",\"nederst\",\"nedersta\",\"nedre\",\"nej\",\"ner\",\"ni\",\"nio\",\"nionde\",\"nittio\",\"nittionde\",\"nitton\",\"nittonde\",\"nog\",\"noll\",\"nr\",\"nu\",\"nummer\",\"när\",\"nästa\",\"någon\",\"någonting\",\"något\",\"några\",\"nödvändig\",\"nödvändiga\",\"nödvändigt\",\"nödvändigtvis\",\"och\",\"också\",\"ofta\",\"oftast\",\"olika\",\"olikt\",\"om\",\"oss\",\"på\",\"rakt\",\"redan\",\"rätt\",\"sade\",\"sagt\",\"samma\",\"sedan\",\"senare\",\"senast\",\"sent\",\"sex\",\"sextio\",\"sextionde\",\"sexton\",\"sextonde\",\"sig\",\"sin\",\"sina\",\"sist\",\"sista\",\"siste\",\"sitt\",\"sitta\",\"sju\",\"sjunde\",\"sjuttio\",\"sjuttionde\",\"sjutton\",\"sjuttonde\",\"själv\",\"sjätte\",\"ska\",\"skall\",\"skulle\",\"slutligen\",\"små\",\"smått\",\"snart\",\"som\",\"stor\",\"stora\",\"stort\",\"större\",\"störst\",\"säga\",\"säger\",\"sämre\",\"sämst\",\"så\",\"sådan\",\"sådana\",\"sådant\",\"tack\",\"tidig\",\"tidigare\",\"tidigast\",\"tidigt\",\"till\",\"tills\",\"tillsammans\",\"tio\",\"tionde\",\"tjugo\",\"tjugoen\",\"tjugoett\",\"tjugonde\",\"tjugotre\",\"tjugotvå\",\"tjungo\",\"tolfte\",\"tolv\",\"tre\",\"tredje\",\"trettio\",\"trettionde\",\"tretton\",\"trettonde\",\"två\",\"tvåhundra\",\"under\",\"upp\",\"ur\",\"ursäkt\",\"ut\",\"utan\",\"utanför\",\"ute\",\"vad\",\"var\",\"vara\",\"varför\",\"varifrån\",\"varit\",\"varje\",\"varken\",\"vars\",\"varsågod\",\"vart\",\"vem\",\"vems\",\"verkligen\",\"vi\",\"vid\",\"vidare\",\"viktig\",\"viktigare\",\"viktigast\",\"viktigt\",\"vilka\",\"vilkas\",\"vilken\",\"vilket\",\"vill\",\"vänster\",\"vänstra\",\"värre\",\"vår\",\"våra\",\"vårt\",\"än\",\"ännu\",\"är\",\"även\",\"åt\",\"åtminstone\",\"åtta\",\"åttio\",\"åttionde\",\"åttonde\",\"över\",\"övermorgon\",\"överst\",\"övre\"],\"tr\":[\"acaba\",\"acep\",\"adeta\",\"altmýþ\",\"altmış\",\"altý\",\"altı\",\"ama\",\"ancak\",\"arada\",\"artýk\",\"aslında\",\"aynen\",\"ayrıca\",\"az\",\"bana\",\"bari\",\"bazen\",\"bazý\",\"bazı\",\"baţka\",\"belki\",\"ben\",\"benden\",\"beni\",\"benim\",\"beri\",\"beþ\",\"beş\",\"beţ\",\"bile\",\"bin\",\"bir\",\"biraz\",\"biri\",\"birkaç\",\"birkez\",\"birçok\",\"birþey\",\"birþeyi\",\"birşey\",\"birşeyi\",\"birţey\",\"biz\",\"bizden\",\"bize\",\"bizi\",\"bizim\",\"bu\",\"buna\",\"bunda\",\"bundan\",\"bunlar\",\"bunları\",\"bunların\",\"bunu\",\"bunun\",\"burada\",\"böyle\",\"böylece\",\"bütün\",\"da\",\"daha\",\"dahi\",\"dahil\",\"daima\",\"dair\",\"dayanarak\",\"de\",\"defa\",\"deđil\",\"değil\",\"diye\",\"diđer\",\"diğer\",\"doksan\",\"dokuz\",\"dolayı\",\"dolayısıyla\",\"dört\",\"edecek\",\"eden\",\"ederek\",\"edilecek\",\"ediliyor\",\"edilmesi\",\"ediyor\",\"elli\",\"en\",\"etmesi\",\"etti\",\"ettiği\",\"ettiğini\",\"eđer\",\"eğer\",\"fakat\",\"gibi\",\"göre\",\"halbuki\",\"halen\",\"hangi\",\"hani\",\"hariç\",\"hatta\",\"hele\",\"hem\",\"henüz\",\"hep\",\"hepsi\",\"her\",\"herhangi\",\"herkes\",\"herkesin\",\"hiç\",\"hiçbir\",\"iken\",\"iki\",\"ila\",\"ile\",\"ilgili\",\"ilk\",\"illa\",\"ise\",\"itibaren\",\"itibariyle\",\"iyi\",\"iyice\",\"için\",\"işte\",\"iţte\",\"kadar\",\"kanýmca\",\"karşın\",\"katrilyon\",\"kendi\",\"kendilerine\",\"kendini\",\"kendisi\",\"kendisine\",\"kendisini\",\"kere\",\"kez\",\"keţke\",\"ki\",\"kim\",\"kimden\",\"kime\",\"kimi\",\"kimse\",\"kýrk\",\"kýsaca\",\"kırk\",\"lakin\",\"madem\",\"međer\",\"milyar\",\"milyon\",\"mu\",\"mü\",\"mý\",\"mı\",\"nasýl\",\"nasıl\",\"ne\",\"neden\",\"nedenle\",\"nerde\",\"nere\",\"nerede\",\"nereye\",\"nitekim\",\"niye\",\"niçin\",\"o\",\"olan\",\"olarak\",\"oldu\",\"olduklarını\",\"olduğu\",\"olduğunu\",\"olmadı\",\"olmadığı\",\"olmak\",\"olması\",\"olmayan\",\"olmaz\",\"olsa\",\"olsun\",\"olup\",\"olur\",\"olursa\",\"oluyor\",\"on\",\"ona\",\"ondan\",\"onlar\",\"onlardan\",\"onlari\",\"onlarýn\",\"onları\",\"onların\",\"onu\",\"onun\",\"otuz\",\"oysa\",\"pek\",\"rağmen\",\"sadece\",\"sanki\",\"sekiz\",\"seksen\",\"sen\",\"senden\",\"seni\",\"senin\",\"siz\",\"sizden\",\"sizi\",\"sizin\",\"sonra\",\"tarafından\",\"trilyon\",\"tüm\",\"var\",\"vardı\",\"ve\",\"veya\",\"veyahut\",\"ya\",\"yahut\",\"yani\",\"yapacak\",\"yapmak\",\"yaptı\",\"yaptıkları\",\"yaptığı\",\"yaptığını\",\"yapılan\",\"yapılması\",\"yapıyor\",\"yedi\",\"yerine\",\"yetmiþ\",\"yetmiş\",\"yetmiţ\",\"yine\",\"yirmi\",\"yoksa\",\"yüz\",\"zaten\",\"çok\",\"çünkü\",\"öyle\",\"üzere\",\"üç\",\"þey\",\"þeyden\",\"þeyi\",\"þeyler\",\"þu\",\"þuna\",\"þunda\",\"þundan\",\"þunu\",\"şey\",\"şeyden\",\"şeyi\",\"şeyler\",\"şu\",\"şuna\",\"şunda\",\"şundan\",\"şunları\",\"şunu\",\"şöyle\",\"ţayet\",\"ţimdi\",\"ţu\",\"ţöyle\"],\"zh\":[\"、\",\"。\",\"〈\",\"〉\",\"《\",\"》\",\"一\",\"一切\",\"一则\",\"一方面\",\"一旦\",\"一来\",\"一样\",\"一般\",\"七\",\"万一\",\"三\",\"上下\",\"不仅\",\"不但\",\"不光\",\"不单\",\"不只\",\"不如\",\"不怕\",\"不惟\",\"不成\",\"不拘\",\"不比\",\"不然\",\"不特\",\"不独\",\"不管\",\"不论\",\"不过\",\"不问\",\"与\",\"与其\",\"与否\",\"与此同时\",\"且\",\"两者\",\"个\",\"临\",\"为\",\"为了\",\"为什么\",\"为何\",\"为着\",\"乃\",\"乃至\",\"么\",\"之\",\"之一\",\"之所以\",\"之类\",\"乌乎\",\"乎\",\"乘\",\"九\",\"也\",\"也好\",\"也罢\",\"了\",\"二\",\"于\",\"于是\",\"于是乎\",\"云云\",\"五\",\"人家\",\"什么\",\"什么样\",\"从\",\"从而\",\"他\",\"他人\",\"他们\",\"以\",\"以便\",\"以免\",\"以及\",\"以至\",\"以至于\",\"以致\",\"们\",\"任\",\"任何\",\"任凭\",\"似的\",\"但\",\"但是\",\"何\",\"何况\",\"何处\",\"何时\",\"作为\",\"你\",\"你们\",\"使得\",\"例如\",\"依\",\"依照\",\"俺\",\"俺们\",\"倘\",\"倘使\",\"倘或\",\"倘然\",\"倘若\",\"借\",\"假使\",\"假如\",\"假若\",\"像\",\"八\",\"六\",\"兮\",\"关于\",\"其\",\"其一\",\"其中\",\"其二\",\"其他\",\"其余\",\"其它\",\"其次\",\"具体地说\",\"具体说来\",\"再者\",\"再说\",\"冒\",\"冲\",\"况且\",\"几\",\"几时\",\"凭\",\"凭借\",\"则\",\"别\",\"别的\",\"别说\",\"到\",\"前后\",\"前者\",\"加之\",\"即\",\"即令\",\"即使\",\"即便\",\"即或\",\"即若\",\"又\",\"及\",\"及其\",\"及至\",\"反之\",\"反过来\",\"反过来说\",\"另\",\"另一方面\",\"另外\",\"只是\",\"只有\",\"只要\",\"只限\",\"叫\",\"叮咚\",\"可\",\"可以\",\"可是\",\"可见\",\"各\",\"各个\",\"各位\",\"各种\",\"各自\",\"同\",\"同时\",\"向\",\"向着\",\"吓\",\"吗\",\"否则\",\"吧\",\"吧哒\",\"吱\",\"呀\",\"呃\",\"呕\",\"呗\",\"呜\",\"呜呼\",\"呢\",\"呵\",\"呸\",\"呼哧\",\"咋\",\"和\",\"咚\",\"咦\",\"咱\",\"咱们\",\"咳\",\"哇\",\"哈\",\"哈哈\",\"哉\",\"哎\",\"哎呀\",\"哎哟\",\"哗\",\"哟\",\"哦\",\"哩\",\"哪\",\"哪个\",\"哪些\",\"哪儿\",\"哪天\",\"哪年\",\"哪怕\",\"哪样\",\"哪边\",\"哪里\",\"哼\",\"哼唷\",\"唉\",\"啊\",\"啐\",\"啥\",\"啦\",\"啪达\",\"喂\",\"喏\",\"喔唷\",\"嗡嗡\",\"嗬\",\"嗯\",\"嗳\",\"嘎\",\"嘎登\",\"嘘\",\"嘛\",\"嘻\",\"嘿\",\"四\",\"因\",\"因为\",\"因此\",\"因而\",\"固然\",\"在\",\"在下\",\"地\",\"多\",\"多少\",\"她\",\"她们\",\"如\",\"如上所述\",\"如何\",\"如其\",\"如果\",\"如此\",\"如若\",\"宁\",\"宁可\",\"宁愿\",\"宁肯\",\"它\",\"它们\",\"对\",\"对于\",\"将\",\"尔后\",\"尚且\",\"就\",\"就是\",\"就是说\",\"尽\",\"尽管\",\"岂但\",\"己\",\"并\",\"并且\",\"开外\",\"开始\",\"归\",\"当\",\"当着\",\"彼\",\"彼此\",\"往\",\"待\",\"得\",\"怎\",\"怎么\",\"怎么办\",\"怎么样\",\"怎样\",\"总之\",\"总的来看\",\"总的来说\",\"总的说来\",\"总而言之\",\"恰恰相反\",\"您\",\"慢说\",\"我\",\"我们\",\"或\",\"或是\",\"或者\",\"所\",\"所以\",\"打\",\"把\",\"抑或\",\"拿\",\"按\",\"按照\",\"换句话说\",\"换言之\",\"据\",\"接着\",\"故\",\"故此\",\"旁人\",\"无宁\",\"无论\",\"既\",\"既是\",\"既然\",\"时候\",\"是\",\"是的\",\"替\",\"有\",\"有些\",\"有关\",\"有的\",\"望\",\"朝\",\"朝着\",\"本\",\"本着\",\"来\",\"来着\",\"极了\",\"果然\",\"果真\",\"某\",\"某个\",\"某些\",\"根据\",\"正如\",\"此\",\"此外\",\"此间\",\"毋宁\",\"每\",\"每当\",\"比\",\"比如\",\"比方\",\"沿\",\"沿着\",\"漫说\",\"焉\",\"然则\",\"然后\",\"然而\",\"照\",\"照着\",\"甚么\",\"甚而\",\"甚至\",\"用\",\"由\",\"由于\",\"由此可见\",\"的\",\"的话\",\"相对而言\",\"省得\",\"着\",\"着呢\",\"矣\",\"离\",\"第\",\"等\",\"等等\",\"管\",\"紧接着\",\"纵\",\"纵令\",\"纵使\",\"纵然\",\"经\",\"经过\",\"结果\",\"给\",\"继而\",\"综上所述\",\"罢了\",\"者\",\"而\",\"而且\",\"而况\",\"而外\",\"而已\",\"而是\",\"而言\",\"能\",\"腾\",\"自\",\"自个儿\",\"自从\",\"自各儿\",\"自家\",\"自己\",\"自身\",\"至\",\"至于\",\"若\",\"若是\",\"若非\",\"莫若\",\"虽\",\"虽则\",\"虽然\",\"虽说\",\"被\",\"要\",\"要不\",\"要不是\",\"要不然\",\"要么\",\"要是\",\"让\",\"论\",\"设使\",\"设若\",\"该\",\"诸位\",\"谁\",\"谁知\",\"赶\",\"起\",\"起见\",\"趁\",\"趁着\",\"越是\",\"跟\",\"较\",\"较之\",\"边\",\"过\",\"还是\",\"还有\",\"这\",\"这个\",\"这么\",\"这么些\",\"这么样\",\"这么点儿\",\"这些\",\"这会儿\",\"这儿\",\"这就是说\",\"这时\",\"这样\",\"这边\",\"这里\",\"进而\",\"连\",\"连同\",\"通过\",\"遵照\",\"那\",\"那个\",\"那么\",\"那么些\",\"那么样\",\"那些\",\"那会儿\",\"那儿\",\"那时\",\"那样\",\"那边\",\"那里\",\"鄙人\",\"鉴于\",\"阿\",\"除\",\"除了\",\"除此之外\",\"除非\",\"随\",\"随着\",\"零\",\"非但\",\"非徒\",\"靠\",\"顺\",\"顺着\",\"首先\",\"︿\",\"！\",\"＃\",\"＄\",\"％\",\"＆\",\"（\",\"）\",\"＊\",\"＋\",\"，\",\"０\",\"１\",\"２\",\"３\",\"４\",\"５\",\"６\",\"７\",\"８\",\"９\",\"：\",\"；\",\"＜\",\"＞\",\"？\",\"＠\",\"［\",\"］\",\"｛\",\"｜\",\"｝\",\"～\",\"￥\"],\"eo\":[\"adiaŭ\",\"ajn\",\"al\",\"ankoraŭ\",\"antaŭ\",\"aŭ\",\"bonan\",\"bonvole\",\"bonvolu\",\"bv\",\"ci\",\"cia\",\"cian\",\"cin\",\"d-ro\",\"da\",\"de\",\"dek\",\"deka\",\"do\",\"doktor'\",\"doktoro\",\"du\",\"dua\",\"dum\",\"eble\",\"ekz\",\"ekzemple\",\"en\",\"estas\",\"estis\",\"estos\",\"estu\",\"estus\",\"eĉ\",\"f-no\",\"feliĉan\",\"for\",\"fraŭlino\",\"ha\",\"havas\",\"havis\",\"havos\",\"havu\",\"havus\",\"he\",\"ho\",\"hu\",\"ili\",\"ilia\",\"ilian\",\"ilin\",\"inter\",\"io\",\"ion\",\"iu\",\"iujn\",\"iun\",\"ja\",\"jam\",\"je\",\"jes\",\"k\",\"kaj\",\"ke\",\"kio\",\"kion\",\"kiu\",\"kiujn\",\"kiun\",\"kvankam\",\"kvar\",\"kvara\",\"kvazaŭ\",\"kvin\",\"kvina\",\"la\",\"li\",\"lia\",\"lian\",\"lin\",\"malantaŭ\",\"male\",\"malgraŭ\",\"mem\",\"mi\",\"mia\",\"mian\",\"min\",\"minus\",\"naŭ\",\"naŭa\",\"ne\",\"nek\",\"nenio\",\"nenion\",\"neniu\",\"neniun\",\"nepre\",\"ni\",\"nia\",\"nian\",\"nin\",\"nu\",\"nun\",\"nur\",\"ok\",\"oka\",\"oni\",\"onia\",\"onian\",\"onin\",\"plej\",\"pli\",\"plu\",\"plus\",\"por\",\"post\",\"preter\",\"s-no\",\"s-ro\",\"se\",\"sed\",\"sep\",\"sepa\",\"ses\",\"sesa\",\"si\",\"sia\",\"sian\",\"sin\",\"sinjor'\",\"sinjorino\",\"sinjoro\",\"sub\",\"super\",\"supren\",\"sur\",\"tamen\",\"tio\",\"tion\",\"tiu\",\"tiujn\",\"tiun\",\"tra\",\"tri\",\"tria\",\"tuj\",\"tute\",\"unu\",\"unua\",\"ve\",\"verŝajne\",\"vi\",\"via\",\"vian\",\"vin\",\"ĉi\",\"ĉio\",\"ĉion\",\"ĉiu\",\"ĉiujn\",\"ĉiun\",\"ĉu\",\"ĝi\",\"ĝia\",\"ĝian\",\"ĝin\",\"ĝis\",\"ĵus\",\"ŝi\",\"ŝia\",\"ŝin\"],\"he\":[\"אבל\",\"או\",\"אולי\",\"אותה\",\"אותו\",\"אותי\",\"אותך\",\"אותם\",\"אותן\",\"אותנו\",\"אז\",\"אחר\",\"אחרות\",\"אחרי\",\"אחריכן\",\"אחרים\",\"אחרת\",\"אי\",\"איזה\",\"איך\",\"אין\",\"איפה\",\"איתה\",\"איתו\",\"איתי\",\"איתך\",\"איתכם\",\"איתכן\",\"איתם\",\"איתן\",\"איתנו\",\"אך\",\"אל\",\"אלה\",\"אלו\",\"אם\",\"אנחנו\",\"אני\",\"אס\",\"אף\",\"אצל\",\"אשר\",\"את\",\"אתה\",\"אתכם\",\"אתכן\",\"אתם\",\"אתן\",\"באיזומידה\",\"באמצע\",\"באמצעות\",\"בגלל\",\"בין\",\"בלי\",\"במידה\",\"במקוםשבו\",\"ברם\",\"בשביל\",\"בשעהש\",\"בתוך\",\"גם\",\"דרך\",\"הוא\",\"היא\",\"היה\",\"היכן\",\"היתה\",\"היתי\",\"הם\",\"הן\",\"הנה\",\"הסיבהשבגללה\",\"הרי\",\"ואילו\",\"ואת\",\"זאת\",\"זה\",\"זות\",\"יהיה\",\"יוכל\",\"יוכלו\",\"יותרמדי\",\"יכול\",\"יכולה\",\"יכולות\",\"יכולים\",\"יכל\",\"יכלה\",\"יכלו\",\"יש\",\"כאן\",\"כאשר\",\"כולם\",\"כולן\",\"כזה\",\"כי\",\"כיצד\",\"כך\",\"ככה\",\"כל\",\"כלל\",\"כמו\",\"כן\",\"כפי\",\"כש\",\"לא\",\"לאו\",\"לאיזותכלית\",\"לאן\",\"לבין\",\"לה\",\"להיות\",\"להם\",\"להן\",\"לו\",\"לי\",\"לכם\",\"לכן\",\"למה\",\"למטה\",\"למעלה\",\"למקוםשבו\",\"למרות\",\"לנו\",\"לעבר\",\"לעיכן\",\"לפיכך\",\"לפני\",\"מאד\",\"מאחורי\",\"מאיזוסיבה\",\"מאין\",\"מאיפה\",\"מבלי\",\"מבעד\",\"מדוע\",\"מה\",\"מהיכן\",\"מול\",\"מחוץ\",\"מי\",\"מכאן\",\"מכיוון\",\"מלבד\",\"מן\",\"מנין\",\"מסוגל\",\"מעט\",\"מעטים\",\"מעל\",\"מצד\",\"מקוםבו\",\"מתחת\",\"מתי\",\"נגד\",\"נגר\",\"נו\",\"עד\",\"עז\",\"על\",\"עלי\",\"עליה\",\"עליהם\",\"עליהן\",\"עליו\",\"עליך\",\"עליכם\",\"עלינו\",\"עם\",\"עצמה\",\"עצמהם\",\"עצמהן\",\"עצמו\",\"עצמי\",\"עצמם\",\"עצמן\",\"עצמנו\",\"פה\",\"רק\",\"שוב\",\"של\",\"שלה\",\"שלהם\",\"שלהן\",\"שלו\",\"שלי\",\"שלך\",\"שלכה\",\"שלכם\",\"שלכן\",\"שלנו\",\"שם\",\"תהיה\",\"תחת\"],\"la\":[\"a\",\"ab\",\"ac\",\"ad\",\"at\",\"atque\",\"aut\",\"autem\",\"cum\",\"de\",\"dum\",\"e\",\"erant\",\"erat\",\"est\",\"et\",\"etiam\",\"ex\",\"haec\",\"hic\",\"hoc\",\"in\",\"ita\",\"me\",\"nec\",\"neque\",\"non\",\"per\",\"qua\",\"quae\",\"quam\",\"qui\",\"quibus\",\"quidem\",\"quo\",\"quod\",\"re\",\"rebus\",\"rem\",\"res\",\"sed\",\"si\",\"sic\",\"sunt\",\"tamen\",\"tandem\",\"te\",\"ut\",\"vel\"],\"sk\":[\"a\",\"aby\",\"aj\",\"ako\",\"aký\",\"ale\",\"alebo\",\"ani\",\"avšak\",\"ba\",\"bez\",\"buï\",\"cez\",\"do\",\"ho\",\"hoci\",\"i\",\"ich\",\"im\",\"ja\",\"jeho\",\"jej\",\"jemu\",\"ju\",\"k\",\"kam\",\"kde\",\"kedže\",\"keï\",\"kto\",\"ktorý\",\"ku\",\"lebo\",\"ma\",\"mi\",\"mne\",\"mnou\",\"mu\",\"my\",\"mòa\",\"môj\",\"na\",\"nad\",\"nami\",\"neho\",\"nej\",\"nemu\",\"nich\",\"nielen\",\"nim\",\"no\",\"nám\",\"nás\",\"náš\",\"ním\",\"o\",\"od\",\"on\",\"ona\",\"oni\",\"ono\",\"ony\",\"po\",\"pod\",\"pre\",\"pred\",\"pri\",\"s\",\"sa\",\"seba\",\"sem\",\"so\",\"svoj\",\"taký\",\"tam\",\"teba\",\"tebe\",\"tebou\",\"tej\",\"ten\",\"ti\",\"tie\",\"to\",\"toho\",\"tomu\",\"tou\",\"tvoj\",\"ty\",\"tá\",\"tým\",\"v\",\"vami\",\"veï\",\"vo\",\"vy\",\"vám\",\"vás\",\"váš\",\"však\",\"z\",\"za\",\"zo\",\"a\",\"èi\",\"èo\",\"èí\",\"òom\",\"òou\",\"òu\",\"že\"],\"sl\":[\"a\",\"ali\",\"april\",\"avgust\",\"b\",\"bi\",\"bil\",\"bila\",\"bile\",\"bili\",\"bilo\",\"biti\",\"blizu\",\"bo\",\"bodo\",\"bojo\",\"bolj\",\"bom\",\"bomo\",\"boste\",\"bova\",\"boš\",\"brez\",\"c\",\"cel\",\"cela\",\"celi\",\"celo\",\"d\",\"da\",\"daleč\",\"dan\",\"danes\",\"datum\",\"december\",\"deset\",\"deseta\",\"deseti\",\"deseto\",\"devet\",\"deveta\",\"deveti\",\"deveto\",\"do\",\"dober\",\"dobra\",\"dobri\",\"dobro\",\"dokler\",\"dol\",\"dolg\",\"dolga\",\"dolgi\",\"dovolj\",\"drug\",\"druga\",\"drugi\",\"drugo\",\"dva\",\"dve\",\"e\",\"eden\",\"en\",\"ena\",\"ene\",\"eni\",\"enkrat\",\"eno\",\"etc.\",\"f\",\"februar\",\"g\",\"g.\",\"ga\",\"ga.\",\"gor\",\"gospa\",\"gospod\",\"h\",\"halo\",\"i\",\"idr.\",\"ii\",\"iii\",\"in\",\"iv\",\"ix\",\"iz\",\"j\",\"januar\",\"jaz\",\"je\",\"ji\",\"jih\",\"jim\",\"jo\",\"julij\",\"junij\",\"jutri\",\"k\",\"kadarkoli\",\"kaj\",\"kajti\",\"kako\",\"kakor\",\"kamor\",\"kamorkoli\",\"kar\",\"karkoli\",\"katerikoli\",\"kdaj\",\"kdo\",\"kdorkoli\",\"ker\",\"ki\",\"kje\",\"kjer\",\"kjerkoli\",\"ko\",\"koder\",\"koderkoli\",\"koga\",\"komu\",\"kot\",\"kratek\",\"kratka\",\"kratke\",\"kratki\",\"l\",\"lahka\",\"lahke\",\"lahki\",\"lahko\",\"le\",\"lep\",\"lepa\",\"lepe\",\"lepi\",\"lepo\",\"leto\",\"m\",\"maj\",\"majhen\",\"majhna\",\"majhni\",\"malce\",\"malo\",\"manj\",\"marec\",\"me\",\"med\",\"medtem\",\"mene\",\"mesec\",\"mi\",\"midva\",\"midve\",\"mnogo\",\"moj\",\"moja\",\"moje\",\"mora\",\"morajo\",\"moram\",\"moramo\",\"morate\",\"moraš\",\"morem\",\"mu\",\"n\",\"na\",\"nad\",\"naj\",\"najina\",\"najino\",\"najmanj\",\"naju\",\"največ\",\"nam\",\"narobe\",\"nas\",\"nato\",\"nazaj\",\"naš\",\"naša\",\"naše\",\"ne\",\"nedavno\",\"nedelja\",\"nek\",\"neka\",\"nekaj\",\"nekatere\",\"nekateri\",\"nekatero\",\"nekdo\",\"neke\",\"nekega\",\"neki\",\"nekje\",\"neko\",\"nekoga\",\"nekoč\",\"ni\",\"nikamor\",\"nikdar\",\"nikjer\",\"nikoli\",\"nič\",\"nje\",\"njega\",\"njegov\",\"njegova\",\"njegovo\",\"njej\",\"njemu\",\"njen\",\"njena\",\"njeno\",\"nji\",\"njih\",\"njihov\",\"njihova\",\"njihovo\",\"njiju\",\"njim\",\"njo\",\"njun\",\"njuna\",\"njuno\",\"no\",\"nocoj\",\"november\",\"npr.\",\"o\",\"ob\",\"oba\",\"obe\",\"oboje\",\"od\",\"odprt\",\"odprta\",\"odprti\",\"okoli\",\"oktober\",\"on\",\"onadva\",\"one\",\"oni\",\"onidve\",\"osem\",\"osma\",\"osmi\",\"osmo\",\"oz.\",\"p\",\"pa\",\"pet\",\"peta\",\"petek\",\"peti\",\"peto\",\"po\",\"pod\",\"pogosto\",\"poleg\",\"poln\",\"polna\",\"polni\",\"polno\",\"ponavadi\",\"ponedeljek\",\"ponovno\",\"potem\",\"povsod\",\"pozdravljen\",\"pozdravljeni\",\"prav\",\"prava\",\"prave\",\"pravi\",\"pravo\",\"prazen\",\"prazna\",\"prazno\",\"prbl.\",\"precej\",\"pred\",\"prej\",\"preko\",\"pri\",\"pribl.\",\"približno\",\"primer\",\"pripravljen\",\"pripravljena\",\"pripravljeni\",\"proti\",\"prva\",\"prvi\",\"prvo\",\"r\",\"ravno\",\"redko\",\"res\",\"reč\",\"s\",\"saj\",\"sam\",\"sama\",\"same\",\"sami\",\"samo\",\"se\",\"sebe\",\"sebi\",\"sedaj\",\"sedem\",\"sedma\",\"sedmi\",\"sedmo\",\"sem\",\"september\",\"seveda\",\"si\",\"sicer\",\"skoraj\",\"skozi\",\"slab\",\"smo\",\"so\",\"sobota\",\"spet\",\"sreda\",\"srednja\",\"srednji\",\"sta\",\"ste\",\"stran\",\"stvar\",\"sva\",\"t\",\"ta\",\"tak\",\"taka\",\"take\",\"taki\",\"tako\",\"takoj\",\"tam\",\"te\",\"tebe\",\"tebi\",\"tega\",\"težak\",\"težka\",\"težki\",\"težko\",\"ti\",\"tista\",\"tiste\",\"tisti\",\"tisto\",\"tj.\",\"tja\",\"to\",\"toda\",\"torek\",\"tretja\",\"tretje\",\"tretji\",\"tri\",\"tu\",\"tudi\",\"tukaj\",\"tvoj\",\"tvoja\",\"tvoje\",\"u\",\"v\",\"vaju\",\"vam\",\"vas\",\"vaš\",\"vaša\",\"vaše\",\"ve\",\"vedno\",\"velik\",\"velika\",\"veliki\",\"veliko\",\"vendar\",\"ves\",\"več\",\"vi\",\"vidva\",\"vii\",\"viii\",\"visok\",\"visoka\",\"visoke\",\"visoki\",\"vsa\",\"vsaj\",\"vsak\",\"vsaka\",\"vsakdo\",\"vsake\",\"vsaki\",\"vsakomur\",\"vse\",\"vsega\",\"vsi\",\"vso\",\"včasih\",\"včeraj\",\"x\",\"z\",\"za\",\"zadaj\",\"zadnji\",\"zakaj\",\"zaprta\",\"zaprti\",\"zaprto\",\"zdaj\",\"zelo\",\"zunaj\",\"č\",\"če\",\"često\",\"četrta\",\"četrtek\",\"četrti\",\"četrto\",\"čez\",\"čigav\",\"š\",\"šest\",\"šesta\",\"šesti\",\"šesto\",\"štiri\",\"ž\",\"že\"],\"br\":[\"a\",\"ainda\",\"alem\",\"ambas\",\"ambos\",\"antes\",\"ao\",\"aonde\",\"aos\",\"apos\",\"aquele\",\"aqueles\",\"as\",\"assim\",\"com\",\"como\",\"contra\",\"contudo\",\"cuja\",\"cujas\",\"cujo\",\"cujos\",\"da\",\"das\",\"de\",\"dela\",\"dele\",\"deles\",\"demais\",\"depois\",\"desde\",\"desta\",\"deste\",\"dispoe\",\"dispoem\",\"diversa\",\"diversas\",\"diversos\",\"do\",\"dos\",\"durante\",\"e\",\"ela\",\"elas\",\"ele\",\"eles\",\"em\",\"entao\",\"entre\",\"essa\",\"essas\",\"esse\",\"esses\",\"esta\",\"estas\",\"este\",\"estes\",\"ha\",\"isso\",\"isto\",\"logo\",\"mais\",\"mas\",\"mediante\",\"menos\",\"mesma\",\"mesmas\",\"mesmo\",\"mesmos\",\"na\",\"nao\",\"nas\",\"nem\",\"nesse\",\"neste\",\"nos\",\"o\",\"os\",\"ou\",\"outra\",\"outras\",\"outro\",\"outros\",\"pelas\",\"pelo\",\"pelos\",\"perante\",\"pois\",\"por\",\"porque\",\"portanto\",\"propios\",\"proprio\",\"quais\",\"qual\",\"qualquer\",\"quando\",\"quanto\",\"que\",\"quem\",\"quer\",\"se\",\"seja\",\"sem\",\"sendo\",\"seu\",\"seus\",\"sob\",\"sobre\",\"sua\",\"suas\",\"tal\",\"tambem\",\"teu\",\"teus\",\"toda\",\"todas\",\"todo\",\"todos\",\"tua\",\"tuas\",\"tudo\",\"um\",\"uma\",\"umas\",\"uns\"],\"ca\":[\"a\",\"abans\",\"ací\",\"ah\",\"així\",\"això\",\"al\",\"aleshores\",\"algun\",\"alguna\",\"algunes\",\"alguns\",\"alhora\",\"allà\",\"allí\",\"allò\",\"als\",\"altra\",\"altre\",\"altres\",\"amb\",\"ambdues\",\"ambdós\",\"apa\",\"aquell\",\"aquella\",\"aquelles\",\"aquells\",\"aquest\",\"aquesta\",\"aquestes\",\"aquests\",\"aquí\",\"baix\",\"cada\",\"cadascuna\",\"cadascunes\",\"cadascuns\",\"cadascú\",\"com\",\"contra\",\"d'un\",\"d'una\",\"d'unes\",\"d'uns\",\"dalt\",\"de\",\"del\",\"dels\",\"des\",\"després\",\"dins\",\"dintre\",\"donat\",\"doncs\",\"durant\",\"e\",\"eh\",\"el\",\"els\",\"em\",\"en\",\"encara\",\"ens\",\"entre\",\"eren\",\"es\",\"esta\",\"estaven\",\"esteu\",\"està\",\"estàvem\",\"estàveu\",\"et\",\"etc\",\"ets\",\"fins\",\"fora\",\"gairebé\",\"ha\",\"han\",\"has\",\"havia\",\"he\",\"hem\",\"heu\",\"hi\",\"ho\",\"i\",\"igual\",\"iguals\",\"ja\",\"l'hi\",\"la\",\"les\",\"li\",\"li'n\",\"llavors\",\"m'he\",\"ma\",\"mal\",\"malgrat\",\"mateix\",\"mateixa\",\"mateixes\",\"mateixos\",\"me\",\"mentre\",\"meu\",\"meus\",\"meva\",\"meves\",\"molt\",\"molta\",\"moltes\",\"molts\",\"mon\",\"mons\",\"més\",\"n'he\",\"n'hi\",\"ne\",\"ni\",\"no\",\"nogensmenys\",\"només\",\"nosaltres\",\"nostra\",\"nostre\",\"nostres\",\"o\",\"oh\",\"oi\",\"on\",\"pas\",\"pel\",\"pels\",\"per\",\"perquè\",\"però\",\"poc\",\"poca\",\"pocs\",\"poques\",\"potser\",\"propi\",\"qual\",\"quals\",\"quan\",\"quant\",\"que\",\"quelcom\",\"qui\",\"quin\",\"quina\",\"quines\",\"quins\",\"què\",\"s'ha\",\"s'han\",\"sa\",\"semblant\",\"semblants\",\"ses\",\"seu\",\"seus\",\"seva\",\"seves\",\"si\",\"sobre\",\"sobretot\",\"solament\",\"sols\",\"son\",\"sons\",\"sota\",\"sou\",\"sóc\",\"són\",\"t'ha\",\"t'han\",\"t'he\",\"ta\",\"tal\",\"també\",\"tampoc\",\"tan\",\"tant\",\"tanta\",\"tantes\",\"teu\",\"teus\",\"teva\",\"teves\",\"ton\",\"tons\",\"tot\",\"tota\",\"totes\",\"tots\",\"un\",\"una\",\"unes\",\"uns\",\"us\",\"va\",\"vaig\",\"vam\",\"van\",\"vas\",\"veu\",\"vosaltres\",\"vostra\",\"vostre\",\"vostres\",\"érem\",\"éreu\",\"és\"],\"cs\":[\"a\",\"aby\",\"ahoj\",\"aj\",\"ale\",\"anebo\",\"ani\",\"ano\",\"asi\",\"aspoň\",\"atd\",\"atp\",\"ačkoli\",\"až\",\"bez\",\"beze\",\"blízko\",\"bohužel\",\"brzo\",\"bude\",\"budem\",\"budeme\",\"budete\",\"budeš\",\"budou\",\"budu\",\"by\",\"byl\",\"byla\",\"byli\",\"bylo\",\"byly\",\"bys\",\"být\",\"během\",\"chce\",\"chceme\",\"chcete\",\"chceš\",\"chci\",\"chtít\",\"chtějí\",\"chut'\",\"chuti\",\"co\",\"což\",\"cz\",\"daleko\",\"další\",\"den\",\"deset\",\"devatenáct\",\"devět\",\"dnes\",\"do\",\"dobrý\",\"docela\",\"dva\",\"dvacet\",\"dvanáct\",\"dvě\",\"dál\",\"dále\",\"děkovat\",\"děkujeme\",\"děkuji\",\"ho\",\"hodně\",\"i\",\"jak\",\"jakmile\",\"jako\",\"jakož\",\"jde\",\"je\",\"jeden\",\"jedenáct\",\"jedna\",\"jedno\",\"jednou\",\"jedou\",\"jeho\",\"jehož\",\"jej\",\"jejich\",\"její\",\"jelikož\",\"jemu\",\"jen\",\"jenom\",\"jestli\",\"jestliže\",\"ještě\",\"jež\",\"ji\",\"jich\",\"jimi\",\"jinak\",\"jiné\",\"již\",\"jsem\",\"jseš\",\"jsi\",\"jsme\",\"jsou\",\"jste\",\"já\",\"jí\",\"jím\",\"jíž\",\"k\",\"kam\",\"kde\",\"kdo\",\"kdy\",\"když\",\"ke\",\"kolik\",\"kromě\",\"kterou\",\"která\",\"které\",\"který\",\"kteří\",\"kvůli\",\"mají\",\"mezi\",\"mi\",\"mne\",\"mnou\",\"mně\",\"moc\",\"mohl\",\"mohou\",\"moje\",\"moji\",\"možná\",\"musí\",\"my\",\"má\",\"málo\",\"mám\",\"máme\",\"máte\",\"máš\",\"mé\",\"mí\",\"mít\",\"mě\",\"můj\",\"může\",\"na\",\"nad\",\"nade\",\"napište\",\"naproti\",\"načež\",\"naše\",\"naši\",\"ne\",\"nebo\",\"nebyl\",\"nebyla\",\"nebyli\",\"nebyly\",\"nedělají\",\"nedělá\",\"nedělám\",\"neděláme\",\"neděláte\",\"neděláš\",\"neg\",\"nejsi\",\"nejsou\",\"nemají\",\"nemáme\",\"nemáte\",\"neměl\",\"není\",\"nestačí\",\"nevadí\",\"než\",\"nic\",\"nich\",\"nimi\",\"nové\",\"nový\",\"nula\",\"nám\",\"námi\",\"nás\",\"náš\",\"ním\",\"ně\",\"něco\",\"nějak\",\"někde\",\"někdo\",\"němu\",\"němuž\",\"o\",\"od\",\"ode\",\"on\",\"ona\",\"oni\",\"ono\",\"ony\",\"osm\",\"osmnáct\",\"pak\",\"patnáct\",\"po\",\"pod\",\"podle\",\"pokud\",\"potom\",\"pouze\",\"pozdě\",\"pořád\",\"pravé\",\"pro\",\"prostě\",\"prosím\",\"proti\",\"proto\",\"protože\",\"proč\",\"první\",\"pta\",\"pět\",\"před\",\"přes\",\"přese\",\"při\",\"přičemž\",\"re\",\"rovně\",\"s\",\"se\",\"sedm\",\"sedmnáct\",\"si\",\"skoro\",\"smí\",\"smějí\",\"snad\",\"spolu\",\"sta\",\"sto\",\"strana\",\"sté\",\"své\",\"svých\",\"svým\",\"svými\",\"ta\",\"tady\",\"tak\",\"takhle\",\"taky\",\"také\",\"takže\",\"tam\",\"tamhle\",\"tamhleto\",\"tamto\",\"tato\",\"tebe\",\"tebou\",\"ted'\",\"tedy\",\"ten\",\"tento\",\"teto\",\"ti\",\"tipy\",\"tisíc\",\"tisíce\",\"to\",\"tobě\",\"tohle\",\"toho\",\"tohoto\",\"tom\",\"tomto\",\"tomu\",\"tomuto\",\"toto\",\"trošku\",\"tu\",\"tuto\",\"tvoje\",\"tvá\",\"tvé\",\"tvůj\",\"ty\",\"tyto\",\"téma\",\"tím\",\"tímto\",\"tě\",\"těm\",\"těmu\",\"třeba\",\"tři\",\"třináct\",\"u\",\"určitě\",\"už\",\"v\",\"vaše\",\"vaši\",\"ve\",\"vedle\",\"večer\",\"vlastně\",\"vy\",\"vám\",\"vámi\",\"vás\",\"váš\",\"více\",\"však\",\"všechno\",\"všichni\",\"vůbec\",\"vždy\",\"z\",\"za\",\"zatímco\",\"zač\",\"zda\",\"zde\",\"ze\",\"zprávy\",\"zpět\",\"čau\",\"či\",\"článku\",\"články\",\"čtrnáct\",\"čtyři\",\"šest\",\"šestnáct\",\"že\"],\"el\":[\"αλλα\",\"αν\",\"αντι\",\"απο\",\"αυτα\",\"αυτεσ\",\"αυτη\",\"αυτο\",\"αυτοι\",\"αυτοσ\",\"αυτουσ\",\"αυτων\",\"για\",\"δε\",\"δεν\",\"εαν\",\"ειμαι\",\"ειμαστε\",\"ειναι\",\"εισαι\",\"ειστε\",\"εκεινα\",\"εκεινεσ\",\"εκεινη\",\"εκεινο\",\"εκεινοι\",\"εκεινοσ\",\"εκεινουσ\",\"εκεινων\",\"ενω\",\"επι\",\"η\",\"θα\",\"ισωσ\",\"κ\",\"και\",\"κατα\",\"κι\",\"μα\",\"με\",\"μετα\",\"μη\",\"μην\",\"να\",\"ο\",\"οι\",\"ομωσ\",\"οπωσ\",\"οσο\",\"οτι\",\"παρα\",\"ποια\",\"ποιεσ\",\"ποιο\",\"ποιοι\",\"ποιοσ\",\"ποιουσ\",\"ποιων\",\"που\",\"προσ\",\"πωσ\",\"σε\",\"στη\",\"στην\",\"στο\",\"στον\",\"τα\",\"την\",\"τησ\",\"το\",\"τον\",\"τοτε\",\"του\",\"των\",\"ωσ\"],\"eu\":[\"al\",\"anitz\",\"arabera\",\"asko\",\"baina\",\"bat\",\"batean\",\"batek\",\"bati\",\"batzuei\",\"batzuek\",\"batzuetan\",\"batzuk\",\"bera\",\"beraiek\",\"berau\",\"berauek\",\"bere\",\"berori\",\"beroriek\",\"beste\",\"bezala\",\"da\",\"dago\",\"dira\",\"ditu\",\"du\",\"dute\",\"edo\",\"egin\",\"ere\",\"eta\",\"eurak\",\"ez\",\"gainera\",\"gu\",\"gutxi\",\"guzti\",\"haiei\",\"haiek\",\"haietan\",\"hainbeste\",\"hala\",\"han\",\"handik\",\"hango\",\"hara\",\"hari\",\"hark\",\"hartan\",\"hau\",\"hauei\",\"hauek\",\"hauetan\",\"hemen\",\"hemendik\",\"hemengo\",\"hi\",\"hona\",\"honek\",\"honela\",\"honetan\",\"honi\",\"hor\",\"hori\",\"horiei\",\"horiek\",\"horietan\",\"horko\",\"horra\",\"horrek\",\"horrela\",\"horretan\",\"horri\",\"hortik\",\"hura\",\"izan\",\"ni\",\"noiz\",\"nola\",\"non\",\"nondik\",\"nongo\",\"nor\",\"nora\",\"ze\",\"zein\",\"zen\",\"zenbait\",\"zenbat\",\"zer\",\"zergatik\",\"ziren\",\"zituen\",\"zu\",\"zuek\",\"zuen\",\"zuten\"],\"ga\":[\"a\",\"ach\",\"ag\",\"agus\",\"an\",\"aon\",\"ar\",\"arna\",\"as\",\"b'\",\"ba\",\"beirt\",\"bhúr\",\"caoga\",\"ceathair\",\"ceathrar\",\"chomh\",\"chtó\",\"chuig\",\"chun\",\"cois\",\"céad\",\"cúig\",\"cúigear\",\"d'\",\"daichead\",\"dar\",\"de\",\"deich\",\"deichniúr\",\"den\",\"dhá\",\"do\",\"don\",\"dtí\",\"dá\",\"dár\",\"dó\",\"faoi\",\"faoin\",\"faoina\",\"faoinár\",\"fara\",\"fiche\",\"gach\",\"gan\",\"go\",\"gur\",\"haon\",\"hocht\",\"i\",\"iad\",\"idir\",\"in\",\"ina\",\"ins\",\"inár\",\"is\",\"le\",\"leis\",\"lena\",\"lenár\",\"m'\",\"mar\",\"mo\",\"mé\",\"na\",\"nach\",\"naoi\",\"naonúr\",\"ná\",\"ní\",\"níor\",\"nó\",\"nócha\",\"ocht\",\"ochtar\",\"os\",\"roimh\",\"sa\",\"seacht\",\"seachtar\",\"seachtó\",\"seasca\",\"seisear\",\"siad\",\"sibh\",\"sinn\",\"sna\",\"sé\",\"sí\",\"tar\",\"thar\",\"thú\",\"triúr\",\"trí\",\"trína\",\"trínár\",\"tríocha\",\"tú\",\"um\",\"ár\",\"é\",\"éis\",\"í\",\"ó\",\"ón\",\"óna\",\"ónár\"],\"gl\":[\"a\",\"alí\",\"ao\",\"aos\",\"aquel\",\"aquela\",\"aquelas\",\"aqueles\",\"aquilo\",\"aquí\",\"as\",\"así\",\"aínda\",\"ben\",\"cando\",\"che\",\"co\",\"coa\",\"coas\",\"comigo\",\"con\",\"connosco\",\"contigo\",\"convosco\",\"cos\",\"cun\",\"cunha\",\"cunhas\",\"cuns\",\"da\",\"dalgunha\",\"dalgunhas\",\"dalgún\",\"dalgúns\",\"das\",\"de\",\"del\",\"dela\",\"delas\",\"deles\",\"desde\",\"deste\",\"do\",\"dos\",\"dun\",\"dunha\",\"dunhas\",\"duns\",\"e\",\"el\",\"ela\",\"elas\",\"eles\",\"en\",\"era\",\"eran\",\"esa\",\"esas\",\"ese\",\"eses\",\"esta\",\"estaba\",\"estar\",\"este\",\"estes\",\"estiven\",\"estou\",\"está\",\"están\",\"eu\",\"facer\",\"foi\",\"foron\",\"fun\",\"había\",\"hai\",\"iso\",\"isto\",\"la\",\"las\",\"lle\",\"lles\",\"lo\",\"los\",\"mais\",\"me\",\"meu\",\"meus\",\"min\",\"miña\",\"miñas\",\"moi\",\"na\",\"nas\",\"neste\",\"nin\",\"no\",\"non\",\"nos\",\"nosa\",\"nosas\",\"noso\",\"nosos\",\"nun\",\"nunha\",\"nunhas\",\"nuns\",\"nós\",\"o\",\"os\",\"ou\",\"para\",\"pero\",\"pode\",\"pois\",\"pola\",\"polas\",\"polo\",\"polos\",\"por\",\"que\",\"se\",\"senón\",\"ser\",\"seu\",\"seus\",\"sexa\",\"sido\",\"sobre\",\"súa\",\"súas\",\"tamén\",\"tan\",\"te\",\"ten\",\"ter\",\"teu\",\"teus\",\"teñen\",\"teño\",\"ti\",\"tido\",\"tiven\",\"tiña\",\"túa\",\"túas\",\"un\",\"unha\",\"unhas\",\"uns\",\"vos\",\"vosa\",\"vosas\",\"voso\",\"vosos\",\"vós\",\"á\",\"é\",\"ó\",\"ós\"],\"hy\":[\"այդ\",\"այլ\",\"այն\",\"այս\",\"դու\",\"դուք\",\"եմ\",\"են\",\"ենք\",\"ես\",\"եք\",\"է\",\"էի\",\"էին\",\"էինք\",\"էիր\",\"էիք\",\"էր\",\"ըստ\",\"թ\",\"ի\",\"ին\",\"իսկ\",\"իր\",\"կամ\",\"համար\",\"հետ\",\"հետո\",\"մենք\",\"մեջ\",\"մի\",\"ն\",\"նա\",\"նաև\",\"նրա\",\"նրանք\",\"որ\",\"որը\",\"որոնք\",\"որպես\",\"ու\",\"ում\",\"պիտի\",\"վրա\",\"և\"],\"id\":[\"ada\",\"adalah\",\"adanya\",\"adapun\",\"agak\",\"agaknya\",\"agar\",\"akan\",\"akankah\",\"akhirnya\",\"aku\",\"akulah\",\"amat\",\"amatlah\",\"anda\",\"andalah\",\"antar\",\"antara\",\"antaranya\",\"apa\",\"apaan\",\"apabila\",\"apakah\",\"apalagi\",\"apatah\",\"atau\",\"ataukah\",\"ataupun\",\"bagai\",\"bagaikan\",\"bagaimana\",\"bagaimanakah\",\"bagaimanapun\",\"bagi\",\"bahkan\",\"bahwa\",\"bahwasanya\",\"banyak\",\"beberapa\",\"begini\",\"beginian\",\"beginikah\",\"beginilah\",\"begitu\",\"begitukah\",\"begitulah\",\"begitupun\",\"belum\",\"belumlah\",\"berapa\",\"berapakah\",\"berapalah\",\"berapapun\",\"bermacam\",\"bersama\",\"betulkah\",\"biasa\",\"biasanya\",\"bila\",\"bilakah\",\"bisa\",\"bisakah\",\"boleh\",\"bolehkah\",\"bolehlah\",\"buat\",\"bukan\",\"bukankah\",\"bukanlah\",\"bukannya\",\"cuma\",\"dahulu\",\"dalam\",\"dan\",\"dapat\",\"dari\",\"daripada\",\"dekat\",\"demi\",\"demikian\",\"demikianlah\",\"dengan\",\"depan\",\"di\",\"dia\",\"dialah\",\"diantara\",\"diantaranya\",\"dikarenakan\",\"dini\",\"diri\",\"dirinya\",\"disini\",\"disinilah\",\"dong\",\"dulu\",\"enggak\",\"enggaknya\",\"entah\",\"entahlah\",\"hal\",\"hampir\",\"hanya\",\"hanyalah\",\"harus\",\"haruslah\",\"harusnya\",\"hendak\",\"hendaklah\",\"hendaknya\",\"hingga\",\"ia\",\"ialah\",\"ibarat\",\"ingin\",\"inginkah\",\"inginkan\",\"ini\",\"inikah\",\"inilah\",\"itu\",\"itukah\",\"itulah\",\"jangan\",\"jangankan\",\"janganlah\",\"jika\",\"jikalau\",\"juga\",\"justru\",\"kala\",\"kalau\",\"kalaulah\",\"kalaupun\",\"kalian\",\"kami\",\"kamilah\",\"kamu\",\"kamulah\",\"kan\",\"kapan\",\"kapankah\",\"kapanpun\",\"karena\",\"karenanya\",\"ke\",\"kecil\",\"kemudian\",\"kenapa\",\"kepada\",\"kepadanya\",\"ketika\",\"khususnya\",\"kini\",\"kinilah\",\"kiranya\",\"kita\",\"kitalah\",\"kok\",\"lagi\",\"lagian\",\"lah\",\"lain\",\"lainnya\",\"lalu\",\"lama\",\"lamanya\",\"lebih\",\"macam\",\"maka\",\"makanya\",\"makin\",\"malah\",\"malahan\",\"mampu\",\"mampukah\",\"mana\",\"manakala\",\"manalagi\",\"masih\",\"masihkah\",\"masing\",\"mau\",\"maupun\",\"melainkan\",\"melalui\",\"memang\",\"mengapa\",\"mereka\",\"merekalah\",\"merupakan\",\"meski\",\"meskipun\",\"mungkin\",\"mungkinkah\",\"nah\",\"namun\",\"nanti\",\"nantinya\",\"nyaris\",\"oleh\",\"olehnya\",\"pada\",\"padahal\",\"padanya\",\"paling\",\"pantas\",\"para\",\"pasti\",\"pastilah\",\"per\",\"percuma\",\"pernah\",\"pula\",\"pun\",\"rupanya\",\"saat\",\"saatnya\",\"saja\",\"sajalah\",\"saling\",\"sama\",\"sambil\",\"sampai\",\"sana\",\"sangat\",\"sangatlah\",\"saya\",\"sayalah\",\"se\",\"sebab\",\"sebabnya\",\"sebagai\",\"sebagaimana\",\"sebagainya\",\"sebaliknya\",\"sebanyak\",\"sebegini\",\"sebegitu\",\"sebelum\",\"sebelumnya\",\"sebenarnya\",\"seberapa\",\"sebetulnya\",\"sebisanya\",\"sebuah\",\"sedang\",\"sedangkan\",\"sedemikian\",\"sedikit\",\"sedikitnya\",\"segala\",\"segalanya\",\"segera\",\"seharusnya\",\"sehingga\",\"sejak\",\"sejenak\",\"sekali\",\"sekalian\",\"sekaligus\",\"sekalipun\",\"sekarang\",\"seketika\",\"sekiranya\",\"sekitar\",\"sekitarnya\",\"sela\",\"selagi\",\"selain\",\"selaku\",\"selalu\",\"selama\",\"selamanya\",\"seluruh\",\"seluruhnya\",\"semacam\",\"semakin\",\"semasih\",\"semaunya\",\"sementara\",\"sempat\",\"semua\",\"semuanya\",\"semula\",\"sendiri\",\"sendirinya\",\"seolah\",\"seorang\",\"sepanjang\",\"sepantasnya\",\"sepantasnyalah\",\"seperti\",\"sepertinya\",\"sering\",\"seringnya\",\"serta\",\"serupa\",\"sesaat\",\"sesama\",\"sesegera\",\"sesekali\",\"seseorang\",\"sesuatu\",\"sesuatunya\",\"sesudah\",\"sesudahnya\",\"setelah\",\"seterusnya\",\"setiap\",\"setidaknya\",\"sewaktu\",\"siapa\",\"siapakah\",\"siapapun\",\"sini\",\"sinilah\",\"suatu\",\"sudah\",\"sudahkah\",\"sudahlah\",\"supaya\",\"tadi\",\"tadinya\",\"tak\",\"tanpa\",\"tapi\",\"telah\",\"tentang\",\"tentu\",\"tentulah\",\"tentunya\",\"terdiri\",\"terhadap\",\"terhadapnya\",\"terlalu\",\"terlebih\",\"tersebut\",\"tersebutlah\",\"tertentu\",\"tetapi\",\"tiap\",\"tidak\",\"tidakkah\",\"tidaklah\",\"toh\",\"waduh\",\"wah\",\"wahai\",\"walau\",\"walaupun\",\"wong\",\"yaitu\",\"yakni\",\"yang\"],\"ja\":[\"あっ\",\"あり\",\"ある\",\"い\",\"いう\",\"いる\",\"う\",\"うち\",\"お\",\"および\",\"おり\",\"か\",\"かつて\",\"から\",\"が\",\"き\",\"ここ\",\"こと\",\"この\",\"これ\",\"これら\",\"さ\",\"さらに\",\"し\",\"しかし\",\"する\",\"ず\",\"せ\",\"せる\",\"そして\",\"その\",\"その他\",\"その後\",\"それ\",\"それぞれ\",\"た\",\"ただし\",\"たち\",\"ため\",\"たり\",\"だ\",\"だっ\",\"つ\",\"て\",\"で\",\"でき\",\"できる\",\"です\",\"では\",\"でも\",\"と\",\"という\",\"といった\",\"とき\",\"ところ\",\"として\",\"とともに\",\"とも\",\"と共に\",\"な\",\"ない\",\"なお\",\"なかっ\",\"ながら\",\"なく\",\"なっ\",\"など\",\"なら\",\"なり\",\"なる\",\"に\",\"において\",\"における\",\"について\",\"にて\",\"によって\",\"により\",\"による\",\"に対して\",\"に対する\",\"に関する\",\"の\",\"ので\",\"のみ\",\"は\",\"ば\",\"へ\",\"ほか\",\"ほとんど\",\"ほど\",\"ます\",\"また\",\"または\",\"まで\",\"も\",\"もの\",\"ものの\",\"や\",\"よう\",\"より\",\"ら\",\"られ\",\"られる\",\"れ\",\"れる\",\"を\",\"ん\",\"及び\",\"特に\"],\"lv\":[\"aiz\",\"ap\",\"apakš\",\"apakšpus\",\"ar\",\"arī\",\"augšpus\",\"bet\",\"bez\",\"bija\",\"biji\",\"biju\",\"bijām\",\"bijāt\",\"būs\",\"būsi\",\"būsiet\",\"būsim\",\"būt\",\"būšu\",\"caur\",\"diemžēl\",\"diezin\",\"droši\",\"dēļ\",\"esam\",\"esat\",\"esi\",\"esmu\",\"gan\",\"gar\",\"iekam\",\"iekams\",\"iekām\",\"iekāms\",\"iekš\",\"iekšpus\",\"ik\",\"ir\",\"it\",\"itin\",\"iz\",\"ja\",\"jau\",\"jeb\",\"jebšu\",\"jel\",\"jo\",\"jā\",\"ka\",\"kamēr\",\"kaut\",\"kolīdz\",\"kopš\",\"kā\",\"kļuva\",\"kļuvi\",\"kļuvu\",\"kļuvām\",\"kļuvāt\",\"kļūs\",\"kļūsi\",\"kļūsiet\",\"kļūsim\",\"kļūst\",\"kļūstam\",\"kļūstat\",\"kļūsti\",\"kļūstu\",\"kļūt\",\"kļūšu\",\"labad\",\"lai\",\"lejpus\",\"līdz\",\"līdzko\",\"ne\",\"nebūt\",\"nedz\",\"nekā\",\"nevis\",\"nezin\",\"no\",\"nu\",\"nē\",\"otrpus\",\"pa\",\"par\",\"pat\",\"pie\",\"pirms\",\"pret\",\"priekš\",\"pār\",\"pēc\",\"starp\",\"tad\",\"tak\",\"tapi\",\"taps\",\"tapsi\",\"tapsiet\",\"tapsim\",\"tapt\",\"tapāt\",\"tapšu\",\"taču\",\"te\",\"tiec\",\"tiek\",\"tiekam\",\"tiekat\",\"tieku\",\"tik\",\"tika\",\"tikai\",\"tiki\",\"tikko\",\"tiklab\",\"tiklīdz\",\"tiks\",\"tiksiet\",\"tiksim\",\"tikt\",\"tiku\",\"tikvien\",\"tikām\",\"tikāt\",\"tikšu\",\"tomēr\",\"topat\",\"turpretim\",\"turpretī\",\"tā\",\"tādēļ\",\"tālab\",\"tāpēc\",\"un\",\"uz\",\"vai\",\"var\",\"varat\",\"varēja\",\"varēji\",\"varēju\",\"varējām\",\"varējāt\",\"varēs\",\"varēsi\",\"varēsiet\",\"varēsim\",\"varēt\",\"varēšu\",\"vien\",\"virs\",\"virspus\",\"vis\",\"viņpus\",\"zem\",\"ārpus\",\"šaipus\"],\"th\":[\"กล่าว\",\"กว่า\",\"กัน\",\"กับ\",\"การ\",\"ก็\",\"ก่อน\",\"ขณะ\",\"ขอ\",\"ของ\",\"ขึ้น\",\"คง\",\"ครั้ง\",\"ความ\",\"คือ\",\"จะ\",\"จัด\",\"จาก\",\"จึง\",\"ช่วง\",\"ซึ่ง\",\"ดัง\",\"ด้วย\",\"ด้าน\",\"ตั้ง\",\"ตั้งแต่\",\"ตาม\",\"ต่อ\",\"ต่าง\",\"ต่างๆ\",\"ต้อง\",\"ถึง\",\"ถูก\",\"ถ้า\",\"ทั้ง\",\"ทั้งนี้\",\"ทาง\",\"ที่\",\"ที่สุด\",\"ทุก\",\"ทํา\",\"ทําให้\",\"นอกจาก\",\"นัก\",\"นั้น\",\"นี้\",\"น่า\",\"นํา\",\"บาง\",\"ผล\",\"ผ่าน\",\"พบ\",\"พร้อม\",\"มา\",\"มาก\",\"มี\",\"ยัง\",\"รวม\",\"ระหว่าง\",\"รับ\",\"ราย\",\"ร่วม\",\"ลง\",\"วัน\",\"ว่า\",\"สุด\",\"ส่ง\",\"ส่วน\",\"สําหรับ\",\"หนึ่ง\",\"หรือ\",\"หลัง\",\"หลังจาก\",\"หลาย\",\"หาก\",\"อยาก\",\"อยู่\",\"อย่าง\",\"ออก\",\"อะไร\",\"อาจ\",\"อีก\",\"เขา\",\"เข้า\",\"เคย\",\"เฉพาะ\",\"เช่น\",\"เดียว\",\"เดียวกัน\",\"เนื่องจาก\",\"เปิด\",\"เปิดเผย\",\"เป็น\",\"เป็นการ\",\"เพราะ\",\"เพื่อ\",\"เมื่อ\",\"เรา\",\"เริ่ม\",\"เลย\",\"เห็น\",\"เอง\",\"แต่\",\"แบบ\",\"แรก\",\"และ\",\"แล้ว\",\"แห่ง\",\"โดย\",\"ใน\",\"ให้\",\"ได้\",\"ไป\",\"ไม่\",\"ไว้\"],\"ar\":[\"،\",\"أ\",\"ا\",\"اثر\",\"اجل\",\"احد\",\"اخرى\",\"اذا\",\"اربعة\",\"اطار\",\"اعادة\",\"اعلنت\",\"اف\",\"اكثر\",\"اكد\",\"الا\",\"الاخيرة\",\"الان\",\"الاول\",\"الاولى\",\"التى\",\"التي\",\"الثاني\",\"الثانية\",\"الذاتي\",\"الذى\",\"الذي\",\"الذين\",\"السابق\",\"الف\",\"الماضي\",\"المقبل\",\"الوقت\",\"الى\",\"اليوم\",\"اما\",\"امام\",\"امس\",\"ان\",\"انه\",\"انها\",\"او\",\"اول\",\"اي\",\"ايار\",\"ايام\",\"ايضا\",\"ب\",\"باسم\",\"بان\",\"برس\",\"بسبب\",\"بشكل\",\"بعد\",\"بعض\",\"بن\",\"به\",\"بها\",\"بين\",\"تم\",\"ثلاثة\",\"ثم\",\"جميع\",\"حاليا\",\"حتى\",\"حوالى\",\"حول\",\"حيث\",\"حين\",\"خلال\",\"دون\",\"ذلك\",\"زيارة\",\"سنة\",\"سنوات\",\"شخصا\",\"صباح\",\"صفر\",\"ضد\",\"ضمن\",\"عام\",\"عاما\",\"عدة\",\"عدد\",\"عدم\",\"عشر\",\"عشرة\",\"على\",\"عليه\",\"عليها\",\"عن\",\"عند\",\"عندما\",\"غدا\",\"غير\",\"ـ\",\"ف\",\"فان\",\"فى\",\"في\",\"فيه\",\"فيها\",\"قال\",\"قبل\",\"قد\",\"قوة\",\"كان\",\"كانت\",\"كل\",\"كلم\",\"كما\",\"لا\",\"لدى\",\"لقاء\",\"لكن\",\"للامم\",\"لم\",\"لن\",\"له\",\"لها\",\"لوكالة\",\"ما\",\"مايو\",\"مساء\",\"مع\",\"مقابل\",\"مليار\",\"مليون\",\"من\",\"منذ\",\"منها\",\"نحو\",\"نفسه\",\"نهاية\",\"هذا\",\"هذه\",\"هناك\",\"هو\",\"هي\",\"و\",\"و6\",\"واحد\",\"واضاف\",\"واضافت\",\"واكد\",\"وان\",\"واوضح\",\"وفي\",\"وقال\",\"وقالت\",\"وقد\",\"وقف\",\"وكان\",\"وكانت\",\"ولا\",\"ولم\",\"ومن\",\"وهو\",\"وهي\",\"يكون\",\"يمكن\",\"يوم\"],\"bg\":[\"а\",\"автентичен\",\"аз\",\"ако\",\"ала\",\"бе\",\"без\",\"беше\",\"би\",\"бивш\",\"бивша\",\"бившо\",\"бил\",\"била\",\"били\",\"било\",\"благодаря\",\"близо\",\"бъдат\",\"бъде\",\"бяха\",\"в\",\"вас\",\"ваш\",\"ваша\",\"вероятно\",\"вече\",\"взема\",\"ви\",\"вие\",\"винаги\",\"внимава\",\"време\",\"все\",\"всеки\",\"всички\",\"всичко\",\"всяка\",\"във\",\"въпреки\",\"върху\",\"г\",\"ги\",\"главен\",\"главна\",\"главно\",\"глас\",\"го\",\"година\",\"години\",\"годишен\",\"д\",\"да\",\"дали\",\"два\",\"двама\",\"двамата\",\"две\",\"двете\",\"ден\",\"днес\",\"дни\",\"до\",\"добра\",\"добре\",\"добро\",\"добър\",\"докато\",\"докога\",\"дори\",\"досега\",\"доста\",\"друг\",\"друга\",\"други\",\"е\",\"евтин\",\"едва\",\"един\",\"една\",\"еднаква\",\"еднакви\",\"еднакъв\",\"едно\",\"екип\",\"ето\",\"живот\",\"за\",\"забавям\",\"зад\",\"заедно\",\"заради\",\"засега\",\"заспал\",\"затова\",\"защо\",\"защото\",\"и\",\"из\",\"или\",\"им\",\"има\",\"имат\",\"иска\",\"й\",\"каза\",\"как\",\"каква\",\"какво\",\"както\",\"какъв\",\"като\",\"кога\",\"когато\",\"което\",\"които\",\"кой\",\"който\",\"колко\",\"която\",\"къде\",\"където\",\"към\",\"лесен\",\"лесно\",\"ли\",\"лош\",\"м\",\"май\",\"малко\",\"ме\",\"между\",\"мек\",\"мен\",\"месец\",\"ми\",\"много\",\"мнозина\",\"мога\",\"могат\",\"може\",\"мокър\",\"моля\",\"момента\",\"му\",\"н\",\"на\",\"над\",\"назад\",\"най\",\"направи\",\"напред\",\"например\",\"нас\",\"не\",\"него\",\"нещо\",\"нея\",\"ни\",\"ние\",\"никой\",\"нито\",\"нищо\",\"но\",\"нов\",\"нова\",\"нови\",\"новина\",\"някои\",\"някой\",\"няколко\",\"няма\",\"обаче\",\"около\",\"освен\",\"особено\",\"от\",\"отгоре\",\"отново\",\"още\",\"пак\",\"по\",\"повече\",\"повечето\",\"под\",\"поне\",\"поради\",\"после\",\"почти\",\"прави\",\"пред\",\"преди\",\"през\",\"при\",\"пък\",\"първата\",\"първи\",\"първо\",\"пъти\",\"равен\",\"равна\",\"с\",\"са\",\"сам\",\"само\",\"се\",\"сега\",\"си\",\"син\",\"скоро\",\"след\",\"следващ\",\"сме\",\"смях\",\"според\",\"сред\",\"срещу\",\"сте\",\"съм\",\"със\",\"също\",\"т\",\"т.н.\",\"тази\",\"така\",\"такива\",\"такъв\",\"там\",\"твой\",\"те\",\"тези\",\"ти\",\"то\",\"това\",\"тогава\",\"този\",\"той\",\"толкова\",\"точно\",\"три\",\"трябва\",\"тук\",\"тъй\",\"тя\",\"тях\",\"у\",\"утре\",\"харесва\",\"хиляди\",\"ч\",\"часа\",\"че\",\"често\",\"чрез\",\"ще\",\"щом\",\"юмрук\",\"я\",\"як\"],\"bn\":[\"অনেক\",\"অন্য\",\"অবশ্য\",\"আগে\",\"আছে\",\"আজ\",\"আবার\",\"আমরা\",\"আমাদের\",\"আর\",\"ই\",\"উত্তর\",\"উপর\",\"উপরে\",\"এ\",\"এই\",\"এক্\",\"এখন\",\"এত\",\"এব\",\"এমন\",\"এমনি\",\"এর\",\"এস\",\"এসে\",\"ও\",\"ওই\",\"কমনে\",\"করা\",\"করে\",\"কাছে\",\"কাজ\",\"কাজে\",\"কারণ\",\"কি\",\"কিছু\",\"কে\",\"কেউ\",\"কেখা\",\"কেন\",\"কোটি\",\"কোনো\",\"কয়েক\",\"খুব\",\"গিয়ে\",\"গেল\",\"চার\",\"চালু\",\"চেষ্টা\",\"ছিল\",\"জানা\",\"জ্নজন\",\"টি\",\"তখন\",\"তবে\",\"তা\",\"তাই\",\"তো\",\"থাকা\",\"থেকে\",\"দিন\",\"দু\",\"দুই\",\"দেওয়া\",\"ধামার\",\"নতুন\",\"না\",\"নাগাদ\",\"নিয়ে\",\"নেওয়া\",\"নয়\",\"পর\",\"পরে\",\"পাচ\",\"পি\",\"পেয়্র্\",\"প্রতি\",\"প্রথম\",\"প্রযন্ত\",\"প্রাথমিক\",\"প্রায়\",\"বক্তব্য\",\"বন\",\"বলা\",\"বলে\",\"বলেন\",\"বহু\",\"বা\",\"বি\",\"বিভিন্ন\",\"বেশ\",\"বেশি\",\"মতো\",\"মধ্যে\",\"মনে\",\"যখন\",\"যদি\",\"যা\",\"যাওয়া\",\"যে\",\"র\",\"রকম\",\"লক্ষ\",\"শুধু\",\"শুরু\",\"সঙ্গে\",\"সব\",\"সহ\",\"সাধারণ\",\"সামনে\",\"সি\",\"সে\",\"সেই\",\"হতে\",\"হাজার\",\"হয়\"],\"fa\":[\"آباد\",\"آره\",\"آری\",\"آمد\",\"آمده\",\"آن\",\"آنان\",\"آنجا\",\"آنكه\",\"آنها\",\"آنچه\",\"آورد\",\"آورده\",\"آيد\",\"آیا\",\"اثرِ\",\"از\",\"است\",\"استفاده\",\"اش\",\"اكنون\",\"البته\",\"البتّه\",\"ام\",\"اما\",\"امروز\",\"امسال\",\"اند\",\"انکه\",\"او\",\"اول\",\"اي\",\"ايشان\",\"ايم\",\"اين\",\"اينكه\",\"اگر\",\"با\",\"بار\",\"بارة\",\"باره\",\"باشد\",\"باشند\",\"باشيم\",\"بالا\",\"بالایِ\",\"بايد\",\"بدون\",\"بر\",\"برابرِ\",\"براساس\",\"براي\",\"برایِ\",\"برخوردار\",\"برخي\",\"برداري\",\"بروز\",\"بسيار\",\"بسياري\",\"بعد\",\"بعری\",\"بعضي\",\"بلكه\",\"بله\",\"بلکه\",\"بلی\",\"بنابراين\",\"بندي\",\"به\",\"بهترين\",\"بود\",\"بودن\",\"بودند\",\"بوده\",\"بي\",\"بيست\",\"بيش\",\"بيشتر\",\"بيشتري\",\"بين\",\"بی\",\"بیرونِ\",\"تا\",\"تازه\",\"تاكنون\",\"تان\",\"تحت\",\"تر\",\"ترين\",\"تمام\",\"تمامي\",\"تنها\",\"تواند\",\"توانند\",\"توسط\",\"تولِ\",\"تویِ\",\"جا\",\"جاي\",\"جايي\",\"جدا\",\"جديد\",\"جريان\",\"جز\",\"جلوگيري\",\"جلویِ\",\"حتي\",\"حدودِ\",\"حق\",\"خارجِ\",\"خدمات\",\"خواست\",\"خواهد\",\"خواهند\",\"خواهيم\",\"خود\",\"خويش\",\"خیاه\",\"داد\",\"دادن\",\"دادند\",\"داده\",\"دارد\",\"دارند\",\"داريم\",\"داشت\",\"داشتن\",\"داشتند\",\"داشته\",\"دانست\",\"دانند\",\"در\",\"درباره\",\"دنبالِ\",\"ده\",\"دهد\",\"دهند\",\"دو\",\"دوم\",\"ديده\",\"ديروز\",\"ديگر\",\"ديگران\",\"ديگري\",\"دیگر\",\"را\",\"راه\",\"رفت\",\"رفته\",\"روب\",\"روزهاي\",\"روي\",\"رویِ\",\"ريزي\",\"زياد\",\"زير\",\"زيرا\",\"زیرِ\",\"سابق\",\"ساخته\",\"سازي\",\"سراسر\",\"سریِ\",\"سعي\",\"سمتِ\",\"سوم\",\"سوي\",\"سویِ\",\"سپس\",\"شان\",\"شايد\",\"شد\",\"شدن\",\"شدند\",\"شده\",\"شش\",\"شما\",\"شناسي\",\"شود\",\"شوند\",\"صورت\",\"ضدِّ\",\"ضمن\",\"طبقِ\",\"طريق\",\"طور\",\"طي\",\"عقبِ\",\"علّتِ\",\"عنوانِ\",\"غير\",\"فقط\",\"فكر\",\"فوق\",\"قابل\",\"قبل\",\"قصدِ\",\"كرد\",\"كردم\",\"كردن\",\"كردند\",\"كرده\",\"كسي\",\"كل\",\"كمتر\",\"كند\",\"كنم\",\"كنند\",\"كنيد\",\"كنيم\",\"كه\",\"لطفاً\",\"ما\",\"مان\",\"مانند\",\"مانندِ\",\"مثل\",\"مثلِ\",\"مختلف\",\"مدّتی\",\"مردم\",\"مرسی\",\"مقابل\",\"من\",\"مورد\",\"مي\",\"ميليارد\",\"ميليون\",\"مگر\",\"ناشي\",\"نام\",\"نبايد\",\"نبود\",\"نخست\",\"نخستين\",\"نخواهد\",\"ندارد\",\"ندارند\",\"نداشته\",\"نزديك\",\"نزدِ\",\"نزدیکِ\",\"نشان\",\"نشده\",\"نظير\",\"نكرده\",\"نمايد\",\"نمي\",\"نه\",\"نوعي\",\"نيز\",\"نيست\",\"ها\",\"هاي\",\"هايي\",\"هر\",\"هرگز\",\"هزار\",\"هست\",\"هستند\",\"هستيم\",\"هفت\",\"هم\",\"همان\",\"همه\",\"همواره\",\"همين\",\"همچنان\",\"همچنين\",\"همچون\",\"همین\",\"هنوز\",\"هنگام\",\"هنگامِ\",\"هنگامی\",\"هيچ\",\"هیچ\",\"و\",\"وسطِ\",\"وقتي\",\"وقتیکه\",\"ولی\",\"وي\",\"وگو\",\"يا\",\"يابد\",\"يك\",\"يكديگر\",\"يكي\",\"ّه\",\"پاعینِ\",\"پس\",\"پنج\",\"پيش\",\"پیش\",\"پیشِ\",\"چرا\",\"چطور\",\"چند\",\"چندین\",\"چنين\",\"چه\",\"چهار\",\"چون\",\"چيزي\",\"چگونه\",\"چیز\",\"چیزی\",\"چیست\",\"کجا\",\"کجاست\",\"کدام\",\"کس\",\"کسی\",\"کنارِ\",\"که\",\"کَی\",\"کی\",\"گذاري\",\"گذاشته\",\"گردد\",\"گرفت\",\"گرفته\",\"گروهي\",\"گفت\",\"گفته\",\"گويد\",\"گويند\",\"گيرد\",\"گيري\",\"یا\",\"یک\"],\"hi\":[\"अंदर\",\"अत\",\"अदि\",\"अप\",\"अपना\",\"अपनि\",\"अपनी\",\"अपने\",\"अभि\",\"अभी\",\"आदि\",\"आप\",\"इंहिं\",\"इंहें\",\"इंहों\",\"इतयादि\",\"इत्यादि\",\"इन\",\"इनका\",\"इन्हीं\",\"इन्हें\",\"इन्हों\",\"इस\",\"इसका\",\"इसकि\",\"इसकी\",\"इसके\",\"इसमें\",\"इसि\",\"इसी\",\"इसे\",\"उंहिं\",\"उंहें\",\"उंहों\",\"उन\",\"उनका\",\"उनकि\",\"उनकी\",\"उनके\",\"उनको\",\"उन्हीं\",\"उन्हें\",\"उन्हों\",\"उस\",\"उसके\",\"उसि\",\"उसी\",\"उसे\",\"एक\",\"एवं\",\"एस\",\"एसे\",\"ऐसे\",\"ओर\",\"और\",\"कइ\",\"कई\",\"कर\",\"करता\",\"करते\",\"करना\",\"करने\",\"करें\",\"कहते\",\"कहा\",\"का\",\"काफि\",\"काफ़ी\",\"कि\",\"किंहें\",\"किंहों\",\"कितना\",\"किन्हें\",\"किन्हों\",\"किया\",\"किर\",\"किस\",\"किसि\",\"किसी\",\"किसे\",\"की\",\"कुछ\",\"कुल\",\"के\",\"को\",\"कोइ\",\"कोई\",\"कोन\",\"कोनसा\",\"कौन\",\"कौनसा\",\"गया\",\"घर\",\"जब\",\"जहाँ\",\"जहां\",\"जा\",\"जिंहें\",\"जिंहों\",\"जितना\",\"जिधर\",\"जिन\",\"जिन्हें\",\"जिन्हों\",\"जिस\",\"जिसे\",\"जीधर\",\"जेसा\",\"जेसे\",\"जैसा\",\"जैसे\",\"जो\",\"तक\",\"तब\",\"तरह\",\"तिंहें\",\"तिंहों\",\"तिन\",\"तिन्हें\",\"तिन्हों\",\"तिस\",\"तिसे\",\"तो\",\"था\",\"थि\",\"थी\",\"थे\",\"दबारा\",\"दवारा\",\"दिया\",\"दुसरा\",\"दुसरे\",\"दूसरे\",\"दो\",\"द्वारा\",\"न\",\"नहिं\",\"नहीं\",\"ना\",\"निचे\",\"निहायत\",\"नीचे\",\"ने\",\"पर\",\"पहले\",\"पुरा\",\"पूरा\",\"पे\",\"फिर\",\"बनि\",\"बनी\",\"बहि\",\"बही\",\"बहुत\",\"बाद\",\"बाला\",\"बिलकुल\",\"भि\",\"भितर\",\"भी\",\"भीतर\",\"मगर\",\"मानो\",\"मे\",\"में\",\"यदि\",\"यह\",\"यहाँ\",\"यहां\",\"यहि\",\"यही\",\"या\",\"यिह\",\"ये\",\"रखें\",\"रवासा\",\"रहा\",\"रहे\",\"ऱ्वासा\",\"लिए\",\"लिये\",\"लेकिन\",\"व\",\"वगेरह\",\"वरग\",\"वर्ग\",\"वह\",\"वहाँ\",\"वहां\",\"वहिं\",\"वहीं\",\"वाले\",\"वुह\",\"वे\",\"वग़ैरह\",\"संग\",\"सकता\",\"सकते\",\"सबसे\",\"सभि\",\"सभी\",\"साथ\",\"साबुत\",\"साभ\",\"सारा\",\"से\",\"सो\",\"हि\",\"ही\",\"हुअ\",\"हुआ\",\"हुइ\",\"हुई\",\"हुए\",\"हे\",\"हें\",\"है\",\"हैं\",\"हो\",\"होता\",\"होति\",\"होती\",\"होते\",\"होना\",\"होने\"],\"mr\":[\"अधिक\",\"अनेक\",\"अशी\",\"असलयाचे\",\"असलेल्या\",\"असा\",\"असून\",\"असे\",\"आज\",\"आणि\",\"आता\",\"आपल्या\",\"आला\",\"आली\",\"आले\",\"आहे\",\"आहेत\",\"एक\",\"एका\",\"कमी\",\"करणयात\",\"करून\",\"का\",\"काम\",\"काय\",\"काही\",\"किवा\",\"की\",\"केला\",\"केली\",\"केले\",\"कोटी\",\"गेल्या\",\"घेऊन\",\"जात\",\"झाला\",\"झाली\",\"झाले\",\"झालेल्या\",\"टा\",\"डॉ\",\"तर\",\"तरी\",\"तसेच\",\"ता\",\"ती\",\"तीन\",\"ते\",\"तो\",\"त्या\",\"त्याचा\",\"त्याची\",\"त्याच्या\",\"त्याना\",\"त्यानी\",\"त्यामुळे\",\"त्री\",\"दिली\",\"दोन\",\"न\",\"नाही\",\"निर्ण्य\",\"पण\",\"पम\",\"परयतन\",\"पाटील\",\"म\",\"मात्र\",\"माहिती\",\"मी\",\"मुबी\",\"म्हणजे\",\"म्हणाले\",\"म्हणून\",\"या\",\"याचा\",\"याची\",\"याच्या\",\"याना\",\"यानी\",\"येणार\",\"येत\",\"येथील\",\"येथे\",\"लाख\",\"व\",\"व्यकत\",\"सर्व\",\"सागित्ले\",\"सुरू\",\"हजार\",\"हा\",\"ही\",\"हे\",\"होणार\",\"होत\",\"होता\",\"होती\",\"होते\"],\"ro\":[\"acea\",\"aceasta\",\"această\",\"aceea\",\"acei\",\"aceia\",\"acel\",\"acela\",\"acele\",\"acelea\",\"acest\",\"acesta\",\"aceste\",\"acestea\",\"aceşti\",\"aceştia\",\"acolo\",\"acord\",\"acum\",\"ai\",\"aia\",\"aibă\",\"aici\",\"al\",\"ale\",\"alea\",\"altceva\",\"altcineva\",\"am\",\"ar\",\"are\",\"asemenea\",\"asta\",\"astea\",\"astăzi\",\"asupra\",\"au\",\"avea\",\"avem\",\"aveţi\",\"azi\",\"aş\",\"aşadar\",\"aţi\",\"bine\",\"bucur\",\"bună\",\"ca\",\"care\",\"caut\",\"ce\",\"cel\",\"ceva\",\"chiar\",\"cinci\",\"cine\",\"cineva\",\"contra\",\"cu\",\"cum\",\"cumva\",\"curând\",\"curînd\",\"când\",\"cât\",\"câte\",\"câtva\",\"câţi\",\"cînd\",\"cît\",\"cîte\",\"cîtva\",\"cîţi\",\"că\",\"căci\",\"cărei\",\"căror\",\"cărui\",\"către\",\"da\",\"dacă\",\"dar\",\"datorită\",\"dată\",\"dau\",\"de\",\"deci\",\"deja\",\"deoarece\",\"departe\",\"deşi\",\"din\",\"dinaintea\",\"dintr-\",\"dintre\",\"doi\",\"doilea\",\"două\",\"drept\",\"după\",\"dă\",\"ea\",\"ei\",\"el\",\"ele\",\"eram\",\"este\",\"eu\",\"eşti\",\"face\",\"fata\",\"fi\",\"fie\",\"fiecare\",\"fii\",\"fim\",\"fiu\",\"fiţi\",\"frumos\",\"fără\",\"graţie\",\"halbă\",\"iar\",\"ieri\",\"la\",\"le\",\"li\",\"lor\",\"lui\",\"lângă\",\"lîngă\",\"mai\",\"mea\",\"mei\",\"mele\",\"mereu\",\"meu\",\"mi\",\"mie\",\"mine\",\"mult\",\"multă\",\"mulţi\",\"mulţumesc\",\"mâine\",\"mîine\",\"mă\",\"ne\",\"nevoie\",\"nici\",\"nicăieri\",\"nimeni\",\"nimeri\",\"nimic\",\"nişte\",\"noastre\",\"noastră\",\"noi\",\"noroc\",\"nostru\",\"nouă\",\"noştri\",\"nu\",\"opt\",\"ori\",\"oricare\",\"orice\",\"oricine\",\"oricum\",\"oricând\",\"oricât\",\"oricînd\",\"oricît\",\"oriunde\",\"patra\",\"patru\",\"patrulea\",\"pe\",\"pentru\",\"peste\",\"pic\",\"poate\",\"pot\",\"prea\",\"prima\",\"primul\",\"prin\",\"printr-\",\"puţin\",\"puţina\",\"puţină\",\"până\",\"pînă\",\"rog\",\"sa\",\"sale\",\"sau\",\"se\",\"spate\",\"spre\",\"sub\",\"sunt\",\"suntem\",\"sunteţi\",\"sută\",\"sînt\",\"sîntem\",\"sînteţi\",\"să\",\"săi\",\"său\",\"ta\",\"tale\",\"te\",\"timp\",\"tine\",\"toate\",\"toată\",\"tot\",\"totuşi\",\"toţi\",\"trei\",\"treia\",\"treilea\",\"tu\",\"tăi\",\"tău\",\"un\",\"una\",\"unde\",\"undeva\",\"unei\",\"uneia\",\"unele\",\"uneori\",\"unii\",\"unor\",\"unora\",\"unu\",\"unui\",\"unuia\",\"unul\",\"vi\",\"voastre\",\"voastră\",\"voi\",\"vostru\",\"vouă\",\"voştri\",\"vreme\",\"vreo\",\"vreun\",\"vă\",\"zece\",\"zero\",\"zi\",\"zice\",\"îi\",\"îl\",\"îmi\",\"împotriva\",\"în\",\"înainte\",\"înaintea\",\"încotro\",\"încât\",\"încît\",\"între\",\"întrucât\",\"întrucît\",\"îţi\",\"ăla\",\"ălea\",\"ăsta\",\"ăstea\",\"ăştia\",\"şapte\",\"şase\",\"şi\",\"ştiu\",\"ţi\",\"ţie\"],\"en\":[\"a\",\"a's\",\"able\",\"about\",\"above\",\"according\",\"accordingly\",\"across\",\"actually\",\"after\",\"afterwards\",\"again\",\"against\",\"ain't\",\"all\",\"allow\",\"allows\",\"almost\",\"alone\",\"along\",\"already\",\"also\",\"although\",\"always\",\"am\",\"among\",\"amongst\",\"an\",\"and\",\"another\",\"any\",\"anybody\",\"anyhow\",\"anyone\",\"anything\",\"anyway\",\"anyways\",\"anywhere\",\"apart\",\"appear\",\"appreciate\",\"appropriate\",\"are\",\"aren't\",\"around\",\"as\",\"aside\",\"ask\",\"asking\",\"associated\",\"at\",\"available\",\"away\",\"awfully\",\"b\",\"be\",\"became\",\"because\",\"become\",\"becomes\",\"becoming\",\"been\",\"before\",\"beforehand\",\"behind\",\"being\",\"believe\",\"below\",\"beside\",\"besides\",\"best\",\"better\",\"between\",\"beyond\",\"both\",\"brief\",\"but\",\"by\",\"c\",\"c'mon\",\"c's\",\"came\",\"can\",\"can't\",\"cannot\",\"cant\",\"cause\",\"causes\",\"certain\",\"certainly\",\"changes\",\"clearly\",\"co\",\"com\",\"come\",\"comes\",\"concerning\",\"consequently\",\"consider\",\"considering\",\"contain\",\"containing\",\"contains\",\"corresponding\",\"could\",\"couldn't\",\"course\",\"currently\",\"d\",\"definitely\",\"described\",\"despite\",\"did\",\"didn't\",\"different\",\"do\",\"does\",\"doesn't\",\"doing\",\"don't\",\"done\",\"down\",\"downwards\",\"during\",\"e\",\"each\",\"edu\",\"eg\",\"eight\",\"either\",\"else\",\"elsewhere\",\"enough\",\"entirely\",\"especially\",\"et\",\"etc\",\"even\",\"ever\",\"every\",\"everybody\",\"everyone\",\"everything\",\"everywhere\",\"ex\",\"exactly\",\"example\",\"except\",\"f\",\"far\",\"few\",\"fifth\",\"first\",\"five\",\"followed\",\"following\",\"follows\",\"for\",\"former\",\"formerly\",\"forth\",\"four\",\"from\",\"further\",\"furthermore\",\"g\",\"get\",\"gets\",\"getting\",\"given\",\"gives\",\"go\",\"goes\",\"going\",\"gone\",\"got\",\"gotten\",\"greetings\",\"h\",\"had\",\"hadn't\",\"happens\",\"hardly\",\"has\",\"hasn't\",\"have\",\"haven't\",\"having\",\"he\",\"he's\",\"hello\",\"help\",\"hence\",\"her\",\"here\",\"here's\",\"hereafter\",\"hereby\",\"herein\",\"hereupon\",\"hers\",\"herself\",\"hi\",\"him\",\"himself\",\"his\",\"hither\",\"hopefully\",\"how\",\"howbeit\",\"however\",\"i\",\"i'd\",\"i'll\",\"i'm\",\"i've\",\"ie\",\"if\",\"ignored\",\"immediate\",\"in\",\"inasmuch\",\"inc\",\"indeed\",\"indicate\",\"indicated\",\"indicates\",\"inner\",\"insofar\",\"instead\",\"into\",\"inward\",\"is\",\"isn't\",\"it\",\"it'd\",\"it'll\",\"it's\",\"its\",\"itself\",\"j\",\"just\",\"k\",\"keep\",\"keeps\",\"kept\",\"know\",\"known\",\"knows\",\"l\",\"last\",\"lately\",\"later\",\"latter\",\"latterly\",\"least\",\"less\",\"lest\",\"let\",\"let's\",\"like\",\"liked\",\"likely\",\"little\",\"look\",\"looking\",\"looks\",\"ltd\",\"m\",\"mainly\",\"many\",\"may\",\"maybe\",\"me\",\"mean\",\"meanwhile\",\"merely\",\"might\",\"more\",\"moreover\",\"most\",\"mostly\",\"much\",\"must\",\"my\",\"myself\",\"n\",\"name\",\"namely\",\"nd\",\"near\",\"nearly\",\"necessary\",\"need\",\"needs\",\"neither\",\"never\",\"nevertheless\",\"new\",\"next\",\"nine\",\"no\",\"nobody\",\"non\",\"none\",\"noone\",\"nor\",\"normally\",\"not\",\"nothing\",\"novel\",\"now\",\"nowhere\",\"o\",\"obviously\",\"of\",\"off\",\"often\",\"oh\",\"ok\",\"okay\",\"old\",\"on\",\"once\",\"one\",\"ones\",\"only\",\"onto\",\"or\",\"other\",\"others\",\"otherwise\",\"ought\",\"our\",\"ours\",\"ourselves\",\"out\",\"outside\",\"over\",\"overall\",\"own\",\"p\",\"particular\",\"particularly\",\"per\",\"perhaps\",\"placed\",\"please\",\"plus\",\"possible\",\"presumably\",\"probably\",\"provides\",\"q\",\"que\",\"quite\",\"qv\",\"r\",\"rather\",\"rd\",\"re\",\"really\",\"reasonably\",\"regarding\",\"regardless\",\"regards\",\"relatively\",\"respectively\",\"right\",\"s\",\"said\",\"same\",\"saw\",\"say\",\"saying\",\"says\",\"second\",\"secondly\",\"see\",\"seeing\",\"seem\",\"seemed\",\"seeming\",\"seems\",\"seen\",\"self\",\"selves\",\"sensible\",\"sent\",\"serious\",\"seriously\",\"seven\",\"several\",\"shall\",\"she\",\"should\",\"shouldn't\",\"since\",\"six\",\"so\",\"some\",\"somebody\",\"somehow\",\"someone\",\"something\",\"sometime\",\"sometimes\",\"somewhat\",\"somewhere\",\"soon\",\"sorry\",\"specified\",\"specify\",\"specifying\",\"still\",\"sub\",\"such\",\"sup\",\"sure\",\"t\",\"t's\",\"take\",\"taken\",\"tell\",\"tends\",\"th\",\"than\",\"thank\",\"thanks\",\"thanx\",\"that\",\"that's\",\"thats\",\"the\",\"their\",\"theirs\",\"them\",\"themselves\",\"then\",\"thence\",\"there\",\"there's\",\"thereafter\",\"thereby\",\"therefore\",\"therein\",\"theres\",\"thereupon\",\"these\",\"they\",\"they'd\",\"they'll\",\"they're\",\"they've\",\"think\",\"third\",\"this\",\"thorough\",\"thoroughly\",\"those\",\"though\",\"three\",\"through\",\"throughout\",\"thru\",\"thus\",\"to\",\"together\",\"too\",\"took\",\"toward\",\"towards\",\"tried\",\"tries\",\"truly\",\"try\",\"trying\",\"twice\",\"two\",\"u\",\"un\",\"under\",\"unfortunately\",\"unless\",\"unlikely\",\"until\",\"unto\",\"up\",\"upon\",\"us\",\"use\",\"used\",\"useful\",\"uses\",\"using\",\"usually\",\"uucp\",\"v\",\"value\",\"various\",\"very\",\"via\",\"viz\",\"vs\",\"w\",\"want\",\"wants\",\"was\",\"wasn't\",\"way\",\"we\",\"we'd\",\"we'll\",\"we're\",\"we've\",\"welcome\",\"well\",\"went\",\"were\",\"weren't\",\"what\",\"what's\",\"whatever\",\"when\",\"whence\",\"whenever\",\"where\",\"where's\",\"whereafter\",\"whereas\",\"whereby\",\"wherein\",\"whereupon\",\"wherever\",\"whether\",\"which\",\"while\",\"whither\",\"who\",\"who's\",\"whoever\",\"whole\",\"whom\",\"whose\",\"why\",\"will\",\"willing\",\"wish\",\"with\",\"within\",\"without\",\"won't\",\"wonder\",\"would\",\"wouldn't\",\"x\",\"y\",\"yes\",\"yet\",\"you\",\"you'd\",\"you'll\",\"you're\",\"you've\",\"your\",\"yours\",\"yourself\",\"yourselves\",\"z\",\"zero\"]}\n",
    "    stopwords_json_en = set(stopwords_json['en'])\n",
    "    stopwords_nltk_en = set(stopwords.words('english'))\n",
    "    # Combine the stopwords. Its a lot longer so I'm not printing it out...\n",
    "    stoplist_combined = set.union(stopwords_json_en, stopwords_nltk_en)\n",
    "\n",
    "    rmsw_token_words = ([word for word in token_words if word.lower() not in stoplist_combined])\n",
    "    if (verbose):\n",
    "        print('Stopwords removed:' + str(rmsw_token_words[0:20]))\n",
    "    \n",
    "    ## Fouth: remove CAP words\n",
    "#     rmcap_token_words =[]\n",
    "#     for word in rmsw_token_words:\n",
    "#         if word.isupper():\n",
    "#             rmcap_token_words.append(word.title())\n",
    "#         else:\n",
    "#             rmcap_token_words.append(word)\n",
    "#     if (verbose):\n",
    "#         print('CAPITALIZED removed:' + str(rmcap_token_words[0:20]))\n",
    "        \n",
    "     ## Fifth : Remove salutation\n",
    "    salutation = ['mr','mrs','mss','dr','phd','prof','rev']\n",
    "    rmsalu_token_words = ([word for word in rmsw_token_words if word.lower() not in salutation])\n",
    "    if (verbose):\n",
    "        print('Salutation removed:' + str(rmsalu_token_words[0:20]))\n",
    "        \n",
    "\n",
    "    ## define transfer tag function:\n",
    "    def transfer_tag(treebank_tag):\n",
    "        if treebank_tag.startswith('j' or 'J'):\n",
    "            return 'a'\n",
    "        elif treebank_tag.startswith('v' or 'V'):\n",
    "            return 'v'\n",
    "        elif treebank_tag.startswith('n' or 'N'):\n",
    "            return 'n'\n",
    "        elif treebank_tag.startswith('r' or 'R'):\n",
    "            return 'r'\n",
    "        else:\n",
    "            # As default pos in lemmatization is Noun\n",
    "            return 'n'\n",
    "    \n",
    "    ## Seventh: Lemmatization\n",
    "    from nltk import pos_tag\n",
    "    from nltk.stem import WordNetLemmatizer\n",
    "    wnl = WordNetLemmatizer()\n",
    "\n",
    "    lemma_words = []\n",
    "    for word, tag in nltk.pos_tag(rmsalu_token_words):\n",
    "        firstletter = tag[0].lower() # -> get the first letter of tag and put them decapitalized form\n",
    "        wtag = transfer_tag(firstletter) # -> extract the word's tag (noun, verb, adverb, adjective)\n",
    "        if not wtag:\n",
    "            lemma_words.extend([word])\n",
    "        else:\n",
    "            lemma_words.extend([wnl.lemmatize(word, wtag)]) # -> get lemma for word with tag\n",
    "    if (verbose):\n",
    "        print('Lemmas : ' + str(lemma_words[0:10]))\n",
    "        \n",
    "    \n",
    "    ## Eigth: English words\n",
    "    from nltk.corpus import wordnet as wn\n",
    "    eng_words = [word for word in lemma_words if len(wn.synsets(word.lower())) > 1]\n",
    "    \n",
    "    ## Sixth: Remove Numbers\n",
    "    rmnb_token_words = ([word for word in eng_words if not word.isdigit()])\n",
    "    if (verbose):\n",
    "        print('Number removed: ' + str(rmnb_token_words[0:20]))\n",
    "        \n",
    "    \n",
    "    ## RETURN\n",
    "    return rmnb_token_words"
   ]
  },
  {
   "cell_type": "code",
   "execution_count": 28,
   "metadata": {
    "ExecuteTime": {
     "end_time": "2018-10-21T13:53:49.398453Z",
     "start_time": "2018-10-21T13:53:46.897744Z"
    }
   },
   "outputs": [
    {
     "data": {
      "text/html": [
       "<div>\n",
       "<style scoped>\n",
       "    .dataframe tbody tr th:only-of-type {\n",
       "        vertical-align: middle;\n",
       "    }\n",
       "\n",
       "    .dataframe tbody tr th {\n",
       "        vertical-align: top;\n",
       "    }\n",
       "\n",
       "    .dataframe thead th {\n",
       "        text-align: right;\n",
       "    }\n",
       "</style>\n",
       "<table border=\"1\" class=\"dataframe\">\n",
       "  <thead>\n",
       "    <tr style=\"text-align: right;\">\n",
       "      <th></th>\n",
       "      <th>Filename</th>\n",
       "      <th>Content</th>\n",
       "      <th>Tokens</th>\n",
       "    </tr>\n",
       "  </thead>\n",
       "  <tbody>\n",
       "    <tr>\n",
       "      <th>0</th>\n",
       "      <td>3_03</td>\n",
       "      <td>Drink remark 'acts as diversion' The first min...</td>\n",
       "      <td>[Drink, remark, act, diversion, minister, stat...</td>\n",
       "    </tr>\n",
       "    <tr>\n",
       "      <th>1</th>\n",
       "      <td>3_02</td>\n",
       "      <td>Straw to attend Auschwitz service Foreign Secr...</td>\n",
       "      <td>[Straw, attend, service, Foreign, Secretary, J...</td>\n",
       "    </tr>\n",
       "    <tr>\n",
       "      <th>2</th>\n",
       "      <td>3_01</td>\n",
       "      <td>Tsunami debt deal to be announced Chancellor G...</td>\n",
       "      <td>[debt, deal, announce, Chancellor, Brown, hop,...</td>\n",
       "    </tr>\n",
       "    <tr>\n",
       "      <th>3</th>\n",
       "      <td>1_01</td>\n",
       "      <td>Yukos unit buyer faces loan claim The owners o...</td>\n",
       "      <td>[unit, face, loan, claim, owner, embattle, Rus...</td>\n",
       "    </tr>\n",
       "    <tr>\n",
       "      <th>4</th>\n",
       "      <td>1_03</td>\n",
       "      <td>Ask Jeeves tips online ad revival Ask Jeeves h...</td>\n",
       "      <td>[tip, online, ad, revival, lead, online, searc...</td>\n",
       "    </tr>\n",
       "    <tr>\n",
       "      <th>5</th>\n",
       "      <td>1_02</td>\n",
       "      <td>Court rejects $280bn tobacco case A US governm...</td>\n",
       "      <td>[Court, reject, tobacco, case, government, cla...</td>\n",
       "    </tr>\n",
       "    <tr>\n",
       "      <th>6</th>\n",
       "      <td>2_01</td>\n",
       "      <td>Greek pair attend drugs hearing Greek sprinter...</td>\n",
       "      <td>[Greek, pair, attend, drug, hear, Greek, appea...</td>\n",
       "    </tr>\n",
       "    <tr>\n",
       "      <th>7</th>\n",
       "      <td>2_02</td>\n",
       "      <td>Chepkemei joins Edinburgh line-up Susan Chepke...</td>\n",
       "      <td>[join, line, decide, fit, run, month, Great, I...</td>\n",
       "    </tr>\n",
       "    <tr>\n",
       "      <th>8</th>\n",
       "      <td>2_03</td>\n",
       "      <td>El Guerrouj targets cross country Double Olymp...</td>\n",
       "      <td>[El, target, cross, country, Double, Olympic, ...</td>\n",
       "    </tr>\n",
       "    <tr>\n",
       "      <th>9</th>\n",
       "      <td>2_04</td>\n",
       "      <td>Collins appeals against drugs ban Sprinter Mic...</td>\n",
       "      <td>[Collins, appeal, drug, ban, Collins, lodge, a...</td>\n",
       "    </tr>\n",
       "  </tbody>\n",
       "</table>\n",
       "</div>"
      ],
      "text/plain": [
       "  Filename                                            Content  \\\n",
       "0     3_03  Drink remark 'acts as diversion' The first min...   \n",
       "1     3_02  Straw to attend Auschwitz service Foreign Secr...   \n",
       "2     3_01  Tsunami debt deal to be announced Chancellor G...   \n",
       "3     1_01  Yukos unit buyer faces loan claim The owners o...   \n",
       "4     1_03  Ask Jeeves tips online ad revival Ask Jeeves h...   \n",
       "5     1_02  Court rejects $280bn tobacco case A US governm...   \n",
       "6     2_01  Greek pair attend drugs hearing Greek sprinter...   \n",
       "7     2_02  Chepkemei joins Edinburgh line-up Susan Chepke...   \n",
       "8     2_03  El Guerrouj targets cross country Double Olymp...   \n",
       "9     2_04  Collins appeals against drugs ban Sprinter Mic...   \n",
       "\n",
       "                                              Tokens  \n",
       "0  [Drink, remark, act, diversion, minister, stat...  \n",
       "1  [Straw, attend, service, Foreign, Secretary, J...  \n",
       "2  [debt, deal, announce, Chancellor, Brown, hop,...  \n",
       "3  [unit, face, loan, claim, owner, embattle, Rus...  \n",
       "4  [tip, online, ad, revival, lead, online, searc...  \n",
       "5  [Court, reject, tobacco, case, government, cla...  \n",
       "6  [Greek, pair, attend, drug, hear, Greek, appea...  \n",
       "7  [join, line, decide, fit, run, month, Great, I...  \n",
       "8  [El, target, cross, country, Double, Olympic, ...  \n",
       "9  [Collins, appeal, drug, ban, Collins, lodge, a...  "
      ]
     },
     "execution_count": 28,
     "metadata": {},
     "output_type": "execute_result"
    }
   ],
   "source": [
    "df_handle = df_raw.copy()\n",
    "[n,d] = df_handle.shape\n",
    "df_handle['Tokens'] = ['']*n\n",
    "\n",
    "for index, row in df_handle.iterrows():\n",
    "    df_handle['Tokens'].iloc[index] = convert_tokens(row['Content'],0)\n",
    "    \n",
    "df_handle.head(10)"
   ]
  },
  {
   "cell_type": "code",
   "execution_count": 29,
   "metadata": {
    "ExecuteTime": {
     "end_time": "2018-10-21T13:53:49.506760Z",
     "start_time": "2018-10-21T13:53:49.501577Z"
    }
   },
   "outputs": [],
   "source": [
    "def extract_noun(text):\n",
    "    import nltk\n",
    "    lines = text\n",
    "    # function to test if something is a noun\n",
    "    is_noun = lambda pos: pos[:2] == 'NN'\n",
    "    # do the nlp stuff\n",
    "    tokenized = nltk.word_tokenize(lines)\n",
    "    nouns = [word for (word, pos) in nltk.pos_tag(tokenized) if is_noun(pos)] \n",
    "    return nouns"
   ]
  },
  {
   "cell_type": "code",
   "execution_count": 30,
   "metadata": {
    "ExecuteTime": {
     "end_time": "2018-10-21T13:53:49.747580Z",
     "start_time": "2018-10-21T13:53:49.613667Z"
    }
   },
   "outputs": [
    {
     "data": {
      "text/html": [
       "<div>\n",
       "<style scoped>\n",
       "    .dataframe tbody tr th:only-of-type {\n",
       "        vertical-align: middle;\n",
       "    }\n",
       "\n",
       "    .dataframe tbody tr th {\n",
       "        vertical-align: top;\n",
       "    }\n",
       "\n",
       "    .dataframe thead th {\n",
       "        text-align: right;\n",
       "    }\n",
       "</style>\n",
       "<table border=\"1\" class=\"dataframe\">\n",
       "  <thead>\n",
       "    <tr style=\"text-align: right;\">\n",
       "      <th></th>\n",
       "      <th>Filename</th>\n",
       "      <th>Content</th>\n",
       "      <th>Tokens</th>\n",
       "      <th>noun_Tokens</th>\n",
       "    </tr>\n",
       "  </thead>\n",
       "  <tbody>\n",
       "    <tr>\n",
       "      <th>0</th>\n",
       "      <td>3_03</td>\n",
       "      <td>Drink remark 'acts as diversion' The first min...</td>\n",
       "      <td>[Drink, remark, act, diversion, minister, stat...</td>\n",
       "      <td>[Drink, remark, act, diversion, minister, stat...</td>\n",
       "    </tr>\n",
       "    <tr>\n",
       "      <th>1</th>\n",
       "      <td>3_02</td>\n",
       "      <td>Straw to attend Auschwitz service Foreign Secr...</td>\n",
       "      <td>[Straw, attend, service, Foreign, Secretary, J...</td>\n",
       "      <td>[Straw, service, Foreign, Secretary, Jack, Str...</td>\n",
       "    </tr>\n",
       "    <tr>\n",
       "      <th>2</th>\n",
       "      <td>3_01</td>\n",
       "      <td>Tsunami debt deal to be announced Chancellor G...</td>\n",
       "      <td>[debt, deal, announce, Chancellor, Brown, hop,...</td>\n",
       "      <td>[debt, deal, announce, Chancellor, Brown, hop,...</td>\n",
       "    </tr>\n",
       "    <tr>\n",
       "      <th>3</th>\n",
       "      <td>1_01</td>\n",
       "      <td>Yukos unit buyer faces loan claim The owners o...</td>\n",
       "      <td>[unit, face, loan, claim, owner, embattle, Rus...</td>\n",
       "      <td>[unit, face, loan, claim, owner, oil, giant, p...</td>\n",
       "    </tr>\n",
       "    <tr>\n",
       "      <th>4</th>\n",
       "      <td>1_03</td>\n",
       "      <td>Ask Jeeves tips online ad revival Ask Jeeves h...</td>\n",
       "      <td>[tip, online, ad, revival, lead, online, searc...</td>\n",
       "      <td>[online, ad, revival, search, firm, week, revi...</td>\n",
       "    </tr>\n",
       "    <tr>\n",
       "      <th>5</th>\n",
       "      <td>1_02</td>\n",
       "      <td>Court rejects $280bn tobacco case A US governm...</td>\n",
       "      <td>[Court, reject, tobacco, case, government, cla...</td>\n",
       "      <td>[Court, tobacco, case, government, claim, coun...</td>\n",
       "    </tr>\n",
       "    <tr>\n",
       "      <th>6</th>\n",
       "      <td>2_01</td>\n",
       "      <td>Greek pair attend drugs hearing Greek sprinter...</td>\n",
       "      <td>[Greek, pair, attend, drug, hear, Greek, appea...</td>\n",
       "      <td>[pair, drug, ban, suspension, athletics, drug,...</td>\n",
       "    </tr>\n",
       "    <tr>\n",
       "      <th>7</th>\n",
       "      <td>2_02</td>\n",
       "      <td>Chepkemei joins Edinburgh line-up Susan Chepke...</td>\n",
       "      <td>[join, line, decide, fit, run, month, Great, I...</td>\n",
       "      <td>[join, line, month, Great, International, Cros...</td>\n",
       "    </tr>\n",
       "    <tr>\n",
       "      <th>8</th>\n",
       "      <td>2_03</td>\n",
       "      <td>El Guerrouj targets cross country Double Olymp...</td>\n",
       "      <td>[El, target, cross, country, Double, Olympic, ...</td>\n",
       "      <td>[El, target, cross, country, Double, Olympic, ...</td>\n",
       "    </tr>\n",
       "    <tr>\n",
       "      <th>9</th>\n",
       "      <td>2_04</td>\n",
       "      <td>Collins appeals against drugs ban Sprinter Mic...</td>\n",
       "      <td>[Collins, appeal, drug, ban, Collins, lodge, a...</td>\n",
       "      <td>[Collins, drug, ban, Collins, lodge, appeal, y...</td>\n",
       "    </tr>\n",
       "  </tbody>\n",
       "</table>\n",
       "</div>"
      ],
      "text/plain": [
       "  Filename                                            Content  \\\n",
       "0     3_03  Drink remark 'acts as diversion' The first min...   \n",
       "1     3_02  Straw to attend Auschwitz service Foreign Secr...   \n",
       "2     3_01  Tsunami debt deal to be announced Chancellor G...   \n",
       "3     1_01  Yukos unit buyer faces loan claim The owners o...   \n",
       "4     1_03  Ask Jeeves tips online ad revival Ask Jeeves h...   \n",
       "5     1_02  Court rejects $280bn tobacco case A US governm...   \n",
       "6     2_01  Greek pair attend drugs hearing Greek sprinter...   \n",
       "7     2_02  Chepkemei joins Edinburgh line-up Susan Chepke...   \n",
       "8     2_03  El Guerrouj targets cross country Double Olymp...   \n",
       "9     2_04  Collins appeals against drugs ban Sprinter Mic...   \n",
       "\n",
       "                                              Tokens  \\\n",
       "0  [Drink, remark, act, diversion, minister, stat...   \n",
       "1  [Straw, attend, service, Foreign, Secretary, J...   \n",
       "2  [debt, deal, announce, Chancellor, Brown, hop,...   \n",
       "3  [unit, face, loan, claim, owner, embattle, Rus...   \n",
       "4  [tip, online, ad, revival, lead, online, searc...   \n",
       "5  [Court, reject, tobacco, case, government, cla...   \n",
       "6  [Greek, pair, attend, drug, hear, Greek, appea...   \n",
       "7  [join, line, decide, fit, run, month, Great, I...   \n",
       "8  [El, target, cross, country, Double, Olympic, ...   \n",
       "9  [Collins, appeal, drug, ban, Collins, lodge, a...   \n",
       "\n",
       "                                         noun_Tokens  \n",
       "0  [Drink, remark, act, diversion, minister, stat...  \n",
       "1  [Straw, service, Foreign, Secretary, Jack, Str...  \n",
       "2  [debt, deal, announce, Chancellor, Brown, hop,...  \n",
       "3  [unit, face, loan, claim, owner, oil, giant, p...  \n",
       "4  [online, ad, revival, search, firm, week, revi...  \n",
       "5  [Court, tobacco, case, government, claim, coun...  \n",
       "6  [pair, drug, ban, suspension, athletics, drug,...  \n",
       "7  [join, line, month, Great, International, Cros...  \n",
       "8  [El, target, cross, country, Double, Olympic, ...  \n",
       "9  [Collins, drug, ban, Collins, lodge, appeal, y...  "
      ]
     },
     "execution_count": 30,
     "metadata": {},
     "output_type": "execute_result"
    }
   ],
   "source": [
    "import nltk\n",
    "[n,d] = df_handle.shape\n",
    "df_handle['noun_Tokens'] = ['']*n\n",
    "\n",
    "for index, row in df_handle.iterrows():\n",
    "    df_handle['noun_Tokens'].iloc[index] = extract_noun(\" \".join(row['Tokens']))\n",
    "\n",
    "df_handle.head(10)"
   ]
  },
  {
   "cell_type": "markdown",
   "metadata": {},
   "source": [
    "### Calculate TF-IDF"
   ]
  },
  {
   "cell_type": "code",
   "execution_count": 31,
   "metadata": {
    "ExecuteTime": {
     "end_time": "2018-10-21T13:53:52.936871Z",
     "start_time": "2018-10-21T13:53:52.889650Z"
    },
    "scrolled": true
   },
   "outputs": [
    {
     "data": {
      "text/html": [
       "<div>\n",
       "<style scoped>\n",
       "    .dataframe tbody tr th:only-of-type {\n",
       "        vertical-align: middle;\n",
       "    }\n",
       "\n",
       "    .dataframe tbody tr th {\n",
       "        vertical-align: top;\n",
       "    }\n",
       "\n",
       "    .dataframe thead tr th {\n",
       "        text-align: left;\n",
       "    }\n",
       "</style>\n",
       "<table border=\"1\" class=\"dataframe\">\n",
       "  <thead>\n",
       "    <tr>\n",
       "      <th></th>\n",
       "      <th>accumulate</th>\n",
       "      <th>accuse</th>\n",
       "      <th>act</th>\n",
       "      <th>action</th>\n",
       "      <th>ad</th>\n",
       "      <th>add</th>\n",
       "      <th>addiction</th>\n",
       "      <th>administration</th>\n",
       "      <th>admission</th>\n",
       "      <th>adult</th>\n",
       "      <th>...</th>\n",
       "      <th>week</th>\n",
       "      <th>winter</th>\n",
       "      <th>wiser</th>\n",
       "      <th>withdraw</th>\n",
       "      <th>word</th>\n",
       "      <th>world</th>\n",
       "      <th>write</th>\n",
       "      <th>yahoo</th>\n",
       "      <th>year</th>\n",
       "      <th>yelling</th>\n",
       "    </tr>\n",
       "  </thead>\n",
       "  <tbody>\n",
       "    <tr>\n",
       "      <th>0</th>\n",
       "      <td>0.000000</td>\n",
       "      <td>0.000000</td>\n",
       "      <td>0.006432</td>\n",
       "      <td>0.000000</td>\n",
       "      <td>0.000000</td>\n",
       "      <td>0.007567</td>\n",
       "      <td>0.000000</td>\n",
       "      <td>0.000000</td>\n",
       "      <td>0.000000</td>\n",
       "      <td>0.007567</td>\n",
       "      <td>...</td>\n",
       "      <td>0.000000</td>\n",
       "      <td>0.000000</td>\n",
       "      <td>0.007567</td>\n",
       "      <td>0.000000</td>\n",
       "      <td>0.007567</td>\n",
       "      <td>0.000000</td>\n",
       "      <td>0.007567</td>\n",
       "      <td>0.000000</td>\n",
       "      <td>0.000000</td>\n",
       "      <td>0.000000</td>\n",
       "    </tr>\n",
       "    <tr>\n",
       "      <th>1</th>\n",
       "      <td>0.000000</td>\n",
       "      <td>0.000000</td>\n",
       "      <td>0.011256</td>\n",
       "      <td>0.000000</td>\n",
       "      <td>0.000000</td>\n",
       "      <td>0.000000</td>\n",
       "      <td>0.000000</td>\n",
       "      <td>0.000000</td>\n",
       "      <td>0.000000</td>\n",
       "      <td>0.000000</td>\n",
       "      <td>...</td>\n",
       "      <td>0.007862</td>\n",
       "      <td>0.000000</td>\n",
       "      <td>0.000000</td>\n",
       "      <td>0.000000</td>\n",
       "      <td>0.000000</td>\n",
       "      <td>0.000000</td>\n",
       "      <td>0.000000</td>\n",
       "      <td>0.000000</td>\n",
       "      <td>0.000000</td>\n",
       "      <td>0.000000</td>\n",
       "    </tr>\n",
       "    <tr>\n",
       "      <th>2</th>\n",
       "      <td>0.000000</td>\n",
       "      <td>0.000000</td>\n",
       "      <td>0.000000</td>\n",
       "      <td>0.000000</td>\n",
       "      <td>0.000000</td>\n",
       "      <td>0.000000</td>\n",
       "      <td>0.000000</td>\n",
       "      <td>0.000000</td>\n",
       "      <td>0.000000</td>\n",
       "      <td>0.000000</td>\n",
       "      <td>...</td>\n",
       "      <td>0.011508</td>\n",
       "      <td>0.000000</td>\n",
       "      <td>0.000000</td>\n",
       "      <td>0.000000</td>\n",
       "      <td>0.000000</td>\n",
       "      <td>0.012814</td>\n",
       "      <td>0.000000</td>\n",
       "      <td>0.000000</td>\n",
       "      <td>0.009447</td>\n",
       "      <td>0.000000</td>\n",
       "    </tr>\n",
       "    <tr>\n",
       "      <th>3</th>\n",
       "      <td>0.000000</td>\n",
       "      <td>0.000000</td>\n",
       "      <td>0.000000</td>\n",
       "      <td>0.014366</td>\n",
       "      <td>0.000000</td>\n",
       "      <td>0.000000</td>\n",
       "      <td>0.000000</td>\n",
       "      <td>0.000000</td>\n",
       "      <td>0.000000</td>\n",
       "      <td>0.000000</td>\n",
       "      <td>...</td>\n",
       "      <td>0.000000</td>\n",
       "      <td>0.000000</td>\n",
       "      <td>0.000000</td>\n",
       "      <td>0.000000</td>\n",
       "      <td>0.000000</td>\n",
       "      <td>0.000000</td>\n",
       "      <td>0.000000</td>\n",
       "      <td>0.000000</td>\n",
       "      <td>0.000000</td>\n",
       "      <td>0.000000</td>\n",
       "    </tr>\n",
       "    <tr>\n",
       "      <th>4</th>\n",
       "      <td>0.000000</td>\n",
       "      <td>0.000000</td>\n",
       "      <td>0.000000</td>\n",
       "      <td>0.000000</td>\n",
       "      <td>0.022412</td>\n",
       "      <td>0.000000</td>\n",
       "      <td>0.000000</td>\n",
       "      <td>0.000000</td>\n",
       "      <td>0.000000</td>\n",
       "      <td>0.000000</td>\n",
       "      <td>...</td>\n",
       "      <td>0.026618</td>\n",
       "      <td>0.000000</td>\n",
       "      <td>0.000000</td>\n",
       "      <td>0.000000</td>\n",
       "      <td>0.000000</td>\n",
       "      <td>0.000000</td>\n",
       "      <td>0.000000</td>\n",
       "      <td>0.022412</td>\n",
       "      <td>0.010925</td>\n",
       "      <td>0.000000</td>\n",
       "    </tr>\n",
       "    <tr>\n",
       "      <th>5</th>\n",
       "      <td>0.014011</td>\n",
       "      <td>0.014011</td>\n",
       "      <td>0.000000</td>\n",
       "      <td>0.000000</td>\n",
       "      <td>0.000000</td>\n",
       "      <td>0.000000</td>\n",
       "      <td>0.014011</td>\n",
       "      <td>0.014011</td>\n",
       "      <td>0.000000</td>\n",
       "      <td>0.000000</td>\n",
       "      <td>...</td>\n",
       "      <td>0.000000</td>\n",
       "      <td>0.000000</td>\n",
       "      <td>0.000000</td>\n",
       "      <td>0.000000</td>\n",
       "      <td>0.000000</td>\n",
       "      <td>0.000000</td>\n",
       "      <td>0.000000</td>\n",
       "      <td>0.000000</td>\n",
       "      <td>0.006830</td>\n",
       "      <td>0.000000</td>\n",
       "    </tr>\n",
       "    <tr>\n",
       "      <th>6</th>\n",
       "      <td>0.000000</td>\n",
       "      <td>0.000000</td>\n",
       "      <td>0.000000</td>\n",
       "      <td>0.000000</td>\n",
       "      <td>0.000000</td>\n",
       "      <td>0.000000</td>\n",
       "      <td>0.000000</td>\n",
       "      <td>0.000000</td>\n",
       "      <td>0.000000</td>\n",
       "      <td>0.000000</td>\n",
       "      <td>...</td>\n",
       "      <td>0.005954</td>\n",
       "      <td>0.000000</td>\n",
       "      <td>0.000000</td>\n",
       "      <td>0.010027</td>\n",
       "      <td>0.000000</td>\n",
       "      <td>0.000000</td>\n",
       "      <td>0.000000</td>\n",
       "      <td>0.000000</td>\n",
       "      <td>0.014663</td>\n",
       "      <td>0.000000</td>\n",
       "    </tr>\n",
       "    <tr>\n",
       "      <th>7</th>\n",
       "      <td>0.000000</td>\n",
       "      <td>0.000000</td>\n",
       "      <td>0.000000</td>\n",
       "      <td>0.000000</td>\n",
       "      <td>0.000000</td>\n",
       "      <td>0.000000</td>\n",
       "      <td>0.000000</td>\n",
       "      <td>0.000000</td>\n",
       "      <td>0.000000</td>\n",
       "      <td>0.000000</td>\n",
       "      <td>...</td>\n",
       "      <td>0.000000</td>\n",
       "      <td>0.000000</td>\n",
       "      <td>0.000000</td>\n",
       "      <td>0.000000</td>\n",
       "      <td>0.000000</td>\n",
       "      <td>0.031102</td>\n",
       "      <td>0.000000</td>\n",
       "      <td>0.000000</td>\n",
       "      <td>0.022929</td>\n",
       "      <td>0.023518</td>\n",
       "    </tr>\n",
       "    <tr>\n",
       "      <th>8</th>\n",
       "      <td>0.000000</td>\n",
       "      <td>0.000000</td>\n",
       "      <td>0.000000</td>\n",
       "      <td>0.000000</td>\n",
       "      <td>0.000000</td>\n",
       "      <td>0.000000</td>\n",
       "      <td>0.000000</td>\n",
       "      <td>0.000000</td>\n",
       "      <td>0.000000</td>\n",
       "      <td>0.000000</td>\n",
       "      <td>...</td>\n",
       "      <td>0.008115</td>\n",
       "      <td>0.013666</td>\n",
       "      <td>0.000000</td>\n",
       "      <td>0.000000</td>\n",
       "      <td>0.000000</td>\n",
       "      <td>0.063255</td>\n",
       "      <td>0.000000</td>\n",
       "      <td>0.000000</td>\n",
       "      <td>0.019985</td>\n",
       "      <td>0.000000</td>\n",
       "    </tr>\n",
       "    <tr>\n",
       "      <th>9</th>\n",
       "      <td>0.000000</td>\n",
       "      <td>0.000000</td>\n",
       "      <td>0.000000</td>\n",
       "      <td>0.000000</td>\n",
       "      <td>0.000000</td>\n",
       "      <td>0.000000</td>\n",
       "      <td>0.000000</td>\n",
       "      <td>0.000000</td>\n",
       "      <td>0.020543</td>\n",
       "      <td>0.000000</td>\n",
       "      <td>...</td>\n",
       "      <td>0.000000</td>\n",
       "      <td>0.000000</td>\n",
       "      <td>0.000000</td>\n",
       "      <td>0.000000</td>\n",
       "      <td>0.000000</td>\n",
       "      <td>0.013583</td>\n",
       "      <td>0.000000</td>\n",
       "      <td>0.000000</td>\n",
       "      <td>0.020027</td>\n",
       "      <td>0.000000</td>\n",
       "    </tr>\n",
       "  </tbody>\n",
       "</table>\n",
       "<p>10 rows × 432 columns</p>\n",
       "</div>"
      ],
      "text/plain": [
       "  accumulate    accuse       act    action        ad       add addiction  \\\n",
       "0   0.000000  0.000000  0.006432  0.000000  0.000000  0.007567  0.000000   \n",
       "1   0.000000  0.000000  0.011256  0.000000  0.000000  0.000000  0.000000   \n",
       "2   0.000000  0.000000  0.000000  0.000000  0.000000  0.000000  0.000000   \n",
       "3   0.000000  0.000000  0.000000  0.014366  0.000000  0.000000  0.000000   \n",
       "4   0.000000  0.000000  0.000000  0.000000  0.022412  0.000000  0.000000   \n",
       "5   0.014011  0.014011  0.000000  0.000000  0.000000  0.000000  0.014011   \n",
       "6   0.000000  0.000000  0.000000  0.000000  0.000000  0.000000  0.000000   \n",
       "7   0.000000  0.000000  0.000000  0.000000  0.000000  0.000000  0.000000   \n",
       "8   0.000000  0.000000  0.000000  0.000000  0.000000  0.000000  0.000000   \n",
       "9   0.000000  0.000000  0.000000  0.000000  0.000000  0.000000  0.000000   \n",
       "\n",
       "  administration admission     adult    ...         week    winter     wiser  \\\n",
       "0       0.000000  0.000000  0.007567    ...     0.000000  0.000000  0.007567   \n",
       "1       0.000000  0.000000  0.000000    ...     0.007862  0.000000  0.000000   \n",
       "2       0.000000  0.000000  0.000000    ...     0.011508  0.000000  0.000000   \n",
       "3       0.000000  0.000000  0.000000    ...     0.000000  0.000000  0.000000   \n",
       "4       0.000000  0.000000  0.000000    ...     0.026618  0.000000  0.000000   \n",
       "5       0.014011  0.000000  0.000000    ...     0.000000  0.000000  0.000000   \n",
       "6       0.000000  0.000000  0.000000    ...     0.005954  0.000000  0.000000   \n",
       "7       0.000000  0.000000  0.000000    ...     0.000000  0.000000  0.000000   \n",
       "8       0.000000  0.000000  0.000000    ...     0.008115  0.013666  0.000000   \n",
       "9       0.000000  0.020543  0.000000    ...     0.000000  0.000000  0.000000   \n",
       "\n",
       "   withdraw      word     world     write     yahoo      year   yelling  \n",
       "0  0.000000  0.007567  0.000000  0.007567  0.000000  0.000000  0.000000  \n",
       "1  0.000000  0.000000  0.000000  0.000000  0.000000  0.000000  0.000000  \n",
       "2  0.000000  0.000000  0.012814  0.000000  0.000000  0.009447  0.000000  \n",
       "3  0.000000  0.000000  0.000000  0.000000  0.000000  0.000000  0.000000  \n",
       "4  0.000000  0.000000  0.000000  0.000000  0.022412  0.010925  0.000000  \n",
       "5  0.000000  0.000000  0.000000  0.000000  0.000000  0.006830  0.000000  \n",
       "6  0.010027  0.000000  0.000000  0.000000  0.000000  0.014663  0.000000  \n",
       "7  0.000000  0.000000  0.031102  0.000000  0.000000  0.022929  0.023518  \n",
       "8  0.000000  0.000000  0.063255  0.000000  0.000000  0.019985  0.000000  \n",
       "9  0.000000  0.000000  0.013583  0.000000  0.000000  0.020027  0.000000  \n",
       "\n",
       "[10 rows x 432 columns]"
      ]
     },
     "execution_count": 31,
     "metadata": {},
     "output_type": "execute_result"
    }
   ],
   "source": [
    "from sklearn.feature_extraction.text import TfidfVectorizer\n",
    "tfidf_vectorizer = TfidfVectorizer(norm='l1')  \n",
    "list_contents =[]\n",
    "for index, row in df_handle.iterrows():\n",
    "    list_contents.append(' '.join(row.noun_Tokens))\n",
    "    \n",
    "# list_contents = df_handle.Content.values\n",
    "\n",
    "tfidf_matrix = tfidf_vectorizer.fit_transform(list_contents)\n",
    "df_tfidf = pd.DataFrame(tfidf_matrix.toarray(),columns=[tfidf_vectorizer.get_feature_names()])\n",
    "df_tfidf.head(10)"
   ]
  },
  {
   "cell_type": "markdown",
   "metadata": {},
   "source": [
    "### Clustering"
   ]
  },
  {
   "cell_type": "markdown",
   "metadata": {},
   "source": [
    "#### K-Means"
   ]
  },
  {
   "cell_type": "code",
   "execution_count": 32,
   "metadata": {
    "ExecuteTime": {
     "end_time": "2018-10-21T13:53:59.203156Z",
     "start_time": "2018-10-21T13:53:59.170286Z"
    }
   },
   "outputs": [
    {
     "data": {
      "text/plain": [
       "array([0, 0, 0, 0, 2, 0, 0, 1, 1, 0], dtype=int32)"
      ]
     },
     "execution_count": 32,
     "metadata": {},
     "output_type": "execute_result"
    }
   ],
   "source": [
    "### SKLEARN\n",
    "km_model = KMeans(n_clusters=3)\n",
    "km_model.fit_predict(df_tfidf.values)"
   ]
  },
  {
   "cell_type": "code",
   "execution_count": 33,
   "metadata": {
    "ExecuteTime": {
     "end_time": "2018-10-21T13:54:00.125074Z",
     "start_time": "2018-10-21T13:54:00.115710Z"
    }
   },
   "outputs": [
    {
     "name": "stdout",
     "output_type": "stream",
     "text": [
      "Group: 0\n",
      "   3_03\n",
      "   3_02\n",
      "   3_01\n",
      "   1_01\n",
      "   1_02\n",
      "   2_01\n",
      "   2_04\n",
      "Group: 2\n",
      "   1_03\n",
      "Group: 1\n",
      "   2_02\n",
      "   2_03\n"
     ]
    }
   ],
   "source": [
    "clustering = collections.defaultdict(list)\n",
    "for idx, label in enumerate(km_model.labels_):\n",
    "        clustering[label].append(idx)\n",
    "        \n",
    "for word, val in clustering.items():\n",
    "    print('Group:',word)\n",
    "    for i in val:\n",
    "        print('  ',df_handle.iloc[i]['Filename'])"
   ]
  },
  {
   "cell_type": "markdown",
   "metadata": {},
   "source": [
    "#### Hierarchical Clustering"
   ]
  },
  {
   "cell_type": "code",
   "execution_count": 34,
   "metadata": {
    "ExecuteTime": {
     "end_time": "2018-10-21T13:54:03.058491Z",
     "start_time": "2018-10-21T13:54:03.035942Z"
    }
   },
   "outputs": [
    {
     "data": {
      "text/html": [
       "<div>\n",
       "<style scoped>\n",
       "    .dataframe tbody tr th:only-of-type {\n",
       "        vertical-align: middle;\n",
       "    }\n",
       "\n",
       "    .dataframe tbody tr th {\n",
       "        vertical-align: top;\n",
       "    }\n",
       "\n",
       "    .dataframe thead th {\n",
       "        text-align: right;\n",
       "    }\n",
       "</style>\n",
       "<table border=\"1\" class=\"dataframe\">\n",
       "  <thead>\n",
       "    <tr style=\"text-align: right;\">\n",
       "      <th></th>\n",
       "      <th>0</th>\n",
       "      <th>1</th>\n",
       "      <th>2</th>\n",
       "      <th>3</th>\n",
       "      <th>4</th>\n",
       "      <th>5</th>\n",
       "      <th>6</th>\n",
       "      <th>7</th>\n",
       "      <th>8</th>\n",
       "      <th>9</th>\n",
       "    </tr>\n",
       "  </thead>\n",
       "  <tbody>\n",
       "    <tr>\n",
       "      <th>0</th>\n",
       "      <td>1.000000</td>\n",
       "      <td>0.085562</td>\n",
       "      <td>0.066920</td>\n",
       "      <td>0.046714</td>\n",
       "      <td>0.000000</td>\n",
       "      <td>0.015094</td>\n",
       "      <td>0.006482</td>\n",
       "      <td>0.000000</td>\n",
       "      <td>0.008418</td>\n",
       "      <td>0.000000</td>\n",
       "    </tr>\n",
       "    <tr>\n",
       "      <th>1</th>\n",
       "      <td>0.085562</td>\n",
       "      <td>1.000000</td>\n",
       "      <td>0.112347</td>\n",
       "      <td>0.015244</td>\n",
       "      <td>0.028768</td>\n",
       "      <td>0.041786</td>\n",
       "      <td>0.024614</td>\n",
       "      <td>0.018646</td>\n",
       "      <td>0.011629</td>\n",
       "      <td>0.007632</td>\n",
       "    </tr>\n",
       "    <tr>\n",
       "      <th>2</th>\n",
       "      <td>0.066920</td>\n",
       "      <td>0.112347</td>\n",
       "      <td>1.000000</td>\n",
       "      <td>0.036518</td>\n",
       "      <td>0.042083</td>\n",
       "      <td>0.055492</td>\n",
       "      <td>0.022791</td>\n",
       "      <td>0.091053</td>\n",
       "      <td>0.100649</td>\n",
       "      <td>0.011321</td>\n",
       "    </tr>\n",
       "    <tr>\n",
       "      <th>3</th>\n",
       "      <td>0.046714</td>\n",
       "      <td>0.015244</td>\n",
       "      <td>0.036518</td>\n",
       "      <td>1.000000</td>\n",
       "      <td>0.059392</td>\n",
       "      <td>0.128240</td>\n",
       "      <td>0.039195</td>\n",
       "      <td>0.019353</td>\n",
       "      <td>0.007970</td>\n",
       "      <td>0.048069</td>\n",
       "    </tr>\n",
       "    <tr>\n",
       "      <th>4</th>\n",
       "      <td>0.000000</td>\n",
       "      <td>0.028768</td>\n",
       "      <td>0.042083</td>\n",
       "      <td>0.059392</td>\n",
       "      <td>1.000000</td>\n",
       "      <td>0.136359</td>\n",
       "      <td>0.012462</td>\n",
       "      <td>0.007568</td>\n",
       "      <td>0.012501</td>\n",
       "      <td>0.011895</td>\n",
       "    </tr>\n",
       "    <tr>\n",
       "      <th>5</th>\n",
       "      <td>0.015094</td>\n",
       "      <td>0.041786</td>\n",
       "      <td>0.055492</td>\n",
       "      <td>0.128240</td>\n",
       "      <td>0.136359</td>\n",
       "      <td>1.000000</td>\n",
       "      <td>0.038959</td>\n",
       "      <td>0.020780</td>\n",
       "      <td>0.028398</td>\n",
       "      <td>0.043896</td>\n",
       "    </tr>\n",
       "    <tr>\n",
       "      <th>6</th>\n",
       "      <td>0.006482</td>\n",
       "      <td>0.024614</td>\n",
       "      <td>0.022791</td>\n",
       "      <td>0.039195</td>\n",
       "      <td>0.012462</td>\n",
       "      <td>0.038959</td>\n",
       "      <td>1.000000</td>\n",
       "      <td>0.021457</td>\n",
       "      <td>0.043689</td>\n",
       "      <td>0.241243</td>\n",
       "    </tr>\n",
       "    <tr>\n",
       "      <th>7</th>\n",
       "      <td>0.000000</td>\n",
       "      <td>0.018646</td>\n",
       "      <td>0.091053</td>\n",
       "      <td>0.019353</td>\n",
       "      <td>0.007568</td>\n",
       "      <td>0.020780</td>\n",
       "      <td>0.021457</td>\n",
       "      <td>1.000000</td>\n",
       "      <td>0.438962</td>\n",
       "      <td>0.051622</td>\n",
       "    </tr>\n",
       "    <tr>\n",
       "      <th>8</th>\n",
       "      <td>0.008418</td>\n",
       "      <td>0.011629</td>\n",
       "      <td>0.100649</td>\n",
       "      <td>0.007970</td>\n",
       "      <td>0.012501</td>\n",
       "      <td>0.028398</td>\n",
       "      <td>0.043689</td>\n",
       "      <td>0.438962</td>\n",
       "      <td>1.000000</td>\n",
       "      <td>0.062367</td>\n",
       "    </tr>\n",
       "    <tr>\n",
       "      <th>9</th>\n",
       "      <td>0.000000</td>\n",
       "      <td>0.007632</td>\n",
       "      <td>0.011321</td>\n",
       "      <td>0.048069</td>\n",
       "      <td>0.011895</td>\n",
       "      <td>0.043896</td>\n",
       "      <td>0.241243</td>\n",
       "      <td>0.051622</td>\n",
       "      <td>0.062367</td>\n",
       "      <td>1.000000</td>\n",
       "    </tr>\n",
       "  </tbody>\n",
       "</table>\n",
       "</div>"
      ],
      "text/plain": [
       "          0         1         2         3         4         5         6  \\\n",
       "0  1.000000  0.085562  0.066920  0.046714  0.000000  0.015094  0.006482   \n",
       "1  0.085562  1.000000  0.112347  0.015244  0.028768  0.041786  0.024614   \n",
       "2  0.066920  0.112347  1.000000  0.036518  0.042083  0.055492  0.022791   \n",
       "3  0.046714  0.015244  0.036518  1.000000  0.059392  0.128240  0.039195   \n",
       "4  0.000000  0.028768  0.042083  0.059392  1.000000  0.136359  0.012462   \n",
       "5  0.015094  0.041786  0.055492  0.128240  0.136359  1.000000  0.038959   \n",
       "6  0.006482  0.024614  0.022791  0.039195  0.012462  0.038959  1.000000   \n",
       "7  0.000000  0.018646  0.091053  0.019353  0.007568  0.020780  0.021457   \n",
       "8  0.008418  0.011629  0.100649  0.007970  0.012501  0.028398  0.043689   \n",
       "9  0.000000  0.007632  0.011321  0.048069  0.011895  0.043896  0.241243   \n",
       "\n",
       "          7         8         9  \n",
       "0  0.000000  0.008418  0.000000  \n",
       "1  0.018646  0.011629  0.007632  \n",
       "2  0.091053  0.100649  0.011321  \n",
       "3  0.019353  0.007970  0.048069  \n",
       "4  0.007568  0.012501  0.011895  \n",
       "5  0.020780  0.028398  0.043896  \n",
       "6  0.021457  0.043689  0.241243  \n",
       "7  1.000000  0.438962  0.051622  \n",
       "8  0.438962  1.000000  0.062367  \n",
       "9  0.051622  0.062367  1.000000  "
      ]
     },
     "execution_count": 34,
     "metadata": {},
     "output_type": "execute_result"
    }
   ],
   "source": [
    "from sklearn.metrics.pairwise import cosine_similarity, euclidean_distances\n",
    "cosine_matrix =  cosine_similarity(df_tfidf.values)\n",
    "df_cosine = pd.DataFrame(cosine_matrix,index=range(len(df_handle)),columns=range(len(df_handle)))\n",
    "df_cosine.head(10)"
   ]
  },
  {
   "cell_type": "code",
   "execution_count": 35,
   "metadata": {
    "ExecuteTime": {
     "end_time": "2018-10-21T13:54:04.448012Z",
     "start_time": "2018-10-21T13:54:04.287288Z"
    },
    "scrolled": false
   },
   "outputs": [
    {
     "data": {
      "image/png": "[encoded data removed]",
      "text/plain": [
       "<Figure size 720x576 with 1 Axes>"
      ]
     },
     "metadata": {},
     "output_type": "display_data"
    }
   ],
   "source": [
    "from scipy.cluster.hierarchy import ward, dendrogram\n",
    "import matplotlib.pyplot as plt\n",
    "\n",
    "#define the linkage_matrix\n",
    "linkage_matrix = ward(cosine_matrix) \n",
    "\n",
    "# plot the hierarchical graph\n",
    "fig, ax = plt.subplots(figsize=(10,8)) # set size\n",
    "ax = dendrogram(linkage_matrix, orientation=\"top\", labels=list(df_handle['Filename']))\n",
    "\n",
    "plt.show()  #show plot "
   ]
  },
  {
   "cell_type": "code",
   "execution_count": 36,
   "metadata": {
    "ExecuteTime": {
     "end_time": "2018-10-21T13:54:06.492645Z",
     "start_time": "2018-10-21T13:54:06.482214Z"
    }
   },
   "outputs": [
    {
     "name": "stdout",
     "output_type": "stream",
     "text": [
      "Yukos unit buyer faces loan claim The owners of embattled Russian oil giant Yukos are to ask the buyer of its former production unit to pay back a $900m (Â£479m) loan. State-owned Rosneft bought the Yugansk unit for $9.3bn in a sale forced by Russia to part settle a $27.5bn tax claim against Yukos. Yukos' owner Menatep Group says it will ask Rosneft to repay a loan that Yugansk had secured on its assets. Rosneft already faces a similar $540m repayment demand from foreign banks. Legal experts said Rosneft's purchase of Yugansk would include such obligations. \"The pledged assets are with Rosneft, so it will have to pay real money to the creditors to avoid seizure of Yugansk assets,\" said Moscow-based US lawyer Jamie Firestone, who is not connected to the case. Menatep Group's managing director Tim Osborne told the Reuters news agency: \"If they default, we will fight them where the rule of law exists under the international arbitration clauses of the credit.\" Rosneft officials were unavailable for comment. But the company has said it intends to take action against Menatep to recover some of the tax claims and debts owed by Yugansk. Yukos had filed for bankruptcy protection in a US court in an attempt to prevent the forced sale of its main production arm. The sale went ahead in December and Yugansk was sold to a little-known shell company which in turn was bought by Rosneft. Yukos claims its downfall was punishment for the political ambitions of its founder Mikhail Khodorkovsky and has vowed to sue any participant in the sale.\n",
      "----------\n",
      "Court rejects $280bn tobacco case A US government claim accusing the country's biggest tobacco companies of covering up the effects of smoking has been thrown out by an appeal court. The demand for $280bn (Â£155bn) - filed by the Clinton administration in 1999 - was rejected in a 2-1 decision. The court in Washington found that the case could not be brought under federal anti-racketeering laws. Among the accused were Altria Group, RJ Reynolds Tobacco, Lorillard Tobacco, Liggett Group and Brown and Williamson. In its case, the government claimed tobacco firms manipulated nicotine levels to increase addiction, targeted teenagers with multi-billion dollar advertising campaigns, lied about the dangers of smoking and ignored research to the contrary. Prosecutors wanted the cigarette firms to surrender $280bn in profits accumulated over the past 50 years and impose tougher rules on marketing their products. But the Court of Appeals for the District of Columbia ruled that the US government could not sue the firms under legislation drawn up to counteract Mafia infiltration of business. The tobacco companies deny that they illegally conspired to promote smoking and defraud the public. They also say they have already met many of the government's demands in a landmark $206bn settlement reached with 46 states in 1998. Shares of tobacco companies closed higher after the ruling, with Altria rising 5% and Reynolds showing gains of 4.5%.\n",
      "----------\n",
      "Ask Jeeves tips online ad revival Ask Jeeves has become the third leading online search firm this week to thank a revival in internet advertising for improving fortunes. The firm's revenue nearly tripled in the fourth quarter of 2004, exceeding $86m (Â£46m). Ask Jeeves, once among the best-known names on the web, is now a relatively modest player. Its $17m profit for the quarter was dwarfed by the $204m announced by rival Google earlier in the week. During the same quarter, Yahoo earned $187m, again tipping a resurgence in online advertising. The trend has taken hold relatively quickly. Late last year, marketing company Doubleclick, one of the leading providers of online advertising, warned that some or all of its business would have to be put up for sale. But on Thursday, it announced that a sharp turnaround had brought about an unexpected increase in profits. Neither Ask Jeeves nor Doubleclick thrilled investors with their profit news, however. In both cases, their shares fell by some 4%. Analysts attributed the falls to excessive expectations in some quarters, fuelled by the dramatic outperformance of Google on Tuesday.\n",
      "----------\n"
     ]
    }
   ],
   "source": [
    "print(df_handle.loc[df_handle['Filename']=='1_01']['Content'].values[0])\n",
    "print('-'*10)\n",
    "print(df_handle.loc[df_handle['Filename']=='1_02']['Content'].values[0])\n",
    "print('-'*10)\n",
    "print(df_handle.loc[df_handle['Filename']=='1_03']['Content'].values[0])\n",
    "print('-'*10)"
   ]
  },
  {
   "cell_type": "markdown",
   "metadata": {},
   "source": [
    "## Word Embedding"
   ]
  },
  {
   "cell_type": "markdown",
   "metadata": {},
   "source": [
    "### What is Word Embedding?\n"
   ]
  },
  {
   "cell_type": "markdown",
   "metadata": {},
   "source": [
    "A word embedding is an approach to provide a dense vector representation of words that capture something about their meaning.\n",
    "\n",
    "The embedding of a word is a type of word representation that allows words with similar meaning to have a similar representation. In a nutshell, Word Embedding turns text into numbers.\n",
    "\n",
    "In the Bag of Words approach, we know it often results in huge, very sparse vectors, where the dimensionality of the vectors representing each document is equal to the size of the supported vocabulary. Word Embedding aims to create a vector representation with a much lower dimensional space.\n",
    "\n",
    "<img src=\"wordembedding.png\">\n",
    "\n",
    "\n",
    "In Python, we will use the excellent implementation of *word2vec* from the **gensim** package. If you don't already have gensim installed, you'll need to install it.\n",
    "\n",
    "     pip install --upgrade gensim "
   ]
  },
  {
   "cell_type": "markdown",
   "metadata": {},
   "source": [
    "### How to Develop Word Embeddings in Python with Gensim"
   ]
  },
  {
   "cell_type": "code",
   "execution_count": 37,
   "metadata": {
    "ExecuteTime": {
     "end_time": "2018-10-21T13:54:23.269627Z",
     "start_time": "2018-10-21T13:54:22.403726Z"
    }
   },
   "outputs": [
    {
     "name": "stdout",
     "output_type": "stream",
     "text": [
      "Word2Vec(vocab=14, size=100, alpha=0.025)\n"
     ]
    }
   ],
   "source": [
    "from gensim.models import Word2Vec\n",
    "# define training data\n",
    "sentences = [['this', 'is', 'the', 'first', 'sentence', 'for', 'word2vec'],\n",
    "['this', 'is', 'the', 'second', 'sentence'],\n",
    "['yet', 'another', 'sentence'],\n",
    "['one', 'more', 'sentence'],\n",
    "['and', 'the', 'final', 'sentence']]\n",
    "# train model\n",
    "model_ = Word2Vec(sentences, min_count=1)\n",
    "# summarize the loaded model\n",
    "print(model_)"
   ]
  },
  {
   "cell_type": "code",
   "execution_count": 38,
   "metadata": {
    "ExecuteTime": {
     "end_time": "2018-10-21T13:54:27.324851Z",
     "start_time": "2018-10-21T13:54:27.320638Z"
    }
   },
   "outputs": [
    {
     "name": "stdout",
     "output_type": "stream",
     "text": [
      "['this', 'is', 'the', 'first', 'sentence', 'for', 'word2vec', 'second', 'yet', 'another', 'one', 'more', 'and', 'final']\n"
     ]
    }
   ],
   "source": [
    "# summarize vocabulary\n",
    "words = list(model_.wv.vocab)\n",
    "print(words)"
   ]
  },
  {
   "cell_type": "code",
   "execution_count": 39,
   "metadata": {
    "ExecuteTime": {
     "end_time": "2018-10-21T13:54:32.185642Z",
     "start_time": "2018-10-21T13:54:32.179018Z"
    }
   },
   "outputs": [
    {
     "name": "stdout",
     "output_type": "stream",
     "text": [
      "[ 4.39408119e-04 -2.06541689e-03  9.33527481e-05  2.62076974e-05\n",
      " -4.01108665e-03  1.01310713e-03 -2.74496793e-04  2.92297656e-04\n",
      "  1.44645758e-03  1.27032294e-03  1.87346782e-03  3.07555730e-03\n",
      "  1.75283663e-03  3.27093806e-03  1.15570605e-04 -1.74460385e-03\n",
      " -1.11761584e-03  5.64259477e-04  2.76675913e-03  4.24734224e-03\n",
      "  1.24551344e-03  3.92451556e-03 -4.93842643e-03 -4.30454005e-04\n",
      "  1.40949839e-03 -2.02112948e-03 -4.34438558e-03 -4.08573169e-03\n",
      "  3.27506172e-03  3.07279261e-04 -2.09868234e-03 -3.55614582e-03\n",
      "  4.46724752e-03 -2.88073177e-04 -1.91214401e-03  1.17171300e-03\n",
      "  5.61106252e-04 -2.47367844e-03 -3.44761624e-03 -1.32783281e-03\n",
      "  4.56002215e-03 -4.25572944e-04  4.80758352e-03  1.31461537e-03\n",
      " -2.84270011e-03  3.98549298e-03 -4.28697048e-03  4.87334235e-03\n",
      "  3.22474953e-04  4.00682678e-03 -4.48490540e-03 -2.53278855e-03\n",
      " -1.04761403e-03  2.12539569e-03 -4.32605762e-03  6.58211997e-04\n",
      " -2.30833865e-03  7.15517905e-04  3.30987782e-03  2.13456852e-03\n",
      "  5.01702074e-04 -2.63534789e-03  3.99372727e-03 -2.69967713e-03\n",
      " -4.30359039e-03 -4.52621002e-03 -4.08063317e-03  3.81337758e-03\n",
      " -3.80390557e-03 -3.87174799e-03 -2.85549359e-05  2.65725236e-03\n",
      "  1.77586393e-03 -4.58202418e-03 -1.62942719e-03 -4.38826904e-03\n",
      " -4.52306541e-03  2.81515578e-03 -2.36292230e-03 -3.36155249e-03\n",
      " -2.34806258e-03  1.32147397e-03 -6.95319148e-04 -2.25954037e-03\n",
      " -6.50531903e-04  2.50539463e-03 -4.17468045e-03 -2.81459303e-03\n",
      "  4.72437777e-03  3.76116158e-03 -2.40274356e-03 -1.26604398e-03\n",
      " -2.78025097e-03  7.41599870e-05  2.34196032e-03 -4.31893300e-03\n",
      " -9.41423525e-04 -4.64568101e-03  2.59639346e-03 -3.67448456e-03]\n"
     ]
    }
   ],
   "source": [
    "# access vector for one word\n",
    "print(model_['sentence'])"
   ]
  },
  {
   "cell_type": "code",
   "execution_count": 40,
   "metadata": {
    "ExecuteTime": {
     "end_time": "2018-10-21T13:54:43.506231Z",
     "start_time": "2018-10-21T13:54:43.497932Z"
    }
   },
   "outputs": [
    {
     "name": "stdout",
     "output_type": "stream",
     "text": [
      "Word2Vec(vocab=14, size=100, alpha=0.025)\n"
     ]
    }
   ],
   "source": [
    "# save model\n",
    "model_.save('testmodel.bin')\n",
    "# load model\n",
    "new_model_ = Word2Vec.load('testmodel.bin')\n",
    "print(new_model_)"
   ]
  },
  {
   "cell_type": "markdown",
   "metadata": {},
   "source": [
    "#### Plot Word Vectors Using PCA"
   ]
  },
  {
   "cell_type": "code",
   "execution_count": 42,
   "metadata": {
    "ExecuteTime": {
     "end_time": "2018-10-21T13:55:15.321812Z",
     "start_time": "2018-10-21T13:55:15.164201Z"
    }
   },
   "outputs": [
    {
     "data": {
      "image/png": "[encoded data removed]",
      "text/plain": [
       "<Figure size 432x288 with 1 Axes>"
      ]
     },
     "metadata": {},
     "output_type": "display_data"
    }
   ],
   "source": [
    "# fit a 2d PCA model to the vectors\n",
    "X = new_model_[new_model_.wv.vocab]\n",
    "pca = PCA(n_components=2)\n",
    "result = pca.fit_transform(X)\n",
    "# create a scatter plot of the projection\n",
    "plt.scatter(result[:, 0], result[:, 1])\n",
    "words = list(new_model_.wv.vocab)\n",
    "for i, word in enumerate(words):\n",
    "\tplt.annotate(word, xy=(result[i, 0], result[i, 1]))\n",
    "plt.show()"
   ]
  },
  {
   "cell_type": "markdown",
   "metadata": {},
   "source": [
    "There are several pre-trained Word Embedding model in the internet:\n",
    "\n",
    "- Word2Vec (GoogleNews) : can be found here https://code.google.com/archive/p/word2vec/\n",
    "- GloVe (Stanford) : can be found here https://nlp.stanford.edu/projects/glove/\n",
    "- fastText (wiki, author: P. Bojanowski): can be found here https://github.com/facebookresearch/fastText/blob/master/pretrained-vectors.md \n",
    "- ...\n",
    "\n",
    "You can just simply check \"pre-trained word embedding\" in google."
   ]
  },
  {
   "cell_type": "markdown",
   "metadata": {},
   "source": [
    "### Load Google’s Word2Vec Embedding "
   ]
  },
  {
   "cell_type": "markdown",
   "metadata": {},
   "source": [
    "You should download the 'GoogleNews-vectors-negative300.bin' at https://drive.google.com/file/d/0B7XkCwpI5KDYNlNUTTlSS21pQmM/edit\n",
    "\n",
    "However, the size of this file is too large in moodle, so, you can repeat the section 3.3 at home after downloading the model."
   ]
  },
  {
   "cell_type": "code",
   "execution_count": 43,
   "metadata": {
    "ExecuteTime": {
     "end_time": "2018-10-21T13:58:58.913465Z",
     "start_time": "2018-10-21T13:55:22.778594Z"
    }
   },
   "outputs": [
    {
     "name": "stdout",
     "output_type": "stream",
     "text": [
      "[('queen', 0.7118192911148071)]\n"
     ]
    }
   ],
   "source": [
    "from gensim.models import KeyedVectors\n",
    "# load the google word2vec model\n",
    "filename = 'GoogleNews-vectors-negative300.bin'\n",
    "model_gg = KeyedVectors.load_word2vec_format(filename, binary=True)\n",
    "# calculate: (king - man) + woman = ?\n",
    "result = model_gg.most_similar(positive=['woman', 'king'], negative=['man'], topn=1)\n",
    "print(result)"
   ]
  },
  {
   "cell_type": "code",
   "execution_count": 81,
   "metadata": {
    "ExecuteTime": {
     "end_time": "2018-10-21T14:24:18.533936Z",
     "start_time": "2018-10-21T14:24:18.175947Z"
    }
   },
   "outputs": [
    {
     "name": "stdout",
     "output_type": "stream",
     "text": [
      "[('daughter', 0.8706234097480774), ('grandmother', 0.8442241549491882), ('aunt', 0.843592643737793), ('niece', 0.807008683681488), ('father', 0.7901483178138733), ('son', 0.7683205604553223), ('sister', 0.7633353471755981), ('wife', 0.7550681829452515), ('stepmother', 0.7531880140304565), ('granddaughter', 0.7470966577529907)]\n"
     ]
    }
   ],
   "source": [
    "result = model_gg.most_similar('mother')\n",
    "print(result)"
   ]
  },
  {
   "cell_type": "code",
   "execution_count": 82,
   "metadata": {
    "ExecuteTime": {
     "end_time": "2018-10-21T14:24:21.215167Z",
     "start_time": "2018-10-21T14:24:21.194849Z"
    }
   },
   "outputs": [
    {
     "data": {
      "text/plain": [
       "0.7901483"
      ]
     },
     "execution_count": 82,
     "metadata": {},
     "output_type": "execute_result"
    }
   ],
   "source": [
    "model_gg.similarity('mother', 'father')"
   ]
  },
  {
   "cell_type": "markdown",
   "metadata": {},
   "source": [
    "### Load Stanford’s GloVe Embedding"
   ]
  },
  {
   "cell_type": "markdown",
   "metadata": {},
   "source": [
    "The Standord's Glove embedding model contains 3 different models in folder. Here, we just use the \"glove.6B.100d.txt\"."
   ]
  },
  {
   "cell_type": "code",
   "execution_count": 46,
   "metadata": {
    "ExecuteTime": {
     "end_time": "2018-10-21T13:59:01.350110Z",
     "start_time": "2018-10-21T13:59:00.090625Z"
    }
   },
   "outputs": [
    {
     "data": {
      "text/plain": [
       "(400000, 100)"
      ]
     },
     "execution_count": 46,
     "metadata": {},
     "output_type": "execute_result"
    }
   ],
   "source": [
    "from gensim.scripts.glove2word2vec import glove2word2vec\n",
    "glove_input_file = './glove/glove.6B.100d.txt'\n",
    "word2vec_output_file = 'glove.6B.100d.txt.word2vec'\n",
    "glove2word2vec(glove_input_file, word2vec_output_file)"
   ]
  },
  {
   "cell_type": "code",
   "execution_count": 47,
   "metadata": {
    "ExecuteTime": {
     "end_time": "2018-10-21T14:00:01.433447Z",
     "start_time": "2018-10-21T13:59:01.520534Z"
    }
   },
   "outputs": [
    {
     "name": "stdout",
     "output_type": "stream",
     "text": [
      "[('queen', 0.7698541283607483)]\n"
     ]
    }
   ],
   "source": [
    "from gensim.models import KeyedVectors\n",
    "# load the Stanford GloVe model\n",
    "filename = 'glove.6B.100d.txt.word2vec'\n",
    "model_glove = KeyedVectors.load_word2vec_format(filename, binary=False)\n",
    "# calculate: (king - man) + woman = ?\n",
    "result = model_glove.most_similar(positive=['woman', 'king'], negative=['man'], topn=1)\n",
    "print(result)"
   ]
  },
  {
   "cell_type": "code",
   "execution_count": 80,
   "metadata": {
    "ExecuteTime": {
     "end_time": "2018-10-21T14:24:01.316853Z",
     "start_time": "2018-10-21T14:24:00.720731Z"
    }
   },
   "outputs": [
    {
     "name": "stdout",
     "output_type": "stream",
     "text": [
      "[('daughter', 0.9063109755516052), ('wife', 0.9025879502296448), ('grandmother', 0.8934444189071655), ('father', 0.8656660914421082), ('sister', 0.8647425174713135), ('husband', 0.8470974564552307), ('woman', 0.827568769454956), ('her', 0.8250683546066284), ('aunt', 0.8055843114852905), ('daughters', 0.7969926595687866)]\n"
     ]
    }
   ],
   "source": [
    "result = model_glove.most_similar('mother')\n",
    "print(result)"
   ]
  },
  {
   "cell_type": "code",
   "execution_count": 49,
   "metadata": {
    "ExecuteTime": {
     "end_time": "2018-10-21T14:00:01.971034Z",
     "start_time": "2018-10-21T14:00:01.962962Z"
    }
   },
   "outputs": [
    {
     "data": {
      "text/plain": [
       "0.8656661"
      ]
     },
     "execution_count": 49,
     "metadata": {},
     "output_type": "execute_result"
    }
   ],
   "source": [
    "model_glove.similarity('mother', 'father')"
   ]
  },
  {
   "cell_type": "markdown",
   "metadata": {},
   "source": [
    "### Apply to Real Data"
   ]
  },
  {
   "cell_type": "markdown",
   "metadata": {},
   "source": [
    "#### Use Doc2vec to Transfer Data"
   ]
  },
  {
   "cell_type": "code",
   "execution_count": 50,
   "metadata": {
    "ExecuteTime": {
     "end_time": "2018-10-21T14:00:15.414840Z",
     "start_time": "2018-10-21T14:00:15.400916Z"
    },
    "scrolled": true
   },
   "outputs": [
    {
     "name": "stdout",
     "output_type": "stream",
     "text": [
      "TaggedDocument(['debt', 'deal', 'announce', 'Chancellor', 'Brown', 'hop', 'announce', 'deal', 'suspend', 'debt', 'interest', 'repayment', 'hit', 'nation', 'agreement', 'group', 'nation', 'save', 'affect', 'country', 'pound', 'year', 'deal', 'thought', 'hammer', 'night', 'Japan', 'big', 'nation', 'finally', 'sign', 'Brown', 'propose', 'idea', 'earlier', 'week', 'minister', 'believe', 'agree', 'instruct', 'World', 'Bank', 'International', 'Fund', 'complete', 'country', 'country', 'analysis', 'reconstruction', 'problem', 'face', 'state', 'hit', 'disaster', 'Brown', 'lock', 'talk', 'finance', 'minister', 'chair', 'propose', 'freeze', 'begin', 'moratorium', 'expect', 'deal', 'Foreign', 'Secretary', 'Jack', 'Straw', 'number', 'Britons', 'dead', 'miss', 'disaster', 'reach'], [2])\n"
     ]
    }
   ],
   "source": [
    "import gensim\n",
    "LabeledSentence1 = gensim.models.doc2vec.TaggedDocument\n",
    "allTokens = df_handle['Tokens']\n",
    "allcontent =[]\n",
    "j=0\n",
    "for each in allTokens:\n",
    "    allcontent.append(LabeledSentence1(each,[j]))\n",
    "    j+=1\n",
    "print(allcontent[2])"
   ]
  },
  {
   "cell_type": "code",
   "execution_count": 52,
   "metadata": {
    "ExecuteTime": {
     "end_time": "2018-10-21T14:00:49.894194Z",
     "start_time": "2018-10-21T14:00:49.811921Z"
    },
    "scrolled": true
   },
   "outputs": [
    {
     "data": {
      "text/html": [
       "<div>\n",
       "<style scoped>\n",
       "    .dataframe tbody tr th:only-of-type {\n",
       "        vertical-align: middle;\n",
       "    }\n",
       "\n",
       "    .dataframe tbody tr th {\n",
       "        vertical-align: top;\n",
       "    }\n",
       "\n",
       "    .dataframe thead th {\n",
       "        text-align: right;\n",
       "    }\n",
       "</style>\n",
       "<table border=\"1\" class=\"dataframe\">\n",
       "  <thead>\n",
       "    <tr style=\"text-align: right;\">\n",
       "      <th></th>\n",
       "      <th>0</th>\n",
       "      <th>1</th>\n",
       "      <th>2</th>\n",
       "      <th>3</th>\n",
       "      <th>4</th>\n",
       "      <th>5</th>\n",
       "      <th>6</th>\n",
       "      <th>7</th>\n",
       "      <th>8</th>\n",
       "      <th>9</th>\n",
       "      <th>...</th>\n",
       "      <th>90</th>\n",
       "      <th>91</th>\n",
       "      <th>92</th>\n",
       "      <th>93</th>\n",
       "      <th>94</th>\n",
       "      <th>95</th>\n",
       "      <th>96</th>\n",
       "      <th>97</th>\n",
       "      <th>98</th>\n",
       "      <th>99</th>\n",
       "    </tr>\n",
       "  </thead>\n",
       "  <tbody>\n",
       "    <tr>\n",
       "      <th>0</th>\n",
       "      <td>0.004410</td>\n",
       "      <td>0.001985</td>\n",
       "      <td>-0.003353</td>\n",
       "      <td>-0.002205</td>\n",
       "      <td>-0.002669</td>\n",
       "      <td>0.001528</td>\n",
       "      <td>-0.003994</td>\n",
       "      <td>-0.001180</td>\n",
       "      <td>-0.000696</td>\n",
       "      <td>-0.003469</td>\n",
       "      <td>...</td>\n",
       "      <td>-0.005318</td>\n",
       "      <td>0.002714</td>\n",
       "      <td>0.001954</td>\n",
       "      <td>-0.000383</td>\n",
       "      <td>0.001341</td>\n",
       "      <td>0.004618</td>\n",
       "      <td>0.002356</td>\n",
       "      <td>-0.004594</td>\n",
       "      <td>0.004690</td>\n",
       "      <td>0.005286</td>\n",
       "    </tr>\n",
       "    <tr>\n",
       "      <th>1</th>\n",
       "      <td>-0.004188</td>\n",
       "      <td>-0.004524</td>\n",
       "      <td>0.001767</td>\n",
       "      <td>-0.001711</td>\n",
       "      <td>0.000370</td>\n",
       "      <td>-0.003884</td>\n",
       "      <td>0.001364</td>\n",
       "      <td>0.002230</td>\n",
       "      <td>-0.001602</td>\n",
       "      <td>0.000906</td>\n",
       "      <td>...</td>\n",
       "      <td>-0.004790</td>\n",
       "      <td>-0.004770</td>\n",
       "      <td>-0.001585</td>\n",
       "      <td>0.003796</td>\n",
       "      <td>-0.004825</td>\n",
       "      <td>-0.000074</td>\n",
       "      <td>-0.004453</td>\n",
       "      <td>0.001874</td>\n",
       "      <td>-0.001186</td>\n",
       "      <td>-0.003304</td>\n",
       "    </tr>\n",
       "    <tr>\n",
       "      <th>2</th>\n",
       "      <td>-0.004284</td>\n",
       "      <td>0.000954</td>\n",
       "      <td>-0.000187</td>\n",
       "      <td>0.001733</td>\n",
       "      <td>0.004201</td>\n",
       "      <td>-0.000034</td>\n",
       "      <td>0.001066</td>\n",
       "      <td>-0.003866</td>\n",
       "      <td>-0.001976</td>\n",
       "      <td>-0.002633</td>\n",
       "      <td>...</td>\n",
       "      <td>0.002263</td>\n",
       "      <td>0.002583</td>\n",
       "      <td>-0.004409</td>\n",
       "      <td>-0.000276</td>\n",
       "      <td>0.002382</td>\n",
       "      <td>0.001790</td>\n",
       "      <td>0.004104</td>\n",
       "      <td>0.004143</td>\n",
       "      <td>-0.002972</td>\n",
       "      <td>0.001036</td>\n",
       "    </tr>\n",
       "    <tr>\n",
       "      <th>3</th>\n",
       "      <td>-0.001644</td>\n",
       "      <td>0.000959</td>\n",
       "      <td>0.001573</td>\n",
       "      <td>-0.002674</td>\n",
       "      <td>-0.002115</td>\n",
       "      <td>-0.002388</td>\n",
       "      <td>0.003428</td>\n",
       "      <td>0.004506</td>\n",
       "      <td>-0.002886</td>\n",
       "      <td>-0.001889</td>\n",
       "      <td>...</td>\n",
       "      <td>-0.000447</td>\n",
       "      <td>-0.000700</td>\n",
       "      <td>-0.001649</td>\n",
       "      <td>-0.001755</td>\n",
       "      <td>-0.004003</td>\n",
       "      <td>0.004929</td>\n",
       "      <td>0.001906</td>\n",
       "      <td>-0.001888</td>\n",
       "      <td>-0.003115</td>\n",
       "      <td>-0.000529</td>\n",
       "    </tr>\n",
       "    <tr>\n",
       "      <th>4</th>\n",
       "      <td>0.002475</td>\n",
       "      <td>0.003144</td>\n",
       "      <td>-0.003493</td>\n",
       "      <td>-0.003044</td>\n",
       "      <td>0.002629</td>\n",
       "      <td>-0.001449</td>\n",
       "      <td>0.000850</td>\n",
       "      <td>-0.000515</td>\n",
       "      <td>0.002791</td>\n",
       "      <td>-0.003923</td>\n",
       "      <td>...</td>\n",
       "      <td>0.002759</td>\n",
       "      <td>0.003798</td>\n",
       "      <td>-0.000067</td>\n",
       "      <td>0.003674</td>\n",
       "      <td>0.000121</td>\n",
       "      <td>-0.004497</td>\n",
       "      <td>-0.000225</td>\n",
       "      <td>0.002473</td>\n",
       "      <td>-0.004623</td>\n",
       "      <td>0.003453</td>\n",
       "    </tr>\n",
       "    <tr>\n",
       "      <th>5</th>\n",
       "      <td>-0.003522</td>\n",
       "      <td>-0.004096</td>\n",
       "      <td>-0.000055</td>\n",
       "      <td>-0.005247</td>\n",
       "      <td>0.004548</td>\n",
       "      <td>0.003454</td>\n",
       "      <td>0.002671</td>\n",
       "      <td>-0.000283</td>\n",
       "      <td>-0.004181</td>\n",
       "      <td>0.001828</td>\n",
       "      <td>...</td>\n",
       "      <td>-0.004929</td>\n",
       "      <td>-0.000368</td>\n",
       "      <td>0.003562</td>\n",
       "      <td>-0.004765</td>\n",
       "      <td>-0.003866</td>\n",
       "      <td>-0.000327</td>\n",
       "      <td>0.003242</td>\n",
       "      <td>0.002579</td>\n",
       "      <td>-0.002222</td>\n",
       "      <td>-0.004598</td>\n",
       "    </tr>\n",
       "    <tr>\n",
       "      <th>6</th>\n",
       "      <td>0.000849</td>\n",
       "      <td>-0.004464</td>\n",
       "      <td>-0.003256</td>\n",
       "      <td>-0.002840</td>\n",
       "      <td>-0.001745</td>\n",
       "      <td>0.003881</td>\n",
       "      <td>-0.003121</td>\n",
       "      <td>0.000524</td>\n",
       "      <td>-0.000256</td>\n",
       "      <td>0.003963</td>\n",
       "      <td>...</td>\n",
       "      <td>0.000960</td>\n",
       "      <td>0.002666</td>\n",
       "      <td>0.003334</td>\n",
       "      <td>-0.000238</td>\n",
       "      <td>-0.003795</td>\n",
       "      <td>-0.003004</td>\n",
       "      <td>0.000556</td>\n",
       "      <td>-0.001301</td>\n",
       "      <td>0.001336</td>\n",
       "      <td>-0.000351</td>\n",
       "    </tr>\n",
       "    <tr>\n",
       "      <th>7</th>\n",
       "      <td>-0.004998</td>\n",
       "      <td>0.003868</td>\n",
       "      <td>0.004738</td>\n",
       "      <td>0.000309</td>\n",
       "      <td>-0.003061</td>\n",
       "      <td>0.000131</td>\n",
       "      <td>0.004983</td>\n",
       "      <td>0.000395</td>\n",
       "      <td>-0.005128</td>\n",
       "      <td>-0.004108</td>\n",
       "      <td>...</td>\n",
       "      <td>0.001783</td>\n",
       "      <td>-0.003958</td>\n",
       "      <td>0.003470</td>\n",
       "      <td>-0.002782</td>\n",
       "      <td>0.003344</td>\n",
       "      <td>0.001767</td>\n",
       "      <td>0.004452</td>\n",
       "      <td>0.004725</td>\n",
       "      <td>0.002832</td>\n",
       "      <td>-0.001790</td>\n",
       "    </tr>\n",
       "    <tr>\n",
       "      <th>8</th>\n",
       "      <td>-0.000423</td>\n",
       "      <td>-0.003703</td>\n",
       "      <td>0.001431</td>\n",
       "      <td>-0.002003</td>\n",
       "      <td>-0.001851</td>\n",
       "      <td>0.004914</td>\n",
       "      <td>0.000469</td>\n",
       "      <td>-0.003235</td>\n",
       "      <td>0.000782</td>\n",
       "      <td>0.004255</td>\n",
       "      <td>...</td>\n",
       "      <td>-0.000247</td>\n",
       "      <td>0.004457</td>\n",
       "      <td>0.005686</td>\n",
       "      <td>-0.002192</td>\n",
       "      <td>0.000784</td>\n",
       "      <td>-0.000302</td>\n",
       "      <td>-0.002095</td>\n",
       "      <td>-0.002918</td>\n",
       "      <td>0.003986</td>\n",
       "      <td>0.004308</td>\n",
       "    </tr>\n",
       "    <tr>\n",
       "      <th>9</th>\n",
       "      <td>0.003045</td>\n",
       "      <td>0.001676</td>\n",
       "      <td>0.000816</td>\n",
       "      <td>0.000623</td>\n",
       "      <td>0.000119</td>\n",
       "      <td>0.005025</td>\n",
       "      <td>-0.001678</td>\n",
       "      <td>-0.002888</td>\n",
       "      <td>0.001135</td>\n",
       "      <td>0.003960</td>\n",
       "      <td>...</td>\n",
       "      <td>-0.005202</td>\n",
       "      <td>-0.003080</td>\n",
       "      <td>-0.000120</td>\n",
       "      <td>-0.001297</td>\n",
       "      <td>-0.003811</td>\n",
       "      <td>0.001813</td>\n",
       "      <td>0.001667</td>\n",
       "      <td>0.004754</td>\n",
       "      <td>-0.000009</td>\n",
       "      <td>-0.002927</td>\n",
       "    </tr>\n",
       "  </tbody>\n",
       "</table>\n",
       "<p>10 rows × 100 columns</p>\n",
       "</div>"
      ],
      "text/plain": [
       "         0         1         2         3         4         5         6   \\\n",
       "0  0.004410  0.001985 -0.003353 -0.002205 -0.002669  0.001528 -0.003994   \n",
       "1 -0.004188 -0.004524  0.001767 -0.001711  0.000370 -0.003884  0.001364   \n",
       "2 -0.004284  0.000954 -0.000187  0.001733  0.004201 -0.000034  0.001066   \n",
       "3 -0.001644  0.000959  0.001573 -0.002674 -0.002115 -0.002388  0.003428   \n",
       "4  0.002475  0.003144 -0.003493 -0.003044  0.002629 -0.001449  0.000850   \n",
       "5 -0.003522 -0.004096 -0.000055 -0.005247  0.004548  0.003454  0.002671   \n",
       "6  0.000849 -0.004464 -0.003256 -0.002840 -0.001745  0.003881 -0.003121   \n",
       "7 -0.004998  0.003868  0.004738  0.000309 -0.003061  0.000131  0.004983   \n",
       "8 -0.000423 -0.003703  0.001431 -0.002003 -0.001851  0.004914  0.000469   \n",
       "9  0.003045  0.001676  0.000816  0.000623  0.000119  0.005025 -0.001678   \n",
       "\n",
       "         7         8         9     ...           90        91        92  \\\n",
       "0 -0.001180 -0.000696 -0.003469    ...    -0.005318  0.002714  0.001954   \n",
       "1  0.002230 -0.001602  0.000906    ...    -0.004790 -0.004770 -0.001585   \n",
       "2 -0.003866 -0.001976 -0.002633    ...     0.002263  0.002583 -0.004409   \n",
       "3  0.004506 -0.002886 -0.001889    ...    -0.000447 -0.000700 -0.001649   \n",
       "4 -0.000515  0.002791 -0.003923    ...     0.002759  0.003798 -0.000067   \n",
       "5 -0.000283 -0.004181  0.001828    ...    -0.004929 -0.000368  0.003562   \n",
       "6  0.000524 -0.000256  0.003963    ...     0.000960  0.002666  0.003334   \n",
       "7  0.000395 -0.005128 -0.004108    ...     0.001783 -0.003958  0.003470   \n",
       "8 -0.003235  0.000782  0.004255    ...    -0.000247  0.004457  0.005686   \n",
       "9 -0.002888  0.001135  0.003960    ...    -0.005202 -0.003080 -0.000120   \n",
       "\n",
       "         93        94        95        96        97        98        99  \n",
       "0 -0.000383  0.001341  0.004618  0.002356 -0.004594  0.004690  0.005286  \n",
       "1  0.003796 -0.004825 -0.000074 -0.004453  0.001874 -0.001186 -0.003304  \n",
       "2 -0.000276  0.002382  0.001790  0.004104  0.004143 -0.002972  0.001036  \n",
       "3 -0.001755 -0.004003  0.004929  0.001906 -0.001888 -0.003115 -0.000529  \n",
       "4  0.003674  0.000121 -0.004497 -0.000225  0.002473 -0.004623  0.003453  \n",
       "5 -0.004765 -0.003866 -0.000327  0.003242  0.002579 -0.002222 -0.004598  \n",
       "6 -0.000238 -0.003795 -0.003004  0.000556 -0.001301  0.001336 -0.000351  \n",
       "7 -0.002782  0.003344  0.001767  0.004452  0.004725  0.002832 -0.001790  \n",
       "8 -0.002192  0.000784 -0.000302 -0.002095 -0.002918  0.003986  0.004308  \n",
       "9 -0.001297 -0.003811  0.001813  0.001667  0.004754 -0.000009 -0.002927  \n",
       "\n",
       "[10 rows x 100 columns]"
      ]
     },
     "execution_count": 52,
     "metadata": {},
     "output_type": "execute_result"
    }
   ],
   "source": [
    "from gensim.models import Doc2Vec\n",
    "d2v_model = Doc2Vec(allcontent)\n",
    "d2v_model.train(allcontent,total_examples=d2v_model.corpus_count, epochs=10)\n",
    "df_doc2vec = pd.DataFrame(d2v_model.docvecs.doctag_syn0)\n",
    "df_doc2vec"
   ]
  },
  {
   "cell_type": "code",
   "execution_count": 53,
   "metadata": {
    "ExecuteTime": {
     "end_time": "2018-10-21T14:01:00.364361Z",
     "start_time": "2018-10-21T14:01:00.294708Z"
    }
   },
   "outputs": [
    {
     "name": "stdout",
     "output_type": "stream",
     "text": [
      "Group: 1\n",
      "   3_03\n",
      "   3_01\n",
      "   1_01\n",
      "   2_01\n",
      "   2_03\n",
      "   2_04\n",
      "Group: 0\n",
      "   3_02\n",
      "   1_02\n",
      "Group: 2\n",
      "   1_03\n",
      "   2_02\n"
     ]
    }
   ],
   "source": [
    "### SKLEARN Kmeans\n",
    "km_model_2 = KMeans(n_clusters=3)\n",
    "km_model_2.fit_predict(df_doc2vec.values)\n",
    "clustering_2 = collections.defaultdict(list)\n",
    "for idx, label in enumerate(km_model_2.labels_):\n",
    "        clustering_2[label].append(idx)\n",
    "        \n",
    "for word, val in clustering_2.items():\n",
    "    print('Group:',word)\n",
    "    for i in val:\n",
    "        print('  ',df_handle.iloc[i]['Filename'])"
   ]
  },
  {
   "cell_type": "code",
   "execution_count": 54,
   "metadata": {
    "ExecuteTime": {
     "end_time": "2018-10-21T14:01:01.539542Z",
     "start_time": "2018-10-21T14:01:01.507196Z"
    }
   },
   "outputs": [
    {
     "data": {
      "text/html": [
       "<div>\n",
       "<style scoped>\n",
       "    .dataframe tbody tr th:only-of-type {\n",
       "        vertical-align: middle;\n",
       "    }\n",
       "\n",
       "    .dataframe tbody tr th {\n",
       "        vertical-align: top;\n",
       "    }\n",
       "\n",
       "    .dataframe thead th {\n",
       "        text-align: right;\n",
       "    }\n",
       "</style>\n",
       "<table border=\"1\" class=\"dataframe\">\n",
       "  <thead>\n",
       "    <tr style=\"text-align: right;\">\n",
       "      <th></th>\n",
       "      <th>0</th>\n",
       "      <th>1</th>\n",
       "      <th>2</th>\n",
       "      <th>3</th>\n",
       "      <th>4</th>\n",
       "      <th>5</th>\n",
       "      <th>6</th>\n",
       "      <th>7</th>\n",
       "      <th>8</th>\n",
       "      <th>9</th>\n",
       "    </tr>\n",
       "  </thead>\n",
       "  <tbody>\n",
       "    <tr>\n",
       "      <th>0</th>\n",
       "      <td>1.000000</td>\n",
       "      <td>-0.105891</td>\n",
       "      <td>0.029890</td>\n",
       "      <td>0.052733</td>\n",
       "      <td>0.009563</td>\n",
       "      <td>-0.013669</td>\n",
       "      <td>0.146502</td>\n",
       "      <td>-0.028007</td>\n",
       "      <td>0.055862</td>\n",
       "      <td>0.121304</td>\n",
       "    </tr>\n",
       "    <tr>\n",
       "      <th>1</th>\n",
       "      <td>-0.105891</td>\n",
       "      <td>1.000000</td>\n",
       "      <td>-0.031102</td>\n",
       "      <td>-0.015746</td>\n",
       "      <td>0.045026</td>\n",
       "      <td>0.364088</td>\n",
       "      <td>-0.000645</td>\n",
       "      <td>0.072985</td>\n",
       "      <td>-0.060958</td>\n",
       "      <td>-0.069594</td>\n",
       "    </tr>\n",
       "    <tr>\n",
       "      <th>2</th>\n",
       "      <td>0.029890</td>\n",
       "      <td>-0.031102</td>\n",
       "      <td>1.000000</td>\n",
       "      <td>0.129013</td>\n",
       "      <td>0.021087</td>\n",
       "      <td>0.039257</td>\n",
       "      <td>0.107059</td>\n",
       "      <td>-0.126643</td>\n",
       "      <td>0.040538</td>\n",
       "      <td>0.070354</td>\n",
       "    </tr>\n",
       "    <tr>\n",
       "      <th>3</th>\n",
       "      <td>0.052733</td>\n",
       "      <td>-0.015746</td>\n",
       "      <td>0.129013</td>\n",
       "      <td>1.000000</td>\n",
       "      <td>-0.002770</td>\n",
       "      <td>0.139701</td>\n",
       "      <td>0.080413</td>\n",
       "      <td>0.069621</td>\n",
       "      <td>0.097809</td>\n",
       "      <td>0.196380</td>\n",
       "    </tr>\n",
       "    <tr>\n",
       "      <th>4</th>\n",
       "      <td>0.009563</td>\n",
       "      <td>0.045026</td>\n",
       "      <td>0.021087</td>\n",
       "      <td>-0.002770</td>\n",
       "      <td>1.000000</td>\n",
       "      <td>0.032637</td>\n",
       "      <td>0.024320</td>\n",
       "      <td>0.081510</td>\n",
       "      <td>0.066559</td>\n",
       "      <td>-0.204593</td>\n",
       "    </tr>\n",
       "    <tr>\n",
       "      <th>5</th>\n",
       "      <td>-0.013669</td>\n",
       "      <td>0.364088</td>\n",
       "      <td>0.039257</td>\n",
       "      <td>0.139701</td>\n",
       "      <td>0.032637</td>\n",
       "      <td>1.000000</td>\n",
       "      <td>0.075433</td>\n",
       "      <td>0.166433</td>\n",
       "      <td>0.033555</td>\n",
       "      <td>0.108689</td>\n",
       "    </tr>\n",
       "    <tr>\n",
       "      <th>6</th>\n",
       "      <td>0.146502</td>\n",
       "      <td>-0.000645</td>\n",
       "      <td>0.107059</td>\n",
       "      <td>0.080413</td>\n",
       "      <td>0.024320</td>\n",
       "      <td>0.075433</td>\n",
       "      <td>1.000000</td>\n",
       "      <td>-0.018538</td>\n",
       "      <td>0.104239</td>\n",
       "      <td>0.056126</td>\n",
       "    </tr>\n",
       "    <tr>\n",
       "      <th>7</th>\n",
       "      <td>-0.028007</td>\n",
       "      <td>0.072985</td>\n",
       "      <td>-0.126643</td>\n",
       "      <td>0.069621</td>\n",
       "      <td>0.081510</td>\n",
       "      <td>0.166433</td>\n",
       "      <td>-0.018538</td>\n",
       "      <td>1.000000</td>\n",
       "      <td>-0.146503</td>\n",
       "      <td>0.000376</td>\n",
       "    </tr>\n",
       "    <tr>\n",
       "      <th>8</th>\n",
       "      <td>0.055862</td>\n",
       "      <td>-0.060958</td>\n",
       "      <td>0.040538</td>\n",
       "      <td>0.097809</td>\n",
       "      <td>0.066559</td>\n",
       "      <td>0.033555</td>\n",
       "      <td>0.104239</td>\n",
       "      <td>-0.146503</td>\n",
       "      <td>1.000000</td>\n",
       "      <td>0.092850</td>\n",
       "    </tr>\n",
       "    <tr>\n",
       "      <th>9</th>\n",
       "      <td>0.121304</td>\n",
       "      <td>-0.069594</td>\n",
       "      <td>0.070354</td>\n",
       "      <td>0.196380</td>\n",
       "      <td>-0.204593</td>\n",
       "      <td>0.108689</td>\n",
       "      <td>0.056126</td>\n",
       "      <td>0.000376</td>\n",
       "      <td>0.092850</td>\n",
       "      <td>1.000000</td>\n",
       "    </tr>\n",
       "  </tbody>\n",
       "</table>\n",
       "</div>"
      ],
      "text/plain": [
       "          0         1         2         3         4         5         6  \\\n",
       "0  1.000000 -0.105891  0.029890  0.052733  0.009563 -0.013669  0.146502   \n",
       "1 -0.105891  1.000000 -0.031102 -0.015746  0.045026  0.364088 -0.000645   \n",
       "2  0.029890 -0.031102  1.000000  0.129013  0.021087  0.039257  0.107059   \n",
       "3  0.052733 -0.015746  0.129013  1.000000 -0.002770  0.139701  0.080413   \n",
       "4  0.009563  0.045026  0.021087 -0.002770  1.000000  0.032637  0.024320   \n",
       "5 -0.013669  0.364088  0.039257  0.139701  0.032637  1.000000  0.075433   \n",
       "6  0.146502 -0.000645  0.107059  0.080413  0.024320  0.075433  1.000000   \n",
       "7 -0.028007  0.072985 -0.126643  0.069621  0.081510  0.166433 -0.018538   \n",
       "8  0.055862 -0.060958  0.040538  0.097809  0.066559  0.033555  0.104239   \n",
       "9  0.121304 -0.069594  0.070354  0.196380 -0.204593  0.108689  0.056126   \n",
       "\n",
       "          7         8         9  \n",
       "0 -0.028007  0.055862  0.121304  \n",
       "1  0.072985 -0.060958 -0.069594  \n",
       "2 -0.126643  0.040538  0.070354  \n",
       "3  0.069621  0.097809  0.196380  \n",
       "4  0.081510  0.066559 -0.204593  \n",
       "5  0.166433  0.033555  0.108689  \n",
       "6 -0.018538  0.104239  0.056126  \n",
       "7  1.000000 -0.146503  0.000376  \n",
       "8 -0.146503  1.000000  0.092850  \n",
       "9  0.000376  0.092850  1.000000  "
      ]
     },
     "execution_count": 54,
     "metadata": {},
     "output_type": "execute_result"
    }
   ],
   "source": [
    "from sklearn.metrics.pairwise import cosine_similarity, euclidean_distances\n",
    "cosine_matrix_2 =  cosine_similarity(df_doc2vec.values)\n",
    "df_cosine_2 = pd.DataFrame(cosine_matrix_2,index=range(len(df_handle)),columns=range(len(df_handle)))\n",
    "df_cosine_2.head(10)"
   ]
  },
  {
   "cell_type": "code",
   "execution_count": 122,
   "metadata": {
    "ExecuteTime": {
     "end_time": "2018-10-22T08:40:17.625551Z",
     "start_time": "2018-10-22T08:40:17.383564Z"
    }
   },
   "outputs": [
    {
     "ename": "IndexError",
     "evalue": "list index out of range",
     "output_type": "error",
     "traceback": [
      "\u001b[0;31m---------------------------------------------------------------------------\u001b[0m",
      "\u001b[0;31mIndexError\u001b[0m                                Traceback (most recent call last)",
      "\u001b[0;32m<ipython-input-122-d6b2f49809c7>\u001b[0m in \u001b[0;36m<module>\u001b[0;34m()\u001b[0m\n\u001b[1;32m     14\u001b[0m     \u001b[0mlinkage_matrix\u001b[0m\u001b[0;34m,\u001b[0m\u001b[0;34m\u001b[0m\u001b[0m\n\u001b[1;32m     15\u001b[0m     \u001b[0mleaf_rotation\u001b[0m\u001b[0;34m=\u001b[0m\u001b[0;36m90.\u001b[0m\u001b[0;34m,\u001b[0m\u001b[0;34m\u001b[0m\u001b[0m\n\u001b[0;32m---> 16\u001b[0;31m     \u001b[0mleaf_label_func\u001b[0m\u001b[0;34m=\u001b[0m\u001b[0mllf\u001b[0m\u001b[0;34m\u001b[0m\u001b[0m\n\u001b[0m\u001b[1;32m     17\u001b[0m )\n",
      "\u001b[0;32m<ipython-input-15-b6b3dc570c68>\u001b[0m in \u001b[0;36mfancy_dendrogram\u001b[0;34m(*args, **kwargs)\u001b[0m\n\u001b[1;32m      5\u001b[0m     \u001b[0mannotate_above\u001b[0m \u001b[0;34m=\u001b[0m \u001b[0mkwargs\u001b[0m\u001b[0;34m.\u001b[0m\u001b[0mpop\u001b[0m\u001b[0;34m(\u001b[0m\u001b[0;34m'annotate_above'\u001b[0m\u001b[0;34m,\u001b[0m \u001b[0;36m0\u001b[0m\u001b[0;34m)\u001b[0m\u001b[0;34m\u001b[0m\u001b[0m\n\u001b[1;32m      6\u001b[0m \u001b[0;34m\u001b[0m\u001b[0m\n\u001b[0;32m----> 7\u001b[0;31m     \u001b[0mddata\u001b[0m \u001b[0;34m=\u001b[0m \u001b[0mdendrogram\u001b[0m\u001b[0;34m(\u001b[0m\u001b[0;34m*\u001b[0m\u001b[0margs\u001b[0m\u001b[0;34m,\u001b[0m \u001b[0;34m**\u001b[0m\u001b[0mkwargs\u001b[0m\u001b[0;34m)\u001b[0m\u001b[0;34m\u001b[0m\u001b[0m\n\u001b[0m\u001b[1;32m      8\u001b[0m \u001b[0;34m\u001b[0m\u001b[0m\n\u001b[1;32m      9\u001b[0m     \u001b[0;32mif\u001b[0m \u001b[0;32mnot\u001b[0m \u001b[0mkwargs\u001b[0m\u001b[0;34m.\u001b[0m\u001b[0mget\u001b[0m\u001b[0;34m(\u001b[0m\u001b[0;34m'no_plot'\u001b[0m\u001b[0;34m,\u001b[0m \u001b[0;32mFalse\u001b[0m\u001b[0;34m)\u001b[0m\u001b[0;34m:\u001b[0m\u001b[0;34m\u001b[0m\u001b[0m\n",
      "\u001b[0;32m/anaconda3/lib/python3.6/site-packages/scipy/cluster/hierarchy.py\u001b[0m in \u001b[0;36mdendrogram\u001b[0;34m(Z, p, truncate_mode, color_threshold, get_leaves, orientation, labels, count_sort, distance_sort, show_leaf_counts, no_plot, no_labels, leaf_font_size, leaf_rotation, leaf_label_func, show_contracted, link_color_func, ax, above_threshold_color)\u001b[0m\n\u001b[1;32m   2499\u001b[0m         \u001b[0mcontraction_marks\u001b[0m\u001b[0;34m=\u001b[0m\u001b[0mcontraction_marks\u001b[0m\u001b[0;34m,\u001b[0m\u001b[0;34m\u001b[0m\u001b[0m\n\u001b[1;32m   2500\u001b[0m         \u001b[0mlink_color_func\u001b[0m\u001b[0;34m=\u001b[0m\u001b[0mlink_color_func\u001b[0m\u001b[0;34m,\u001b[0m\u001b[0;34m\u001b[0m\u001b[0m\n\u001b[0;32m-> 2501\u001b[0;31m         above_threshold_color=above_threshold_color)\n\u001b[0m\u001b[1;32m   2502\u001b[0m \u001b[0;34m\u001b[0m\u001b[0m\n\u001b[1;32m   2503\u001b[0m     \u001b[0;32mif\u001b[0m \u001b[0;32mnot\u001b[0m \u001b[0mno_plot\u001b[0m\u001b[0;34m:\u001b[0m\u001b[0;34m\u001b[0m\u001b[0m\n",
      "\u001b[0;32m/anaconda3/lib/python3.6/site-packages/scipy/cluster/hierarchy.py\u001b[0m in \u001b[0;36m_dendrogram_calculate_info\u001b[0;34m(Z, p, truncate_mode, color_threshold, get_leaves, orientation, labels, count_sort, distance_sort, show_leaf_counts, i, iv, ivl, n, icoord_list, dcoord_list, lvs, mhr, current_color, color_list, currently_below_threshold, leaf_label_func, level, contraction_marks, link_color_func, above_threshold_color)\u001b[0m\n\u001b[1;32m   2752\u001b[0m             \u001b[0mlevel\u001b[0m\u001b[0;34m=\u001b[0m\u001b[0mlevel\u001b[0m \u001b[0;34m+\u001b[0m \u001b[0;36m1\u001b[0m\u001b[0;34m,\u001b[0m \u001b[0mcontraction_marks\u001b[0m\u001b[0;34m=\u001b[0m\u001b[0mcontraction_marks\u001b[0m\u001b[0;34m,\u001b[0m\u001b[0;34m\u001b[0m\u001b[0m\n\u001b[1;32m   2753\u001b[0m             \u001b[0mlink_color_func\u001b[0m\u001b[0;34m=\u001b[0m\u001b[0mlink_color_func\u001b[0m\u001b[0;34m,\u001b[0m\u001b[0;34m\u001b[0m\u001b[0m\n\u001b[0;32m-> 2754\u001b[0;31m             above_threshold_color=above_threshold_color)\n\u001b[0m\u001b[1;32m   2755\u001b[0m \u001b[0;34m\u001b[0m\u001b[0m\n\u001b[1;32m   2756\u001b[0m     \u001b[0mh\u001b[0m \u001b[0;34m=\u001b[0m \u001b[0mZ\u001b[0m\u001b[0;34m[\u001b[0m\u001b[0mi\u001b[0m \u001b[0;34m-\u001b[0m \u001b[0mn\u001b[0m\u001b[0;34m,\u001b[0m \u001b[0;36m2\u001b[0m\u001b[0;34m]\u001b[0m\u001b[0;34m\u001b[0m\u001b[0m\n",
      "\u001b[0;32m/anaconda3/lib/python3.6/site-packages/scipy/cluster/hierarchy.py\u001b[0m in \u001b[0;36m_dendrogram_calculate_info\u001b[0;34m(Z, p, truncate_mode, color_threshold, get_leaves, orientation, labels, count_sort, distance_sort, show_leaf_counts, i, iv, ivl, n, icoord_list, dcoord_list, lvs, mhr, current_color, color_list, currently_below_threshold, leaf_label_func, level, contraction_marks, link_color_func, above_threshold_color)\u001b[0m\n\u001b[1;32m   2785\u001b[0m             \u001b[0mlevel\u001b[0m\u001b[0;34m=\u001b[0m\u001b[0mlevel\u001b[0m \u001b[0;34m+\u001b[0m \u001b[0;36m1\u001b[0m\u001b[0;34m,\u001b[0m \u001b[0mcontraction_marks\u001b[0m\u001b[0;34m=\u001b[0m\u001b[0mcontraction_marks\u001b[0m\u001b[0;34m,\u001b[0m\u001b[0;34m\u001b[0m\u001b[0m\n\u001b[1;32m   2786\u001b[0m             \u001b[0mlink_color_func\u001b[0m\u001b[0;34m=\u001b[0m\u001b[0mlink_color_func\u001b[0m\u001b[0;34m,\u001b[0m\u001b[0;34m\u001b[0m\u001b[0m\n\u001b[0;32m-> 2787\u001b[0;31m             above_threshold_color=above_threshold_color)\n\u001b[0m\u001b[1;32m   2788\u001b[0m \u001b[0;34m\u001b[0m\u001b[0m\n\u001b[1;32m   2789\u001b[0m     \u001b[0mmax_dist\u001b[0m \u001b[0;34m=\u001b[0m \u001b[0mmax\u001b[0m\u001b[0;34m(\u001b[0m\u001b[0muamd\u001b[0m\u001b[0;34m,\u001b[0m \u001b[0mubmd\u001b[0m\u001b[0;34m,\u001b[0m \u001b[0mh\u001b[0m\u001b[0;34m)\u001b[0m\u001b[0;34m\u001b[0m\u001b[0m\n",
      "\u001b[0;32m/anaconda3/lib/python3.6/site-packages/scipy/cluster/hierarchy.py\u001b[0m in \u001b[0;36m_dendrogram_calculate_info\u001b[0;34m(Z, p, truncate_mode, color_threshold, get_leaves, orientation, labels, count_sort, distance_sort, show_leaf_counts, i, iv, ivl, n, icoord_list, dcoord_list, lvs, mhr, current_color, color_list, currently_below_threshold, leaf_label_func, level, contraction_marks, link_color_func, above_threshold_color)\u001b[0m\n\u001b[1;32m   2664\u001b[0m     \u001b[0;32mif\u001b[0m \u001b[0mi\u001b[0m \u001b[0;34m<\u001b[0m \u001b[0mn\u001b[0m\u001b[0;34m:\u001b[0m\u001b[0;34m\u001b[0m\u001b[0m\n\u001b[1;32m   2665\u001b[0m         _append_singleton_leaf_node(Z, p, n, level, lvs, ivl,\n\u001b[0;32m-> 2666\u001b[0;31m                                     leaf_label_func, i, labels)\n\u001b[0m\u001b[1;32m   2667\u001b[0m         \u001b[0;32mreturn\u001b[0m \u001b[0;34m(\u001b[0m\u001b[0miv\u001b[0m \u001b[0;34m+\u001b[0m \u001b[0;36m5.0\u001b[0m\u001b[0;34m,\u001b[0m \u001b[0;36m10.0\u001b[0m\u001b[0;34m,\u001b[0m \u001b[0;36m0.0\u001b[0m\u001b[0;34m,\u001b[0m \u001b[0;36m0.0\u001b[0m\u001b[0;34m)\u001b[0m\u001b[0;34m\u001b[0m\u001b[0m\n\u001b[1;32m   2668\u001b[0m \u001b[0;34m\u001b[0m\u001b[0m\n",
      "\u001b[0;32m/anaconda3/lib/python3.6/site-packages/scipy/cluster/hierarchy.py\u001b[0m in \u001b[0;36m_append_singleton_leaf_node\u001b[0;34m(Z, p, n, level, lvs, ivl, leaf_label_func, i, labels)\u001b[0m\n\u001b[1;32m   2529\u001b[0m         \u001b[0;31m# passed to dendrogram.\u001b[0m\u001b[0;34m\u001b[0m\u001b[0;34m\u001b[0m\u001b[0m\n\u001b[1;32m   2530\u001b[0m         \u001b[0;32mif\u001b[0m \u001b[0mleaf_label_func\u001b[0m\u001b[0;34m:\u001b[0m\u001b[0;34m\u001b[0m\u001b[0m\n\u001b[0;32m-> 2531\u001b[0;31m             \u001b[0mivl\u001b[0m\u001b[0;34m.\u001b[0m\u001b[0mappend\u001b[0m\u001b[0;34m(\u001b[0m\u001b[0mleaf_label_func\u001b[0m\u001b[0;34m(\u001b[0m\u001b[0mint\u001b[0m\u001b[0;34m(\u001b[0m\u001b[0mi\u001b[0m\u001b[0;34m)\u001b[0m\u001b[0;34m)\u001b[0m\u001b[0;34m)\u001b[0m\u001b[0;34m\u001b[0m\u001b[0m\n\u001b[0m\u001b[1;32m   2532\u001b[0m         \u001b[0;32melse\u001b[0m\u001b[0;34m:\u001b[0m\u001b[0;34m\u001b[0m\u001b[0m\n\u001b[1;32m   2533\u001b[0m             \u001b[0;31m# Otherwise, if the dendrogram caller has passed a labels list\u001b[0m\u001b[0;34m\u001b[0m\u001b[0;34m\u001b[0m\u001b[0m\n",
      "\u001b[0;32m<ipython-input-16-c27fc300474c>\u001b[0m in \u001b[0;36mllf\u001b[0;34m(index)\u001b[0m\n\u001b[1;32m      1\u001b[0m \u001b[0;32mdef\u001b[0m \u001b[0mllf\u001b[0m\u001b[0;34m(\u001b[0m\u001b[0mindex\u001b[0m\u001b[0;34m)\u001b[0m\u001b[0;34m:\u001b[0m\u001b[0;34m\u001b[0m\u001b[0m\n\u001b[0;32m----> 2\u001b[0;31m     \u001b[0;32mreturn\u001b[0m \u001b[0;34m\"{}\"\u001b[0m\u001b[0;34m.\u001b[0m\u001b[0mformat\u001b[0m\u001b[0;34m(\u001b[0m\u001b[0mjob_titles\u001b[0m\u001b[0;34m[\u001b[0m\u001b[0mindex\u001b[0m\u001b[0;34m]\u001b[0m\u001b[0;34m)\u001b[0m\u001b[0;34m\u001b[0m\u001b[0m\n\u001b[0m\u001b[1;32m      3\u001b[0m \u001b[0;34m\u001b[0m\u001b[0m\n\u001b[1;32m      4\u001b[0m fancy_dendrogram(\n\u001b[1;32m      5\u001b[0m     \u001b[0mlinkage_matrix\u001b[0m\u001b[0;34m,\u001b[0m\u001b[0;34m\u001b[0m\u001b[0m\n",
      "\u001b[0;31mIndexError\u001b[0m: list index out of range"
     ]
    }
   ],
   "source": [
    "from scipy.cluster.hierarchy import ward, dendrogram\n",
    "import matplotlib.pyplot as plt\n",
    "\n",
    "#define the linkage_matrix\n",
    "linkage_matrix_2 = ward(cosine_matrix_2) \n",
    "\n",
    "# plot the hierarchical graph\n",
    "# fig, ax = plt.subplots(figsize=(10,8)) # set size\n",
    "# ax = dendrogram(linkage_matrix_2, orientation=\"top\", labels=list(df_handle['Filename']))\n",
    "\n",
    "# plt.show()  #show plot \n",
    "\n",
    "fancy_dendrogram(\n",
    "    linkage_matrix,\n",
    "    leaf_rotation=90.,\n",
    "    leaf_label_func=llf\n",
    ")\n",
    "\n"
   ]
  },
  {
   "cell_type": "code",
   "execution_count": 78,
   "metadata": {
    "ExecuteTime": {
     "end_time": "2018-10-21T14:08:58.082113Z",
     "start_time": "2018-10-21T14:08:58.073131Z"
    }
   },
   "outputs": [
    {
     "name": "stdout",
     "output_type": "stream",
     "text": [
      "Ask Jeeves tips online ad revival Ask Jeeves has become the third leading online search firm this week to thank a revival in internet advertising for improving fortunes. The firm's revenue nearly tripled in the fourth quarter of 2004, exceeding $86m (Â£46m). Ask Jeeves, once among the best-known names on the web, is now a relatively modest player. Its $17m profit for the quarter was dwarfed by the $204m announced by rival Google earlier in the week. During the same quarter, Yahoo earned $187m, again tipping a resurgence in online advertising. The trend has taken hold relatively quickly. Late last year, marketing company Doubleclick, one of the leading providers of online advertising, warned that some or all of its business would have to be put up for sale. But on Thursday, it announced that a sharp turnaround had brought about an unexpected increase in profits. Neither Ask Jeeves nor Doubleclick thrilled investors with their profit news, however. In both cases, their shares fell by some 4%. Analysts attributed the falls to excessive expectations in some quarters, fuelled by the dramatic outperformance of Google on Tuesday.\n",
      "----------\n",
      "Chepkemei joins Edinburgh line-up Susan Chepkemei has decided she is fit enough to run in next month's Great Edinburgh International Cross Country. The Kenyan was initially unsure if she would have recovered from her gruelling tussle with Paula Radcliffe in the New York Marathon in time to compete. But she has declared herself up to the task and joins a field headed by World cross country champion Benita Johnson. Race director Matthew Turnbull said: \"Susan will add even more strength in depth to the world-class line up.\" Chepkemei, who won the six kilometre event three years ago when it was staged in Newcastle, endured an epic battle with Radcliffe in the Big Apple until the Briton outsprinted her in the final 400m. Tirunesh Dibaba of Ethiopia will defend the title she won last year in Tyneside - before the race was moved north of the border. Recently-crowned European cross country champion Briton Hayley Yelling also competes in Edinburgh on 15 January, as does in-form Scot Kathy Butler.\n",
      "----------\n"
     ]
    }
   ],
   "source": [
    "print(df_handle.loc[df_handle['Filename']=='1_03']['Content'].values[0])\n",
    "print('-'*10)\n",
    "print(df_handle.loc[df_handle['Filename']=='2_02']['Content'].values[0])\n",
    "print('-'*10)"
   ]
  },
  {
   "cell_type": "markdown",
   "metadata": {},
   "source": [
    "As you can see here, using only meaning of words can not provide the good results for clustering algorithms."
   ]
  },
  {
   "cell_type": "markdown",
   "metadata": {},
   "source": [
    "### Using Distances from Word to Word based on word2vec Models"
   ]
  },
  {
   "cell_type": "code",
   "execution_count": 57,
   "metadata": {
    "ExecuteTime": {
     "end_time": "2018-10-21T14:01:05.316508Z",
     "start_time": "2018-10-21T14:01:05.307113Z"
    }
   },
   "outputs": [],
   "source": [
    "def find_distance_w2v(word1,word2,w2v_model):\n",
    "    try:\n",
    "        _similarity = w2v_model.similarity(word1,word2)  \n",
    "    except:\n",
    "        _similarity = 0\n",
    "    return _similarity"
   ]
  },
  {
   "cell_type": "code",
   "execution_count": 119,
   "metadata": {
    "ExecuteTime": {
     "end_time": "2018-10-21T14:47:01.224691Z",
     "start_time": "2018-10-21T14:46:38.947434Z"
    },
    "code_folding": []
   },
   "outputs": [
    {
     "data": {
      "text/html": [
       "<div>\n",
       "<style scoped>\n",
       "    .dataframe tbody tr th:only-of-type {\n",
       "        vertical-align: middle;\n",
       "    }\n",
       "\n",
       "    .dataframe tbody tr th {\n",
       "        vertical-align: top;\n",
       "    }\n",
       "\n",
       "    .dataframe thead th {\n",
       "        text-align: right;\n",
       "    }\n",
       "</style>\n",
       "<table border=\"1\" class=\"dataframe\">\n",
       "  <thead>\n",
       "    <tr style=\"text-align: right;\">\n",
       "      <th></th>\n",
       "      <th>accumulate</th>\n",
       "      <th>accuse</th>\n",
       "      <th>act</th>\n",
       "      <th>action</th>\n",
       "      <th>ad</th>\n",
       "      <th>add</th>\n",
       "      <th>addiction</th>\n",
       "      <th>administration</th>\n",
       "      <th>admission</th>\n",
       "      <th>adult</th>\n",
       "      <th>...</th>\n",
       "      <th>week</th>\n",
       "      <th>winter</th>\n",
       "      <th>wiser</th>\n",
       "      <th>withdraw</th>\n",
       "      <th>word</th>\n",
       "      <th>world</th>\n",
       "      <th>write</th>\n",
       "      <th>yahoo</th>\n",
       "      <th>year</th>\n",
       "      <th>yelling</th>\n",
       "    </tr>\n",
       "  </thead>\n",
       "  <tbody>\n",
       "    <tr>\n",
       "      <th>0</th>\n",
       "      <td>0</td>\n",
       "      <td>0.24087</td>\n",
       "      <td>0.237024</td>\n",
       "      <td>0</td>\n",
       "      <td>0</td>\n",
       "      <td>0.418946</td>\n",
       "      <td>0</td>\n",
       "      <td>0</td>\n",
       "      <td>0</td>\n",
       "      <td>0.183565</td>\n",
       "      <td>...</td>\n",
       "      <td>0</td>\n",
       "      <td>0</td>\n",
       "      <td>0.0667962</td>\n",
       "      <td>0.167538</td>\n",
       "      <td>0.2419</td>\n",
       "      <td>0</td>\n",
       "      <td>0.229271</td>\n",
       "      <td>0</td>\n",
       "      <td>0</td>\n",
       "      <td>0</td>\n",
       "    </tr>\n",
       "    <tr>\n",
       "      <th>1</th>\n",
       "      <td>0</td>\n",
       "      <td>0</td>\n",
       "      <td>0.225648</td>\n",
       "      <td>0</td>\n",
       "      <td>0</td>\n",
       "      <td>0</td>\n",
       "      <td>0</td>\n",
       "      <td>0</td>\n",
       "      <td>0</td>\n",
       "      <td>0</td>\n",
       "      <td>...</td>\n",
       "      <td>0.288992</td>\n",
       "      <td>0</td>\n",
       "      <td>-0</td>\n",
       "      <td>0</td>\n",
       "      <td>0</td>\n",
       "      <td>0</td>\n",
       "      <td>0</td>\n",
       "      <td>0</td>\n",
       "      <td>0</td>\n",
       "      <td>0</td>\n",
       "    </tr>\n",
       "    <tr>\n",
       "      <th>2</th>\n",
       "      <td>0</td>\n",
       "      <td>0</td>\n",
       "      <td>0</td>\n",
       "      <td>0</td>\n",
       "      <td>0</td>\n",
       "      <td>0</td>\n",
       "      <td>0</td>\n",
       "      <td>0</td>\n",
       "      <td>0</td>\n",
       "      <td>0</td>\n",
       "      <td>...</td>\n",
       "      <td>0.349567</td>\n",
       "      <td>0</td>\n",
       "      <td>0</td>\n",
       "      <td>0</td>\n",
       "      <td>0</td>\n",
       "      <td>0</td>\n",
       "      <td>0</td>\n",
       "      <td>0</td>\n",
       "      <td>0.339185</td>\n",
       "      <td>0</td>\n",
       "    </tr>\n",
       "    <tr>\n",
       "      <th>3</th>\n",
       "      <td>0</td>\n",
       "      <td>0</td>\n",
       "      <td>0</td>\n",
       "      <td>0.31099</td>\n",
       "      <td>0</td>\n",
       "      <td>0</td>\n",
       "      <td>0</td>\n",
       "      <td>0</td>\n",
       "      <td>0</td>\n",
       "      <td>0</td>\n",
       "      <td>...</td>\n",
       "      <td>0</td>\n",
       "      <td>0</td>\n",
       "      <td>0</td>\n",
       "      <td>0</td>\n",
       "      <td>0</td>\n",
       "      <td>0</td>\n",
       "      <td>0</td>\n",
       "      <td>0</td>\n",
       "      <td>0</td>\n",
       "      <td>0</td>\n",
       "    </tr>\n",
       "    <tr>\n",
       "      <th>4</th>\n",
       "      <td>0</td>\n",
       "      <td>0</td>\n",
       "      <td>0</td>\n",
       "      <td>0</td>\n",
       "      <td>0.228279</td>\n",
       "      <td>0</td>\n",
       "      <td>0</td>\n",
       "      <td>0</td>\n",
       "      <td>0</td>\n",
       "      <td>0</td>\n",
       "      <td>...</td>\n",
       "      <td>0.529924</td>\n",
       "      <td>0</td>\n",
       "      <td>0</td>\n",
       "      <td>0</td>\n",
       "      <td>0</td>\n",
       "      <td>0</td>\n",
       "      <td>0</td>\n",
       "      <td>0</td>\n",
       "      <td>0.339806</td>\n",
       "      <td>0</td>\n",
       "    </tr>\n",
       "    <tr>\n",
       "      <th>5</th>\n",
       "      <td>0.100956</td>\n",
       "      <td>0.296175</td>\n",
       "      <td>0</td>\n",
       "      <td>0</td>\n",
       "      <td>0</td>\n",
       "      <td>0</td>\n",
       "      <td>0.136601</td>\n",
       "      <td>0.311488</td>\n",
       "      <td>0</td>\n",
       "      <td>0</td>\n",
       "      <td>...</td>\n",
       "      <td>0</td>\n",
       "      <td>0</td>\n",
       "      <td>0</td>\n",
       "      <td>0</td>\n",
       "      <td>0</td>\n",
       "      <td>0</td>\n",
       "      <td>0</td>\n",
       "      <td>0</td>\n",
       "      <td>0.308369</td>\n",
       "      <td>0</td>\n",
       "    </tr>\n",
       "    <tr>\n",
       "      <th>6</th>\n",
       "      <td>0</td>\n",
       "      <td>0</td>\n",
       "      <td>0</td>\n",
       "      <td>0</td>\n",
       "      <td>0</td>\n",
       "      <td>0</td>\n",
       "      <td>0</td>\n",
       "      <td>0</td>\n",
       "      <td>0</td>\n",
       "      <td>0</td>\n",
       "      <td>...</td>\n",
       "      <td>0.313563</td>\n",
       "      <td>0</td>\n",
       "      <td>0</td>\n",
       "      <td>0.211468</td>\n",
       "      <td>0</td>\n",
       "      <td>0</td>\n",
       "      <td>0</td>\n",
       "      <td>0</td>\n",
       "      <td>0.599396</td>\n",
       "      <td>0</td>\n",
       "    </tr>\n",
       "    <tr>\n",
       "      <th>7</th>\n",
       "      <td>0</td>\n",
       "      <td>0</td>\n",
       "      <td>0</td>\n",
       "      <td>0</td>\n",
       "      <td>0</td>\n",
       "      <td>0.207765</td>\n",
       "      <td>0</td>\n",
       "      <td>0</td>\n",
       "      <td>0</td>\n",
       "      <td>0</td>\n",
       "      <td>...</td>\n",
       "      <td>0</td>\n",
       "      <td>0</td>\n",
       "      <td>0</td>\n",
       "      <td>0</td>\n",
       "      <td>0</td>\n",
       "      <td>0.337165</td>\n",
       "      <td>0</td>\n",
       "      <td>0</td>\n",
       "      <td>0.52073</td>\n",
       "      <td>0</td>\n",
       "    </tr>\n",
       "    <tr>\n",
       "      <th>8</th>\n",
       "      <td>0</td>\n",
       "      <td>0</td>\n",
       "      <td>0</td>\n",
       "      <td>0</td>\n",
       "      <td>0</td>\n",
       "      <td>0</td>\n",
       "      <td>0</td>\n",
       "      <td>0</td>\n",
       "      <td>0</td>\n",
       "      <td>0</td>\n",
       "      <td>...</td>\n",
       "      <td>0.357292</td>\n",
       "      <td>0.279272</td>\n",
       "      <td>0</td>\n",
       "      <td>0</td>\n",
       "      <td>0</td>\n",
       "      <td>0.884103</td>\n",
       "      <td>0</td>\n",
       "      <td>0</td>\n",
       "      <td>0.742361</td>\n",
       "      <td>0</td>\n",
       "    </tr>\n",
       "    <tr>\n",
       "      <th>9</th>\n",
       "      <td>0</td>\n",
       "      <td>0.129942</td>\n",
       "      <td>0</td>\n",
       "      <td>0</td>\n",
       "      <td>0</td>\n",
       "      <td>0</td>\n",
       "      <td>0</td>\n",
       "      <td>0</td>\n",
       "      <td>0.213263</td>\n",
       "      <td>0</td>\n",
       "      <td>...</td>\n",
       "      <td>0</td>\n",
       "      <td>0</td>\n",
       "      <td>-0</td>\n",
       "      <td>0</td>\n",
       "      <td>0</td>\n",
       "      <td>0.264027</td>\n",
       "      <td>0</td>\n",
       "      <td>0</td>\n",
       "      <td>0.468359</td>\n",
       "      <td>0</td>\n",
       "    </tr>\n",
       "  </tbody>\n",
       "</table>\n",
       "<p>10 rows × 432 columns</p>\n",
       "</div>"
      ],
      "text/plain": [
       "  accumulate    accuse       act   action        ad       add addiction  \\\n",
       "0          0   0.24087  0.237024        0         0  0.418946         0   \n",
       "1          0         0  0.225648        0         0         0         0   \n",
       "2          0         0         0        0         0         0         0   \n",
       "3          0         0         0  0.31099         0         0         0   \n",
       "4          0         0         0        0  0.228279         0         0   \n",
       "5   0.100956  0.296175         0        0         0         0  0.136601   \n",
       "6          0         0         0        0         0         0         0   \n",
       "7          0         0         0        0         0  0.207765         0   \n",
       "8          0         0         0        0         0         0         0   \n",
       "9          0  0.129942         0        0         0         0         0   \n",
       "\n",
       "  administration admission     adult   ...        week    winter      wiser  \\\n",
       "0              0         0  0.183565   ...           0         0  0.0667962   \n",
       "1              0         0         0   ...    0.288992         0         -0   \n",
       "2              0         0         0   ...    0.349567         0          0   \n",
       "3              0         0         0   ...           0         0          0   \n",
       "4              0         0         0   ...    0.529924         0          0   \n",
       "5       0.311488         0         0   ...           0         0          0   \n",
       "6              0         0         0   ...    0.313563         0          0   \n",
       "7              0         0         0   ...           0         0          0   \n",
       "8              0         0         0   ...    0.357292  0.279272          0   \n",
       "9              0  0.213263         0   ...           0         0         -0   \n",
       "\n",
       "   withdraw    word     world     write yahoo      year yelling  \n",
       "0  0.167538  0.2419         0  0.229271     0         0       0  \n",
       "1         0       0         0         0     0         0       0  \n",
       "2         0       0         0         0     0  0.339185       0  \n",
       "3         0       0         0         0     0         0       0  \n",
       "4         0       0         0         0     0  0.339806       0  \n",
       "5         0       0         0         0     0  0.308369       0  \n",
       "6  0.211468       0         0         0     0  0.599396       0  \n",
       "7         0       0  0.337165         0     0   0.52073       0  \n",
       "8         0       0  0.884103         0     0  0.742361       0  \n",
       "9         0       0  0.264027         0     0  0.468359       0  \n",
       "\n",
       "[10 rows x 432 columns]"
      ]
     },
     "execution_count": 119,
     "metadata": {},
     "output_type": "execute_result"
    }
   ],
   "source": [
    "df_w2v_dist = pd.DataFrame(index=range(len(df_handle)),columns=tfidf_vectorizer.get_feature_names())\n",
    "for index, row in df_w2v_dist.iterrows():\n",
    "    doc_bow = df_handle['Tokens'].iloc[index]\n",
    "    for col in df_w2v_dist.columns:\n",
    "        dist = 0\n",
    "        for eachword in doc_bow:\n",
    "            dist = dist + find_distance_w2v(eachword.lower(),col.lower(),model_glove) \n",
    "        df_w2v_dist.iloc[index][col] = dist * np.log(1+ doc_bow.count(col)) / len(doc_bow)\n",
    "df_w2v_dist"
   ]
  },
  {
   "cell_type": "code",
   "execution_count": 120,
   "metadata": {
    "ExecuteTime": {
     "end_time": "2018-10-21T14:47:01.632596Z",
     "start_time": "2018-10-21T14:47:01.599181Z"
    }
   },
   "outputs": [
    {
     "data": {
      "text/html": [
       "<div>\n",
       "<style scoped>\n",
       "    .dataframe tbody tr th:only-of-type {\n",
       "        vertical-align: middle;\n",
       "    }\n",
       "\n",
       "    .dataframe tbody tr th {\n",
       "        vertical-align: top;\n",
       "    }\n",
       "\n",
       "    .dataframe thead th {\n",
       "        text-align: right;\n",
       "    }\n",
       "</style>\n",
       "<table border=\"1\" class=\"dataframe\">\n",
       "  <thead>\n",
       "    <tr style=\"text-align: right;\">\n",
       "      <th></th>\n",
       "      <th>0</th>\n",
       "      <th>1</th>\n",
       "      <th>2</th>\n",
       "      <th>3</th>\n",
       "      <th>4</th>\n",
       "      <th>5</th>\n",
       "      <th>6</th>\n",
       "      <th>7</th>\n",
       "      <th>8</th>\n",
       "      <th>9</th>\n",
       "    </tr>\n",
       "  </thead>\n",
       "  <tbody>\n",
       "    <tr>\n",
       "      <th>0</th>\n",
       "      <td>1.000000</td>\n",
       "      <td>0.131821</td>\n",
       "      <td>0.105778</td>\n",
       "      <td>0.055545</td>\n",
       "      <td>0.000000</td>\n",
       "      <td>0.046284</td>\n",
       "      <td>0.022369</td>\n",
       "      <td>0.019524</td>\n",
       "      <td>0.040554</td>\n",
       "      <td>0.006510</td>\n",
       "    </tr>\n",
       "    <tr>\n",
       "      <th>1</th>\n",
       "      <td>0.131821</td>\n",
       "      <td>1.000000</td>\n",
       "      <td>0.132662</td>\n",
       "      <td>0.072729</td>\n",
       "      <td>0.099981</td>\n",
       "      <td>0.097228</td>\n",
       "      <td>0.120313</td>\n",
       "      <td>0.044008</td>\n",
       "      <td>0.044514</td>\n",
       "      <td>0.027302</td>\n",
       "    </tr>\n",
       "    <tr>\n",
       "      <th>2</th>\n",
       "      <td>0.105778</td>\n",
       "      <td>0.132662</td>\n",
       "      <td>1.000000</td>\n",
       "      <td>0.033192</td>\n",
       "      <td>0.113743</td>\n",
       "      <td>0.118972</td>\n",
       "      <td>0.103299</td>\n",
       "      <td>0.164012</td>\n",
       "      <td>0.168704</td>\n",
       "      <td>0.045279</td>\n",
       "    </tr>\n",
       "    <tr>\n",
       "      <th>3</th>\n",
       "      <td>0.055545</td>\n",
       "      <td>0.072729</td>\n",
       "      <td>0.033192</td>\n",
       "      <td>1.000000</td>\n",
       "      <td>0.102639</td>\n",
       "      <td>0.234271</td>\n",
       "      <td>0.128256</td>\n",
       "      <td>0.022970</td>\n",
       "      <td>0.016073</td>\n",
       "      <td>0.059957</td>\n",
       "    </tr>\n",
       "    <tr>\n",
       "      <th>4</th>\n",
       "      <td>0.000000</td>\n",
       "      <td>0.099981</td>\n",
       "      <td>0.113743</td>\n",
       "      <td>0.102639</td>\n",
       "      <td>1.000000</td>\n",
       "      <td>0.258503</td>\n",
       "      <td>0.070090</td>\n",
       "      <td>0.052108</td>\n",
       "      <td>0.081331</td>\n",
       "      <td>0.065094</td>\n",
       "    </tr>\n",
       "    <tr>\n",
       "      <th>5</th>\n",
       "      <td>0.046284</td>\n",
       "      <td>0.097228</td>\n",
       "      <td>0.118972</td>\n",
       "      <td>0.234271</td>\n",
       "      <td>0.258503</td>\n",
       "      <td>1.000000</td>\n",
       "      <td>0.155893</td>\n",
       "      <td>0.080984</td>\n",
       "      <td>0.103729</td>\n",
       "      <td>0.142834</td>\n",
       "    </tr>\n",
       "    <tr>\n",
       "      <th>6</th>\n",
       "      <td>0.022369</td>\n",
       "      <td>0.120313</td>\n",
       "      <td>0.103299</td>\n",
       "      <td>0.128256</td>\n",
       "      <td>0.070090</td>\n",
       "      <td>0.155893</td>\n",
       "      <td>1.000000</td>\n",
       "      <td>0.090975</td>\n",
       "      <td>0.102071</td>\n",
       "      <td>0.356323</td>\n",
       "    </tr>\n",
       "    <tr>\n",
       "      <th>7</th>\n",
       "      <td>0.019524</td>\n",
       "      <td>0.044008</td>\n",
       "      <td>0.164012</td>\n",
       "      <td>0.022970</td>\n",
       "      <td>0.052108</td>\n",
       "      <td>0.080984</td>\n",
       "      <td>0.090975</td>\n",
       "      <td>1.000000</td>\n",
       "      <td>0.613291</td>\n",
       "      <td>0.188707</td>\n",
       "    </tr>\n",
       "    <tr>\n",
       "      <th>8</th>\n",
       "      <td>0.040554</td>\n",
       "      <td>0.044514</td>\n",
       "      <td>0.168704</td>\n",
       "      <td>0.016073</td>\n",
       "      <td>0.081331</td>\n",
       "      <td>0.103729</td>\n",
       "      <td>0.102071</td>\n",
       "      <td>0.613291</td>\n",
       "      <td>1.000000</td>\n",
       "      <td>0.214991</td>\n",
       "    </tr>\n",
       "    <tr>\n",
       "      <th>9</th>\n",
       "      <td>0.006510</td>\n",
       "      <td>0.027302</td>\n",
       "      <td>0.045279</td>\n",
       "      <td>0.059957</td>\n",
       "      <td>0.065094</td>\n",
       "      <td>0.142834</td>\n",
       "      <td>0.356323</td>\n",
       "      <td>0.188707</td>\n",
       "      <td>0.214991</td>\n",
       "      <td>1.000000</td>\n",
       "    </tr>\n",
       "  </tbody>\n",
       "</table>\n",
       "</div>"
      ],
      "text/plain": [
       "          0         1         2         3         4         5         6  \\\n",
       "0  1.000000  0.131821  0.105778  0.055545  0.000000  0.046284  0.022369   \n",
       "1  0.131821  1.000000  0.132662  0.072729  0.099981  0.097228  0.120313   \n",
       "2  0.105778  0.132662  1.000000  0.033192  0.113743  0.118972  0.103299   \n",
       "3  0.055545  0.072729  0.033192  1.000000  0.102639  0.234271  0.128256   \n",
       "4  0.000000  0.099981  0.113743  0.102639  1.000000  0.258503  0.070090   \n",
       "5  0.046284  0.097228  0.118972  0.234271  0.258503  1.000000  0.155893   \n",
       "6  0.022369  0.120313  0.103299  0.128256  0.070090  0.155893  1.000000   \n",
       "7  0.019524  0.044008  0.164012  0.022970  0.052108  0.080984  0.090975   \n",
       "8  0.040554  0.044514  0.168704  0.016073  0.081331  0.103729  0.102071   \n",
       "9  0.006510  0.027302  0.045279  0.059957  0.065094  0.142834  0.356323   \n",
       "\n",
       "          7         8         9  \n",
       "0  0.019524  0.040554  0.006510  \n",
       "1  0.044008  0.044514  0.027302  \n",
       "2  0.164012  0.168704  0.045279  \n",
       "3  0.022970  0.016073  0.059957  \n",
       "4  0.052108  0.081331  0.065094  \n",
       "5  0.080984  0.103729  0.142834  \n",
       "6  0.090975  0.102071  0.356323  \n",
       "7  1.000000  0.613291  0.188707  \n",
       "8  0.613291  1.000000  0.214991  \n",
       "9  0.188707  0.214991  1.000000  "
      ]
     },
     "execution_count": 120,
     "metadata": {},
     "output_type": "execute_result"
    }
   ],
   "source": [
    "from sklearn.metrics.pairwise import cosine_similarity, euclidean_distances\n",
    "cosine_matrix_3 =  cosine_similarity(df_w2v_dist.values)\n",
    "df_cosine_3 = pd.DataFrame(cosine_matrix_3,index=range(len(df_handle)),columns=range(len(df_handle)))\n",
    "df_cosine_3.head(10)"
   ]
  },
  {
   "cell_type": "code",
   "execution_count": 121,
   "metadata": {
    "ExecuteTime": {
     "end_time": "2018-10-21T14:47:02.283237Z",
     "start_time": "2018-10-21T14:47:02.034156Z"
    }
   },
   "outputs": [
    {
     "data": {
      "image/png": "[encoded data removed]",
      "text/plain": [
       "<Figure size 720x576 with 1 Axes>"
      ]
     },
     "metadata": {},
     "output_type": "display_data"
    }
   ],
   "source": [
    "from scipy.cluster.hierarchy import ward, dendrogram\n",
    "import matplotlib.pyplot as plt\n",
    "\n",
    "#define the linkage_matrix\n",
    "linkage_matrix_3 = ward(cosine_matrix_3) \n",
    "\n",
    "# plot the hierarchical graph\n",
    "fig, ax = plt.subplots(figsize=(10,8)) # set size\n",
    "ax = dendrogram(linkage_matrix_3, orientation=\"top\", labels=list(df_handle['Filename']))\n",
    "\n",
    "plt.show()  #show plot "
   ]
  },
  {
   "cell_type": "markdown",
   "metadata": {},
   "source": [
    "The results here are better than the previous. "
   ]
  }
 ],
 "metadata": {
  "kernelspec": {
   "display_name": "Python 3",
   "language": "python",
   "name": "python3"
  },
  "language_info": {
   "codemirror_mode": {
    "name": "ipython",
    "version": 3
   },
   "file_extension": ".py",
   "mimetype": "text/x-python",
   "name": "python",
   "nbconvert_exporter": "python",
   "pygments_lexer": "ipython3",
   "version": "3.6.5"
  },
  "toc": {
   "base_numbering": 1,
   "nav_menu": {},
   "number_sections": true,
   "sideBar": true,
   "skip_h1_title": true,
   "title_cell": "Table of Contents",
   "title_sidebar": "Contents",
   "toc_cell": true,
   "toc_position": {
    "height": "calc(100% - 180px)",
    "left": "10px",
    "top": "150px",
    "width": "253px"
   },
   "toc_section_display": true,
   "toc_window_display": false
  },
  "varInspector": {
   "cols": {
    "lenName": 16,
    "lenType": 16,
    "lenVar": 40
   },
   "kernels_config": {
    "python": {
     "delete_cmd_postfix": "",
     "delete_cmd_prefix": "del ",
     "library": "var_list.py",
     "varRefreshCmd": "print(var_dic_list())"
    },
    "r": {
     "delete_cmd_postfix": ") ",
     "delete_cmd_prefix": "rm(",
     "library": "var_list.r",
     "varRefreshCmd": "cat(var_dic_list()) "
    }
   },
   "types_to_exclude": [
    "module",
    "function",
    "builtin_function_or_method",
    "instance",
    "_Feature"
   ],
   "window_display": false
  }
 },
 "nbformat": 4,
 "nbformat_minor": 2
}
