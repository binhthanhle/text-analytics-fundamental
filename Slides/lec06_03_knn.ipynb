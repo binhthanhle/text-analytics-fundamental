{
 "cells": [
  {
   "cell_type": "code",
   "execution_count": 1,
   "metadata": {
    "ExecuteTime": {
     "end_time": "2018-10-30T13:59:23.056526Z",
     "start_time": "2018-10-30T13:59:22.517386Z"
    }
   },
   "outputs": [],
   "source": [
    "# Importing libraries\n",
    "from sklearn.feature_extraction.text import TfidfVectorizer\n",
    "from sklearn.neighbors import KNeighborsClassifier\n",
    "from sklearn.cluster import KMeans\n",
    "from nltk.corpus import stopwords\n",
    "from nltk.stem.wordnet import WordNetLemmatizer\n",
    "import string\n",
    "import re\n",
    "import numpy as np\n",
    "from collections import Counter\n",
    " \n",
    "stop = set(stopwords.words('english'))\n",
    "exclude = set(string.punctuation)\n",
    "lemma = WordNetLemmatizer()\n",
    " \n",
    "# Cleaning the text sentences so that punctuation marks, stop words & digits are removed\n",
    "def clean(doc):\n",
    "    stop_free = \" \".join([i for i in doc.lower().split() if i not in stop])\n",
    "    punc_free = ''.join(ch for ch in stop_free if ch not in exclude)\n",
    "    normalized = \" \".join(lemma.lemmatize(word) for word in punc_free.split())\n",
    "    processed = re.sub(r\"\\d+\",\"\",normalized)\n",
    "    y = processed.split()\n",
    "    return y"
   ]
  },
  {
   "cell_type": "code",
   "execution_count": 11,
   "metadata": {
    "ExecuteTime": {
     "end_time": "2018-10-30T14:06:39.409365Z",
     "start_time": "2018-10-30T14:06:39.394365Z"
    }
   },
   "outputs": [
    {
     "name": "stdout",
     "output_type": "stream",
     "text": [
      "There are 30 sentences of following three classes: \n",
      "1. Cricket \n",
      "2. Artificial Intelligence \n",
      "3. Chemistry\n"
     ]
    }
   ],
   "source": [
    "print(\"There are 30 sentences of following three classes\"\\\n",
    "         \": \\n1. Cricket \\n2. Artificial Intelligence \\n3. Chemistry\")\n",
    "path = \"lec06_03_data.txt\"\n",
    " \n",
    "train_clean_sentences = []\n",
    "fp = open(path,'r')\n",
    "for line in fp:\n",
    "    line = line.strip()\n",
    "    cleaned = clean(line)\n",
    "    cleaned = ' '.join(cleaned)\n",
    "    train_clean_sentences.append(cleaned)\n",
    "\n",
    "vectorizer = TfidfVectorizer(stop_words='english')\n",
    "X = vectorizer.fit_transform(train_clean_sentences)\n",
    " \n",
    "# Creating true labels for 30 training sentences\n",
    "y_train = np.zeros(30)\n",
    "y_train[10:20] = 1\n",
    "y_train[20:30] = 2"
   ]
  },
  {
   "cell_type": "code",
   "execution_count": 15,
   "metadata": {
    "ExecuteTime": {
     "end_time": "2018-10-30T14:13:43.277398Z",
     "start_time": "2018-10-30T14:13:43.252400Z"
    }
   },
   "outputs": [
    {
     "data": {
      "text/html": [
       "<div>\n",
       "<style scoped>\n",
       "    .dataframe tbody tr th:only-of-type {\n",
       "        vertical-align: middle;\n",
       "    }\n",
       "\n",
       "    .dataframe tbody tr th {\n",
       "        vertical-align: top;\n",
       "    }\n",
       "\n",
       "    .dataframe thead tr th {\n",
       "        text-align: left;\n",
       "    }\n",
       "</style>\n",
       "<table border=\"1\" class=\"dataframe\">\n",
       "  <thead>\n",
       "    <tr>\n",
       "      <th></th>\n",
       "      <th>ability</th>\n",
       "      <th>access</th>\n",
       "      <th>action</th>\n",
       "      <th>advance</th>\n",
       "      <th>advanced</th>\n",
       "      <th>advancement</th>\n",
       "      <th>agent</th>\n",
       "      <th>ai</th>\n",
       "      <th>allows</th>\n",
       "      <th>analytical</th>\n",
       "      <th>...</th>\n",
       "      <th>topic</th>\n",
       "      <th>toss</th>\n",
       "      <th>transformation</th>\n",
       "      <th>truly</th>\n",
       "      <th>uncharged</th>\n",
       "      <th>understand</th>\n",
       "      <th>unit</th>\n",
       "      <th>using</th>\n",
       "      <th>verifiable</th>\n",
       "      <th>wanted</th>\n",
       "    </tr>\n",
       "  </thead>\n",
       "  <tbody>\n",
       "    <tr>\n",
       "      <th>0</th>\n",
       "      <td>0.0</td>\n",
       "      <td>0.0</td>\n",
       "      <td>0.0</td>\n",
       "      <td>0.0</td>\n",
       "      <td>0.0</td>\n",
       "      <td>0.0</td>\n",
       "      <td>0.0</td>\n",
       "      <td>0.0</td>\n",
       "      <td>0.0</td>\n",
       "      <td>0.0</td>\n",
       "      <td>...</td>\n",
       "      <td>0.0</td>\n",
       "      <td>0.000000</td>\n",
       "      <td>0.0</td>\n",
       "      <td>0.0</td>\n",
       "      <td>0.0</td>\n",
       "      <td>0.0</td>\n",
       "      <td>0.0</td>\n",
       "      <td>0.0</td>\n",
       "      <td>0.0</td>\n",
       "      <td>0.0</td>\n",
       "    </tr>\n",
       "    <tr>\n",
       "      <th>1</th>\n",
       "      <td>0.0</td>\n",
       "      <td>0.0</td>\n",
       "      <td>0.0</td>\n",
       "      <td>0.0</td>\n",
       "      <td>0.0</td>\n",
       "      <td>0.0</td>\n",
       "      <td>0.0</td>\n",
       "      <td>0.0</td>\n",
       "      <td>0.0</td>\n",
       "      <td>0.0</td>\n",
       "      <td>...</td>\n",
       "      <td>0.0</td>\n",
       "      <td>0.000000</td>\n",
       "      <td>0.0</td>\n",
       "      <td>0.0</td>\n",
       "      <td>0.0</td>\n",
       "      <td>0.0</td>\n",
       "      <td>0.0</td>\n",
       "      <td>0.0</td>\n",
       "      <td>0.0</td>\n",
       "      <td>0.0</td>\n",
       "    </tr>\n",
       "    <tr>\n",
       "      <th>2</th>\n",
       "      <td>0.0</td>\n",
       "      <td>0.0</td>\n",
       "      <td>0.0</td>\n",
       "      <td>0.0</td>\n",
       "      <td>0.0</td>\n",
       "      <td>0.0</td>\n",
       "      <td>0.0</td>\n",
       "      <td>0.0</td>\n",
       "      <td>0.0</td>\n",
       "      <td>0.0</td>\n",
       "      <td>...</td>\n",
       "      <td>0.0</td>\n",
       "      <td>0.000000</td>\n",
       "      <td>0.0</td>\n",
       "      <td>0.0</td>\n",
       "      <td>0.0</td>\n",
       "      <td>0.0</td>\n",
       "      <td>0.0</td>\n",
       "      <td>0.0</td>\n",
       "      <td>0.0</td>\n",
       "      <td>0.0</td>\n",
       "    </tr>\n",
       "    <tr>\n",
       "      <th>3</th>\n",
       "      <td>0.0</td>\n",
       "      <td>0.0</td>\n",
       "      <td>0.0</td>\n",
       "      <td>0.0</td>\n",
       "      <td>0.0</td>\n",
       "      <td>0.0</td>\n",
       "      <td>0.0</td>\n",
       "      <td>0.0</td>\n",
       "      <td>0.0</td>\n",
       "      <td>0.0</td>\n",
       "      <td>...</td>\n",
       "      <td>0.0</td>\n",
       "      <td>0.320343</td>\n",
       "      <td>0.0</td>\n",
       "      <td>0.0</td>\n",
       "      <td>0.0</td>\n",
       "      <td>0.0</td>\n",
       "      <td>0.0</td>\n",
       "      <td>0.0</td>\n",
       "      <td>0.0</td>\n",
       "      <td>0.0</td>\n",
       "    </tr>\n",
       "    <tr>\n",
       "      <th>4</th>\n",
       "      <td>0.0</td>\n",
       "      <td>0.0</td>\n",
       "      <td>0.0</td>\n",
       "      <td>0.0</td>\n",
       "      <td>0.0</td>\n",
       "      <td>0.0</td>\n",
       "      <td>0.0</td>\n",
       "      <td>0.0</td>\n",
       "      <td>0.0</td>\n",
       "      <td>0.0</td>\n",
       "      <td>...</td>\n",
       "      <td>0.0</td>\n",
       "      <td>0.000000</td>\n",
       "      <td>0.0</td>\n",
       "      <td>0.0</td>\n",
       "      <td>0.0</td>\n",
       "      <td>0.0</td>\n",
       "      <td>0.0</td>\n",
       "      <td>0.0</td>\n",
       "      <td>0.0</td>\n",
       "      <td>0.0</td>\n",
       "    </tr>\n",
       "  </tbody>\n",
       "</table>\n",
       "<p>5 rows × 223 columns</p>\n",
       "</div>"
      ],
      "text/plain": [
       "  ability access action advance advanced advancement agent   ai allows  \\\n",
       "0     0.0    0.0    0.0     0.0      0.0         0.0   0.0  0.0    0.0   \n",
       "1     0.0    0.0    0.0     0.0      0.0         0.0   0.0  0.0    0.0   \n",
       "2     0.0    0.0    0.0     0.0      0.0         0.0   0.0  0.0    0.0   \n",
       "3     0.0    0.0    0.0     0.0      0.0         0.0   0.0  0.0    0.0   \n",
       "4     0.0    0.0    0.0     0.0      0.0         0.0   0.0  0.0    0.0   \n",
       "\n",
       "  analytical  ...   topic      toss transformation truly uncharged understand  \\\n",
       "0        0.0  ...     0.0  0.000000            0.0   0.0       0.0        0.0   \n",
       "1        0.0  ...     0.0  0.000000            0.0   0.0       0.0        0.0   \n",
       "2        0.0  ...     0.0  0.000000            0.0   0.0       0.0        0.0   \n",
       "3        0.0  ...     0.0  0.320343            0.0   0.0       0.0        0.0   \n",
       "4        0.0  ...     0.0  0.000000            0.0   0.0       0.0        0.0   \n",
       "\n",
       "  unit using verifiable wanted  \n",
       "0  0.0   0.0        0.0    0.0  \n",
       "1  0.0   0.0        0.0    0.0  \n",
       "2  0.0   0.0        0.0    0.0  \n",
       "3  0.0   0.0        0.0    0.0  \n",
       "4  0.0   0.0        0.0    0.0  \n",
       "\n",
       "[5 rows x 223 columns]"
      ]
     },
     "execution_count": 15,
     "metadata": {},
     "output_type": "execute_result"
    }
   ],
   "source": [
    "import pandas as pd\n",
    "df_tfidf = pd.DataFrame(X.toarray(),columns=[vectorizer.get_feature_names()])\n",
    "df_tfidf.head(5)"
   ]
  },
  {
   "cell_type": "code",
   "execution_count": 16,
   "metadata": {
    "ExecuteTime": {
     "end_time": "2018-10-30T14:14:54.122293Z",
     "start_time": "2018-10-30T14:14:54.117291Z"
    }
   },
   "outputs": [
    {
     "data": {
      "text/plain": [
       "KNeighborsClassifier(algorithm='auto', leaf_size=30, metric='minkowski',\n",
       "           metric_params=None, n_jobs=1, n_neighbors=5, p=2,\n",
       "           weights='uniform')"
      ]
     },
     "execution_count": 16,
     "metadata": {},
     "output_type": "execute_result"
    }
   ],
   "source": [
    "from sklearn.neighbors import KNeighborsClassifier\n",
    "modelknn = KNeighborsClassifier(n_neighbors=5)\n",
    "modelknn.fit(X,y_train)"
   ]
  },
  {
   "cell_type": "code",
   "execution_count": 21,
   "metadata": {
    "ExecuteTime": {
     "end_time": "2018-10-30T14:19:39.704979Z",
     "start_time": "2018-10-30T14:19:39.699985Z"
    }
   },
   "outputs": [
    {
     "data": {
      "text/plain": [
       "array([0., 0., 0., 0., 0., 0., 0., 0., 0., 0., 1., 1., 1., 1., 1., 1., 1.,\n",
       "       1., 1., 1., 2., 2., 2., 2., 2., 2., 2., 2., 2., 2.])"
      ]
     },
     "execution_count": 21,
     "metadata": {},
     "output_type": "execute_result"
    }
   ],
   "source": [
    "y_train"
   ]
  },
  {
   "cell_type": "code",
   "execution_count": 24,
   "metadata": {
    "ExecuteTime": {
     "end_time": "2018-10-30T14:28:45.767176Z",
     "start_time": "2018-10-30T14:28:45.751180Z"
    }
   },
   "outputs": [
    {
     "name": "stdout",
     "output_type": "stream",
     "text": [
      "\n",
      "Below 3 sentences of test data:\n",
      "1.  Chemical compunds are used for preparing bombs based on some reactions \n",
      "2.  Cricket is a boring game where the batsman only enjoys the game \n",
      "3.  Machine learning is a area of Artificial intelligence\n",
      "\n",
      "-------------------------------PREDICTIONS BY KNN------------------------------------------\n",
      "\n",
      " Chemical compunds are used for preparing bombs based on some reactions : Chemistry \n",
      " Cricket is a boring game where the batsman only enjoys the game : Cricket \n",
      " Machine learning is a area of Artificial intelligence : AI\n"
     ]
    }
   ],
   "source": [
    "# Predicting it on test data : Testing Phase\n",
    "test_sentences = [\"Chemical compunds are used for preparing bombs based on some reactions\",\\\n",
    "\"Cricket is a boring game where the batsman only enjoys the game\",\\\n",
    "\"Machine learning is a area of Artificial intelligence\"]\n",
    " \n",
    "test_clean_sentence = []\n",
    "for test in test_sentences:\n",
    "    cleaned_test = clean(test)\n",
    "    cleaned = ' '.join(cleaned_test)\n",
    "    cleaned = re.sub(r\"\\d+\",\"\",cleaned)\n",
    "    test_clean_sentence.append(cleaned)\n",
    "\n",
    "Test = vectorizer.transform(test_clean_sentence)\n",
    " \n",
    "true_test_labels = ['Cricket','AI','Chemistry']\n",
    "predicted_labels_knn = modelknn.predict(Test)\n",
    " \n",
    "print(\"\\nBelow 3 sentences of test data:\\n1. \",\\\n",
    "test_sentences[0],\"\\n2. \",test_sentences[1],\"\\n3. \",test_sentences[2])\n",
    "print(\"\\n-------------------------------PREDICTIONS BY KNN------------------------------------------\")\n",
    "print(\"\\n\",test_sentences[0],\":\",true_test_labels[np.int(predicted_labels_knn[0])],\\\n",
    "\"\\n\",test_sentences[1],\":\",true_test_labels[np.int(predicted_labels_knn[1])],\\\n",
    "\"\\n\",test_sentences[2],\":\",true_test_labels[np.int(predicted_labels_knn[2])])"
   ]
  },
  {
   "cell_type": "code",
   "execution_count": 23,
   "metadata": {
    "ExecuteTime": {
     "end_time": "2018-10-30T14:28:41.040262Z",
     "start_time": "2018-10-30T14:28:41.031236Z"
    }
   },
   "outputs": [
    {
     "name": "stdout",
     "output_type": "stream",
     "text": [
      "\n",
      "-------------------------------PREDICTIONS BY K-Means--------------------------------------\n",
      "\n",
      "Index of Cricket cluster :  1\n",
      "Index of Artificial Intelligence cluster :  0\n",
      "Index of Chemistry cluster :  2\n",
      "\n",
      " Chemical compunds are used for preparing bombs based on some reactions : 2 \n",
      " Cricket is a boring game where the batsman only enjoys the game : 1 \n",
      " Machine learning is a area of Artificial intelligence : 0\n"
     ]
    }
   ],
   "source": [
    "\n",
    "predicted_labels_kmeans = modelkmeans.predict(Test)\n",
    "print(\"\\n-------------------------------PREDICTIONS BY K-Means--------------------------------------\")\n",
    "print(\"\\nIndex of Cricket cluster : \",Counter(modelkmeans.labels_[0:10]).most_common(1)[0][0])\n",
    "print(\"Index of Artificial Intelligence cluster : \",Counter(modelkmeans.labels_[10:20]).most_common(1)[0][0])\n",
    "print(\"Index of Chemistry cluster : \",Counter(modelkmeans.labels_[20:30]).most_common(1)[0][0])\n",
    " \n",
    "print(\"\\n\",test_sentences[0],\":\",predicted_labels_kmeans[0],\\\n",
    "\"\\n\",test_sentences[1],\":\",predicted_labels_kmeans[1],\\\n",
    "\"\\n\",test_sentences[2],\":\",predicted_labels_kmeans[2])"
   ]
  },
  {
   "cell_type": "code",
   "execution_count": null,
   "metadata": {},
   "outputs": [],
   "source": []
  }
 ],
 "metadata": {
  "kernelspec": {
   "display_name": "Python 3",
   "language": "python",
   "name": "python3"
  },
  "language_info": {
   "codemirror_mode": {
    "name": "ipython",
    "version": 3
   },
   "file_extension": ".py",
   "mimetype": "text/x-python",
   "name": "python",
   "nbconvert_exporter": "python",
   "pygments_lexer": "ipython3",
   "version": "3.6.2"
  },
  "latex_envs": {
   "LaTeX_envs_menu_present": true,
   "autoclose": false,
   "autocomplete": true,
   "bibliofile": "biblio.bib",
   "cite_by": "apalike",
   "current_citInitial": 1,
   "eqLabelWithNumbers": true,
   "eqNumInitial": 1,
   "hotkeys": {
    "equation": "Ctrl-E",
    "itemize": "Ctrl-I"
   },
   "labels_anchors": false,
   "latex_user_defs": false,
   "report_style_numbering": false,
   "user_envs_cfg": false
  },
  "toc": {
   "nav_menu": {},
   "number_sections": true,
   "sideBar": true,
   "skip_h1_title": false,
   "title_cell": "Table of Contents",
   "title_sidebar": "Contents",
   "toc_cell": false,
   "toc_position": {},
   "toc_section_display": true,
   "toc_window_display": false
  },
  "varInspector": {
   "cols": {
    "lenName": 16,
    "lenType": 16,
    "lenVar": 40
   },
   "kernels_config": {
    "python": {
     "delete_cmd_postfix": "",
     "delete_cmd_prefix": "del ",
     "library": "var_list.py",
     "varRefreshCmd": "print(var_dic_list())"
    },
    "r": {
     "delete_cmd_postfix": ") ",
     "delete_cmd_prefix": "rm(",
     "library": "var_list.r",
     "varRefreshCmd": "cat(var_dic_list()) "
    }
   },
   "types_to_exclude": [
    "module",
    "function",
    "builtin_function_or_method",
    "instance",
    "_Feature"
   ],
   "window_display": false
  }
 },
 "nbformat": 4,
 "nbformat_minor": 2
}
